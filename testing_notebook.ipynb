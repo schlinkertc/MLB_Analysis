{
 "cells": [
  {
   "cell_type": "code",
   "execution_count": 1,
   "metadata": {},
   "outputs": [
    {
     "name": "stdout",
     "output_type": "stream",
     "text": [
      "Engine(sqlite://///Users/schlinkertc/code/MLB/mlb.db)\n"
     ]
    }
   ],
   "source": [
    "from API_call import API_call\n",
    "from gamePks import gamePks\n",
    "import statsapi as mlb\n",
    "import pandas as pd\n",
    "from database import *\n",
    "\n",
    "from tables import *"
   ]
  },
  {
   "cell_type": "code",
   "execution_count": 2,
   "metadata": {},
   "outputs": [
    {
     "data": {
      "text/plain": [
       "['actions',\n",
       " 'credits',\n",
       " 'game_player_links',\n",
       " 'game_team_links',\n",
       " 'games',\n",
       " 'hit_data',\n",
       " 'matchups',\n",
       " 'pitch_data',\n",
       " 'pitches',\n",
       " 'players',\n",
       " 'plays',\n",
       " 'runners',\n",
       " 'team_records',\n",
       " 'teams',\n",
       " 'venues']"
      ]
     },
     "execution_count": 2,
     "metadata": {},
     "output_type": "execute_result"
    }
   ],
   "source": [
    "db.db_engine.table_names()"
   ]
  },
  {
   "cell_type": "code",
   "execution_count": 22,
   "metadata": {},
   "outputs": [],
   "source": [
    "pk = gamePks['2018'][1]"
   ]
  },
  {
   "cell_type": "code",
   "execution_count": 23,
   "metadata": {},
   "outputs": [
    {
     "data": {
      "text/plain": [
       "<API Call: gamePk=529417>"
      ]
     },
     "execution_count": 23,
     "metadata": {},
     "output_type": "execute_result"
    }
   ],
   "source": [
    "API_call(pk)"
   ]
  },
  {
   "cell_type": "code",
   "execution_count": 24,
   "metadata": {},
   "outputs": [
    {
     "data": {
      "text/plain": [
       "{'game': 529417, 'insert_status': 'success', 'reason': 'None'}"
      ]
     },
     "execution_count": 24,
     "metadata": {},
     "output_type": "execute_result"
    }
   ],
   "source": [
    "db.insert_game(pk)"
   ]
  },
  {
   "cell_type": "code",
   "execution_count": null,
   "metadata": {},
   "outputs": [],
   "source": [
    "pks = gamePks['2019'][500:550]\n",
    "\n",
    "calls = [API_call(pk) for pk in pks]\n",
    "#item for sublist in list for item in sublist\n",
    "records = [link for call in calls for link in call.game_player_links]"
   ]
  },
  {
   "cell_type": "code",
   "execution_count": 8,
   "metadata": {},
   "outputs": [],
   "source": [
    "df = pd.DataFrame.from_records(records)"
   ]
  },
  {
   "cell_type": "code",
   "execution_count": 9,
   "metadata": {},
   "outputs": [
    {
     "name": "stdout",
     "output_type": "stream",
     "text": [
      "<class 'pandas.core.frame.DataFrame'>\n",
      "RangeIndex: 2492 entries, 0 to 2491\n",
      "Data columns (total 201 columns):\n",
      "jerseyNumber                                   object\n",
      "parentTeamId                                   float64\n",
      "battingOrder                                   object\n",
      "allPositions                                   object\n",
      "person_id                                      int64\n",
      "person_fullName                                object\n",
      "person_link                                    object\n",
      "position_code                                  object\n",
      "position_name                                  object\n",
      "position_type                                  object\n",
      "position_abbreviation                          object\n",
      "status_code                                    object\n",
      "status_description                             object\n",
      "gameStatus_isCurrentBatter                     bool\n",
      "gameStatus_isCurrentPitcher                    bool\n",
      "gameStatus_isOnBench                           bool\n",
      "gameStatus_isSubstitute                        bool\n",
      "stats_batting_gamesPlayed                      float64\n",
      "stats_batting_flyOuts                          float64\n",
      "stats_batting_groundOuts                       float64\n",
      "stats_batting_runs                             float64\n",
      "stats_batting_doubles                          float64\n",
      "stats_batting_triples                          float64\n",
      "stats_batting_homeRuns                         float64\n",
      "stats_batting_strikeOuts                       float64\n",
      "stats_batting_baseOnBalls                      float64\n",
      "stats_batting_intentionalWalks                 float64\n",
      "stats_batting_hits                             float64\n",
      "stats_batting_hitByPitch                       float64\n",
      "stats_batting_atBats                           float64\n",
      "stats_batting_caughtStealing                   float64\n",
      "stats_batting_stolenBases                      float64\n",
      "stats_batting_stolenBasePercentage             object\n",
      "stats_batting_groundIntoDoublePlay             float64\n",
      "stats_batting_groundIntoTriplePlay             float64\n",
      "stats_batting_plateAppearances                 float64\n",
      "stats_batting_totalBases                       float64\n",
      "stats_batting_rbi                              float64\n",
      "stats_batting_leftOnBase                       float64\n",
      "stats_batting_sacBunts                         float64\n",
      "stats_batting_sacFlies                         float64\n",
      "stats_batting_catchersInterference             float64\n",
      "stats_batting_pickoffs                         float64\n",
      "stats_batting_atBatsPerHomeRun                 object\n",
      "stats_fielding_assists                         float64\n",
      "stats_fielding_putOuts                         float64\n",
      "stats_fielding_errors                          float64\n",
      "stats_fielding_chances                         float64\n",
      "stats_fielding_fielding                        object\n",
      "stats_fielding_caughtStealing                  float64\n",
      "stats_fielding_passedBall                      float64\n",
      "stats_fielding_stolenBases                     float64\n",
      "stats_fielding_stolenBasePercentage            object\n",
      "stats_fielding_pickoffs                        float64\n",
      "seasonStats_batting_gamesPlayed                int64\n",
      "seasonStats_batting_flyOuts                    int64\n",
      "seasonStats_batting_groundOuts                 int64\n",
      "seasonStats_batting_runs                       int64\n",
      "seasonStats_batting_doubles                    int64\n",
      "seasonStats_batting_triples                    int64\n",
      "seasonStats_batting_homeRuns                   int64\n",
      "seasonStats_batting_strikeOuts                 int64\n",
      "seasonStats_batting_baseOnBalls                int64\n",
      "seasonStats_batting_intentionalWalks           int64\n",
      "seasonStats_batting_hits                       int64\n",
      "seasonStats_batting_hitByPitch                 int64\n",
      "seasonStats_batting_avg                        object\n",
      "seasonStats_batting_atBats                     int64\n",
      "seasonStats_batting_obp                        object\n",
      "seasonStats_batting_slg                        object\n",
      "seasonStats_batting_ops                        object\n",
      "seasonStats_batting_caughtStealing             int64\n",
      "seasonStats_batting_stolenBases                int64\n",
      "seasonStats_batting_stolenBasePercentage       object\n",
      "seasonStats_batting_groundIntoDoublePlay       int64\n",
      "seasonStats_batting_groundIntoTriplePlay       int64\n",
      "seasonStats_batting_plateAppearances           int64\n",
      "seasonStats_batting_totalBases                 int64\n",
      "seasonStats_batting_rbi                        int64\n",
      "seasonStats_batting_leftOnBase                 int64\n",
      "seasonStats_batting_sacBunts                   int64\n",
      "seasonStats_batting_sacFlies                   int64\n",
      "seasonStats_batting_babip                      object\n",
      "seasonStats_batting_catchersInterference       int64\n",
      "seasonStats_batting_pickoffs                   int64\n",
      "seasonStats_batting_atBatsPerHomeRun           object\n",
      "seasonStats_pitching_gamesPlayed               int64\n",
      "seasonStats_pitching_gamesStarted              int64\n",
      "seasonStats_pitching_groundOuts                int64\n",
      "seasonStats_pitching_airOuts                   int64\n",
      "seasonStats_pitching_runs                      int64\n",
      "seasonStats_pitching_doubles                   int64\n",
      "seasonStats_pitching_triples                   int64\n",
      "seasonStats_pitching_homeRuns                  int64\n",
      "seasonStats_pitching_strikeOuts                int64\n",
      "seasonStats_pitching_baseOnBalls               int64\n",
      "seasonStats_pitching_intentionalWalks          int64\n",
      "seasonStats_pitching_hits                      int64\n",
      "seasonStats_pitching_hitByPitch                int64\n",
      "seasonStats_pitching_atBats                    int64\n",
      "seasonStats_pitching_obp                       object\n",
      "seasonStats_pitching_caughtStealing            int64\n",
      "seasonStats_pitching_stolenBases               int64\n",
      "seasonStats_pitching_stolenBasePercentage      object\n",
      "seasonStats_pitching_era                       object\n",
      "seasonStats_pitching_inningsPitched            object\n",
      "seasonStats_pitching_wins                      int64\n",
      "seasonStats_pitching_losses                    int64\n",
      "seasonStats_pitching_saves                     int64\n",
      "seasonStats_pitching_saveOpportunities         int64\n",
      "seasonStats_pitching_holds                     int64\n",
      "seasonStats_pitching_blownSaves                int64\n",
      "seasonStats_pitching_earnedRuns                int64\n",
      "seasonStats_pitching_whip                      object\n",
      "seasonStats_pitching_outs                      int64\n",
      "seasonStats_pitching_gamesPitched              int64\n",
      "seasonStats_pitching_completeGames             int64\n",
      "seasonStats_pitching_shutouts                  int64\n",
      "seasonStats_pitching_hitBatsmen                int64\n",
      "seasonStats_pitching_balks                     int64\n",
      "seasonStats_pitching_wildPitches               int64\n",
      "seasonStats_pitching_pickoffs                  int64\n",
      "seasonStats_pitching_groundOutsToAirouts       object\n",
      "seasonStats_pitching_rbi                       int64\n",
      "seasonStats_pitching_winPercentage             object\n",
      "seasonStats_pitching_gamesFinished             int64\n",
      "seasonStats_pitching_strikeoutWalkRatio        object\n",
      "seasonStats_pitching_strikeoutsPer9Inn         object\n",
      "seasonStats_pitching_walksPer9Inn              object\n",
      "seasonStats_pitching_hitsPer9Inn               object\n",
      "seasonStats_pitching_runsScoredPer9            object\n",
      "seasonStats_pitching_homeRunsPer9              object\n",
      "seasonStats_pitching_inheritedRunners          int64\n",
      "seasonStats_pitching_inheritedRunnersScored    int64\n",
      "seasonStats_pitching_catchersInterference      int64\n",
      "seasonStats_pitching_sacBunts                  int64\n",
      "seasonStats_pitching_sacFlies                  int64\n",
      "seasonStats_fielding_assists                   int64\n",
      "seasonStats_fielding_putOuts                   int64\n",
      "seasonStats_fielding_errors                    int64\n",
      "seasonStats_fielding_chances                   int64\n",
      "seasonStats_fielding_fielding                  object\n",
      "seasonStats_fielding_caughtStealing            int64\n",
      "seasonStats_fielding_passedBall                int64\n",
      "seasonStats_fielding_stolenBases               int64\n",
      "seasonStats_fielding_stolenBasePercentage      object\n",
      "seasonStats_fielding_pickoffs                  int64\n",
      "gamePk                                         int64\n",
      "gameDateTime                                   object\n",
      "stats_pitching_note                            object\n",
      "stats_pitching_gamesPlayed                     float64\n",
      "stats_pitching_gamesStarted                    float64\n",
      "stats_pitching_groundOuts                      float64\n",
      "stats_pitching_airOuts                         float64\n",
      "stats_pitching_runs                            float64\n",
      "stats_pitching_doubles                         float64\n",
      "stats_pitching_triples                         float64\n",
      "stats_pitching_homeRuns                        float64\n",
      "stats_pitching_strikeOuts                      float64\n",
      "stats_pitching_baseOnBalls                     float64\n",
      "stats_pitching_intentionalWalks                float64\n",
      "stats_pitching_hits                            float64\n",
      "stats_pitching_hitByPitch                      float64\n",
      "stats_pitching_atBats                          float64\n",
      "stats_pitching_caughtStealing                  float64\n",
      "stats_pitching_stolenBases                     float64\n",
      "stats_pitching_stolenBasePercentage            object\n",
      "stats_pitching_numberOfPitches                 float64\n",
      "stats_pitching_inningsPitched                  object\n",
      "stats_pitching_wins                            float64\n",
      "stats_pitching_losses                          float64\n",
      "stats_pitching_saves                           float64\n",
      "stats_pitching_saveOpportunities               float64\n",
      "stats_pitching_holds                           float64\n",
      "stats_pitching_blownSaves                      float64\n",
      "stats_pitching_earnedRuns                      float64\n",
      "stats_pitching_battersFaced                    float64\n",
      "stats_pitching_outs                            float64\n",
      "stats_pitching_gamesPitched                    float64\n",
      "stats_pitching_completeGames                   float64\n",
      "stats_pitching_shutouts                        float64\n",
      "stats_pitching_pitchesThrown                   float64\n",
      "stats_pitching_balls                           float64\n",
      "stats_pitching_strikes                         float64\n",
      "stats_pitching_strikePercentage                object\n",
      "stats_pitching_hitBatsmen                      float64\n",
      "stats_pitching_balks                           float64\n",
      "stats_pitching_wildPitches                     float64\n",
      "stats_pitching_pickoffs                        float64\n",
      "stats_pitching_rbi                             float64\n",
      "stats_pitching_gamesFinished                   float64\n",
      "stats_pitching_runsScoredPer9                  object\n",
      "stats_pitching_homeRunsPer9                    object\n",
      "stats_pitching_inheritedRunners                float64\n",
      "stats_pitching_inheritedRunnersScored          float64\n",
      "stats_pitching_catchersInterference            float64\n",
      "stats_pitching_sacBunts                        float64\n",
      "stats_pitching_sacFlies                        float64\n",
      "stats_batting_note                             object\n",
      "stats_pitching_flyOuts                         float64\n",
      "seasonStats_pitching_flyOuts                   float64\n",
      "dtypes: bool(4), float64(79), int64(73), object(45)\n",
      "memory usage: 3.8+ MB\n"
     ]
    }
   ],
   "source": [
    "df.info(verbose=True)"
   ]
  },
  {
   "cell_type": "code",
   "execution_count": 10,
   "metadata": {},
   "outputs": [
    {
     "data": {
      "text/plain": [
       "1.0    434\n",
       "Name: stats_pitching_gamesPitched, dtype: int64"
      ]
     },
     "execution_count": 10,
     "metadata": {},
     "output_type": "execute_result"
    }
   ],
   "source": [
    "df['stats_pitching_gamesPitched'].value_counts()"
   ]
  },
  {
   "cell_type": "code",
   "execution_count": 11,
   "metadata": {},
   "outputs": [
    {
     "data": {
      "text/plain": [
       "False    2442\n",
       "True       50\n",
       "Name: gameStatus_isCurrentBatter, dtype: int64"
      ]
     },
     "execution_count": 11,
     "metadata": {},
     "output_type": "execute_result"
    }
   ],
   "source": [
    "df['gameStatus_isCurrentBatter'].value_counts()"
   ]
  },
  {
   "cell_type": "code",
   "execution_count": 12,
   "metadata": {},
   "outputs": [],
   "source": [
    "from sqlalchemy.orm import sessionmaker\n",
    "Session = sessionmaker(bind=db.db_engine)\n",
    "session = Session()"
   ]
  },
  {
   "cell_type": "code",
   "execution_count": 13,
   "metadata": {},
   "outputs": [],
   "source": [
    "# #TEST: which columns, if any, don't have any values\n",
    "# dfs = {}\n",
    "# for table in db.db_engine.table_names():\n",
    "#     df = pd.read_sql(f\"select * from {table}\",db.db_engine)\n",
    "#     dfs[table]=df\n",
    "\n",
    "\n",
    "# for k in dfs.keys():\n",
    "#     df = dfs[k]\n",
    "#     for col in df.columns:\n",
    "#         if df[col].isna().sum()==df.shape[0]:\n",
    "#             print(k,col)\n",
    "\n",
    "# pks = [x[0] for x in session.query(Game.pk).all()]\n",
    "\n",
    "# calls = [API_call(pk) for pk in pks]\n",
    "\n",
    "# dfs_fromApi = {}\n",
    "# for k in calls[0].__dict__.keys():\n",
    "#     if k[0] != '_':\n",
    "#         records = [x for call in calls for x in call.__dict__[k]]\n",
    "#         df = pd.DataFrame.from_records(records)\n",
    "#         dfs_fromApi[k] = df"
   ]
  },
  {
   "cell_type": "code",
   "execution_count": 14,
   "metadata": {},
   "outputs": [],
   "source": [
    "call = API_call(567055)"
   ]
  },
  {
   "cell_type": "code",
   "execution_count": 15,
   "metadata": {},
   "outputs": [],
   "source": [
    "liveData = call._result['liveData']"
   ]
  },
  {
   "cell_type": "code",
   "execution_count": 16,
   "metadata": {},
   "outputs": [],
   "source": [
    "box_score = liveData['boxscore']"
   ]
  },
  {
   "cell_type": "code",
   "execution_count": 17,
   "metadata": {},
   "outputs": [],
   "source": [
    "away = box_score['teams']['away']"
   ]
  },
  {
   "cell_type": "code",
   "execution_count": 18,
   "metadata": {},
   "outputs": [],
   "source": [
    "players = away['players']"
   ]
  },
  {
   "cell_type": "code",
   "execution_count": 19,
   "metadata": {},
   "outputs": [
    {
     "ename": "NameError",
     "evalue": "name 'flatten_dicts' is not defined",
     "output_type": "error",
     "traceback": [
      "\u001b[0;31m---------------------------------------------------------------------------\u001b[0m",
      "\u001b[0;31mNameError\u001b[0m                                 Traceback (most recent call last)",
      "\u001b[0;32m<ipython-input-19-f225e3ec90c3>\u001b[0m in \u001b[0;36m<module>\u001b[0;34m\u001b[0m\n\u001b[1;32m      1\u001b[0m \u001b[0mplayer_dicts\u001b[0m \u001b[0;34m=\u001b[0m \u001b[0;34m[\u001b[0m\u001b[0;34m]\u001b[0m\u001b[0;34m\u001b[0m\u001b[0;34m\u001b[0m\u001b[0m\n\u001b[1;32m      2\u001b[0m \u001b[0;32mfor\u001b[0m \u001b[0mk\u001b[0m \u001b[0;32min\u001b[0m \u001b[0mplayers\u001b[0m\u001b[0;34m.\u001b[0m\u001b[0mkeys\u001b[0m\u001b[0;34m(\u001b[0m\u001b[0;34m)\u001b[0m\u001b[0;34m:\u001b[0m\u001b[0;34m\u001b[0m\u001b[0;34m\u001b[0m\u001b[0m\n\u001b[0;32m----> 3\u001b[0;31m     \u001b[0mplayer_dicts\u001b[0m\u001b[0;34m.\u001b[0m\u001b[0mappend\u001b[0m\u001b[0;34m(\u001b[0m\u001b[0mflatten_dicts\u001b[0m\u001b[0;34m(\u001b[0m\u001b[0mplayers\u001b[0m\u001b[0;34m[\u001b[0m\u001b[0mk\u001b[0m\u001b[0;34m]\u001b[0m\u001b[0;34m)\u001b[0m\u001b[0;34m)\u001b[0m\u001b[0;34m\u001b[0m\u001b[0;34m\u001b[0m\u001b[0m\n\u001b[0m\u001b[1;32m      4\u001b[0m \u001b[0;34m\u001b[0m\u001b[0m\n",
      "\u001b[0;31mNameError\u001b[0m: name 'flatten_dicts' is not defined"
     ]
    }
   ],
   "source": [
    "player_dicts = []\n",
    "for k in players.keys():\n",
    "    player_dicts.append(flatten_dicts(players[k]))\n",
    "\n"
   ]
  },
  {
   "cell_type": "code",
   "execution_count": null,
   "metadata": {},
   "outputs": [],
   "source": [
    "df = pd.DataFrame.from_records(player_dicts)"
   ]
  },
  {
   "cell_type": "code",
   "execution_count": null,
   "metadata": {},
   "outputs": [],
   "source": [
    "df.info()"
   ]
  },
  {
   "cell_type": "code",
   "execution_count": null,
   "metadata": {},
   "outputs": [],
   "source": [
    "df['status_description'].value_counts()"
   ]
  },
  {
   "cell_type": "code",
   "execution_count": null,
   "metadata": {},
   "outputs": [],
   "source": [
    "df.info(verbose=True)"
   ]
  },
  {
   "cell_type": "code",
   "execution_count": null,
   "metadata": {},
   "outputs": [],
   "source": [
    "stmt = \"\"\"\n",
    "select \n",
    "    pk,\n",
    "    count(pk) as count\n",
    "from\n",
    "    games\n",
    "group by \n",
    "    pk\n",
    "having \n",
    "    count > 1\n",
    "\"\"\""
   ]
  },
  {
   "cell_type": "code",
   "execution_count": null,
   "metadata": {},
   "outputs": [],
   "source": [
    "db.db_engine.execute(stmt).fetchall()"
   ]
  },
  {
   "cell_type": "code",
   "execution_count": null,
   "metadata": {},
   "outputs": [],
   "source": []
  }
 ],
 "metadata": {
  "kernelspec": {
   "display_name": "Python 3",
   "language": "python",
   "name": "python3"
  },
  "language_info": {
   "codemirror_mode": {
    "name": "ipython",
    "version": 3
   },
   "file_extension": ".py",
   "mimetype": "text/x-python",
   "name": "python",
   "nbconvert_exporter": "python",
   "pygments_lexer": "ipython3",
   "version": "3.7.3"
  }
 },
 "nbformat": 4,
 "nbformat_minor": 4
}
