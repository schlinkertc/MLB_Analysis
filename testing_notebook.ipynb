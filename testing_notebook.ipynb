{
 "cells": [
  {
   "cell_type": "code",
   "execution_count": 1,
   "metadata": {},
   "outputs": [],
   "source": [
    "from API_call import *\n",
    "from functions import get_gamePks,read_gamePks\n",
    "from datetime import datetime as dt\n",
    "import os,re,csv\n",
    "from os import walk\n",
    "import statsapi as mlb\n",
    "import pandas as pd\n",
    "from database import *\n",
    "from sqlalchemy.exc import IntegrityError"
   ]
  },
  {
   "cell_type": "code",
   "execution_count": 2,
   "metadata": {},
   "outputs": [],
   "source": [
    "get_gamePks([str(x) for x in range(2008,2020)])   \n",
    "\n",
    "gamePks=read_gamePks()"
   ]
  },
  {
   "cell_type": "code",
   "execution_count": 3,
   "metadata": {},
   "outputs": [
    {
     "name": "stdout",
     "output_type": "stream",
     "text": [
      "Engine(sqlite://///Users/schlinkertc/code/MLB/mlb.db)\n"
     ]
    }
   ],
   "source": [
    "db = MyDatabase('sqlite',dbname='mlb.db')"
   ]
  },
  {
   "cell_type": "code",
   "execution_count": 8,
   "metadata": {},
   "outputs": [
    {
     "data": {
      "text/plain": [
       "immutabledict({})"
      ]
     },
     "execution_count": 8,
     "metadata": {},
     "output_type": "execute_result"
    }
   ],
   "source": [
    "db.Base.metadata.tables"
   ]
  },
  {
   "cell_type": "code",
   "execution_count": 5,
   "metadata": {},
   "outputs": [],
   "source": [
    "Base.metadata.create_all(db.db_engine)\n",
    "Base.metadata.bind=db.db_engine"
   ]
  },
  {
   "cell_type": "code",
   "execution_count": 7,
   "metadata": {},
   "outputs": [
    {
     "data": {
      "text/plain": [
       "immutabledict({'games': Table('games', MetaData(bind=Engine(sqlite://///Users/schlinkertc/code/MLB/mlb.db)), Column('pk', Integer(), table=<games>, primary_key=True, nullable=False), Column('type', String(length=1), table=<games>), Column('doubleHeader', String(length=1), table=<games>), Column('id', String(length=150), table=<games>, primary_key=True, nullable=False), Column('gamedayType', String(length=1), table=<games>), Column('tiebreaker', String(length=1), table=<games>), Column('gameNumber', Integer(), table=<games>), Column('calendarEventID', String(length=50), table=<games>), Column('season', Integer(), table=<games>), Column('dateTime', DateTime(), table=<games>), Column('originalDate', Date(), table=<games>), Column('detailedState', String(length=12), table=<games>), Column('homeTeam_id', Integer(), table=<games>), Column('awayTeam_id', Integer(), table=<games>), Column('condition', String(length=25), table=<games>), Column('temp', Integer(), table=<games>), Column('wind', String(length=50), table=<games>), Column('venue_id', Integer(), table=<games>), Column('home_probablePitcher', Integer(), table=<games>), Column('away_probablePitcher', Integer(), table=<games>), schema=None), 'plays': Table('plays', MetaData(bind=Engine(sqlite://///Users/schlinkertc/code/MLB/mlb.db)), Column('result_type', String(), table=<plays>), Column('result_event', String(), table=<plays>), Column('result_eventType', String(), table=<plays>), Column('result_description', String(), table=<plays>), Column('result_rbi', Integer(), table=<plays>), Column('result_awayScore', Integer(), table=<plays>), Column('result_homeScore', Integer(), table=<plays>), Column('about_atBatIndex', Integer(), table=<plays>, primary_key=True, nullable=False), Column('about_halfInning', String(), table=<plays>), Column('about_isTopInning', Boolean(), table=<plays>), Column('about_inning', Integer(), table=<plays>), Column('about_startTime', String(), table=<plays>), Column('about_endTime', String(), table=<plays>, primary_key=True, nullable=False), Column('about_isComplete', Boolean(), table=<plays>), Column('about_isScoringPlay', Boolean(), table=<plays>), Column('about_hasReview', Boolean(), table=<plays>), Column('about_hasOut', Boolean(), table=<plays>), Column('about_captivatingIndex', Integer(), table=<plays>), Column('count_balls', Integer(), table=<plays>), Column('count_strikes', Integer(), table=<plays>), Column('count_outs', Integer(), table=<plays>), Column('gamePk', Integer(), ForeignKey('games.pk'), table=<plays>, primary_key=True, nullable=False), schema=None), 'pitches': Table('pitches', MetaData(bind=Engine(sqlite://///Users/schlinkertc/code/MLB/mlb.db)), Column('gamePk', Integer(), ForeignKey('games.pk'), table=<pitches>, primary_key=True, nullable=False), Column('atBatIndex', Integer(), ForeignKey('plays.about_atBatIndex'), table=<pitches>, primary_key=True, nullable=False), Column('playEndTime', String(), ForeignKey('plays.about_endTime'), table=<pitches>, primary_key=True, nullable=False), Column('index', Integer(), table=<pitches>, primary_key=True, nullable=False), Column('playId', String(), table=<pitches>), Column('pitchNumber', Integer(), table=<pitches>), Column('startTime', String(), table=<pitches>), Column('endTime', String(), table=<pitches>), Column('isPitch', Boolean(), table=<pitches>), Column('type', String(), table=<pitches>), Column('details_description', String(), table=<pitches>), Column('details_code', String(), table=<pitches>), Column('details_ballColor', String(), table=<pitches>), Column('details_isInPlay', String(), table=<pitches>), Column('details_isStrike', Boolean(), table=<pitches>), Column('details_isBall', Boolean(), table=<pitches>), Column('details_hasReview', Boolean(), table=<pitches>), Column('count_balls', Integer(), table=<pitches>), Column('count_strikes', Integer(), table=<pitches>), Column('details_call_code', String(), table=<pitches>), Column('details_call_description', String(), table=<pitches>), Column('pfxId', String(), table=<pitches>), Column('details_trailColor', String(), table=<pitches>), Column('details_type_code', String(), table=<pitches>), Column('details_type_description', String(), table=<pitches>), Column('details_fromCatcher', String(), table=<pitches>), Column('details_runnerGoing', Boolean(), table=<pitches>), schema=None), 'pitch_data': Table('pitch_data', MetaData(bind=Engine(sqlite://///Users/schlinkertc/code/MLB/mlb.db)), Column('gamePk', Integer(), ForeignKey('games.pk'), table=<pitch_data>, primary_key=True, nullable=False), Column('atBatIndex', Integer(), ForeignKey('plays.about_atBatIndex'), ForeignKey('pitches.atBatIndex'), table=<pitch_data>, primary_key=True, nullable=False), Column('playEndTime', String(), ForeignKey('pitches.playEndTime'), ForeignKey('plays.about_endTime'), table=<pitch_data>, primary_key=True, nullable=False), Column('index', Integer(), ForeignKey('pitches.index'), table=<pitch_data>, primary_key=True, nullable=False), Column('pitchData_startSpeed', Float(), table=<pitch_data>), Column('pitchData_endSpeed', Float(), table=<pitch_data>), Column('pitchData_strikeZoneTop', Float(), table=<pitch_data>), Column('pitchData_zone', Float(), table=<pitch_data>), Column('pitchData_typeConfidence', Float(), table=<pitch_data>), Column('pitchData_plateTime', Float(), table=<pitch_data>), Column('pitchData_extension', Float(), table=<pitch_data>), Column('pitchData_coordinates_aY', Float(), table=<pitch_data>), Column('pitchData_coordinates_aZ', Float(), table=<pitch_data>), Column('pitchData_coordinates_pfxX', Float(), table=<pitch_data>), Column('pitchData_coordinates_pfxZ', Float(), table=<pitch_data>), Column('pitchData_coordinates_pX', Float(), table=<pitch_data>), Column('pitchData_coordinates_pZ', Float(), table=<pitch_data>), Column('pitchData_coordinates_vX0', Float(), table=<pitch_data>), Column('pitchData_coordinates_vY0', Float(), table=<pitch_data>), Column('pitchData_coordinates_vZ0', Float(), table=<pitch_data>), Column('pitchData_coordinates_x', Float(), table=<pitch_data>), Column('pitchData_coordinates_y', Float(), table=<pitch_data>), Column('pitchData_coordinates_x0', Float(), table=<pitch_data>), Column('pitchData_coordinates_y0', Float(), table=<pitch_data>), Column('pitchData_coordinates_z0', Float(), table=<pitch_data>), Column('pitchData_coordinates_aX', Float(), table=<pitch_data>), Column('pitchData_breaks_breakY', Float(), table=<pitch_data>), Column('pitchData_breaks_spinRate', Float(), table=<pitch_data>), Column('pitchData_breaks_spinDirection', Float(), table=<pitch_data>), schema=None), 'hit_data': Table('hit_data', MetaData(bind=Engine(sqlite://///Users/schlinkertc/code/MLB/mlb.db)), Column('gamePk', Integer(), ForeignKey('games.pk'), table=<hit_data>, primary_key=True, nullable=False), Column('atBatIndex', Integer(), ForeignKey('plays.about_atBatIndex'), ForeignKey('pitches.atBatIndex'), table=<hit_data>, primary_key=True, nullable=False), Column('playEndTime', String(), ForeignKey('plays.about_endTime'), ForeignKey('pitches.playEndTime'), table=<hit_data>, primary_key=True, nullable=False), Column('index', Integer(), ForeignKey('pitches.index'), table=<hit_data>, primary_key=True, nullable=False), Column('hitData_launchSpeed', Float(), table=<hit_data>), Column('hitData_launchAngle', Float(), table=<hit_data>), Column('hitData_totalDistance', Float(), table=<hit_data>), Column('hitData_trajectory', String(), table=<hit_data>), Column('hitData_location', String(), table=<hit_data>), Column('hitData_coordinates_coordX', Float(), table=<hit_data>), Column('hitData_coordinates_coordY', Float(), table=<hit_data>), Column('hitData_hardness', String(), table=<hit_data>), schema=None), 'actions': Table('actions', MetaData(bind=Engine(sqlite://///Users/schlinkertc/code/MLB/mlb.db)), Column('gamePk', Integer(), ForeignKey('games.pk'), table=<actions>, primary_key=True, nullable=False), Column('atBatIndex', Integer(), ForeignKey('plays.about_atBatIndex'), table=<actions>, primary_key=True, nullable=False), Column('playEndTime', String(), ForeignKey('plays.about_endTime'), table=<actions>, primary_key=True, nullable=False), Column('index', Integer(), table=<actions>, primary_key=True, nullable=False), Column('startTime', String(), table=<actions>), Column('endTime', String(), table=<actions>), Column('isPitch', Boolean(), table=<actions>), Column('type', String(), table=<actions>), Column('details_description', String(), table=<actions>), Column('details_event', String(), table=<actions>), Column('details_eventType', String(), table=<actions>), Column('details_awayScore', Integer(), table=<actions>), Column('details_homeScore', Integer(), table=<actions>), Column('details_isScoringPlay', Boolean(), table=<actions>), Column('details_hasReview', Boolean(), table=<actions>), Column('count_balls', Integer(), table=<actions>), Column('count_strikes', Integer(), table=<actions>), Column('count_outs', Integer(), table=<actions>), Column('player_id', Integer(), ForeignKey('players.id'), table=<actions>), Column('battingOrder', Integer(), table=<actions>), Column('position_code', Integer(), table=<actions>), Column('base', Integer(), table=<actions>), Column('injuryType', String(), table=<actions>), Column('actionPlayId', String(), table=<actions>), Column('reviewDetails_isOverturned', Boolean(), table=<actions>), Column('reviewDetails_reviewType', String(), table=<actions>), Column('reviewDetails_challengeTeamId', Integer(), ForeignKey('teams.id'), table=<actions>), schema=None), 'runners': Table('runners', MetaData(bind=Engine(sqlite://///Users/schlinkertc/code/MLB/mlb.db)), Column('atBatIndex', Integer(), ForeignKey('pitches.atBatIndex'), table=<runners>, primary_key=True, nullable=False), Column('playEndTime', String(), ForeignKey('pitches.playEndTime'), table=<runners>, primary_key=True, nullable=False), Column('movement_start', String(), table=<runners>, primary_key=True, nullable=False), Column('movement_end', String(), table=<runners>, primary_key=True, nullable=False), Column('movement_outBase', String(), table=<runners>), Column('movement_isOut', Boolean(), table=<runners>), Column('movement_outNumber', Integer(), table=<runners>), Column('details_event', String(), table=<runners>, primary_key=True, nullable=False), Column('details_eventType', String(), table=<runners>), Column('details_movementReason', String(), table=<runners>), Column('details_responsiblePitcher_id', Integer(), ForeignKey('players.id'), table=<runners>), Column('details_isScoringEvent', Boolean(), table=<runners>), Column('details_rbi', Boolean(), table=<runners>), Column('details_earned', Boolean(), table=<runners>), Column('details_teamUnearned', Boolean(), table=<runners>), Column('details_playIndex', Integer(), ForeignKey('pitches.index'), table=<runners>, primary_key=True, nullable=False), Column('details_runner_id', Integer(), ForeignKey('players.id'), table=<runners>, primary_key=True, nullable=False), Column('gamePk', Integer(), ForeignKey('games.pk'), ForeignKey('pitches.gamePk'), table=<runners>, primary_key=True, nullable=False), schema=None), 'credits': Table('credits', MetaData(bind=Engine(sqlite://///Users/schlinkertc/code/MLB/mlb.db)), Column('credit', String(), table=<credits>), Column('atBatIndex', Integer(), ForeignKey('plays.about_atBatIndex'), table=<credits>, primary_key=True, nullable=False), Column('playEndTime', String(), ForeignKey('plays.about_endTime'), table=<credits>, primary_key=True, nullable=False), Column('player_id', Integer(), ForeignKey('players.id'), table=<credits>, primary_key=True, nullable=False), Column('position_code', String(), table=<credits>), Column('gamePk', Integer(), ForeignKey('games.pk'), ForeignKey('plays.gamePk'), table=<credits>, primary_key=True, nullable=False), schema=None), 'matchups': Table('matchups', MetaData(bind=Engine(sqlite://///Users/schlinkertc/code/MLB/mlb.db)), Column('atBatIndex', Integer(), ForeignKey('plays.about_atBatIndex'), table=<matchups>, primary_key=True, nullable=False), Column('playEndTime', String(), ForeignKey('plays.about_endTime'), table=<matchups>, primary_key=True, nullable=False), Column('batter_id', Integer(), ForeignKey('players.id'), table=<matchups>), Column('pitcher_id', Integer(), ForeignKey('players.id'), table=<matchups>), Column('splits_batter', String(), table=<matchups>), Column('splits_pitcher', String(), table=<matchups>), Column('splits_menOnBase', String(), table=<matchups>), Column('gamePk', Integer(), ForeignKey('games.pk'), ForeignKey('plays.gamePk'), table=<matchups>, primary_key=True, nullable=False), Column('postOnFirst_id', Integer(), ForeignKey('players.id'), table=<matchups>), Column('postOnSecond_id', Integer(), ForeignKey('players.id'), table=<matchups>), Column('postOnThird_id', Integer(), ForeignKey('players.id'), table=<matchups>), schema=None), 'venues': Table('venues', MetaData(bind=Engine(sqlite://///Users/schlinkertc/code/MLB/mlb.db)), Column('id', Integer(), table=<venues>, primary_key=True, nullable=False), Column('name', String(), table=<venues>), Column('location_city', String(), table=<venues>), Column('location_state', String(), table=<venues>), Column('location_country', String(), table=<venues>), Column('location_defaultCoordinates_latitude', Float(), table=<venues>), Column('location_defaultCoordinates_longitude', Float(), table=<venues>), Column('timeZone_id', String(), table=<venues>), Column('timeZone_offset', Integer(), table=<venues>), Column('fieldInfo_capacity', Integer(), table=<venues>), Column('fieldInfo_turfType', String(), table=<venues>), Column('fieldInfo_roofType', String(), table=<venues>), Column('fieldInfo_leftLine', Integer(), table=<venues>), Column('fieldInfo_leftCenter', Float(), table=<venues>), Column('fieldInfo_center', Integer(), table=<venues>), Column('fieldInfo_rightCenter', Float(), table=<venues>), Column('fieldInfo_rightLine', Integer(), table=<venues>), Column('fieldInfo_left', Float(), table=<venues>), Column('fieldInfo_right', Float(), table=<venues>), schema=None), 'teams': Table('teams', MetaData(bind=Engine(sqlite://///Users/schlinkertc/code/MLB/mlb.db)), Column('id', Integer(), table=<teams>, primary_key=True, nullable=False), Column('name', String(), table=<teams>), Column('abbreviation', String(), table=<teams>), Column('teamName', String(), table=<teams>), Column('locationName', String(), table=<teams>), Column('firstYearOfPlay', String(), table=<teams>), Column('shortName', String(), table=<teams>), Column('active', Boolean(), table=<teams>), Column('venue_id', Integer(), ForeignKey('venues.id'), table=<teams>), Column('league_name', String(), table=<teams>), Column('division_name', String(), table=<teams>), Column('springLeague_name', String(), table=<teams>), schema=None), 'game_team_links': Table('game_team_links', MetaData(bind=Engine(sqlite://///Users/schlinkertc/code/MLB/mlb.db)), Column('gamePk', Integer(), ForeignKey('games.pk'), table=<game_team_links>, primary_key=True, nullable=False), Column('team_id', Integer(), ForeignKey('teams.id'), table=<game_team_links>, primary_key=True, nullable=False), Column('home_away', String(), table=<game_team_links>), schema=None), 'team_records': Table('team_records', MetaData(bind=Engine(sqlite://///Users/schlinkertc/code/MLB/mlb.db)), Column('gamesPlayed', Integer(), table=<team_records>), Column('wildCardGamesBack', String(), table=<team_records>), Column('leagueGamesBack', String(), table=<team_records>), Column('divisionGamesBack', String(), table=<team_records>), Column('divisionLeader', Boolean(), table=<team_records>), Column('wins', Integer(), table=<team_records>), Column('losses', Integer(), table=<team_records>), Column('winningPercentage', String(), table=<team_records>), Column('gamePk', Integer(), ForeignKey('games.pk'), table=<team_records>, primary_key=True, nullable=False), Column('team_id', Integer(), ForeignKey('teams.id'), table=<team_records>, primary_key=True, nullable=False), Column('leagueRecord_wins', Integer(), table=<team_records>), Column('leagueRecord_losses', Integer(), table=<team_records>), Column('leagueRecord_pct', String(), table=<team_records>), schema=None), 'players': Table('players', MetaData(bind=Engine(sqlite://///Users/schlinkertc/code/MLB/mlb.db)), Column('id', Integer(), table=<players>, primary_key=True, nullable=False), Column('firstName', String(), table=<players>), Column('lastName', String(), table=<players>), Column('fullName', String(), table=<players>), Column('primaryNumber', String(), table=<players>), Column('birthDate', String(), table=<players>), Column('currentAge', String(), table=<players>), Column('birthCity', String(), table=<players>), Column('birthStateProvince', String(), table=<players>), Column('birthCountry', String(), table=<players>), Column('height', String(), table=<players>), Column('weight', String(), table=<players>), Column('active', Boolean(), table=<players>), Column('useName', String(), table=<players>), Column('middleName', String(), table=<players>), Column('boxscoreName', String(), table=<players>), Column('nickName', String(), table=<players>), Column('gender', String(), table=<players>), Column('isPlayer', Boolean(), table=<players>), Column('isVerified', Boolean(), table=<players>), Column('draftYear', Integer(), table=<players>), Column('mlbDebutDate', String(), table=<players>), Column('nameSlug', String(), table=<players>), Column('strikeZoneTop', Float(), table=<players>), Column('strikeZoneBottom', Float(), table=<players>), Column('primaryPosition_name', String(), table=<players>), Column('primaryPosition_type', String(), table=<players>), Column('batSide_description', String(), table=<players>), Column('pitchHand_description', String(), table=<players>), Column('pronunciation', String(), table=<players>), Column('lastPlayedDate', String(), table=<players>), Column('nameTitle', String(), table=<players>), Column('deathDate', String(), table=<players>), Column('deathCity', String(), table=<players>), Column('deathStateProvince', String(), table=<players>), Column('deathCountry', String(), table=<players>), schema=None), 'game_player_links': Table('game_player_links', MetaData(bind=Engine(sqlite://///Users/schlinkertc/code/MLB/mlb.db)), Column('person_id', Integer(), table=<game_player_links>, primary_key=True, nullable=False), Column('team_id', Integer(), table=<game_player_links>), Column('gamePk', Integer(), table=<game_player_links>, primary_key=True, nullable=False), Column('gameDateTime', String(), table=<game_player_links>, primary_key=True, nullable=False), Column('position_code', String(), table=<game_player_links>), Column('status_description', String(), table=<game_player_links>), Column('gameStatus_isCurrentBatter', Boolean(), table=<game_player_links>), Column('gameStatus_isCurrentPitcher', Boolean(), table=<game_player_links>), Column('gameStatus_isOnBench', Boolean(), table=<game_player_links>), Column('gameStatus_isSubstitute', Boolean(), table=<game_player_links>), Column('battingOrder', String(), table=<game_player_links>), Column('allPositions', String(), table=<game_player_links>), schema=None)})"
      ]
     },
     "execution_count": 7,
     "metadata": {},
     "output_type": "execute_result"
    }
   ],
   "source": [
    "Base.metadata.tables"
   ]
  },
  {
   "cell_type": "code",
   "execution_count": 6,
   "metadata": {},
   "outputs": [],
   "source": [
    "pks = gamePks['2019'][500:550]\n",
    "\n",
    "calls = [API_call(pk) for pk in pks]\n",
    "#item for sublist in list for item in sublist\n",
    "records = [link for call in calls for link in call.game_player_links]"
   ]
  },
  {
   "cell_type": "code",
   "execution_count": 7,
   "metadata": {},
   "outputs": [],
   "source": [
    "df = pd.DataFrame.from_records(records)"
   ]
  },
  {
   "cell_type": "code",
   "execution_count": 8,
   "metadata": {},
   "outputs": [
    {
     "name": "stdout",
     "output_type": "stream",
     "text": [
      "<class 'pandas.core.frame.DataFrame'>\n",
      "RangeIndex: 2492 entries, 0 to 2491\n",
      "Data columns (total 201 columns):\n",
      "jerseyNumber                                   object\n",
      "parentTeamId                                   float64\n",
      "battingOrder                                   object\n",
      "allPositions                                   object\n",
      "person_id                                      int64\n",
      "person_fullName                                object\n",
      "person_link                                    object\n",
      "position_code                                  object\n",
      "position_name                                  object\n",
      "position_type                                  object\n",
      "position_abbreviation                          object\n",
      "status_code                                    object\n",
      "status_description                             object\n",
      "gameStatus_isCurrentBatter                     bool\n",
      "gameStatus_isCurrentPitcher                    bool\n",
      "gameStatus_isOnBench                           bool\n",
      "gameStatus_isSubstitute                        bool\n",
      "stats_batting_gamesPlayed                      float64\n",
      "stats_batting_flyOuts                          float64\n",
      "stats_batting_groundOuts                       float64\n",
      "stats_batting_runs                             float64\n",
      "stats_batting_doubles                          float64\n",
      "stats_batting_triples                          float64\n",
      "stats_batting_homeRuns                         float64\n",
      "stats_batting_strikeOuts                       float64\n",
      "stats_batting_baseOnBalls                      float64\n",
      "stats_batting_intentionalWalks                 float64\n",
      "stats_batting_hits                             float64\n",
      "stats_batting_hitByPitch                       float64\n",
      "stats_batting_atBats                           float64\n",
      "stats_batting_caughtStealing                   float64\n",
      "stats_batting_stolenBases                      float64\n",
      "stats_batting_stolenBasePercentage             object\n",
      "stats_batting_groundIntoDoublePlay             float64\n",
      "stats_batting_groundIntoTriplePlay             float64\n",
      "stats_batting_plateAppearances                 float64\n",
      "stats_batting_totalBases                       float64\n",
      "stats_batting_rbi                              float64\n",
      "stats_batting_leftOnBase                       float64\n",
      "stats_batting_sacBunts                         float64\n",
      "stats_batting_sacFlies                         float64\n",
      "stats_batting_catchersInterference             float64\n",
      "stats_batting_pickoffs                         float64\n",
      "stats_batting_atBatsPerHomeRun                 object\n",
      "stats_fielding_assists                         float64\n",
      "stats_fielding_putOuts                         float64\n",
      "stats_fielding_errors                          float64\n",
      "stats_fielding_chances                         float64\n",
      "stats_fielding_fielding                        object\n",
      "stats_fielding_caughtStealing                  float64\n",
      "stats_fielding_passedBall                      float64\n",
      "stats_fielding_stolenBases                     float64\n",
      "stats_fielding_stolenBasePercentage            object\n",
      "stats_fielding_pickoffs                        float64\n",
      "seasonStats_batting_gamesPlayed                int64\n",
      "seasonStats_batting_flyOuts                    int64\n",
      "seasonStats_batting_groundOuts                 int64\n",
      "seasonStats_batting_runs                       int64\n",
      "seasonStats_batting_doubles                    int64\n",
      "seasonStats_batting_triples                    int64\n",
      "seasonStats_batting_homeRuns                   int64\n",
      "seasonStats_batting_strikeOuts                 int64\n",
      "seasonStats_batting_baseOnBalls                int64\n",
      "seasonStats_batting_intentionalWalks           int64\n",
      "seasonStats_batting_hits                       int64\n",
      "seasonStats_batting_hitByPitch                 int64\n",
      "seasonStats_batting_avg                        object\n",
      "seasonStats_batting_atBats                     int64\n",
      "seasonStats_batting_obp                        object\n",
      "seasonStats_batting_slg                        object\n",
      "seasonStats_batting_ops                        object\n",
      "seasonStats_batting_caughtStealing             int64\n",
      "seasonStats_batting_stolenBases                int64\n",
      "seasonStats_batting_stolenBasePercentage       object\n",
      "seasonStats_batting_groundIntoDoublePlay       int64\n",
      "seasonStats_batting_groundIntoTriplePlay       int64\n",
      "seasonStats_batting_plateAppearances           int64\n",
      "seasonStats_batting_totalBases                 int64\n",
      "seasonStats_batting_rbi                        int64\n",
      "seasonStats_batting_leftOnBase                 int64\n",
      "seasonStats_batting_sacBunts                   int64\n",
      "seasonStats_batting_sacFlies                   int64\n",
      "seasonStats_batting_babip                      object\n",
      "seasonStats_batting_catchersInterference       int64\n",
      "seasonStats_batting_pickoffs                   int64\n",
      "seasonStats_batting_atBatsPerHomeRun           object\n",
      "seasonStats_pitching_gamesPlayed               int64\n",
      "seasonStats_pitching_gamesStarted              int64\n",
      "seasonStats_pitching_groundOuts                int64\n",
      "seasonStats_pitching_airOuts                   int64\n",
      "seasonStats_pitching_runs                      int64\n",
      "seasonStats_pitching_doubles                   int64\n",
      "seasonStats_pitching_triples                   int64\n",
      "seasonStats_pitching_homeRuns                  int64\n",
      "seasonStats_pitching_strikeOuts                int64\n",
      "seasonStats_pitching_baseOnBalls               int64\n",
      "seasonStats_pitching_intentionalWalks          int64\n",
      "seasonStats_pitching_hits                      int64\n",
      "seasonStats_pitching_hitByPitch                int64\n",
      "seasonStats_pitching_atBats                    int64\n",
      "seasonStats_pitching_obp                       object\n",
      "seasonStats_pitching_caughtStealing            int64\n",
      "seasonStats_pitching_stolenBases               int64\n",
      "seasonStats_pitching_stolenBasePercentage      object\n",
      "seasonStats_pitching_era                       object\n",
      "seasonStats_pitching_inningsPitched            object\n",
      "seasonStats_pitching_wins                      int64\n",
      "seasonStats_pitching_losses                    int64\n",
      "seasonStats_pitching_saves                     int64\n",
      "seasonStats_pitching_saveOpportunities         int64\n",
      "seasonStats_pitching_holds                     int64\n",
      "seasonStats_pitching_blownSaves                int64\n",
      "seasonStats_pitching_earnedRuns                int64\n",
      "seasonStats_pitching_whip                      object\n",
      "seasonStats_pitching_outs                      int64\n",
      "seasonStats_pitching_gamesPitched              int64\n",
      "seasonStats_pitching_completeGames             int64\n",
      "seasonStats_pitching_shutouts                  int64\n",
      "seasonStats_pitching_hitBatsmen                int64\n",
      "seasonStats_pitching_balks                     int64\n",
      "seasonStats_pitching_wildPitches               int64\n",
      "seasonStats_pitching_pickoffs                  int64\n",
      "seasonStats_pitching_groundOutsToAirouts       object\n",
      "seasonStats_pitching_rbi                       int64\n",
      "seasonStats_pitching_winPercentage             object\n",
      "seasonStats_pitching_gamesFinished             int64\n",
      "seasonStats_pitching_strikeoutWalkRatio        object\n",
      "seasonStats_pitching_strikeoutsPer9Inn         object\n",
      "seasonStats_pitching_walksPer9Inn              object\n",
      "seasonStats_pitching_hitsPer9Inn               object\n",
      "seasonStats_pitching_runsScoredPer9            object\n",
      "seasonStats_pitching_homeRunsPer9              object\n",
      "seasonStats_pitching_inheritedRunners          int64\n",
      "seasonStats_pitching_inheritedRunnersScored    int64\n",
      "seasonStats_pitching_catchersInterference      int64\n",
      "seasonStats_pitching_sacBunts                  int64\n",
      "seasonStats_pitching_sacFlies                  int64\n",
      "seasonStats_fielding_assists                   int64\n",
      "seasonStats_fielding_putOuts                   int64\n",
      "seasonStats_fielding_errors                    int64\n",
      "seasonStats_fielding_chances                   int64\n",
      "seasonStats_fielding_fielding                  object\n",
      "seasonStats_fielding_caughtStealing            int64\n",
      "seasonStats_fielding_passedBall                int64\n",
      "seasonStats_fielding_stolenBases               int64\n",
      "seasonStats_fielding_stolenBasePercentage      object\n",
      "seasonStats_fielding_pickoffs                  int64\n",
      "gamePk                                         int64\n",
      "gameDateTime                                   object\n",
      "stats_pitching_note                            object\n",
      "stats_pitching_gamesPlayed                     float64\n",
      "stats_pitching_gamesStarted                    float64\n",
      "stats_pitching_groundOuts                      float64\n",
      "stats_pitching_airOuts                         float64\n",
      "stats_pitching_runs                            float64\n",
      "stats_pitching_doubles                         float64\n",
      "stats_pitching_triples                         float64\n",
      "stats_pitching_homeRuns                        float64\n",
      "stats_pitching_strikeOuts                      float64\n",
      "stats_pitching_baseOnBalls                     float64\n",
      "stats_pitching_intentionalWalks                float64\n",
      "stats_pitching_hits                            float64\n",
      "stats_pitching_hitByPitch                      float64\n",
      "stats_pitching_atBats                          float64\n",
      "stats_pitching_caughtStealing                  float64\n",
      "stats_pitching_stolenBases                     float64\n",
      "stats_pitching_stolenBasePercentage            object\n",
      "stats_pitching_numberOfPitches                 float64\n",
      "stats_pitching_inningsPitched                  object\n",
      "stats_pitching_wins                            float64\n",
      "stats_pitching_losses                          float64\n",
      "stats_pitching_saves                           float64\n",
      "stats_pitching_saveOpportunities               float64\n",
      "stats_pitching_holds                           float64\n",
      "stats_pitching_blownSaves                      float64\n",
      "stats_pitching_earnedRuns                      float64\n",
      "stats_pitching_battersFaced                    float64\n",
      "stats_pitching_outs                            float64\n",
      "stats_pitching_gamesPitched                    float64\n",
      "stats_pitching_completeGames                   float64\n",
      "stats_pitching_shutouts                        float64\n",
      "stats_pitching_pitchesThrown                   float64\n",
      "stats_pitching_balls                           float64\n",
      "stats_pitching_strikes                         float64\n",
      "stats_pitching_strikePercentage                object\n",
      "stats_pitching_hitBatsmen                      float64\n",
      "stats_pitching_balks                           float64\n",
      "stats_pitching_wildPitches                     float64\n",
      "stats_pitching_pickoffs                        float64\n",
      "stats_pitching_rbi                             float64\n",
      "stats_pitching_gamesFinished                   float64\n",
      "stats_pitching_runsScoredPer9                  object\n",
      "stats_pitching_homeRunsPer9                    object\n",
      "stats_pitching_inheritedRunners                float64\n",
      "stats_pitching_inheritedRunnersScored          float64\n",
      "stats_pitching_catchersInterference            float64\n",
      "stats_pitching_sacBunts                        float64\n",
      "stats_pitching_sacFlies                        float64\n",
      "stats_batting_note                             object\n",
      "stats_pitching_flyOuts                         float64\n",
      "seasonStats_pitching_flyOuts                   float64\n",
      "dtypes: bool(4), float64(79), int64(73), object(45)\n",
      "memory usage: 3.8+ MB\n"
     ]
    }
   ],
   "source": [
    "df.info(verbose=True)"
   ]
  },
  {
   "cell_type": "code",
   "execution_count": null,
   "metadata": {},
   "outputs": [],
   "source": [
    "df['stats_pitching_gamesPitched'].value_counts()"
   ]
  },
  {
   "cell_type": "code",
   "execution_count": null,
   "metadata": {},
   "outputs": [],
   "source": [
    "df['gameStatus_isCurrentBatter'].value_counts()"
   ]
  },
  {
   "cell_type": "code",
   "execution_count": null,
   "metadata": {},
   "outputs": [],
   "source": [
    "from sqlalchemy.orm import sessionmaker\n",
    "Session = sessionmaker(bind=db.db_engine)\n",
    "session = Session()"
   ]
  },
  {
   "cell_type": "code",
   "execution_count": null,
   "metadata": {},
   "outputs": [],
   "source": [
    "# #TEST: which columns, if any, don't have any values\n",
    "# dfs = {}\n",
    "# for table in db.db_engine.table_names():\n",
    "#     df = pd.read_sql(f\"select * from {table}\",db.db_engine)\n",
    "#     dfs[table]=df\n",
    "\n",
    "\n",
    "# for k in dfs.keys():\n",
    "#     df = dfs[k]\n",
    "#     for col in df.columns:\n",
    "#         if df[col].isna().sum()==df.shape[0]:\n",
    "#             print(k,col)\n",
    "\n",
    "# pks = [x[0] for x in session.query(Game.pk).all()]\n",
    "\n",
    "# calls = [API_call(pk) for pk in pks]\n",
    "\n",
    "# dfs_fromApi = {}\n",
    "# for k in calls[0].__dict__.keys():\n",
    "#     if k[0] != '_':\n",
    "#         records = [x for call in calls for x in call.__dict__[k]]\n",
    "#         df = pd.DataFrame.from_records(records)\n",
    "#         dfs_fromApi[k] = df"
   ]
  },
  {
   "cell_type": "code",
   "execution_count": null,
   "metadata": {},
   "outputs": [],
   "source": [
    "call = API_call(567055)"
   ]
  },
  {
   "cell_type": "code",
   "execution_count": null,
   "metadata": {},
   "outputs": [],
   "source": [
    "liveData = call._result['liveData']"
   ]
  },
  {
   "cell_type": "code",
   "execution_count": null,
   "metadata": {},
   "outputs": [],
   "source": [
    "box_score = liveData['boxscore']"
   ]
  },
  {
   "cell_type": "code",
   "execution_count": null,
   "metadata": {},
   "outputs": [],
   "source": [
    "away = box_score['teams']['away']"
   ]
  },
  {
   "cell_type": "code",
   "execution_count": null,
   "metadata": {},
   "outputs": [],
   "source": [
    "players = away['players']"
   ]
  },
  {
   "cell_type": "code",
   "execution_count": null,
   "metadata": {},
   "outputs": [],
   "source": [
    "player_dicts = []\n",
    "for k in players.keys():\n",
    "    player_dicts.append(flatten_dicts(players[k]))\n",
    "\n"
   ]
  },
  {
   "cell_type": "code",
   "execution_count": null,
   "metadata": {},
   "outputs": [],
   "source": [
    "df = pd.DataFrame.from_records(player_dicts)"
   ]
  },
  {
   "cell_type": "code",
   "execution_count": null,
   "metadata": {},
   "outputs": [],
   "source": [
    "df.info()"
   ]
  },
  {
   "cell_type": "code",
   "execution_count": null,
   "metadata": {},
   "outputs": [],
   "source": [
    "df['status_description'].value_counts()"
   ]
  },
  {
   "cell_type": "code",
   "execution_count": null,
   "metadata": {},
   "outputs": [],
   "source": [
    "df.info(verbose=True)"
   ]
  },
  {
   "cell_type": "code",
   "execution_count": null,
   "metadata": {},
   "outputs": [],
   "source": [
    "stmt = \"\"\"\n",
    "select \n",
    "    pk,\n",
    "    count(pk) as count\n",
    "from\n",
    "    games\n",
    "group by \n",
    "    pk\n",
    "having \n",
    "    count > 1\n",
    "\"\"\""
   ]
  },
  {
   "cell_type": "code",
   "execution_count": null,
   "metadata": {},
   "outputs": [],
   "source": [
    "db.db_engine.execute(stmt).fetchall()"
   ]
  },
  {
   "cell_type": "code",
   "execution_count": null,
   "metadata": {},
   "outputs": [],
   "source": []
  }
 ],
 "metadata": {
  "kernelspec": {
   "display_name": "Python 3",
   "language": "python",
   "name": "python3"
  },
  "language_info": {
   "codemirror_mode": {
    "name": "ipython",
    "version": 3
   },
   "file_extension": ".py",
   "mimetype": "text/x-python",
   "name": "python",
   "nbconvert_exporter": "python",
   "pygments_lexer": "ipython3",
   "version": "3.7.3"
  }
 },
 "nbformat": 4,
 "nbformat_minor": 4
}
