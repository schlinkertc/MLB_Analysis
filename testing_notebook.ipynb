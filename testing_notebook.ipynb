{
 "cells": [
  {
   "cell_type": "code",
   "execution_count": 1,
   "metadata": {},
   "outputs": [],
   "source": [
    "from API_call import API_call\n",
    "from functions import get_gamePks,read_gamePks\n",
    "from datetime import datetime as dt\n",
    "import os,re,csv\n",
    "from os import walk\n",
    "import statsapi as mlb\n",
    "import pandas as pd"
   ]
  },
  {
   "cell_type": "code",
   "execution_count": 18,
   "metadata": {},
   "outputs": [],
   "source": [
    "pkls = API_call.pickled_calls"
   ]
  },
  {
   "cell_type": "code",
   "execution_count": 16,
   "metadata": {},
   "outputs": [],
   "source": [
    "pkls = [x+'.pkl' for x in pkls]"
   ]
  },
  {
   "cell_type": "code",
   "execution_count": 19,
   "metadata": {},
   "outputs": [
    {
     "data": {
      "text/plain": [
       "['566385', '565812']"
      ]
     },
     "execution_count": 19,
     "metadata": {},
     "output_type": "execute_result"
    }
   ],
   "source": [
    "[x.strip('.pkl') for x in pkls]"
   ]
  },
  {
   "cell_type": "code",
   "execution_count": 2,
   "metadata": {},
   "outputs": [],
   "source": [
    "get_gamePks([str(x) for x in range(2008,2020)])   \n",
    "\n",
    "gamePks=read_gamePks()"
   ]
  },
  {
   "cell_type": "code",
   "execution_count": 3,
   "metadata": {},
   "outputs": [
    {
     "data": {
      "text/plain": [
       "'565812'"
      ]
     },
     "execution_count": 3,
     "metadata": {},
     "output_type": "execute_result"
    }
   ],
   "source": [
    "gamePks['2019'][501]"
   ]
  },
  {
   "cell_type": "code",
   "execution_count": 5,
   "metadata": {},
   "outputs": [],
   "source": [
    "call = API_call('565812')"
   ]
  },
  {
   "cell_type": "code",
   "execution_count": 6,
   "metadata": {},
   "outputs": [
    {
     "data": {
      "text/plain": [
       "['565812']"
      ]
     },
     "execution_count": 6,
     "metadata": {},
     "output_type": "execute_result"
    }
   ],
   "source": [
    "API_call.pickled_calls"
   ]
  },
  {
   "cell_type": "code",
   "execution_count": 8,
   "metadata": {},
   "outputs": [
    {
     "data": {
      "text/plain": [
       "dict_keys(['_pickle_path', '_result', '_pickle', 'game', 'venue', 'teams', 'game_team_links', 'team_records', 'players', 'game_player_links', 'plays', 'matchups', 'hotColdZones', 'hotColdStats', 'actions', 'pitches', 'runners', 'credits'])"
      ]
     },
     "execution_count": 8,
     "metadata": {},
     "output_type": "execute_result"
    }
   ],
   "source": [
    "call.__dict__.keys()"
   ]
  },
  {
   "cell_type": "code",
   "execution_count": 13,
   "metadata": {},
   "outputs": [
    {
     "data": {
      "text/plain": [
       "{'url': 'https://statsapi.mlb.com/api/{ver}/teams/{teamId}/roster',\n",
       " 'path_params': {'ver': {'type': 'str',\n",
       "   'default': 'v1',\n",
       "   'leading_slash': False,\n",
       "   'trailing_slash': False,\n",
       "   'required': True},\n",
       "  'teamId': {'type': 'str',\n",
       "   'default': None,\n",
       "   'leading_slash': False,\n",
       "   'trailing_slash': False,\n",
       "   'required': True}},\n",
       " 'query_params': ['rosterType', 'season', 'date', 'hydrate', 'fields'],\n",
       " 'required_params': [['rosterType', 'season']]}"
      ]
     },
     "execution_count": 13,
     "metadata": {},
     "output_type": "execute_result"
    }
   ],
   "source": [
    "roster_inputs = get_roster_inputs(self)\n",
    "players =  {}\n",
    "for team in self.teams:\n",
    "    params = get_roster_inputs(call)\n",
    "    params.update({\"teamId\":team['id']})\n",
    "    roster = mlb.get('team_roster',params)\n",
    "    team_players = [x['person']['id'] for x in roster['roster']]\n",
    "    players[team['id']] = team_players\n",
    "\n",
    "for d in self.game_player_links:\n",
    "    for k in players.keys():\n",
    "        if d['player'] in players[k]:\n",
    "            d.update({'teamId':k})"
   ]
  },
  {
   "cell_type": "code",
   "execution_count": 24,
   "metadata": {},
   "outputs": [
    {
     "data": {
      "text/plain": [
       "'2019'"
      ]
     },
     "execution_count": 24,
     "metadata": {},
     "output_type": "execute_result"
    }
   ],
   "source": [
    "call.game['season']"
   ]
  },
  {
   "cell_type": "code",
   "execution_count": 25,
   "metadata": {},
   "outputs": [],
   "source": [
    "roster_test = mlb.get('team_roster',{'season':2019,'rosterType':'active','date':'04/27/2019','teamId':136})"
   ]
  },
  {
   "cell_type": "code",
   "execution_count": 32,
   "metadata": {},
   "outputs": [
    {
     "data": {
      "text/plain": [
       "25"
      ]
     },
     "execution_count": 32,
     "metadata": {},
     "output_type": "execute_result"
    }
   ],
   "source": [
    "len([x['person']['id'] for x in roster_test['roster']])"
   ]
  },
  {
   "cell_type": "code",
   "execution_count": 35,
   "metadata": {},
   "outputs": [
    {
     "data": {
      "text/plain": [
       "50"
      ]
     },
     "execution_count": 35,
     "metadata": {},
     "output_type": "execute_result"
    }
   ],
   "source": [
    "len(call.game_player_links)"
   ]
  },
  {
   "cell_type": "code",
   "execution_count": 38,
   "metadata": {},
   "outputs": [
    {
     "data": {
      "text/plain": [
       "'04/27/2019'"
      ]
     },
     "execution_count": 38,
     "metadata": {},
     "output_type": "execute_result"
    }
   ],
   "source": [
    "call.game['dateTime'].strftime(\"%m/%d/%Y\")"
   ]
  },
  {
   "cell_type": "code",
   "execution_count": 6,
   "metadata": {},
   "outputs": [],
   "source": [
    "plays = pd.DataFrame.from_records(call.plays)"
   ]
  },
  {
   "cell_type": "code",
   "execution_count": 44,
   "metadata": {},
   "outputs": [],
   "source": [
    "def get_roster_inputs(api_call):\n",
    "    return {\n",
    "        'season':api_call.game['season'],\n",
    "        'rosterType':'active',\n",
    "        'date':api_call.game['dateTime'].strftime(\"%m/%d/%Y\")\n",
    "    }"
   ]
  },
  {
   "cell_type": "code",
   "execution_count": 45,
   "metadata": {},
   "outputs": [
    {
     "data": {
      "text/plain": [
       "{'season': '2019', 'rosterType': 'active', 'date': '04/27/2019'}"
      ]
     },
     "execution_count": 45,
     "metadata": {},
     "output_type": "execute_result"
    }
   ],
   "source": [
    "get_roster_inputs(call)"
   ]
  },
  {
   "cell_type": "code",
   "execution_count": 64,
   "metadata": {},
   "outputs": [
    {
     "data": {
      "text/plain": [
       "{136: [461872,\n",
       "  592165,\n",
       "  607473,\n",
       "  592712,\n",
       "  518715,\n",
       "  596129,\n",
       "  543829,\n",
       "  570267,\n",
       "  664238,\n",
       "  429665,\n",
       "  657024,\n",
       "  433587,\n",
       "  457803,\n",
       "  605480,\n",
       "  594835,\n",
       "  502190,\n",
       "  605541,\n",
       "  571745,\n",
       "  553882,\n",
       "  606273,\n",
       "  592387,\n",
       "  542921,\n",
       "  608596,\n",
       "  579328,\n",
       "  573127],\n",
       " 140: [592716,\n",
       "  642558,\n",
       "  452678,\n",
       "  656685,\n",
       "  455119,\n",
       "  542454,\n",
       "  592261,\n",
       "  462101,\n",
       "  452254,\n",
       "  643396,\n",
       "  491646,\n",
       "  425772,\n",
       "  445926,\n",
       "  608336,\n",
       "  600917,\n",
       "  664871,\n",
       "  458681,\n",
       "  523253,\n",
       "  501985,\n",
       "  608577,\n",
       "  596059,\n",
       "  518875,\n",
       "  571946,\n",
       "  425783,\n",
       "  658791]}"
      ]
     },
     "execution_count": 64,
     "metadata": {},
     "output_type": "execute_result"
    }
   ],
   "source": [
    "players =  {}\n",
    "for team in call.teams:\n",
    "    params = get_roster_inputs(call)\n",
    "    params.update({\"teamId\":team['id']})\n",
    "    roster = mlb.get('team_roster',params)\n",
    "    team_players = [x['person']['id'] for x in roster['roster']]\n",
    "    players[team['id']] = team_players\n",
    "players"
   ]
  },
  {
   "cell_type": "code",
   "execution_count": 62,
   "metadata": {},
   "outputs": [],
   "source": [
    "for d in call.game_player_links:\n",
    "    for k in players.keys():\n",
    "        if d['player'] in players[k]:\n",
    "            d.update({'teamId':k})"
   ]
  },
  {
   "cell_type": "code",
   "execution_count": 67,
   "metadata": {},
   "outputs": [
    {
     "data": {
      "text/plain": [
       "{'url': 'https://statsapi.mlb.com/api/{ver}/people/changes',\n",
       " 'path_params': {'ver': {'type': 'str',\n",
       "   'default': 'v1',\n",
       "   'leading_slash': False,\n",
       "   'trailing_slash': False,\n",
       "   'required': True}},\n",
       " 'query_params': ['updatedSince', 'fields'],\n",
       " 'required_params': [[]]}"
      ]
     },
     "execution_count": 67,
     "metadata": {},
     "output_type": "execute_result"
    }
   ],
   "source": [
    "mlb.ENDPOINTS['people_changes']"
   ]
  },
  {
   "cell_type": "code",
   "execution_count": 63,
   "metadata": {},
   "outputs": [
    {
     "data": {
      "text/plain": [
       "[{'player': 429665, 'gamePk': 566385, 'teamId': 136},\n",
       " {'player': 542921, 'gamePk': 566385, 'teamId': 136},\n",
       " {'player': 425783, 'gamePk': 566385, 'teamId': 140},\n",
       " {'player': 502190, 'gamePk': 566385, 'teamId': 136},\n",
       " {'player': 501985, 'gamePk': 566385, 'teamId': 140},\n",
       " {'player': 523253, 'gamePk': 566385, 'teamId': 140},\n",
       " {'player': 491646, 'gamePk': 566385, 'teamId': 140},\n",
       " {'player': 542454, 'gamePk': 566385, 'teamId': 140},\n",
       " {'player': 452678, 'gamePk': 566385, 'teamId': 140},\n",
       " {'player': 457803, 'gamePk': 566385, 'teamId': 136},\n",
       " {'player': 592716, 'gamePk': 566385, 'teamId': 140},\n",
       " {'player': 452254, 'gamePk': 566385, 'teamId': 140},\n",
       " {'player': 425772, 'gamePk': 566385, 'teamId': 140},\n",
       " {'player': 543829, 'gamePk': 566385, 'teamId': 136},\n",
       " {'player': 592712, 'gamePk': 566385, 'teamId': 136},\n",
       " {'player': 570267, 'gamePk': 566385, 'teamId': 136},\n",
       " {'player': 605480, 'gamePk': 566385, 'teamId': 136},\n",
       " {'player': 579328, 'gamePk': 566385, 'teamId': 136},\n",
       " {'player': 608596, 'gamePk': 566385, 'teamId': 136},\n",
       " {'player': 592165, 'gamePk': 566385, 'teamId': 136},\n",
       " {'player': 461872, 'gamePk': 566385, 'teamId': 136},\n",
       " {'player': 600917, 'gamePk': 566385, 'teamId': 140},\n",
       " {'player': 656954, 'gamePk': 566385},\n",
       " {'player': 433587, 'gamePk': 566385, 'teamId': 136},\n",
       " {'player': 455119, 'gamePk': 566385, 'teamId': 140},\n",
       " {'player': 518715, 'gamePk': 566385, 'teamId': 136},\n",
       " {'player': 642558, 'gamePk': 566385, 'teamId': 140},\n",
       " {'player': 571745, 'gamePk': 566385, 'teamId': 136},\n",
       " {'player': 571946, 'gamePk': 566385, 'teamId': 140},\n",
       " {'player': 553882, 'gamePk': 566385, 'teamId': 136},\n",
       " {'player': 596129, 'gamePk': 566385, 'teamId': 136},\n",
       " {'player': 445926, 'gamePk': 566385, 'teamId': 140},\n",
       " {'player': 458681, 'gamePk': 566385, 'teamId': 140},\n",
       " {'player': 573127, 'gamePk': 566385, 'teamId': 136},\n",
       " {'player': 518875, 'gamePk': 566385, 'teamId': 140},\n",
       " {'player': 607473, 'gamePk': 566385, 'teamId': 136},\n",
       " {'player': 656685, 'gamePk': 566385, 'teamId': 140},\n",
       " {'player': 596059, 'gamePk': 566385, 'teamId': 140},\n",
       " {'player': 643396, 'gamePk': 566385, 'teamId': 140},\n",
       " {'player': 664238, 'gamePk': 566385, 'teamId': 136},\n",
       " {'player': 664871, 'gamePk': 566385, 'teamId': 140},\n",
       " {'player': 606273, 'gamePk': 566385, 'teamId': 136},\n",
       " {'player': 594835, 'gamePk': 566385, 'teamId': 136},\n",
       " {'player': 608336, 'gamePk': 566385, 'teamId': 140},\n",
       " {'player': 657024, 'gamePk': 566385, 'teamId': 136},\n",
       " {'player': 608577, 'gamePk': 566385, 'teamId': 140},\n",
       " {'player': 592261, 'gamePk': 566385, 'teamId': 140},\n",
       " {'player': 462101, 'gamePk': 566385, 'teamId': 140},\n",
       " {'player': 592387, 'gamePk': 566385, 'teamId': 136},\n",
       " {'player': 658791, 'gamePk': 566385, 'teamId': 140}]"
      ]
     },
     "execution_count": 63,
     "metadata": {},
     "output_type": "execute_result"
    }
   ],
   "source": [
    "call.game_player_links"
   ]
  },
  {
   "cell_type": "code",
   "execution_count": 7,
   "metadata": {},
   "outputs": [
    {
     "data": {
      "text/plain": [
       "Index(['result_type', 'result_event', 'result_eventType', 'result_description',\n",
       "       'result_rbi', 'result_awayScore', 'result_homeScore',\n",
       "       'about_atBatIndex', 'about_halfInning', 'about_isTopInning',\n",
       "       'about_inning', 'about_startTime', 'about_endTime', 'about_isComplete',\n",
       "       'about_isScoringPlay', 'about_hasReview', 'about_hasOut',\n",
       "       'about_captivatingIndex', 'count_balls', 'count_strikes', 'count_outs',\n",
       "       'gamePk'],\n",
       "      dtype='object')"
      ]
     },
     "execution_count": 7,
     "metadata": {},
     "output_type": "execute_result"
    }
   ],
   "source": [
    "plays.columns"
   ]
  },
  {
   "cell_type": "code",
   "execution_count": 8,
   "metadata": {},
   "outputs": [],
   "source": [
    "pitches = pd.DataFrame.from_records(call.pitches)"
   ]
  },
  {
   "cell_type": "code",
   "execution_count": 9,
   "metadata": {},
   "outputs": [
    {
     "data": {
      "text/plain": [
       "Index(['index', 'pfxId', 'playId', 'pitchNumber', 'startTime', 'endTime',\n",
       "       'isPitch', 'type', 'atBatIndex', 'playEndTime', 'details_description',\n",
       "       'details_code', 'details_ballColor', 'details_trailColor',\n",
       "       'details_isInPlay', 'details_isStrike', 'details_isBall',\n",
       "       'details_hasReview', 'count_balls', 'count_strikes',\n",
       "       'pitchData_startSpeed', 'pitchData_endSpeed', 'pitchData_strikeZoneTop',\n",
       "       'pitchData_strikeZoneBottom', 'pitchData_zone',\n",
       "       'pitchData_typeConfidence', 'pitchData_plateTime',\n",
       "       'pitchData_extension', 'details_call_code', 'details_call_description',\n",
       "       'details_type_code', 'details_type_description',\n",
       "       'pitchData_coordinates_aY', 'pitchData_coordinates_aZ',\n",
       "       'pitchData_coordinates_pfxX', 'pitchData_coordinates_pfxZ',\n",
       "       'pitchData_coordinates_pX', 'pitchData_coordinates_pZ',\n",
       "       'pitchData_coordinates_vX0', 'pitchData_coordinates_vY0',\n",
       "       'pitchData_coordinates_vZ0', 'pitchData_coordinates_x',\n",
       "       'pitchData_coordinates_y', 'pitchData_coordinates_x0',\n",
       "       'pitchData_coordinates_y0', 'pitchData_coordinates_z0',\n",
       "       'pitchData_coordinates_aX', 'pitchData_breaks_breakAngle',\n",
       "       'pitchData_breaks_breakLength', 'pitchData_breaks_breakY',\n",
       "       'pitchData_breaks_spinRate', 'pitchData_breaks_spinDirection', 'gamePk',\n",
       "       'hitData_launchSpeed', 'hitData_launchAngle', 'hitData_totalDistance',\n",
       "       'hitData_trajectory', 'hitData_hardness', 'hitData_location',\n",
       "       'hitData_coordinates_coordX', 'hitData_coordinates_coordY',\n",
       "       'details_fromCatcher', 'details_runnerGoing'],\n",
       "      dtype='object')"
      ]
     },
     "execution_count": 9,
     "metadata": {},
     "output_type": "execute_result"
    }
   ],
   "source": [
    "pitches.columns"
   ]
  },
  {
   "cell_type": "code",
   "execution_count": 145,
   "metadata": {},
   "outputs": [],
   "source": [
    "hitDataColumns = [x for x in pitches.columns if 'hitData' in x]"
   ]
  },
  {
   "cell_type": "code",
   "execution_count": 91,
   "metadata": {},
   "outputs": [],
   "source": [
    "hitData = pitches[hitDataColumns].dropna(axis=0,how='all')"
   ]
  },
  {
   "cell_type": "code",
   "execution_count": 92,
   "metadata": {},
   "outputs": [
    {
     "data": {
      "text/plain": [
       "(53, 8)"
      ]
     },
     "execution_count": 92,
     "metadata": {},
     "output_type": "execute_result"
    }
   ],
   "source": [
    "hitData.shape"
   ]
  },
  {
   "cell_type": "code",
   "execution_count": 93,
   "metadata": {},
   "outputs": [
    {
     "data": {
      "text/plain": [
       "(396, 28)"
      ]
     },
     "execution_count": 93,
     "metadata": {},
     "output_type": "execute_result"
    }
   ],
   "source": [
    "pitchDataColumns = [x for x in pitches.columns if 'pitchData' in x]\n",
    "pitchData = pitches[pitchDataColumns].dropna(axis=0,how='all')\n",
    "pitchData.shape"
   ]
  },
  {
   "cell_type": "code",
   "execution_count": 115,
   "metadata": {},
   "outputs": [],
   "source": [
    "test_pks = gamePks['2019'][::20]\n",
    "pitches = []\n",
    "for pk in test_pks:\n",
    "    api_call = API_call(pk)\n",
    "    pitches.extend(api_call.pitches)"
   ]
  },
  {
   "cell_type": "code",
   "execution_count": null,
   "metadata": {},
   "outputs": [],
   "source": []
  },
  {
   "cell_type": "code",
   "execution_count": 116,
   "metadata": {},
   "outputs": [],
   "source": [
    "pitches = pd.DataFrame.from_records(pitches)"
   ]
  },
  {
   "cell_type": "code",
   "execution_count": 139,
   "metadata": {},
   "outputs": [
    {
     "data": {
      "text/plain": [
       "(40665, 8)"
      ]
     },
     "execution_count": 139,
     "metadata": {},
     "output_type": "execute_result"
    }
   ],
   "source": [
    "pitches[hitDataColumns].shape"
   ]
  },
  {
   "cell_type": "code",
   "execution_count": 138,
   "metadata": {},
   "outputs": [
    {
     "data": {
      "text/plain": [
       "(40665, 28)"
      ]
     },
     "execution_count": 138,
     "metadata": {},
     "output_type": "execute_result"
    }
   ],
   "source": [
    "pitches[pitchDataColumns].shape"
   ]
  },
  {
   "cell_type": "code",
   "execution_count": 137,
   "metadata": {},
   "outputs": [
    {
     "data": {
      "text/plain": [
       "(40665, 63)"
      ]
     },
     "execution_count": 137,
     "metadata": {},
     "output_type": "execute_result"
    }
   ],
   "source": [
    "pitches.shape"
   ]
  },
  {
   "cell_type": "code",
   "execution_count": 136,
   "metadata": {},
   "outputs": [
    {
     "data": {
      "text/plain": [
       "True"
      ]
     },
     "execution_count": 136,
     "metadata": {},
     "output_type": "execute_result"
    }
   ],
   "source": [
    "pitches[['atBatIndex','playEndTime','index']].shape==pitches[['atBatIndex','playEndTime','index']].drop_duplicates().shape"
   ]
  },
  {
   "cell_type": "code",
   "execution_count": 144,
   "metadata": {},
   "outputs": [
    {
     "data": {
      "text/plain": [
       "(40665, 63)"
      ]
     },
     "execution_count": 144,
     "metadata": {},
     "output_type": "execute_result"
    }
   ],
   "source": [
    "pitches.shape"
   ]
  },
  {
   "cell_type": "code",
   "execution_count": 142,
   "metadata": {},
   "outputs": [
    {
     "data": {
      "text/plain": [
       "['pitchData_startSpeed',\n",
       " 'pitchData_endSpeed',\n",
       " 'pitchData_strikeZoneTop',\n",
       " 'pitchData_strikeZoneBottom',\n",
       " 'pitchData_zone',\n",
       " 'pitchData_typeConfidence',\n",
       " 'pitchData_plateTime',\n",
       " 'pitchData_extension',\n",
       " 'pitchData_coordinates_aY',\n",
       " 'pitchData_coordinates_aZ',\n",
       " 'pitchData_coordinates_pfxX',\n",
       " 'pitchData_coordinates_pfxZ',\n",
       " 'pitchData_coordinates_pX',\n",
       " 'pitchData_coordinates_pZ',\n",
       " 'pitchData_coordinates_vX0',\n",
       " 'pitchData_coordinates_vY0',\n",
       " 'pitchData_coordinates_vZ0',\n",
       " 'pitchData_coordinates_x',\n",
       " 'pitchData_coordinates_y',\n",
       " 'pitchData_coordinates_x0',\n",
       " 'pitchData_coordinates_y0',\n",
       " 'pitchData_coordinates_z0',\n",
       " 'pitchData_coordinates_aX',\n",
       " 'pitchData_breaks_breakAngle',\n",
       " 'pitchData_breaks_breakLength',\n",
       " 'pitchData_breaks_breakY',\n",
       " 'pitchData_breaks_spinRate',\n",
       " 'pitchData_breaks_spinDirection']"
      ]
     },
     "execution_count": 142,
     "metadata": {},
     "output_type": "execute_result"
    }
   ],
   "source": [
    "pitchDataColumns"
   ]
  },
  {
   "cell_type": "code",
   "execution_count": 152,
   "metadata": {},
   "outputs": [
    {
     "name": "stdout",
     "output_type": "stream",
     "text": [
      "<class 'pandas.core.frame.DataFrame'>\n",
      "Int64Index: 39748 entries, 0 to 40664\n",
      "Data columns (total 28 columns):\n",
      "pitchData_startSpeed              37698 non-null float64\n",
      "pitchData_endSpeed                37698 non-null float64\n",
      "pitchData_strikeZoneTop           39748 non-null float64\n",
      "pitchData_strikeZoneBottom        39748 non-null float64\n",
      "pitchData_zone                    37672 non-null float64\n",
      "pitchData_typeConfidence          28576 non-null float64\n",
      "pitchData_plateTime               37698 non-null float64\n",
      "pitchData_extension               37698 non-null float64\n",
      "pitchData_coordinates_aY          37698 non-null float64\n",
      "pitchData_coordinates_aZ          37698 non-null float64\n",
      "pitchData_coordinates_pfxX        37698 non-null float64\n",
      "pitchData_coordinates_pfxZ        37698 non-null float64\n",
      "pitchData_coordinates_pX          37698 non-null float64\n",
      "pitchData_coordinates_pZ          37698 non-null float64\n",
      "pitchData_coordinates_vX0         37698 non-null float64\n",
      "pitchData_coordinates_vY0         37698 non-null float64\n",
      "pitchData_coordinates_vZ0         37698 non-null float64\n",
      "pitchData_coordinates_x           39475 non-null float64\n",
      "pitchData_coordinates_y           39475 non-null float64\n",
      "pitchData_coordinates_x0          37698 non-null float64\n",
      "pitchData_coordinates_y0          37698 non-null float64\n",
      "pitchData_coordinates_z0          37698 non-null float64\n",
      "pitchData_coordinates_aX          37698 non-null float64\n",
      "pitchData_breaks_breakAngle       37698 non-null float64\n",
      "pitchData_breaks_breakLength      37698 non-null float64\n",
      "pitchData_breaks_breakY           37698 non-null float64\n",
      "pitchData_breaks_spinRate         37003 non-null float64\n",
      "pitchData_breaks_spinDirection    37698 non-null float64\n",
      "dtypes: float64(28)\n",
      "memory usage: 8.8 MB\n"
     ]
    }
   ],
   "source": [
    "pitchData = pitches[pitchDataColumns].dropna(axis=0,how='all')\n",
    "pitchData.info()"
   ]
  },
  {
   "cell_type": "code",
   "execution_count": 146,
   "metadata": {},
   "outputs": [
    {
     "data": {
      "text/plain": [
       "['hitData_trajectory',\n",
       " 'hitData_hardness',\n",
       " 'hitData_location',\n",
       " 'hitData_coordinates_coordX',\n",
       " 'hitData_coordinates_coordY',\n",
       " 'hitData_launchSpeed',\n",
       " 'hitData_launchAngle',\n",
       " 'hitData_totalDistance']"
      ]
     },
     "execution_count": 146,
     "metadata": {},
     "output_type": "execute_result"
    }
   ],
   "source": [
    "hitDataColumns"
   ]
  },
  {
   "cell_type": "code",
   "execution_count": 148,
   "metadata": {},
   "outputs": [],
   "source": [
    "hitData = pitches[hitDataColumns].dropna(axis=0,how='all')\n",
    "hitData.info()"
   ]
  },
  {
   "cell_type": "code",
   "execution_count": 154,
   "metadata": {},
   "outputs": [],
   "source": [
    "pitchColumns = [x for x in pitches.columns if x not in hitDataColumns and x not in pitchDataColumns]"
   ]
  },
  {
   "cell_type": "code",
   "execution_count": 156,
   "metadata": {},
   "outputs": [
    {
     "name": "stdout",
     "output_type": "stream",
     "text": [
      "<class 'pandas.core.frame.DataFrame'>\n",
      "RangeIndex: 40665 entries, 0 to 40664\n",
      "Data columns (total 27 columns):\n",
      "index                       40665 non-null int64\n",
      "playId                      40060 non-null object\n",
      "pitchNumber                 39748 non-null float64\n",
      "startTime                   39748 non-null object\n",
      "endTime                     39748 non-null object\n",
      "isPitch                     40665 non-null bool\n",
      "type                        40665 non-null object\n",
      "atBatIndex                  40665 non-null int64\n",
      "playEndTime                 40665 non-null object\n",
      "details_description         40665 non-null object\n",
      "details_code                40665 non-null object\n",
      "details_ballColor           39748 non-null object\n",
      "details_isInPlay            39748 non-null object\n",
      "details_isStrike            39748 non-null object\n",
      "details_isBall              39748 non-null object\n",
      "details_hasReview           40665 non-null bool\n",
      "count_balls                 39748 non-null float64\n",
      "count_strikes               39748 non-null float64\n",
      "details_call_code           39748 non-null object\n",
      "details_call_description    39748 non-null object\n",
      "gamePk                      40665 non-null int64\n",
      "details_fromCatcher         912 non-null object\n",
      "details_runnerGoing         585 non-null object\n",
      "pfxId                       38002 non-null object\n",
      "details_trailColor          37698 non-null object\n",
      "details_type_code           37698 non-null object\n",
      "details_type_description    37698 non-null object\n",
      "dtypes: bool(2), float64(3), int64(3), object(19)\n",
      "memory usage: 7.8+ MB\n"
     ]
    }
   ],
   "source": [
    "pitches[pitchColumns].info()"
   ]
  },
  {
   "cell_type": "code",
   "execution_count": 160,
   "metadata": {},
   "outputs": [
    {
     "data": {
      "text/plain": [
       "True    585\n",
       "Name: details_runnerGoing, dtype: int64"
      ]
     },
     "execution_count": 160,
     "metadata": {},
     "output_type": "execute_result"
    }
   ],
   "source": [
    "pitches['details_runnerGoing'].value_counts()"
   ]
  },
  {
   "cell_type": "code",
   "execution_count": 13,
   "metadata": {},
   "outputs": [],
   "source": [
    "details = [x for x in pitches.columns if 'details' in x]\n",
    "\n",
    "pitches[(pitches['pfxId'].isna())&pitches['isPitch']==True][details]"
   ]
  },
  {
   "cell_type": "code",
   "execution_count": 16,
   "metadata": {},
   "outputs": [
    {
     "data": {
      "text/plain": [
       "0    2019-04-27 00:55:22+00:00\n",
       "1    2019-04-27 02:11:26+00:00\n",
       "2    2019-04-27 02:13:18+00:00\n",
       "3    2019-04-27 02:16:28+00:00\n",
       "4    2019-04-27 02:18:21+00:00\n",
       "                ...           \n",
       "87   2019-04-27 06:01:59+00:00\n",
       "88   2019-04-27 06:04:55+00:00\n",
       "89   2019-04-27 06:07:23+00:00\n",
       "90   2019-04-27 06:10:40+00:00\n",
       "91   2019-04-27 06:14:08+00:00\n",
       "Name: about_startTime, Length: 92, dtype: datetime64[ns, UTC]"
      ]
     },
     "execution_count": 16,
     "metadata": {},
     "output_type": "execute_result"
    }
   ],
   "source": [
    "pd.to_datetime(plays['about_startTime'])"
   ]
  },
  {
   "cell_type": "code",
   "execution_count": 17,
   "metadata": {},
   "outputs": [
    {
     "name": "stdout",
     "output_type": "stream",
     "text": [
      "<class 'pandas.core.frame.DataFrame'>\n",
      "RangeIndex: 92 entries, 0 to 91\n",
      "Data columns (total 22 columns):\n",
      "result_type               92 non-null object\n",
      "result_event              92 non-null object\n",
      "result_eventType          92 non-null object\n",
      "result_description        92 non-null object\n",
      "result_rbi                92 non-null int64\n",
      "result_awayScore          92 non-null int64\n",
      "result_homeScore          92 non-null int64\n",
      "about_atBatIndex          92 non-null int64\n",
      "about_halfInning          92 non-null object\n",
      "about_isTopInning         92 non-null bool\n",
      "about_inning              92 non-null int64\n",
      "about_startTime           92 non-null object\n",
      "about_endTime             92 non-null object\n",
      "about_isComplete          92 non-null bool\n",
      "about_isScoringPlay       92 non-null bool\n",
      "about_hasReview           92 non-null bool\n",
      "about_hasOut              92 non-null bool\n",
      "about_captivatingIndex    92 non-null int64\n",
      "count_balls               92 non-null int64\n",
      "count_strikes             92 non-null int64\n",
      "count_outs                92 non-null int64\n",
      "gamePk                    92 non-null int64\n",
      "dtypes: bool(5), int64(10), object(7)\n",
      "memory usage: 12.8+ KB\n"
     ]
    }
   ],
   "source": [
    "plays.info()"
   ]
  },
  {
   "cell_type": "code",
   "execution_count": 44,
   "metadata": {},
   "outputs": [],
   "source": [
    "from database import *"
   ]
  },
  {
   "cell_type": "code",
   "execution_count": 50,
   "metadata": {},
   "outputs": [
    {
     "name": "stdout",
     "output_type": "stream",
     "text": [
      "Engine(sqlite://///Users/schlinkertc/code/MLB/mlb.db)\n"
     ]
    }
   ],
   "source": [
    "db = MyDatabase('sqlite',dbname='mlb.db')"
   ]
  },
  {
   "cell_type": "code",
   "execution_count": 51,
   "metadata": {},
   "outputs": [],
   "source": [
    "Base.metadata.create_all(db.db_engine)"
   ]
  },
  {
   "cell_type": "code",
   "execution_count": 55,
   "metadata": {},
   "outputs": [],
   "source": [
    "game = Game(call.game)"
   ]
  },
  {
   "cell_type": "code",
   "execution_count": 54,
   "metadata": {},
   "outputs": [],
   "source": [
    "from sqlalchemy.orm import sessionmaker\n",
    "Session = sessionmaker(bind=db.db_engine)\n",
    "session = Session()"
   ]
  },
  {
   "cell_type": "code",
   "execution_count": 56,
   "metadata": {},
   "outputs": [],
   "source": [
    "session.add(game)"
   ]
  },
  {
   "cell_type": "code",
   "execution_count": 57,
   "metadata": {},
   "outputs": [],
   "source": [
    "session.commit()"
   ]
  },
  {
   "cell_type": "code",
   "execution_count": 58,
   "metadata": {},
   "outputs": [
    {
     "data": {
      "text/plain": [
       "[<Game(pk='566385',id='2019/04/26/texmlb-seamlb-1')>]"
      ]
     },
     "execution_count": 58,
     "metadata": {},
     "output_type": "execute_result"
    }
   ],
   "source": [
    "session.query(Game).all()"
   ]
  },
  {
   "cell_type": "code",
   "execution_count": 60,
   "metadata": {},
   "outputs": [],
   "source": [
    "session.add_all([Play(play) for play in call.plays])\n",
    "session.commit()"
   ]
  },
  {
   "cell_type": "code",
   "execution_count": 62,
   "metadata": {},
   "outputs": [
    {
     "data": {
      "text/plain": [
       "True"
      ]
     },
     "execution_count": 62,
     "metadata": {},
     "output_type": "execute_result"
    }
   ],
   "source": [
    "len(session.query(Play).all())==len(call.plays)"
   ]
  },
  {
   "cell_type": "code",
   "execution_count": 65,
   "metadata": {},
   "outputs": [
    {
     "name": "stdout",
     "output_type": "stream",
     "text": [
      "<class 'pandas.core.frame.DataFrame'>\n",
      "RangeIndex: 410 entries, 0 to 409\n",
      "Data columns (total 63 columns):\n",
      "index                             410 non-null int64\n",
      "pfxId                             393 non-null object\n",
      "playId                            407 non-null object\n",
      "pitchNumber                       396 non-null float64\n",
      "startTime                         396 non-null object\n",
      "endTime                           396 non-null object\n",
      "isPitch                           410 non-null bool\n",
      "type                              410 non-null object\n",
      "atBatIndex                        410 non-null int64\n",
      "playEndTime                       410 non-null object\n",
      "details_description               410 non-null object\n",
      "details_code                      410 non-null object\n",
      "details_ballColor                 396 non-null object\n",
      "details_trailColor                392 non-null object\n",
      "details_isInPlay                  396 non-null object\n",
      "details_isStrike                  396 non-null object\n",
      "details_isBall                    396 non-null object\n",
      "details_hasReview                 410 non-null bool\n",
      "count_balls                       396 non-null float64\n",
      "count_strikes                     396 non-null float64\n",
      "pitchData_startSpeed              392 non-null float64\n",
      "pitchData_endSpeed                392 non-null float64\n",
      "pitchData_strikeZoneTop           396 non-null float64\n",
      "pitchData_strikeZoneBottom        396 non-null float64\n",
      "pitchData_zone                    392 non-null float64\n",
      "pitchData_typeConfidence          364 non-null float64\n",
      "pitchData_plateTime               392 non-null float64\n",
      "pitchData_extension               392 non-null float64\n",
      "details_call_code                 396 non-null object\n",
      "details_call_description          396 non-null object\n",
      "details_type_code                 392 non-null object\n",
      "details_type_description          392 non-null object\n",
      "pitchData_coordinates_aY          392 non-null float64\n",
      "pitchData_coordinates_aZ          392 non-null float64\n",
      "pitchData_coordinates_pfxX        392 non-null float64\n",
      "pitchData_coordinates_pfxZ        392 non-null float64\n",
      "pitchData_coordinates_pX          392 non-null float64\n",
      "pitchData_coordinates_pZ          392 non-null float64\n",
      "pitchData_coordinates_vX0         392 non-null float64\n",
      "pitchData_coordinates_vY0         392 non-null float64\n",
      "pitchData_coordinates_vZ0         392 non-null float64\n",
      "pitchData_coordinates_x           393 non-null float64\n",
      "pitchData_coordinates_y           393 non-null float64\n",
      "pitchData_coordinates_x0          392 non-null float64\n",
      "pitchData_coordinates_y0          392 non-null float64\n",
      "pitchData_coordinates_z0          392 non-null float64\n",
      "pitchData_coordinates_aX          392 non-null float64\n",
      "pitchData_breaks_breakAngle       392 non-null float64\n",
      "pitchData_breaks_breakLength      392 non-null float64\n",
      "pitchData_breaks_breakY           392 non-null float64\n",
      "pitchData_breaks_spinRate         379 non-null float64\n",
      "pitchData_breaks_spinDirection    392 non-null float64\n",
      "gamePk                            410 non-null int64\n",
      "hitData_launchSpeed               47 non-null float64\n",
      "hitData_launchAngle               47 non-null float64\n",
      "hitData_totalDistance             47 non-null float64\n",
      "hitData_trajectory                53 non-null object\n",
      "hitData_hardness                  53 non-null object\n",
      "hitData_location                  53 non-null object\n",
      "hitData_coordinates_coordX        53 non-null float64\n",
      "hitData_coordinates_coordY        53 non-null float64\n",
      "details_fromCatcher               14 non-null object\n",
      "details_runnerGoing               9 non-null object\n",
      "dtypes: bool(2), float64(36), int64(3), object(22)\n",
      "memory usage: 196.3+ KB\n"
     ]
    }
   ],
   "source": [
    "pitches.info()"
   ]
  },
  {
   "cell_type": "code",
   "execution_count": 66,
   "metadata": {},
   "outputs": [
    {
     "ename": "ValueError",
     "evalue": "Must pass DataFrame with boolean values only",
     "output_type": "error",
     "traceback": [
      "\u001b[0;31m---------------------------------------------------------------------------\u001b[0m",
      "\u001b[0;31mValueError\u001b[0m                                Traceback (most recent call last)",
      "\u001b[0;32m<ipython-input-66-7a211d1ffd2a>\u001b[0m in \u001b[0;36m<module>\u001b[0;34m\u001b[0m\n\u001b[0;32m----> 1\u001b[0;31m \u001b[0mpitches\u001b[0m\u001b[0;34m[\u001b[0m\u001b[0mhitData\u001b[0m\u001b[0;34m]\u001b[0m\u001b[0;34m\u001b[0m\u001b[0;34m\u001b[0m\u001b[0m\n\u001b[0m",
      "\u001b[0;32m//anaconda3/lib/python3.7/site-packages/pandas/core/frame.py\u001b[0m in \u001b[0;36m__getitem__\u001b[0;34m(self, key)\u001b[0m\n\u001b[1;32m   2965\u001b[0m         \u001b[0;31m# Do we have a (boolean) DataFrame?\u001b[0m\u001b[0;34m\u001b[0m\u001b[0;34m\u001b[0m\u001b[0;34m\u001b[0m\u001b[0m\n\u001b[1;32m   2966\u001b[0m         \u001b[0;32mif\u001b[0m \u001b[0misinstance\u001b[0m\u001b[0;34m(\u001b[0m\u001b[0mkey\u001b[0m\u001b[0;34m,\u001b[0m \u001b[0mDataFrame\u001b[0m\u001b[0;34m)\u001b[0m\u001b[0;34m:\u001b[0m\u001b[0;34m\u001b[0m\u001b[0;34m\u001b[0m\u001b[0m\n\u001b[0;32m-> 2967\u001b[0;31m             \u001b[0;32mreturn\u001b[0m \u001b[0mself\u001b[0m\u001b[0;34m.\u001b[0m\u001b[0m_getitem_frame\u001b[0m\u001b[0;34m(\u001b[0m\u001b[0mkey\u001b[0m\u001b[0;34m)\u001b[0m\u001b[0;34m\u001b[0m\u001b[0;34m\u001b[0m\u001b[0m\n\u001b[0m\u001b[1;32m   2968\u001b[0m \u001b[0;34m\u001b[0m\u001b[0m\n\u001b[1;32m   2969\u001b[0m         \u001b[0;31m# Do we have a (boolean) 1d indexer?\u001b[0m\u001b[0;34m\u001b[0m\u001b[0;34m\u001b[0m\u001b[0;34m\u001b[0m\u001b[0m\n",
      "\u001b[0;32m//anaconda3/lib/python3.7/site-packages/pandas/core/frame.py\u001b[0m in \u001b[0;36m_getitem_frame\u001b[0;34m(self, key)\u001b[0m\n\u001b[1;32m   3064\u001b[0m     \u001b[0;32mdef\u001b[0m \u001b[0m_getitem_frame\u001b[0m\u001b[0;34m(\u001b[0m\u001b[0mself\u001b[0m\u001b[0;34m,\u001b[0m \u001b[0mkey\u001b[0m\u001b[0;34m)\u001b[0m\u001b[0;34m:\u001b[0m\u001b[0;34m\u001b[0m\u001b[0;34m\u001b[0m\u001b[0m\n\u001b[1;32m   3065\u001b[0m         \u001b[0;32mif\u001b[0m \u001b[0mkey\u001b[0m\u001b[0;34m.\u001b[0m\u001b[0mvalues\u001b[0m\u001b[0;34m.\u001b[0m\u001b[0msize\u001b[0m \u001b[0;32mand\u001b[0m \u001b[0;32mnot\u001b[0m \u001b[0mis_bool_dtype\u001b[0m\u001b[0;34m(\u001b[0m\u001b[0mkey\u001b[0m\u001b[0;34m.\u001b[0m\u001b[0mvalues\u001b[0m\u001b[0;34m)\u001b[0m\u001b[0;34m:\u001b[0m\u001b[0;34m\u001b[0m\u001b[0;34m\u001b[0m\u001b[0m\n\u001b[0;32m-> 3066\u001b[0;31m             \u001b[0;32mraise\u001b[0m \u001b[0mValueError\u001b[0m\u001b[0;34m(\u001b[0m\u001b[0;34m\"Must pass DataFrame with boolean values only\"\u001b[0m\u001b[0;34m)\u001b[0m\u001b[0;34m\u001b[0m\u001b[0;34m\u001b[0m\u001b[0m\n\u001b[0m\u001b[1;32m   3067\u001b[0m         \u001b[0;32mreturn\u001b[0m \u001b[0mself\u001b[0m\u001b[0;34m.\u001b[0m\u001b[0mwhere\u001b[0m\u001b[0;34m(\u001b[0m\u001b[0mkey\u001b[0m\u001b[0;34m)\u001b[0m\u001b[0;34m\u001b[0m\u001b[0;34m\u001b[0m\u001b[0m\n\u001b[1;32m   3068\u001b[0m \u001b[0;34m\u001b[0m\u001b[0m\n",
      "\u001b[0;31mValueError\u001b[0m: Must pass DataFrame with boolean values only"
     ]
    }
   ],
   "source": []
  },
  {
   "cell_type": "code",
   "execution_count": null,
   "metadata": {},
   "outputs": [],
   "source": []
  }
 ],
 "metadata": {
  "kernelspec": {
   "display_name": "Python 3",
   "language": "python",
   "name": "python3"
  },
  "language_info": {
   "codemirror_mode": {
    "name": "ipython",
    "version": 3
   },
   "file_extension": ".py",
   "mimetype": "text/x-python",
   "name": "python",
   "nbconvert_exporter": "python",
   "pygments_lexer": "ipython3",
   "version": "3.7.3"
  }
 },
 "nbformat": 4,
 "nbformat_minor": 4
}
