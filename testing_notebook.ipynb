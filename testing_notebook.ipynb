{
 "cells": [
  {
   "cell_type": "code",
   "execution_count": 1,
   "metadata": {},
   "outputs": [],
   "source": [
    "from API_call import *\n",
    "from functions import get_gamePks,read_gamePks\n",
    "from datetime import datetime as dt\n",
    "import os,re,csv\n",
    "from os import walk\n",
    "import statsapi as mlb\n",
    "import pandas as pd\n",
    "from database import *"
   ]
  },
  {
   "cell_type": "code",
   "execution_count": 2,
   "metadata": {},
   "outputs": [],
   "source": [
    "get_gamePks([str(x) for x in range(2008,2020)])   \n",
    "\n",
    "gamePks=read_gamePks()"
   ]
  },
  {
   "cell_type": "code",
   "execution_count": 3,
   "metadata": {},
   "outputs": [],
   "source": [
    "call = API_call(gamePks['2019'][500])"
   ]
  },
  {
   "cell_type": "code",
   "execution_count": 4,
   "metadata": {},
   "outputs": [
    {
     "name": "stdout",
     "output_type": "stream",
     "text": [
      "Engine(sqlite://///Users/schlinkertc/code/MLB/mlb.db)\n"
     ]
    }
   ],
   "source": [
    "db = MyDatabase('sqlite',dbname='mlb.db')"
   ]
  },
  {
   "cell_type": "code",
   "execution_count": 5,
   "metadata": {},
   "outputs": [],
   "source": [
    "Base.metadata.create_all(db.db_engine)\n",
    "Base.metadata.bind=db.db_engine"
   ]
  },
  {
   "cell_type": "code",
   "execution_count": 6,
   "metadata": {},
   "outputs": [],
   "source": [
    "from sqlalchemy.orm import sessionmaker\n",
    "Session = sessionmaker(bind=db.db_engine)\n",
    "session = Session()"
   ]
  },
  {
   "cell_type": "code",
   "execution_count": 7,
   "metadata": {},
   "outputs": [],
   "source": [
    "# session.bulk_insert_mappings(Game,call.game)\n",
    "# session.bulk_insert_mappings(Play,call.plays)\n",
    "# session.bulk_insert_mappings(Pitch,call.pitches)\n",
    "# session.bulk_insert_mappings(HitData,call.pitches)\n",
    "# session.bulk_insert_mappings(PitchData,call.pitches)\n",
    "\n",
    "# session.commit()"
   ]
  },
  {
   "cell_type": "code",
   "execution_count": 8,
   "metadata": {},
   "outputs": [],
   "source": [
    "pitches = pd.read_sql('select * from pitches',db.db_engine)\n",
    "hitData = pd.read_sql('select * from hit_data',db.db_engine)\n",
    "pitchData = pd.read_sql('select * from pitch_data',db.db_engine)"
   ]
  },
  {
   "cell_type": "code",
   "execution_count": 9,
   "metadata": {},
   "outputs": [],
   "source": [
    "games = session.query(Game).all()\n",
    "plays = session.query(Play).all()"
   ]
  },
  {
   "cell_type": "code",
   "execution_count": 10,
   "metadata": {},
   "outputs": [
    {
     "data": {
      "text/plain": [
       "[<HitData(gamePk='566385',atBatIndex='0', endTime = '2019-04-27T02:11:24.000Z', index = '3')>,\n",
       " <HitData(gamePk='566385',atBatIndex='0', endTime = '2019-04-27T02:11:24.000Z', index = '4')>]"
      ]
     },
     "execution_count": 10,
     "metadata": {},
     "output_type": "execute_result"
    }
   ],
   "source": [
    "plays[0].hitData"
   ]
  },
  {
   "cell_type": "code",
   "execution_count": 19,
   "metadata": {},
   "outputs": [
    {
     "name": "stdout",
     "output_type": "stream",
     "text": [
      "<class 'pandas.core.frame.DataFrame'>\n",
      "RangeIndex: 410 entries, 0 to 409\n",
      "Data columns (total 29 columns):\n",
      "gamePk                            410 non-null int64\n",
      "atBatIndex                        410 non-null int64\n",
      "playEndTime                       410 non-null object\n",
      "index                             410 non-null int64\n",
      "pitchData_startSpeed              392 non-null float64\n",
      "pitchData_endSpeed                392 non-null float64\n",
      "pitchData_strikeZoneTop           396 non-null float64\n",
      "pitchData_zone                    392 non-null float64\n",
      "pitchData_typeConfidence          364 non-null float64\n",
      "pitchData_plateTime               392 non-null float64\n",
      "pitchData_extension               392 non-null float64\n",
      "pitchData_coordinates_aY          392 non-null float64\n",
      "pitchData_coordinates_aZ          392 non-null float64\n",
      "pitchData_coordinates_pfxX        392 non-null float64\n",
      "pitchData_coordinates_pfxZ        392 non-null float64\n",
      "pitchData_coordinates_pX          392 non-null float64\n",
      "pitchData_coordinates_pZ          392 non-null float64\n",
      "pitchData_coordinates_vX0         392 non-null float64\n",
      "pitchData_coordinates_vY0         392 non-null float64\n",
      "pitchData_coordinates_vZ0         392 non-null float64\n",
      "pitchData_coordinates_x           393 non-null float64\n",
      "pitchData_coordinates_y           393 non-null float64\n",
      "pitchData_coordinates_x0          392 non-null float64\n",
      "pitchData_coordinates_y0          392 non-null float64\n",
      "pitchData_coordinates_z0          392 non-null float64\n",
      "pitchData_coordinates_aX          392 non-null float64\n",
      "pitchData_breaks_breakY           392 non-null float64\n",
      "pitchData_breaks_spinRate         379 non-null float64\n",
      "pitchData_breaks_spinDirection    392 non-null float64\n",
      "dtypes: float64(25), int64(3), object(1)\n",
      "memory usage: 93.0+ KB\n"
     ]
    }
   ],
   "source": [
    "pitchData.info()"
   ]
  },
  {
   "cell_type": "code",
   "execution_count": 12,
   "metadata": {},
   "outputs": [
    {
     "data": {
      "text/plain": [
       "(53, 12)"
      ]
     },
     "execution_count": 12,
     "metadata": {},
     "output_type": "execute_result"
    }
   ],
   "source": [
    "# good to know for later \n",
    "hitData.dropna(axis=0,thresh=5).shape"
   ]
  },
  {
   "cell_type": "code",
   "execution_count": 21,
   "metadata": {},
   "outputs": [],
   "source": [
    "test_games = gamePks['2019'][600:650]\n",
    "\n",
    "calls = [ API_call(g) for g in test_games ]"
   ]
  },
  {
   "cell_type": "code",
   "execution_count": 21,
   "metadata": {},
   "outputs": [],
   "source": [
    "# item for sublist in list for item in sublist\n",
    "venues = [x for call in calls for x in call.venue]"
   ]
  },
  {
   "cell_type": "code",
   "execution_count": 29,
   "metadata": {},
   "outputs": [],
   "source": [
    "venues_df = pd.DataFrame.from_records(venues)"
   ]
  },
  {
   "cell_type": "code",
   "execution_count": 31,
   "metadata": {},
   "outputs": [
    {
     "name": "stdout",
     "output_type": "stream",
     "text": [
      "<class 'pandas.core.frame.DataFrame'>\n",
      "RangeIndex: 50 entries, 0 to 49\n",
      "Data columns (total 22 columns):\n",
      "id                                       50 non-null int64\n",
      "name                                     50 non-null object\n",
      "link                                     50 non-null object\n",
      "location_city                            50 non-null object\n",
      "location_state                           46 non-null object\n",
      "location_stateAbbrev                     50 non-null object\n",
      "timeZone_id                              50 non-null object\n",
      "timeZone_offset                          50 non-null int64\n",
      "timeZone_tz                              50 non-null object\n",
      "fieldInfo_capacity                       50 non-null int64\n",
      "fieldInfo_turfType                       50 non-null object\n",
      "fieldInfo_roofType                       50 non-null object\n",
      "fieldInfo_leftLine                       50 non-null int64\n",
      "fieldInfo_leftCenter                     48 non-null float64\n",
      "fieldInfo_center                         50 non-null int64\n",
      "fieldInfo_rightCenter                    48 non-null float64\n",
      "fieldInfo_rightLine                      50 non-null int64\n",
      "location_defaultCoordinates_latitude     48 non-null float64\n",
      "location_defaultCoordinates_longitude    48 non-null float64\n",
      "fieldInfo_left                           17 non-null float64\n",
      "fieldInfo_right                          9 non-null float64\n",
      "location_country                         2 non-null object\n",
      "dtypes: float64(6), int64(6), object(10)\n",
      "memory usage: 8.7+ KB\n"
     ]
    }
   ],
   "source": [
    "venues_df.info()"
   ]
  },
  {
   "cell_type": "code",
   "execution_count": 32,
   "metadata": {},
   "outputs": [
    {
     "data": {
      "text/plain": [
       "Mexico    2\n",
       "Name: location_country, dtype: int64"
      ]
     },
     "execution_count": 32,
     "metadata": {},
     "output_type": "execute_result"
    }
   ],
   "source": [
    "venues_df['location_country'].value_counts()"
   ]
  },
  {
   "cell_type": "code",
   "execution_count": null,
   "metadata": {},
   "outputs": [],
   "source": []
  }
 ],
 "metadata": {
  "kernelspec": {
   "display_name": "Python 3",
   "language": "python",
   "name": "python3"
  },
  "language_info": {
   "codemirror_mode": {
    "name": "ipython",
    "version": 3
   },
   "file_extension": ".py",
   "mimetype": "text/x-python",
   "name": "python",
   "nbconvert_exporter": "python",
   "pygments_lexer": "ipython3",
   "version": "3.7.3"
  }
 },
 "nbformat": 4,
 "nbformat_minor": 4
}
