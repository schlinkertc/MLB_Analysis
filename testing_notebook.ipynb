{
 "cells": [
  {
   "cell_type": "code",
   "execution_count": 1,
   "metadata": {},
   "outputs": [
    {
     "name": "stdout",
     "output_type": "stream",
     "text": [
      "Engine(sqlite://///Users/schlinkertc/code/MLB/mlb.db)\n"
     ]
    }
   ],
   "source": [
    "from API_call import API_call\n",
    "from gamePks import *\n",
    "import statsapi as mlb\n",
    "import pandas as pd\n",
    "\n",
    "from tables import *\n",
    "import relationships\n",
    "\n",
    "from sqlalchemy.orm import sessionmaker\n",
    "Session = sessionmaker(bind=db.db_engine)\n",
    "session = Session()"
   ]
  },
  {
   "cell_type": "code",
   "execution_count": 2,
   "metadata": {},
   "outputs": [
    {
     "data": {
      "text/plain": [
       "['actions',\n",
       " 'credits',\n",
       " 'game_batting_stats',\n",
       " 'game_player_links',\n",
       " 'game_team_links',\n",
       " 'games',\n",
       " 'hit_data',\n",
       " 'matchups',\n",
       " 'pitch_data',\n",
       " 'pitches',\n",
       " 'players',\n",
       " 'plays',\n",
       " 'runners',\n",
       " 'team_records',\n",
       " 'teams',\n",
       " 'venues']"
      ]
     },
     "execution_count": 2,
     "metadata": {},
     "output_type": "execute_result"
    }
   ],
   "source": [
    "db.db_engine.table_names()"
   ]
  },
  {
   "cell_type": "code",
   "execution_count": 3,
   "metadata": {},
   "outputs": [],
   "source": [
    "# Yankees games on my birthday\n",
    "stmt= \"\"\"\n",
    "SELECT \n",
    "    pk\n",
    "FROM\n",
    "    games\n",
    "WHERE\n",
    "    pk \n",
    "IN\n",
    "    (\n",
    "    SELECT\n",
    "        gamePk\n",
    "    FROM\n",
    "        game_team_links\n",
    "    WHERE\n",
    "        team_id \n",
    "    IN\n",
    "        (SELECT\n",
    "            id\n",
    "        FROM \n",
    "            teams\n",
    "        WHERE\n",
    "            name = 'New York Yankees')\n",
    "    )\n",
    "AND\n",
    "    strftime('%m-%d',dateTime)='06-09'\n",
    "    \"\"\""
   ]
  },
  {
   "cell_type": "code",
   "execution_count": 4,
   "metadata": {},
   "outputs": [],
   "source": [
    "pk = db.db_engine.execute(stmt).first()[0]"
   ]
  },
  {
   "cell_type": "code",
   "execution_count": 5,
   "metadata": {},
   "outputs": [],
   "source": [
    "call = API_call(pk)"
   ]
  },
  {
   "cell_type": "code",
   "execution_count": 13,
   "metadata": {},
   "outputs": [],
   "source": [
    "#call.game_batting_stats"
   ]
  },
  {
   "cell_type": "code",
   "execution_count": 7,
   "metadata": {},
   "outputs": [],
   "source": [
    "records = call.game_player_links"
   ]
  },
  {
   "cell_type": "code",
   "execution_count": 8,
   "metadata": {},
   "outputs": [],
   "source": [
    "new_list = []\n",
    "for record in records:\n",
    "    new_dict = {}\n",
    "    for k,v in record.items():\n",
    "        if k.startswith('stats_batting_'):\n",
    "            new_dict[k.replace('stats_batting_','')]=v\n",
    "    new_list.append(new_dict)"
   ]
  },
  {
   "cell_type": "code",
   "execution_count": 19,
   "metadata": {},
   "outputs": [
    {
     "ename": "SyntaxError",
     "evalue": "invalid syntax (<ipython-input-19-018501a1c3f6>, line 6)",
     "output_type": "error",
     "traceback": [
      "\u001b[0;36m  File \u001b[0;32m\"<ipython-input-19-018501a1c3f6>\"\u001b[0;36m, line \u001b[0;32m6\u001b[0m\n\u001b[0;31m    else k:v\u001b[0m\n\u001b[0m          ^\u001b[0m\n\u001b[0;31mSyntaxError\u001b[0m\u001b[0;31m:\u001b[0m invalid syntax\n"
     ]
    }
   ],
   "source": [
    "#item for sublist in list for item in sublist \n",
    "r=[ \n",
    "    { \n",
    "        k.replace('stats_batting_','') : v \n",
    "        if k.startswith('stats_batting_')\n",
    "        else k:v\n",
    "        for k,v in record.items() \n",
    "        \n",
    "    } \n",
    "    \n",
    "    for record in records\n",
    "]\n"
   ]
  },
  {
   "cell_type": "code",
   "execution_count": null,
   "metadata": {},
   "outputs": [],
   "source": [
    "# item for sublist in list for item in sublist\n",
    "\n",
    "game_stat= list(\n",
    "    { k for keys in call.game_player_links \n",
    "     for k in keys if k.startswith('stats_batting') }\n",
    ")"
   ]
  },
  {
   "cell_type": "code",
   "execution_count": null,
   "metadata": {},
   "outputs": [],
   "source": [
    "season_stat = list(\n",
    "    { k for keys in call.game_player_links \n",
    "     for k in keys if k.startswith('seasonStats_pitching') }\n",
    ")"
   ]
  },
  {
   "cell_type": "code",
   "execution_count": null,
   "metadata": {},
   "outputs": [],
   "source": [
    "game_stat"
   ]
  },
  {
   "cell_type": "code",
   "execution_count": null,
   "metadata": {},
   "outputs": [],
   "source": []
  },
  {
   "cell_type": "code",
   "execution_count": null,
   "metadata": {},
   "outputs": [],
   "source": [
    "season_stat"
   ]
  },
  {
   "cell_type": "code",
   "execution_count": null,
   "metadata": {},
   "outputs": [],
   "source": [
    "df = pd.DataFrame.from_records(call.game_player_links)[game_stat]"
   ]
  },
  {
   "cell_type": "code",
   "execution_count": null,
   "metadata": {},
   "outputs": [],
   "source": [
    "df[df['stats_batting_stolenBasePercentage']==\".---\"][['stats_batting_stolenBases','stats_batting_caughtStealing']]\n"
   ]
  },
  {
   "cell_type": "code",
   "execution_count": null,
   "metadata": {},
   "outputs": [],
   "source": [
    "df[df['stats_batting_stolenBasePercentage'].isna()==True]\n"
   ]
  },
  {
   "cell_type": "code",
   "execution_count": null,
   "metadata": {},
   "outputs": [],
   "source": [
    "pk = gamePks['2018'][606]\n",
    "\n",
    "ins = db.insert_game(pk,replace=True)\n",
    "\n",
    "pd.DataFrame.from_records(ins)"
   ]
  },
  {
   "cell_type": "code",
   "execution_count": null,
   "metadata": {},
   "outputs": [],
   "source": [
    "for table in tables:\n",
    "    db.db_engine.execute(f'delete from {table} where gamePk={pk}')"
   ]
  },
  {
   "cell_type": "code",
   "execution_count": null,
   "metadata": {},
   "outputs": [],
   "source": [
    "for table in tables:\n",
    "    r = db.db_engine.execute(f\"select count(*) from {table} where gamePk={pk}\")\n",
    "    print(r.fetchone()[0])"
   ]
  },
  {
   "cell_type": "code",
   "execution_count": null,
   "metadata": {},
   "outputs": [],
   "source": [
    "r.fetchone()[0]"
   ]
  },
  {
   "cell_type": "code",
   "execution_count": null,
   "metadata": {},
   "outputs": [],
   "source": []
  },
  {
   "cell_type": "code",
   "execution_count": null,
   "metadata": {},
   "outputs": [],
   "source": [
    "pks = gamePks['2019'][500:550]\n",
    "\n",
    "calls = [API_call(pk) for pk in pks]\n",
    "#item for sublist in list for item in sublist\n",
    "records = [link for call in calls for link in call.game_player_links]"
   ]
  },
  {
   "cell_type": "code",
   "execution_count": null,
   "metadata": {},
   "outputs": [],
   "source": [
    "df = pd.DataFrame.from_records(records)"
   ]
  },
  {
   "cell_type": "code",
   "execution_count": null,
   "metadata": {},
   "outputs": [],
   "source": [
    "df['stats_pitching_gamesPitched'].value_counts()"
   ]
  },
  {
   "cell_type": "code",
   "execution_count": null,
   "metadata": {},
   "outputs": [],
   "source": [
    "df['gameStatus_isCurrentBatter'].value_counts()"
   ]
  },
  {
   "cell_type": "code",
   "execution_count": null,
   "metadata": {},
   "outputs": [],
   "source": []
  },
  {
   "cell_type": "code",
   "execution_count": null,
   "metadata": {},
   "outputs": [],
   "source": [
    "# #TEST: which columns, if any, don't have any values\n",
    "# dfs = {}\n",
    "# for table in db.db_engine.table_names():\n",
    "#     df = pd.read_sql(f\"select * from {table}\",db.db_engine)\n",
    "#     dfs[table]=df\n",
    "\n",
    "\n",
    "# for k in dfs.keys():\n",
    "#     df = dfs[k]\n",
    "#     for col in df.columns:\n",
    "#         if df[col].isna().sum()==df.shape[0]:\n",
    "#             print(k,col)\n",
    "\n",
    "# pks = [x[0] for x in session.query(Game.pk).all()]\n",
    "\n",
    "# calls = [API_call(pk) for pk in pks]\n",
    "\n",
    "# dfs_fromApi = {}\n",
    "# for k in calls[0].__dict__.keys():\n",
    "#     if k[0] != '_':\n",
    "#         records = [x for call in calls for x in call.__dict__[k]]\n",
    "#         df = pd.DataFrame.from_records(records)\n",
    "#         dfs_fromApi[k] = df"
   ]
  },
  {
   "cell_type": "code",
   "execution_count": null,
   "metadata": {},
   "outputs": [],
   "source": [
    "call = API_call(567055)"
   ]
  },
  {
   "cell_type": "code",
   "execution_count": null,
   "metadata": {},
   "outputs": [],
   "source": [
    "liveData = call._result['liveData']"
   ]
  },
  {
   "cell_type": "code",
   "execution_count": null,
   "metadata": {},
   "outputs": [],
   "source": [
    "box_score = liveData['boxscore']"
   ]
  },
  {
   "cell_type": "code",
   "execution_count": null,
   "metadata": {},
   "outputs": [],
   "source": [
    "away = box_score['teams']['away']"
   ]
  },
  {
   "cell_type": "code",
   "execution_count": null,
   "metadata": {},
   "outputs": [],
   "source": [
    "players = away['players']"
   ]
  },
  {
   "cell_type": "code",
   "execution_count": null,
   "metadata": {},
   "outputs": [],
   "source": [
    "player_dicts = []\n",
    "for k in players.keys():\n",
    "    player_dicts.append(flatten_dicts(players[k]))\n",
    "\n"
   ]
  },
  {
   "cell_type": "code",
   "execution_count": null,
   "metadata": {},
   "outputs": [],
   "source": [
    "df = pd.DataFrame.from_records(player_dicts)"
   ]
  },
  {
   "cell_type": "code",
   "execution_count": null,
   "metadata": {},
   "outputs": [],
   "source": [
    "df.info()"
   ]
  },
  {
   "cell_type": "code",
   "execution_count": null,
   "metadata": {},
   "outputs": [],
   "source": [
    "df['status_description'].value_counts()"
   ]
  },
  {
   "cell_type": "code",
   "execution_count": null,
   "metadata": {},
   "outputs": [],
   "source": [
    "df.info(verbose=True)"
   ]
  },
  {
   "cell_type": "code",
   "execution_count": null,
   "metadata": {},
   "outputs": [],
   "source": [
    "stmt = \"\"\"\n",
    "select \n",
    "    pk,\n",
    "    count(pk) as count\n",
    "from\n",
    "    games\n",
    "group by \n",
    "    pk\n",
    "having \n",
    "    count > 1\n",
    "\"\"\""
   ]
  },
  {
   "cell_type": "code",
   "execution_count": null,
   "metadata": {},
   "outputs": [],
   "source": [
    "db.db_engine.execute(stmt).fetchall()"
   ]
  },
  {
   "cell_type": "code",
   "execution_count": null,
   "metadata": {},
   "outputs": [],
   "source": []
  }
 ],
 "metadata": {
  "kernelspec": {
   "display_name": "Python 3",
   "language": "python",
   "name": "python3"
  },
  "language_info": {
   "codemirror_mode": {
    "name": "ipython",
    "version": 3
   },
   "file_extension": ".py",
   "mimetype": "text/x-python",
   "name": "python",
   "nbconvert_exporter": "python",
   "pygments_lexer": "ipython3",
   "version": "3.7.3"
  }
 },
 "nbformat": 4,
 "nbformat_minor": 4
}
