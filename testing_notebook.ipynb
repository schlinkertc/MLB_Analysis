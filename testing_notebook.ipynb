{
 "cells": [
  {
   "cell_type": "code",
   "execution_count": 1,
   "metadata": {},
   "outputs": [
    {
     "name": "stdout",
     "output_type": "stream",
     "text": [
      "Engine(sqlite://///Users/schlinkertc/code/MLB/mlb.db)\n"
     ]
    }
   ],
   "source": [
    "from API_call import API_call\n",
    "from gamePks import gamePks\n",
    "import statsapi as mlb\n",
    "import pandas as pd\n",
    "\n",
    "from tables import *\n",
    "import relationships\n",
    "\n",
    "from sqlalchemy.orm import sessionmaker\n",
    "Session = sessionmaker(bind=db.db_engine)\n",
    "session = Session()"
   ]
  },
  {
   "cell_type": "code",
   "execution_count": 2,
   "metadata": {},
   "outputs": [
    {
     "data": {
      "text/plain": [
       "['actions',\n",
       " 'credits',\n",
       " 'game_player_links',\n",
       " 'game_team_links',\n",
       " 'games',\n",
       " 'hit_data',\n",
       " 'matchups',\n",
       " 'pitch_data',\n",
       " 'pitches',\n",
       " 'players',\n",
       " 'plays',\n",
       " 'runners',\n",
       " 'team_records',\n",
       " 'teams',\n",
       " 'venues']"
      ]
     },
     "execution_count": 2,
     "metadata": {},
     "output_type": "execute_result"
    }
   ],
   "source": [
    "db.db_engine.table_names()"
   ]
  },
  {
   "cell_type": "code",
   "execution_count": 5,
   "metadata": {},
   "outputs": [],
   "source": [
    "pk = gamePks['2018'][606]\n",
    "call = API_call(pk)\n",
    "ins = db.insert_game(pk)"
   ]
  },
  {
   "cell_type": "code",
   "execution_count": 6,
   "metadata": {},
   "outputs": [
    {
     "data": {
      "text/html": [
       "<div>\n",
       "<style scoped>\n",
       "    .dataframe tbody tr th:only-of-type {\n",
       "        vertical-align: middle;\n",
       "    }\n",
       "\n",
       "    .dataframe tbody tr th {\n",
       "        vertical-align: top;\n",
       "    }\n",
       "\n",
       "    .dataframe thead th {\n",
       "        text-align: right;\n",
       "    }\n",
       "</style>\n",
       "<table border=\"1\" class=\"dataframe\">\n",
       "  <thead>\n",
       "    <tr style=\"text-align: right;\">\n",
       "      <th></th>\n",
       "      <th>game</th>\n",
       "      <th>table</th>\n",
       "      <th>insert_status</th>\n",
       "      <th>records_count</th>\n",
       "      <th>records_added</th>\n",
       "      <th>reason</th>\n",
       "    </tr>\n",
       "  </thead>\n",
       "  <tbody>\n",
       "    <tr>\n",
       "      <td>0</td>\n",
       "      <td>530000</td>\n",
       "      <td>games</td>\n",
       "      <td>success</td>\n",
       "      <td>1</td>\n",
       "      <td>1</td>\n",
       "      <td>None</td>\n",
       "    </tr>\n",
       "    <tr>\n",
       "      <td>1</td>\n",
       "      <td>530000</td>\n",
       "      <td>plays</td>\n",
       "      <td>success</td>\n",
       "      <td>65</td>\n",
       "      <td>65</td>\n",
       "      <td>None</td>\n",
       "    </tr>\n",
       "    <tr>\n",
       "      <td>2</td>\n",
       "      <td>530000</td>\n",
       "      <td>pitches</td>\n",
       "      <td>success</td>\n",
       "      <td>270</td>\n",
       "      <td>270</td>\n",
       "      <td>None</td>\n",
       "    </tr>\n",
       "    <tr>\n",
       "      <td>3</td>\n",
       "      <td>530000</td>\n",
       "      <td>pitch_data</td>\n",
       "      <td>success</td>\n",
       "      <td>264</td>\n",
       "      <td>264</td>\n",
       "      <td>None</td>\n",
       "    </tr>\n",
       "    <tr>\n",
       "      <td>4</td>\n",
       "      <td>530000</td>\n",
       "      <td>hit_data</td>\n",
       "      <td>success</td>\n",
       "      <td>41</td>\n",
       "      <td>41</td>\n",
       "      <td>None</td>\n",
       "    </tr>\n",
       "    <tr>\n",
       "      <td>5</td>\n",
       "      <td>530000</td>\n",
       "      <td>actions</td>\n",
       "      <td>success</td>\n",
       "      <td>12</td>\n",
       "      <td>12</td>\n",
       "      <td>None</td>\n",
       "    </tr>\n",
       "    <tr>\n",
       "      <td>6</td>\n",
       "      <td>530000</td>\n",
       "      <td>runners</td>\n",
       "      <td>success</td>\n",
       "      <td>73</td>\n",
       "      <td>73</td>\n",
       "      <td>None</td>\n",
       "    </tr>\n",
       "    <tr>\n",
       "      <td>7</td>\n",
       "      <td>530000</td>\n",
       "      <td>credits</td>\n",
       "      <td>success</td>\n",
       "      <td>81</td>\n",
       "      <td>78</td>\n",
       "      <td>None</td>\n",
       "    </tr>\n",
       "    <tr>\n",
       "      <td>8</td>\n",
       "      <td>530000</td>\n",
       "      <td>matchups</td>\n",
       "      <td>success</td>\n",
       "      <td>65</td>\n",
       "      <td>65</td>\n",
       "      <td>None</td>\n",
       "    </tr>\n",
       "    <tr>\n",
       "      <td>9</td>\n",
       "      <td>530000</td>\n",
       "      <td>venues</td>\n",
       "      <td>success</td>\n",
       "      <td>1</td>\n",
       "      <td>0</td>\n",
       "      <td>None</td>\n",
       "    </tr>\n",
       "    <tr>\n",
       "      <td>10</td>\n",
       "      <td>530000</td>\n",
       "      <td>teams</td>\n",
       "      <td>success</td>\n",
       "      <td>2</td>\n",
       "      <td>0</td>\n",
       "      <td>None</td>\n",
       "    </tr>\n",
       "    <tr>\n",
       "      <td>11</td>\n",
       "      <td>530000</td>\n",
       "      <td>game_team_links</td>\n",
       "      <td>success</td>\n",
       "      <td>2</td>\n",
       "      <td>2</td>\n",
       "      <td>None</td>\n",
       "    </tr>\n",
       "    <tr>\n",
       "      <td>12</td>\n",
       "      <td>530000</td>\n",
       "      <td>team_records</td>\n",
       "      <td>success</td>\n",
       "      <td>2</td>\n",
       "      <td>2</td>\n",
       "      <td>None</td>\n",
       "    </tr>\n",
       "    <tr>\n",
       "      <td>13</td>\n",
       "      <td>530000</td>\n",
       "      <td>players</td>\n",
       "      <td>success</td>\n",
       "      <td>50</td>\n",
       "      <td>6</td>\n",
       "      <td>None</td>\n",
       "    </tr>\n",
       "    <tr>\n",
       "      <td>14</td>\n",
       "      <td>530000</td>\n",
       "      <td>game_player_links</td>\n",
       "      <td>success</td>\n",
       "      <td>50</td>\n",
       "      <td>50</td>\n",
       "      <td>None</td>\n",
       "    </tr>\n",
       "  </tbody>\n",
       "</table>\n",
       "</div>"
      ],
      "text/plain": [
       "      game              table insert_status  records_count  records_added  \\\n",
       "0   530000              games       success              1              1   \n",
       "1   530000              plays       success             65             65   \n",
       "2   530000            pitches       success            270            270   \n",
       "3   530000         pitch_data       success            264            264   \n",
       "4   530000           hit_data       success             41             41   \n",
       "5   530000            actions       success             12             12   \n",
       "6   530000            runners       success             73             73   \n",
       "7   530000            credits       success             81             78   \n",
       "8   530000           matchups       success             65             65   \n",
       "9   530000             venues       success              1              0   \n",
       "10  530000              teams       success              2              0   \n",
       "11  530000    game_team_links       success              2              2   \n",
       "12  530000       team_records       success              2              2   \n",
       "13  530000            players       success             50              6   \n",
       "14  530000  game_player_links       success             50             50   \n",
       "\n",
       "   reason  \n",
       "0    None  \n",
       "1    None  \n",
       "2    None  \n",
       "3    None  \n",
       "4    None  \n",
       "5    None  \n",
       "6    None  \n",
       "7    None  \n",
       "8    None  \n",
       "9    None  \n",
       "10   None  \n",
       "11   None  \n",
       "12   None  \n",
       "13   None  \n",
       "14   None  "
      ]
     },
     "execution_count": 6,
     "metadata": {},
     "output_type": "execute_result"
    }
   ],
   "source": [
    "pd.DataFrame.from_records(ins)"
   ]
  },
  {
   "cell_type": "code",
   "execution_count": 14,
   "metadata": {},
   "outputs": [],
   "source": [
    "tbls = ['game']\n",
    "for tbl in db.meta.tables.values():\n",
    "    if 'gamePk' in tbl.c:\n",
    "        tbls.append(tbl.name)"
   ]
  },
  {
   "cell_type": "code",
   "execution_count": 15,
   "metadata": {},
   "outputs": [
    {
     "data": {
      "text/plain": [
       "['game',\n",
       " 'plays',\n",
       " 'pitches',\n",
       " 'pitch_data',\n",
       " 'hit_data',\n",
       " 'actions',\n",
       " 'runners',\n",
       " 'credits',\n",
       " 'matchups',\n",
       " 'game_team_links',\n",
       " 'team_records',\n",
       " 'game_player_links']"
      ]
     },
     "execution_count": 15,
     "metadata": {},
     "output_type": "execute_result"
    }
   ],
   "source": [
    "tbls"
   ]
  },
  {
   "cell_type": "code",
   "execution_count": 10,
   "metadata": {},
   "outputs": [
    {
     "data": {
      "text/plain": [
       "True"
      ]
     },
     "execution_count": 10,
     "metadata": {},
     "output_type": "execute_result"
    }
   ],
   "source": [
    "'pk' in db.meta.tables['games'].c"
   ]
  },
  {
   "cell_type": "code",
   "execution_count": null,
   "metadata": {},
   "outputs": [],
   "source": [
    "pks = gamePks['2019'][500:550]\n",
    "\n",
    "calls = [API_call(pk) for pk in pks]\n",
    "#item for sublist in list for item in sublist\n",
    "records = [link for call in calls for link in call.game_player_links]"
   ]
  },
  {
   "cell_type": "code",
   "execution_count": null,
   "metadata": {},
   "outputs": [],
   "source": [
    "df = pd.DataFrame.from_records(records)"
   ]
  },
  {
   "cell_type": "code",
   "execution_count": null,
   "metadata": {},
   "outputs": [],
   "source": [
    "df['stats_pitching_gamesPitched'].value_counts()"
   ]
  },
  {
   "cell_type": "code",
   "execution_count": null,
   "metadata": {},
   "outputs": [],
   "source": [
    "df['gameStatus_isCurrentBatter'].value_counts()"
   ]
  },
  {
   "cell_type": "code",
   "execution_count": null,
   "metadata": {},
   "outputs": [],
   "source": []
  },
  {
   "cell_type": "code",
   "execution_count": null,
   "metadata": {},
   "outputs": [],
   "source": [
    "# #TEST: which columns, if any, don't have any values\n",
    "# dfs = {}\n",
    "# for table in db.db_engine.table_names():\n",
    "#     df = pd.read_sql(f\"select * from {table}\",db.db_engine)\n",
    "#     dfs[table]=df\n",
    "\n",
    "\n",
    "# for k in dfs.keys():\n",
    "#     df = dfs[k]\n",
    "#     for col in df.columns:\n",
    "#         if df[col].isna().sum()==df.shape[0]:\n",
    "#             print(k,col)\n",
    "\n",
    "# pks = [x[0] for x in session.query(Game.pk).all()]\n",
    "\n",
    "# calls = [API_call(pk) for pk in pks]\n",
    "\n",
    "# dfs_fromApi = {}\n",
    "# for k in calls[0].__dict__.keys():\n",
    "#     if k[0] != '_':\n",
    "#         records = [x for call in calls for x in call.__dict__[k]]\n",
    "#         df = pd.DataFrame.from_records(records)\n",
    "#         dfs_fromApi[k] = df"
   ]
  },
  {
   "cell_type": "code",
   "execution_count": null,
   "metadata": {},
   "outputs": [],
   "source": [
    "call = API_call(567055)"
   ]
  },
  {
   "cell_type": "code",
   "execution_count": null,
   "metadata": {},
   "outputs": [],
   "source": [
    "liveData = call._result['liveData']"
   ]
  },
  {
   "cell_type": "code",
   "execution_count": null,
   "metadata": {},
   "outputs": [],
   "source": [
    "box_score = liveData['boxscore']"
   ]
  },
  {
   "cell_type": "code",
   "execution_count": null,
   "metadata": {},
   "outputs": [],
   "source": [
    "away = box_score['teams']['away']"
   ]
  },
  {
   "cell_type": "code",
   "execution_count": null,
   "metadata": {},
   "outputs": [],
   "source": [
    "players = away['players']"
   ]
  },
  {
   "cell_type": "code",
   "execution_count": null,
   "metadata": {},
   "outputs": [],
   "source": [
    "player_dicts = []\n",
    "for k in players.keys():\n",
    "    player_dicts.append(flatten_dicts(players[k]))\n",
    "\n"
   ]
  },
  {
   "cell_type": "code",
   "execution_count": null,
   "metadata": {},
   "outputs": [],
   "source": [
    "df = pd.DataFrame.from_records(player_dicts)"
   ]
  },
  {
   "cell_type": "code",
   "execution_count": null,
   "metadata": {},
   "outputs": [],
   "source": [
    "df.info()"
   ]
  },
  {
   "cell_type": "code",
   "execution_count": null,
   "metadata": {},
   "outputs": [],
   "source": [
    "df['status_description'].value_counts()"
   ]
  },
  {
   "cell_type": "code",
   "execution_count": null,
   "metadata": {},
   "outputs": [],
   "source": [
    "df.info(verbose=True)"
   ]
  },
  {
   "cell_type": "code",
   "execution_count": null,
   "metadata": {},
   "outputs": [],
   "source": [
    "stmt = \"\"\"\n",
    "select \n",
    "    pk,\n",
    "    count(pk) as count\n",
    "from\n",
    "    games\n",
    "group by \n",
    "    pk\n",
    "having \n",
    "    count > 1\n",
    "\"\"\""
   ]
  },
  {
   "cell_type": "code",
   "execution_count": null,
   "metadata": {},
   "outputs": [],
   "source": [
    "db.db_engine.execute(stmt).fetchall()"
   ]
  },
  {
   "cell_type": "code",
   "execution_count": null,
   "metadata": {},
   "outputs": [],
   "source": []
  }
 ],
 "metadata": {
  "kernelspec": {
   "display_name": "Python 3",
   "language": "python",
   "name": "python3"
  },
  "language_info": {
   "codemirror_mode": {
    "name": "ipython",
    "version": 3
   },
   "file_extension": ".py",
   "mimetype": "text/x-python",
   "name": "python",
   "nbconvert_exporter": "python",
   "pygments_lexer": "ipython3",
   "version": "3.7.3"
  }
 },
 "nbformat": 4,
 "nbformat_minor": 4
}
