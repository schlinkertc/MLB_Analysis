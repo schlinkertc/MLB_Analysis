{
 "cells": [
  {
   "cell_type": "code",
   "execution_count": 1,
   "metadata": {},
   "outputs": [
    {
     "name": "stdout",
     "output_type": "stream",
     "text": [
      "Engine(sqlite://///Users/schlinkertc/code/MLB/mlb_sqlite/mlb.db)\n"
     ]
    }
   ],
   "source": [
    "import sql_alchemy_mapping\n",
    "\n",
    "db = sql_alchemy_mapping.db\n",
    "\n",
    "# instantiate sql alchemy session and base\n",
    "session = sql_alchemy_mapping.session\n",
    "Base = sql_alchemy_mapping.Base\n",
    "\n",
    "Game = sql_alchemy_mapping.Game\n",
    "Person = sql_alchemy_mapping.Person\n",
    "Pitch = sql_alchemy_mapping.Pitch\n",
    "Play = sql_alchemy_mapping.Play\n",
    "Team = sql_alchemy_mapping.Team\n",
    "GameTeamLink = sql_alchemy_mapping.GameTeamLink"
   ]
  },
  {
   "cell_type": "code",
   "execution_count": 2,
   "metadata": {},
   "outputs": [],
   "source": [
    "game = session.query(Game).all()[50]"
   ]
  },
  {
   "cell_type": "code",
   "execution_count": 3,
   "metadata": {},
   "outputs": [
    {
     "data": {
      "text/plain": [
       "[('Final',), ('Cancelled',), ('Completed Early: Rain',), ('Final: Tied',)]"
      ]
     },
     "execution_count": 3,
     "metadata": {},
     "output_type": "execute_result"
    }
   ],
   "source": [
    "db.db_engine.execute('select distinct detailedState from games').fetchall()"
   ]
  },
  {
   "cell_type": "code",
   "execution_count": 5,
   "metadata": {},
   "outputs": [
    {
     "data": {
      "text/plain": [
       "[<GameTeamLink(game_id='2019/09/16/wasmlb-slnmlb-1',team_id='120')>,\n",
       " <GameTeamLink(game_id='2019/09/16/wasmlb-slnmlb-1',team_id='138')>]"
      ]
     },
     "execution_count": 5,
     "metadata": {},
     "output_type": "execute_result"
    }
   ],
   "source": [
    "game.teams"
   ]
  },
  {
   "cell_type": "code",
   "execution_count": 6,
   "metadata": {},
   "outputs": [],
   "source": [
    "play = game.plays[0]"
   ]
  },
  {
   "cell_type": "code",
   "execution_count": 16,
   "metadata": {},
   "outputs": [
    {
     "data": {
      "text/plain": [
       "[<Pitch(id=2019/09/16/wasmlb-slnmlb-1AB_0--pitchNumber: 1)>,\n",
       " <Pitch(id=2019/09/16/wasmlb-slnmlb-1AB_0--pitchNumber: 2)>,\n",
       " <Pitch(id=2019/09/16/wasmlb-slnmlb-1AB_0--pitchNumber: 3)>]"
      ]
     },
     "execution_count": 16,
     "metadata": {},
     "output_type": "execute_result"
    }
   ],
   "source": [
    "play.pitches"
   ]
  },
  {
   "cell_type": "code",
   "execution_count": 7,
   "metadata": {},
   "outputs": [
    {
     "data": {
      "text/plain": [
       "[datetime.datetime(2019, 9, 16, 23, 45, 48),\n",
       " datetime.datetime(2019, 9, 16, 23, 46, 2),\n",
       " datetime.datetime(2019, 9, 16, 23, 46, 23)]"
      ]
     },
     "execution_count": 7,
     "metadata": {},
     "output_type": "execute_result"
    }
   ],
   "source": [
    "[x.startTime for x in play.pitches]"
   ]
  },
  {
   "cell_type": "code",
   "execution_count": 11,
   "metadata": {},
   "outputs": [],
   "source": [
    "pitcher = session.query(Person).filter(Person.id==game.home_probablePitcher).one()"
   ]
  },
  {
   "cell_type": "code",
   "execution_count": 15,
   "metadata": {},
   "outputs": [
    {
     "data": {
      "text/plain": [
       "[<Play(game_id='2019/03/30/slnmlb-milmlb-1',atBatIndex='3')>,\n",
       " <Play(game_id='2019/03/30/slnmlb-milmlb-1',atBatIndex='4')>,\n",
       " <Play(game_id='2019/03/30/slnmlb-milmlb-1',atBatIndex='5')>,\n",
       " <Play(game_id='2019/03/30/slnmlb-milmlb-1',atBatIndex='6')>,\n",
       " <Play(game_id='2019/03/30/slnmlb-milmlb-1',atBatIndex='7')>,\n",
       " <Play(game_id='2019/03/30/slnmlb-milmlb-1',atBatIndex='8')>,\n",
       " <Play(game_id='2019/03/30/slnmlb-milmlb-1',atBatIndex='13')>,\n",
       " <Play(game_id='2019/03/30/slnmlb-milmlb-1',atBatIndex='14')>,\n",
       " <Play(game_id='2019/03/30/slnmlb-milmlb-1',atBatIndex='15')>,\n",
       " <Play(game_id='2019/03/30/slnmlb-milmlb-1',atBatIndex='16')>,\n",
       " <Play(game_id='2019/03/30/slnmlb-milmlb-1',atBatIndex='22')>,\n",
       " <Play(game_id='2019/03/30/slnmlb-milmlb-1',atBatIndex='23')>,\n",
       " <Play(game_id='2019/03/30/slnmlb-milmlb-1',atBatIndex='24')>,\n",
       " <Play(game_id='2019/03/30/slnmlb-milmlb-1',atBatIndex='25')>,\n",
       " <Play(game_id='2019/03/30/slnmlb-milmlb-1',atBatIndex='26')>,\n",
       " <Play(game_id='2019/03/30/slnmlb-milmlb-1',atBatIndex='27')>,\n",
       " <Play(game_id='2019/03/30/slnmlb-milmlb-1',atBatIndex='34')>,\n",
       " <Play(game_id='2019/03/30/slnmlb-milmlb-1',atBatIndex='35')>,\n",
       " <Play(game_id='2019/03/30/slnmlb-milmlb-1',atBatIndex='36')>,\n",
       " <Play(game_id='2019/03/30/slnmlb-milmlb-1',atBatIndex='37')>,\n",
       " <Play(game_id='2019/03/30/slnmlb-milmlb-1',atBatIndex='42')>,\n",
       " <Play(game_id='2019/03/30/slnmlb-milmlb-1',atBatIndex='43')>,\n",
       " <Play(game_id='2019/03/30/slnmlb-milmlb-1',atBatIndex='44')>,\n",
       " <Play(game_id='2019/08/03/slnmlb-oakmlb-1',atBatIndex='4')>,\n",
       " <Play(game_id='2019/08/03/slnmlb-oakmlb-1',atBatIndex='5')>,\n",
       " <Play(game_id='2019/08/03/slnmlb-oakmlb-1',atBatIndex='6')>,\n",
       " <Play(game_id='2019/08/03/slnmlb-oakmlb-1',atBatIndex='7')>,\n",
       " <Play(game_id='2019/08/03/slnmlb-oakmlb-1',atBatIndex='8')>,\n",
       " <Play(game_id='2019/08/03/slnmlb-oakmlb-1',atBatIndex='9')>,\n",
       " <Play(game_id='2019/08/03/slnmlb-oakmlb-1',atBatIndex='10')>,\n",
       " <Play(game_id='2019/08/03/slnmlb-oakmlb-1',atBatIndex='11')>,\n",
       " <Play(game_id='2019/08/03/slnmlb-oakmlb-1',atBatIndex='15')>,\n",
       " <Play(game_id='2019/08/03/slnmlb-oakmlb-1',atBatIndex='16')>,\n",
       " <Play(game_id='2019/08/03/slnmlb-oakmlb-1',atBatIndex='17')>,\n",
       " <Play(game_id='2019/08/03/slnmlb-oakmlb-1',atBatIndex='18')>,\n",
       " <Play(game_id='2019/08/03/slnmlb-oakmlb-1',atBatIndex='19')>,\n",
       " <Play(game_id='2019/08/03/slnmlb-oakmlb-1',atBatIndex='20')>,\n",
       " <Play(game_id='2019/08/03/slnmlb-oakmlb-1',atBatIndex='24')>,\n",
       " <Play(game_id='2019/08/03/slnmlb-oakmlb-1',atBatIndex='25')>,\n",
       " <Play(game_id='2019/08/03/slnmlb-oakmlb-1',atBatIndex='26')>,\n",
       " <Play(game_id='2019/08/03/slnmlb-oakmlb-1',atBatIndex='27')>,\n",
       " <Play(game_id='2019/08/03/slnmlb-oakmlb-1',atBatIndex='33')>,\n",
       " <Play(game_id='2019/08/03/slnmlb-oakmlb-1',atBatIndex='34')>,\n",
       " <Play(game_id='2019/08/03/slnmlb-oakmlb-1',atBatIndex='35')>,\n",
       " <Play(game_id='2019/08/09/pitmlb-slnmlb-1',atBatIndex='0')>,\n",
       " <Play(game_id='2019/08/09/pitmlb-slnmlb-1',atBatIndex='1')>,\n",
       " <Play(game_id='2019/08/09/pitmlb-slnmlb-1',atBatIndex='2')>,\n",
       " <Play(game_id='2019/08/09/pitmlb-slnmlb-1',atBatIndex='8')>,\n",
       " <Play(game_id='2019/08/09/pitmlb-slnmlb-1',atBatIndex='9')>,\n",
       " <Play(game_id='2019/08/09/pitmlb-slnmlb-1',atBatIndex='10')>,\n",
       " <Play(game_id='2019/08/09/pitmlb-slnmlb-1',atBatIndex='11')>,\n",
       " <Play(game_id='2019/08/09/pitmlb-slnmlb-1',atBatIndex='12')>,\n",
       " <Play(game_id='2019/08/09/pitmlb-slnmlb-1',atBatIndex='13')>,\n",
       " <Play(game_id='2019/08/09/pitmlb-slnmlb-1',atBatIndex='17')>,\n",
       " <Play(game_id='2019/08/09/pitmlb-slnmlb-1',atBatIndex='18')>,\n",
       " <Play(game_id='2019/08/09/pitmlb-slnmlb-1',atBatIndex='19')>,\n",
       " <Play(game_id='2019/08/09/pitmlb-slnmlb-1',atBatIndex='24')>,\n",
       " <Play(game_id='2019/08/09/pitmlb-slnmlb-1',atBatIndex='25')>,\n",
       " <Play(game_id='2019/08/09/pitmlb-slnmlb-1',atBatIndex='26')>,\n",
       " <Play(game_id='2019/08/09/pitmlb-slnmlb-1',atBatIndex='27')>,\n",
       " <Play(game_id='2019/08/09/pitmlb-slnmlb-1',atBatIndex='28')>,\n",
       " <Play(game_id='2019/09/16/wasmlb-slnmlb-1',atBatIndex='0')>,\n",
       " <Play(game_id='2019/09/16/wasmlb-slnmlb-1',atBatIndex='1')>,\n",
       " <Play(game_id='2019/09/16/wasmlb-slnmlb-1',atBatIndex='2')>,\n",
       " <Play(game_id='2019/09/16/wasmlb-slnmlb-1',atBatIndex='3')>,\n",
       " <Play(game_id='2019/09/16/wasmlb-slnmlb-1',atBatIndex='11')>,\n",
       " <Play(game_id='2019/09/16/wasmlb-slnmlb-1',atBatIndex='12')>,\n",
       " <Play(game_id='2019/09/16/wasmlb-slnmlb-1',atBatIndex='13')>,\n",
       " <Play(game_id='2019/09/16/wasmlb-slnmlb-1',atBatIndex='17')>,\n",
       " <Play(game_id='2019/09/16/wasmlb-slnmlb-1',atBatIndex='18')>,\n",
       " <Play(game_id='2019/09/16/wasmlb-slnmlb-1',atBatIndex='19')>,\n",
       " <Play(game_id='2019/09/16/wasmlb-slnmlb-1',atBatIndex='25')>,\n",
       " <Play(game_id='2019/09/16/wasmlb-slnmlb-1',atBatIndex='26')>,\n",
       " <Play(game_id='2019/09/16/wasmlb-slnmlb-1',atBatIndex='27')>,\n",
       " <Play(game_id='2019/09/16/wasmlb-slnmlb-1',atBatIndex='28')>,\n",
       " <Play(game_id='2019/09/16/wasmlb-slnmlb-1',atBatIndex='29')>,\n",
       " <Play(game_id='2019/09/16/wasmlb-slnmlb-1',atBatIndex='30')>,\n",
       " <Play(game_id='2019/09/16/wasmlb-slnmlb-1',atBatIndex='35')>,\n",
       " <Play(game_id='2019/09/16/wasmlb-slnmlb-1',atBatIndex='36')>,\n",
       " <Play(game_id='2019/09/16/wasmlb-slnmlb-1',atBatIndex='37')>,\n",
       " <Play(game_id='2019/09/16/wasmlb-slnmlb-1',atBatIndex='38')>,\n",
       " <Play(game_id='2019/09/16/wasmlb-slnmlb-1',atBatIndex='42')>,\n",
       " <Play(game_id='2019/09/16/wasmlb-slnmlb-1',atBatIndex='43')>,\n",
       " <Play(game_id='2019/09/16/wasmlb-slnmlb-1',atBatIndex='44')>,\n",
       " <Play(game_id='2019/09/16/wasmlb-slnmlb-1',atBatIndex='45')>,\n",
       " <Play(game_id='2019/09/16/wasmlb-slnmlb-1',atBatIndex='50')>,\n",
       " <Play(game_id='2019/09/16/wasmlb-slnmlb-1',atBatIndex='51')>,\n",
       " <Play(game_id='2019/09/16/wasmlb-slnmlb-1',atBatIndex='52')>,\n",
       " <Play(game_id='2019/09/21/slnmlb-chnmlb-1',atBatIndex='5')>,\n",
       " <Play(game_id='2019/09/21/slnmlb-chnmlb-1',atBatIndex='6')>,\n",
       " <Play(game_id='2019/09/21/slnmlb-chnmlb-1',atBatIndex='7')>,\n",
       " <Play(game_id='2019/09/21/slnmlb-chnmlb-1',atBatIndex='8')>,\n",
       " <Play(game_id='2019/09/21/slnmlb-chnmlb-1',atBatIndex='9')>,\n",
       " <Play(game_id='2019/09/21/slnmlb-chnmlb-1',atBatIndex='10')>,\n",
       " <Play(game_id='2019/09/21/slnmlb-chnmlb-1',atBatIndex='11')>,\n",
       " <Play(game_id='2019/09/21/slnmlb-chnmlb-1',atBatIndex='12')>,\n",
       " <Play(game_id='2019/09/21/slnmlb-chnmlb-1',atBatIndex='16')>,\n",
       " <Play(game_id='2019/09/21/slnmlb-chnmlb-1',atBatIndex='17')>,\n",
       " <Play(game_id='2019/09/21/slnmlb-chnmlb-1',atBatIndex='18')>,\n",
       " <Play(game_id='2019/09/21/slnmlb-chnmlb-1',atBatIndex='19')>,\n",
       " <Play(game_id='2019/09/21/slnmlb-chnmlb-1',atBatIndex='25')>,\n",
       " <Play(game_id='2019/09/21/slnmlb-chnmlb-1',atBatIndex='26')>,\n",
       " <Play(game_id='2019/09/21/slnmlb-chnmlb-1',atBatIndex='27')>]"
      ]
     },
     "execution_count": 15,
     "metadata": {},
     "output_type": "execute_result"
    }
   ],
   "source": [
    "pitcher.pitcher_at_bats"
   ]
  },
  {
   "cell_type": "code",
   "execution_count": 9,
   "metadata": {},
   "outputs": [
    {
     "data": {
      "text/plain": [
       "[datetime.datetime(2019, 3, 30, 23, 18, 45),\n",
       " datetime.datetime(2019, 3, 30, 23, 21, 9),\n",
       " datetime.datetime(2019, 3, 30, 23, 22, 27),\n",
       " datetime.datetime(2019, 3, 30, 23, 23, 27),\n",
       " datetime.datetime(2019, 3, 30, 23, 25, 47),\n",
       " datetime.datetime(2019, 3, 30, 23, 26, 55),\n",
       " datetime.datetime(2019, 3, 30, 23, 42, 12),\n",
       " datetime.datetime(2019, 3, 30, 23, 43, 42),\n",
       " datetime.datetime(2019, 3, 30, 23, 44, 23),\n",
       " datetime.datetime(2019, 3, 30, 23, 45, 53),\n",
       " datetime.datetime(2019, 3, 31, 0, 2, 16),\n",
       " datetime.datetime(2019, 3, 31, 0, 4, 31),\n",
       " datetime.datetime(2019, 3, 31, 0, 5, 47),\n",
       " datetime.datetime(2019, 3, 31, 0, 8, 35),\n",
       " datetime.datetime(2019, 3, 31, 0, 10, 37),\n",
       " datetime.datetime(2019, 3, 31, 0, 11, 40),\n",
       " datetime.datetime(2019, 3, 31, 0, 37, 27),\n",
       " datetime.datetime(2019, 3, 31, 0, 39, 37),\n",
       " datetime.datetime(2019, 3, 31, 0, 41, 27),\n",
       " datetime.datetime(2019, 3, 31, 0, 42, 39),\n",
       " datetime.datetime(2019, 3, 31, 0, 54, 42),\n",
       " datetime.datetime(2019, 3, 31, 0, 56, 55),\n",
       " datetime.datetime(2019, 3, 31, 0, 59, 28),\n",
       " datetime.datetime(2019, 8, 4, 1, 17, 37),\n",
       " datetime.datetime(2019, 8, 4, 1, 19, 1),\n",
       " datetime.datetime(2019, 8, 4, 1, 20, 3),\n",
       " datetime.datetime(2019, 8, 4, 1, 23, 17),\n",
       " datetime.datetime(2019, 8, 4, 1, 26, 42),\n",
       " datetime.datetime(2019, 8, 4, 1, 29, 31),\n",
       " datetime.datetime(2019, 8, 4, 1, 31, 57),\n",
       " datetime.datetime(2019, 8, 4, 1, 32, 42),\n",
       " datetime.datetime(2019, 8, 4, 1, 45, 38),\n",
       " datetime.datetime(2019, 8, 4, 1, 47, 39),\n",
       " datetime.datetime(2019, 8, 4, 1, 49, 47),\n",
       " datetime.datetime(2019, 8, 4, 1, 52, 38),\n",
       " datetime.datetime(2019, 8, 4, 1, 56, 1),\n",
       " datetime.datetime(2019, 8, 4, 1, 59, 1),\n",
       " datetime.datetime(2019, 8, 4, 2, 11, 45),\n",
       " datetime.datetime(2019, 8, 4, 2, 13, 35),\n",
       " datetime.datetime(2019, 8, 4, 2, 15, 12),\n",
       " datetime.datetime(2019, 8, 4, 2, 18, 44),\n",
       " datetime.datetime(2019, 8, 4, 2, 33, 39),\n",
       " datetime.datetime(2019, 8, 4, 2, 35),\n",
       " datetime.datetime(2019, 8, 4, 2, 39, 46),\n",
       " datetime.datetime(2019, 8, 9, 22, 53, 14),\n",
       " datetime.datetime(2019, 8, 10, 0, 16, 55),\n",
       " datetime.datetime(2019, 8, 10, 0, 17, 48),\n",
       " datetime.datetime(2019, 8, 10, 0, 30, 54),\n",
       " datetime.datetime(2019, 8, 10, 0, 31, 23),\n",
       " datetime.datetime(2019, 8, 10, 0, 35, 2),\n",
       " datetime.datetime(2019, 8, 10, 0, 36, 1),\n",
       " datetime.datetime(2019, 8, 10, 0, 37, 26),\n",
       " datetime.datetime(2019, 8, 10, 0, 40),\n",
       " datetime.datetime(2019, 8, 10, 0, 52, 51),\n",
       " datetime.datetime(2019, 8, 10, 0, 54, 26),\n",
       " datetime.datetime(2019, 8, 10, 0, 55, 54),\n",
       " datetime.datetime(2019, 8, 10, 1, 12, 53),\n",
       " datetime.datetime(2019, 8, 10, 1, 14, 36),\n",
       " datetime.datetime(2019, 8, 10, 1, 18, 7),\n",
       " datetime.datetime(2019, 8, 10, 1, 19, 34),\n",
       " datetime.datetime(2019, 8, 10, 1, 20, 13),\n",
       " datetime.datetime(2019, 9, 16, 22, 29, 46),\n",
       " datetime.datetime(2019, 9, 16, 23, 46, 50),\n",
       " datetime.datetime(2019, 9, 16, 23, 47, 47),\n",
       " datetime.datetime(2019, 9, 16, 23, 49, 55),\n",
       " datetime.datetime(2019, 9, 17, 0, 15, 12),\n",
       " datetime.datetime(2019, 9, 17, 0, 16, 26),\n",
       " datetime.datetime(2019, 9, 17, 0, 18, 8),\n",
       " datetime.datetime(2019, 9, 17, 0, 27, 46),\n",
       " datetime.datetime(2019, 9, 17, 0, 29, 46),\n",
       " datetime.datetime(2019, 9, 17, 0, 31, 24),\n",
       " datetime.datetime(2019, 9, 17, 0, 54, 22),\n",
       " datetime.datetime(2019, 9, 17, 0, 56, 46),\n",
       " datetime.datetime(2019, 9, 17, 0, 58, 49),\n",
       " datetime.datetime(2019, 9, 17, 1, 1, 30),\n",
       " datetime.datetime(2019, 9, 17, 1, 4, 11),\n",
       " datetime.datetime(2019, 9, 17, 1, 6, 53),\n",
       " datetime.datetime(2019, 9, 17, 1, 20, 36),\n",
       " datetime.datetime(2019, 9, 17, 1, 22, 2),\n",
       " datetime.datetime(2019, 9, 17, 1, 25, 6),\n",
       " datetime.datetime(2019, 9, 17, 1, 27, 7),\n",
       " datetime.datetime(2019, 9, 17, 1, 37, 31),\n",
       " datetime.datetime(2019, 9, 17, 1, 39, 42),\n",
       " datetime.datetime(2019, 9, 17, 1, 41, 25),\n",
       " datetime.datetime(2019, 9, 17, 1, 42, 18),\n",
       " datetime.datetime(2019, 9, 17, 1, 56, 51),\n",
       " datetime.datetime(2019, 9, 17, 1, 57, 34),\n",
       " datetime.datetime(2019, 9, 17, 1, 58, 47),\n",
       " datetime.datetime(2019, 9, 21, 18, 34, 42),\n",
       " datetime.datetime(2019, 9, 21, 18, 37, 7),\n",
       " datetime.datetime(2019, 9, 21, 18, 38, 43),\n",
       " datetime.datetime(2019, 9, 21, 18, 42, 22),\n",
       " datetime.datetime(2019, 9, 21, 18, 45, 58),\n",
       " datetime.datetime(2019, 9, 21, 18, 51, 3),\n",
       " datetime.datetime(2019, 9, 21, 18, 55, 3),\n",
       " datetime.datetime(2019, 9, 21, 18, 55, 53),\n",
       " datetime.datetime(2019, 9, 21, 19, 11, 19),\n",
       " datetime.datetime(2019, 9, 21, 19, 12, 5),\n",
       " datetime.datetime(2019, 9, 21, 19, 14, 1),\n",
       " datetime.datetime(2019, 9, 21, 19, 15, 10),\n",
       " datetime.datetime(2019, 9, 21, 19, 36, 1),\n",
       " datetime.datetime(2019, 9, 21, 19, 38, 53),\n",
       " datetime.datetime(2019, 9, 21, 19, 41, 21)]"
      ]
     },
     "execution_count": 9,
     "metadata": {},
     "output_type": "execute_result"
    }
   ],
   "source": [
    "[x.startTime for x in charlie_morton.pitcher_at_bats]"
   ]
  },
  {
   "cell_type": "code",
   "execution_count": null,
   "metadata": {},
   "outputs": [],
   "source": []
  }
 ],
 "metadata": {
  "kernelspec": {
   "display_name": "Python 3",
   "language": "python",
   "name": "python3"
  },
  "language_info": {
   "codemirror_mode": {
    "name": "ipython",
    "version": 3
   },
   "file_extension": ".py",
   "mimetype": "text/x-python",
   "name": "python",
   "nbconvert_exporter": "python",
   "pygments_lexer": "ipython3",
   "version": "3.7.3"
  }
 },
 "nbformat": 4,
 "nbformat_minor": 4
}
