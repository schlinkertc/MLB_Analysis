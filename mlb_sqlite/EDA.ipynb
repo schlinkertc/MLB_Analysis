{
 "cells": [
  {
   "cell_type": "code",
   "execution_count": 7,
   "metadata": {},
   "outputs": [],
   "source": [
    "from sqlalchemy import create_engine\n",
    "from sqlalchemy import Table, Column, Integer, String, MetaData, ForeignKey,DateTime,Boolean,Date,Time,Float,DATE,DATETIME,TIME\n",
    "from sqlalchemy.ext.declarative import declarative_base\n",
    "from sqlalchemy.orm import relationship\n",
    "\n",
    "import statsapi as mlb\n",
    "from datetime import datetime\n",
    "import time\n",
    "import pandas as pd\n",
    "import numpy as np\n",
    "import plotly"
   ]
  },
  {
   "cell_type": "code",
   "execution_count": 8,
   "metadata": {},
   "outputs": [],
   "source": [
    "class MyDatabase:\n",
    "    # http://docs.sqlalchemy.org/en/latest/core/engines.html\n",
    "    DB_ENGINE = {\n",
    "       'sqlite': 'sqlite:////Users/schlinkertc/code/MLB/mlb_sqlite/mlb.db'\n",
    "    }\n",
    "\n",
    "    # Main DB Connection Ref Obj\n",
    "    db_engine = None\n",
    "    def __init__(self, dbtype, username='', password='', dbname=''):\n",
    "        dbtype = dbtype.lower()\n",
    "        if dbtype in self.DB_ENGINE.keys():\n",
    "            engine_url = self.DB_ENGINE[dbtype].format(DB=dbname)\n",
    "            self.db_engine = create_engine(engine_url)\n",
    "            print(self.db_engine)\n",
    "        else:\n",
    "            print(\"DBType is not found in DB_ENGINE\")"
   ]
  },
  {
   "cell_type": "code",
   "execution_count": 9,
   "metadata": {},
   "outputs": [
    {
     "name": "stdout",
     "output_type": "stream",
     "text": [
      "Engine(sqlite:////Users/schlinkertc/code/MLB/mlb_sqlite/mlb.db)\n"
     ]
    }
   ],
   "source": [
    "db=MyDatabase('sqlite')"
   ]
  },
  {
   "cell_type": "code",
   "execution_count": 10,
   "metadata": {},
   "outputs": [],
   "source": [
    "from sqlalchemy.orm import sessionmaker\n",
    "Session = sessionmaker(bind=db.db_engine)\n",
    "session = Session()\n",
    "Base = declarative_base()"
   ]
  },
  {
   "cell_type": "code",
   "execution_count": 11,
   "metadata": {},
   "outputs": [
    {
     "data": {
      "text/plain": [
       "[(141,)]"
      ]
     },
     "execution_count": 11,
     "metadata": {},
     "output_type": "execute_result"
    }
   ],
   "source": [
    "session.execute(\"\"\"select count(*) from games\"\"\").fetchall()"
   ]
  },
  {
   "cell_type": "code",
   "execution_count": 22,
   "metadata": {},
   "outputs": [],
   "source": [
    "query=(\n",
    "        \"\"\"\n",
    "        select \n",
    "            pitch.type_description,\n",
    "            pitch.play_id,\n",
    "            play.pitcher_id,\n",
    "            pitch.startSpeed,\n",
    "            pitch.endSpeed,\n",
    "            pitch.zone,\n",
    "            pitch.spinRate,\n",
    "            pitch.breakLength\n",
    "        from \n",
    "            pitches pitch \n",
    "            inner join plays play \n",
    "            on \n",
    "            pitch.play_id=play.id\n",
    "        \"\"\"\n",
    ")\n",
    "default_dict = {99.9:np.nan,0.0:np.nan}\n",
    "pitch_df=pd.read_sql_query(query,db.db_engine)\n",
    "pitch_df.replace(default_dict,inplace=True)\n",
    "pitch_df.dropna(inplace=True)"
   ]
  },
  {
   "cell_type": "code",
   "execution_count": 23,
   "metadata": {},
   "outputs": [
    {
     "data": {
      "text/html": [
       "<div>\n",
       "<style scoped>\n",
       "    .dataframe tbody tr th:only-of-type {\n",
       "        vertical-align: middle;\n",
       "    }\n",
       "\n",
       "    .dataframe tbody tr th {\n",
       "        vertical-align: top;\n",
       "    }\n",
       "\n",
       "    .dataframe thead th {\n",
       "        text-align: right;\n",
       "    }\n",
       "</style>\n",
       "<table border=\"1\" class=\"dataframe\">\n",
       "  <thead>\n",
       "    <tr style=\"text-align: right;\">\n",
       "      <th></th>\n",
       "      <th>pitcher_id</th>\n",
       "      <th>startSpeed</th>\n",
       "      <th>endSpeed</th>\n",
       "      <th>zone</th>\n",
       "      <th>spinRate</th>\n",
       "      <th>breakLength</th>\n",
       "    </tr>\n",
       "  </thead>\n",
       "  <tbody>\n",
       "    <tr>\n",
       "      <td>count</td>\n",
       "      <td>34710.000000</td>\n",
       "      <td>34710.000000</td>\n",
       "      <td>34710.000000</td>\n",
       "      <td>34710.000000</td>\n",
       "      <td>34710.000000</td>\n",
       "      <td>34710.000000</td>\n",
       "    </tr>\n",
       "    <tr>\n",
       "      <td>mean</td>\n",
       "      <td>568542.786805</td>\n",
       "      <td>88.794002</td>\n",
       "      <td>81.830141</td>\n",
       "      <td>9.917545</td>\n",
       "      <td>2265.714664</td>\n",
       "      <td>6.559585</td>\n",
       "    </tr>\n",
       "    <tr>\n",
       "      <td>std</td>\n",
       "      <td>66415.059071</td>\n",
       "      <td>5.894421</td>\n",
       "      <td>5.281556</td>\n",
       "      <td>4.058782</td>\n",
       "      <td>326.371900</td>\n",
       "      <td>2.840476</td>\n",
       "    </tr>\n",
       "    <tr>\n",
       "      <td>min</td>\n",
       "      <td>407845.000000</td>\n",
       "      <td>51.200000</td>\n",
       "      <td>46.500000</td>\n",
       "      <td>1.000000</td>\n",
       "      <td>453.000000</td>\n",
       "      <td>1.200000</td>\n",
       "    </tr>\n",
       "    <tr>\n",
       "      <td>25%</td>\n",
       "      <td>518876.000000</td>\n",
       "      <td>84.700000</td>\n",
       "      <td>78.300000</td>\n",
       "      <td>7.000000</td>\n",
       "      <td>2111.000000</td>\n",
       "      <td>4.800000</td>\n",
       "    </tr>\n",
       "    <tr>\n",
       "      <td>50%</td>\n",
       "      <td>592644.000000</td>\n",
       "      <td>89.900000</td>\n",
       "      <td>82.800000</td>\n",
       "      <td>11.000000</td>\n",
       "      <td>2288.000000</td>\n",
       "      <td>6.000000</td>\n",
       "    </tr>\n",
       "    <tr>\n",
       "      <td>75%</td>\n",
       "      <td>621056.000000</td>\n",
       "      <td>93.400000</td>\n",
       "      <td>85.900000</td>\n",
       "      <td>13.000000</td>\n",
       "      <td>2460.000000</td>\n",
       "      <td>8.400000</td>\n",
       "    </tr>\n",
       "    <tr>\n",
       "      <td>max</td>\n",
       "      <td>677976.000000</td>\n",
       "      <td>104.300000</td>\n",
       "      <td>95.600000</td>\n",
       "      <td>14.000000</td>\n",
       "      <td>3650.000000</td>\n",
       "      <td>21.600000</td>\n",
       "    </tr>\n",
       "  </tbody>\n",
       "</table>\n",
       "</div>"
      ],
      "text/plain": [
       "          pitcher_id    startSpeed      endSpeed          zone      spinRate  \\\n",
       "count   34710.000000  34710.000000  34710.000000  34710.000000  34710.000000   \n",
       "mean   568542.786805     88.794002     81.830141      9.917545   2265.714664   \n",
       "std     66415.059071      5.894421      5.281556      4.058782    326.371900   \n",
       "min    407845.000000     51.200000     46.500000      1.000000    453.000000   \n",
       "25%    518876.000000     84.700000     78.300000      7.000000   2111.000000   \n",
       "50%    592644.000000     89.900000     82.800000     11.000000   2288.000000   \n",
       "75%    621056.000000     93.400000     85.900000     13.000000   2460.000000   \n",
       "max    677976.000000    104.300000     95.600000     14.000000   3650.000000   \n",
       "\n",
       "        breakLength  \n",
       "count  34710.000000  \n",
       "mean       6.559585  \n",
       "std        2.840476  \n",
       "min        1.200000  \n",
       "25%        4.800000  \n",
       "50%        6.000000  \n",
       "75%        8.400000  \n",
       "max       21.600000  "
      ]
     },
     "execution_count": 23,
     "metadata": {},
     "output_type": "execute_result"
    }
   ],
   "source": [
    "pitch_df.describe()"
   ]
  },
  {
   "cell_type": "code",
   "execution_count": null,
   "metadata": {},
   "outputs": [],
   "source": []
  }
 ],
 "metadata": {
  "kernelspec": {
   "display_name": "Python 3",
   "language": "python",
   "name": "python3"
  },
  "language_info": {
   "codemirror_mode": {
    "name": "ipython",
    "version": 3
   },
   "file_extension": ".py",
   "mimetype": "text/x-python",
   "name": "python",
   "nbconvert_exporter": "python",
   "pygments_lexer": "ipython3",
   "version": "3.7.3"
  }
 },
 "nbformat": 4,
 "nbformat_minor": 2
}
