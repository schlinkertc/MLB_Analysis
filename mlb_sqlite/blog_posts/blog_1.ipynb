{
 "cells": [
  {
   "cell_type": "markdown",
   "metadata": {},
   "source": [
    "# Leveraging SQLAlchemy ORM to Store and Retrieve MLB Stats"
   ]
  },
  {
   "cell_type": "markdown",
   "metadata": {},
   "source": [
    "## Table of Contents\n",
    "\n",
    "[Part 1: Exploring the MLB API](#part-1)\n",
    "- [1a. Install and Import](#part-1a)\n",
    "- [1b. Get GamePks](#part-1b)\n",
    "- [1c. The 'Game' Endpoint](#part-1c)\n",
    "\n",
    "---"
   ]
  },
  {
   "cell_type": "markdown",
   "metadata": {},
   "source": [
    "### The SQLAlchemy Object Relational Mapper automatically constructs higher-level SQL and automates persistence of python objects.\n",
    "We're going to query the MLB API using a python wrapper created by Todd Roberts and store the information in a SQLite database for future analysis. \n",
    "\n",
    "---"
   ]
  },
  {
   "cell_type": "markdown",
   "metadata": {},
   "source": [
    "<a id='part-1'></a>"
   ]
  },
  {
   "cell_type": "markdown",
   "metadata": {},
   "source": [
    "## Part 1: Exploring the MLB API\n",
    "Todd Roberts' python wrapper is part of the python package index. You can find more information [here](https://pypi.org/project/MLB-StatsAPI/) or on [GitHub](https://github.com/toddrob99/MLB-StatsAPI)."
   ]
  },
  {
   "cell_type": "markdown",
   "metadata": {},
   "source": [
    "<a id='part-1a'></a>"
   ]
  },
  {
   "cell_type": "markdown",
   "metadata": {},
   "source": [
    "First, we have to install it and import it."
   ]
  },
  {
   "cell_type": "code",
   "execution_count": 1,
   "metadata": {},
   "outputs": [],
   "source": [
    "import sys\n",
    "#pip install \n",
    "#!{sys.executable} -m pip install MLB-StatsAPI\n",
    "\n",
    "import statsapi as mlb"
   ]
  },
  {
   "cell_type": "markdown",
   "metadata": {},
   "source": [
    "Todd was nice enough to give us several convenient functions for accessing the API's endpoints. The most flexible/powerful of these is the get() function that takes in an endpoint and returns the raw JSON response from the MLB Stats API. You can find a dictionary with the endpoint configuration by accessing the ENDPOINTS global variable. To get notes for a given endpoint, use the notes() method."
   ]
  },
  {
   "cell_type": "code",
   "execution_count": 2,
   "metadata": {},
   "outputs": [
    {
     "data": {
      "text/plain": [
       "['attendance',\n",
       " 'awards',\n",
       " 'conferences',\n",
       " 'divisions',\n",
       " 'draft',\n",
       " 'game',\n",
       " 'game_diff',\n",
       " 'game_timestamps',\n",
       " 'game_changes',\n",
       " 'game_contextMetrics']"
      ]
     },
     "execution_count": 2,
     "metadata": {},
     "output_type": "execute_result"
    }
   ],
   "source": [
    "list(mlb.ENDPOINTS.keys())[:10]"
   ]
  },
  {
   "cell_type": "code",
   "execution_count": 3,
   "metadata": {},
   "outputs": [
    {
     "name": "stdout",
     "output_type": "stream",
     "text": [
      "Endpoint: game \n",
      "All path parameters: ['ver', 'gamePk']. \n",
      "Required path parameters (note: ver will be included by default): ['ver', 'gamePk']. \n",
      "All query parameters: ['timecode', 'hydrate', 'fields']. \n",
      "Required query parameters: None. \n",
      "The hydrate function is supported by this endpoint. Call the endpoint with {'hydrate':'hydrations'} in the parameters to return a list of available hydrations. For example, statsapi.get('schedule',{'sportId':1,'hydrate':'hydrations','fields':'hydrations'})\n",
      "\n"
     ]
    }
   ],
   "source": [
    "print(mlb.notes('game'))"
   ]
  },
  {
   "cell_type": "markdown",
   "metadata": {},
   "source": [
    "<a id='part-1b'></a>"
   ]
  },
  {
   "cell_type": "markdown",
   "metadata": {},
   "source": [
    "#### Get GamePks"
   ]
  },
  {
   "cell_type": "code",
   "execution_count": 4,
   "metadata": {},
   "outputs": [],
   "source": [
    "from datetime import datetime as dt\n",
    "import os,re,csv\n",
    "from os import walk\n",
    "\n",
    "#dates from the 'season' endpoint are returned in a different format than what we need to query the API\n",
    "#we'll use this function to take care of that in a moment\n",
    "def convert_date(date):\n",
    "    date = dt.strptime(date,\"%Y-%m-%d\")\n",
    "    convertedDate = dt.strftime(date,\"%m/%d/%Y\")\n",
    "    return convertedDate\n",
    "\n",
    "def get_gamePks(seasons,target_directory=None):\n",
    "    \"\"\"\n",
    "    Takes in a list of seasons as strings representing their year e.g. ['2018','2019']\n",
    "    Queries the MLB API to find gamePks for each season and writes them to CSV files\n",
    "    if a target directory for the gamePks is not specified, a directory called 'gamePks'\n",
    "    will be added to the current directory. \n",
    "    \"\"\"\n",
    "    if target_directory:\n",
    "        gamePks_path = target_directory\n",
    "    else:\n",
    "        #create a directory to store CSVs\n",
    "        try:\n",
    "            os.mkdir(os.getcwd()+'/gamePks')\n",
    "        except FileExistsError:\n",
    "            pass\n",
    "        gamePks_path=os.getcwd()+'/gamePks'\n",
    "    \n",
    "    #walk the gamePks directory to see if we've already added any seasons\n",
    "    f = []\n",
    "    for (dirpath, dirnames, filenames) in walk(gamePks_path):\n",
    "        f.extend(filenames)\n",
    "        break\n",
    "    years = [re.findall('[^.csv]+',x) for x in f]\n",
    "    already_added = [item for sublist in years for item in sublist if item[0] in ['1','2']]\n",
    "    seasons = list(set(seasons)-set(already_added))\n",
    "    \n",
    "    #query the API to get start dates and end dates for all seasons\n",
    "    all_seasons = mlb.get('seasons',{'sportId':1,'all':True})['seasons']\n",
    "    \n",
    "    #filter out the ones we don't care about right now\n",
    "    seasons = list(filter(lambda x: x['seasonId'] in seasons,all_seasons))\n",
    "    \n",
    "    gamePks = {}\n",
    "    for season in seasons:  \n",
    "        year = season['seasonId']\n",
    "        startDate = convert_date(season['seasonStartDate'])\n",
    "        endDate = convert_date(season['seasonEndDate'])\n",
    "        \n",
    "        #returns a list of dicts for each date in the range\n",
    "        #each dict has a 'games' key with a list of dicts for each game in that day as values\n",
    "        dates = mlb.get('schedule',{'sportId':1,'startDate':startDate,'endDate':endDate})['dates']\n",
    "        \n",
    "        #for each date, and for each game in that date, get the gamePk \n",
    "        gamePks[year]= [ game['gamePk'] \n",
    "                                          for date in dates \n",
    "                                          for game in date['games'] ]\n",
    "        #store the gamePks as CSVs\n",
    "        with open(gamePks_path + f\"/{year}.csv\", 'w',newline='') as myfile:\n",
    "            wr = csv.writer(myfile,quoting=csv.QUOTE_ALL)\n",
    "            wr.writerow(gamePks[year])\n",
    "get_gamePks([str(x) for x in range(2008,2020)])   "
   ]
  },
  {
   "cell_type": "code",
   "execution_count": 5,
   "metadata": {},
   "outputs": [],
   "source": [
    "def read_gamePks():\n",
    "    gamePks_path = os.curdir+'/gamePks'\n",
    "    f = []\n",
    "    for (dirpath, dirnames, filenames) in walk(gamePks_path):\n",
    "        f.extend(filenames)\n",
    "        break\n",
    "    pk_paths = [gamePks_path + '/' + x for x in f if x[0]!= '.']\n",
    "    \n",
    "    gamePks = {}\n",
    "    for path in pk_paths:\n",
    "        season = re.findall('/gamePks/([^.csv]+)',path)\n",
    "        with open(path, 'r') as f:\n",
    "            reader = csv.reader(f)\n",
    "            seasonPks = list(reader)\n",
    "        gamePks[season[0]] = [item for sublist in seasonPks for item in sublist]\n",
    "    return gamePks"
   ]
  },
  {
   "cell_type": "code",
   "execution_count": 6,
   "metadata": {},
   "outputs": [],
   "source": [
    "gamePks=read_gamePks()"
   ]
  },
  {
   "cell_type": "markdown",
   "metadata": {},
   "source": [
    "<a id='part-1c'></a>"
   ]
  },
  {
   "cell_type": "markdown",
   "metadata": {},
   "source": [
    "#### Explore the 'Game' Endpoint"
   ]
  },
  {
   "cell_type": "markdown",
   "metadata": {},
   "source": [
    "Let's pick a gamePk at random to see what's inside the 'game' endpoint. There is a TON of information stored in nested dictionaries returned from the API query. Since our goal is to store this information in a SQL database, our aim is to organize the information into [first normal form](https://www.essentialsql.com/get-ready-to-learn-sql-8-database-first-normal-form-explained-in-simple-english/).\n",
    "\n",
    "From this single result, we'll be able to start building [normalized SQL tables](https://www.essentialsql.com/get-ready-to-learn-sql-database-normalization-explained-in-simple-english/) for games, teams, venues, players, plays, and pitches. Let's start with the games table. "
   ]
  },
  {
   "cell_type": "code",
   "execution_count": 7,
   "metadata": {},
   "outputs": [
    {
     "name": "stdout",
     "output_type": "stream",
     "text": [
      "565812\n"
     ]
    }
   ],
   "source": [
    "temp_pk=gamePks['2019'][501]\n",
    "print(temp_pk) \n",
    "game_result = mlb.get('game',{'gamePk':temp_pk})"
   ]
  },
  {
   "cell_type": "code",
   "execution_count": 8,
   "metadata": {},
   "outputs": [
    {
     "data": {
      "text/plain": [
       "dict_keys(['copyright', 'gamePk', 'link', 'metaData', 'gameData', 'liveData'])"
      ]
     },
     "execution_count": 8,
     "metadata": {},
     "output_type": "execute_result"
    }
   ],
   "source": [
    "game_result.keys()"
   ]
  },
  {
   "cell_type": "code",
   "execution_count": 9,
   "metadata": {},
   "outputs": [
    {
     "data": {
      "text/plain": [
       "dict_keys(['game', 'datetime', 'status', 'teams', 'players', 'venue', 'weather', 'review', 'flags', 'alerts', 'probablePitchers', 'officialScorer', 'primaryDatacaster'])"
      ]
     },
     "execution_count": 9,
     "metadata": {},
     "output_type": "execute_result"
    }
   ],
   "source": [
    "gameData = game_result['gameData']\n",
    "gameData.keys()"
   ]
  },
  {
   "cell_type": "code",
   "execution_count": 10,
   "metadata": {},
   "outputs": [
    {
     "data": {
      "text/plain": [
       "{'pk': 565812,\n",
       " 'type': 'R',\n",
       " 'doubleHeader': 'N',\n",
       " 'id': '2019/04/26/pitmlb-lanmlb-1',\n",
       " 'gamedayType': 'P',\n",
       " 'tiebreaker': 'N',\n",
       " 'gameNumber': 1,\n",
       " 'calendarEventID': '14-565812-2019-04-26',\n",
       " 'season': '2019',\n",
       " 'seasonDisplay': '2019'}"
      ]
     },
     "execution_count": 10,
     "metadata": {},
     "output_type": "execute_result"
    }
   ],
   "source": [
    "game = gameData['game']\n",
    "game"
   ]
  },
  {
   "cell_type": "markdown",
   "metadata": {},
   "source": [
    "The dictionary above, nested 2 layers deep into the original API result, provides us with a good starting point. But we're goint to add some additional information to make our games table more informative"
   ]
  },
  {
   "cell_type": "code",
   "execution_count": 11,
   "metadata": {},
   "outputs": [
    {
     "data": {
      "text/plain": [
       "{'dateTime': '2019-04-27T02:10:00Z',\n",
       " 'originalDate': '2019-04-26',\n",
       " 'dayNight': 'night',\n",
       " 'time': '7:10',\n",
       " 'ampm': 'PM'}"
      ]
     },
     "execution_count": 11,
     "metadata": {},
     "output_type": "execute_result"
    }
   ],
   "source": [
    "gameData['datetime']"
   ]
  },
  {
   "cell_type": "code",
   "execution_count": 12,
   "metadata": {},
   "outputs": [
    {
     "data": {
      "text/plain": [
       "{'condition': 'Clear', 'temp': '61', 'wind': '2 mph, Varies'}"
      ]
     },
     "execution_count": 12,
     "metadata": {},
     "output_type": "execute_result"
    }
   ],
   "source": [
    "gameData['weather']"
   ]
  },
  {
   "cell_type": "code",
   "execution_count": 13,
   "metadata": {},
   "outputs": [
    {
     "data": {
      "text/plain": [
       "{'id': 'America/Los_Angeles', 'offset': -8, 'tz': 'PST'}"
      ]
     },
     "execution_count": 13,
     "metadata": {},
     "output_type": "execute_result"
    }
   ],
   "source": [
    "gameData['venue']['timeZone']"
   ]
  },
  {
   "cell_type": "code",
   "execution_count": 14,
   "metadata": {},
   "outputs": [
    {
     "data": {
      "text/plain": [
       "{'abstractGameState': 'Final',\n",
       " 'codedGameState': 'F',\n",
       " 'detailedState': 'Final',\n",
       " 'statusCode': 'F',\n",
       " 'abstractGameCode': 'F'}"
      ]
     },
     "execution_count": 14,
     "metadata": {},
     "output_type": "execute_result"
    }
   ],
   "source": [
    "gameData['status']"
   ]
  },
  {
   "cell_type": "code",
   "execution_count": 15,
   "metadata": {},
   "outputs": [
    {
     "data": {
      "text/plain": [
       "{'pk': 565812,\n",
       " 'type': 'R',\n",
       " 'doubleHeader': 'N',\n",
       " 'id': '2019/04/26/pitmlb-lanmlb-1',\n",
       " 'gamedayType': 'P',\n",
       " 'tiebreaker': 'N',\n",
       " 'gameNumber': 1,\n",
       " 'calendarEventID': '14-565812-2019-04-26',\n",
       " 'season': '2019',\n",
       " 'dateTime': '2019-04-27T02:10:00Z',\n",
       " 'originalDate': '2019-04-26',\n",
       " 'condition': 'Clear',\n",
       " 'temp': '61',\n",
       " 'wind': '2 mph, Varies',\n",
       " 'tz': 'PST'}"
      ]
     },
     "execution_count": 15,
     "metadata": {},
     "output_type": "execute_result"
    }
   ],
   "source": [
    "#keys to add\n",
    "keys_to_add = ['dateTime',\n",
    "          'originalDate',\n",
    "          'condition',\n",
    "          'temp','wind','tz']\n",
    "#dictionaries from which to add them\n",
    "dicts = [gameData['datetime'],\n",
    "         gameData['weather'],\n",
    "         gameData['venue']['timeZone']\n",
    "        ]\n",
    "\n",
    "for k in keys_to_add:\n",
    "    for d in dicts:\n",
    "        try:\n",
    "            game[k]=d[k]\n",
    "        except KeyError:\n",
    "            continue\n",
    "#'seasonDisplay' key:value seems to be redundant\n",
    "del game['seasonDisplay']\n",
    "game"
   ]
  },
  {
   "cell_type": "code",
   "execution_count": 16,
   "metadata": {},
   "outputs": [
    {
     "data": {
      "text/plain": [
       "{'away': {'id': 502042,\n",
       "  'fullName': 'Archer, Chris',\n",
       "  'link': '/api/v1/people/502042'},\n",
       " 'home': {'id': 547943,\n",
       "  'fullName': 'Ryu, Hyun-Jin',\n",
       "  'link': '/api/v1/people/547943'}}"
      ]
     },
     "execution_count": 16,
     "metadata": {},
     "output_type": "execute_result"
    }
   ],
   "source": [
    "gameData['probablePitchers']"
   ]
  },
  {
   "cell_type": "code",
   "execution_count": 17,
   "metadata": {},
   "outputs": [],
   "source": [
    "def get_game(api_call):\n",
    "    gameData = api_call['gameData']\n",
    "    dateTime = gameData['datetime']\n",
    "    game = gameData['game']\n",
    "    weather = gameData['weather']\n",
    "    timeZone = gameData['venue']['timeZone']\n",
    "    status = gameData['status']\n",
    "    probablePitchers = gameData['probablePitchers']\n",
    "    \n",
    "    keys_to_add = ['dateTime','originalDate',\n",
    "                   'condition','temp','wind',\n",
    "                   'tz','detailedState'\n",
    "                  ]\n",
    "    dicts = [weather,dateTime,timeZone,status]\n",
    "    for k in keys_to_add:\n",
    "        for d in dicts:\n",
    "            try:\n",
    "                game[k]=d[k]\n",
    "            except KeyError:\n",
    "                continue\n",
    "    #'seasonDisplay' key:value seems to be redundant\n",
    "    del game['seasonDisplay']\n",
    "    \n",
    "    home_team = gameData['teams']['home']\n",
    "    away_team = gameData['teams']['away']\n",
    "    \n",
    "    game['homeTeam_id'] = home_team['id']\n",
    "    game['awayTeam_id'] = away_team['id']\n",
    "    \n",
    "    game['venue_id'] = gameData['venue']['id']\n",
    "    \n",
    "    for team in ['home','away']:\n",
    "        try:\n",
    "            game[f\"{team}_probablePitcher\"]=probablePitchers[team]['id']\n",
    "        except KeyError:\n",
    "            pass\n",
    "    \n",
    "    #format the dateTime and originalDate\n",
    "    fmt = \"%Y-%m-%dT%H:%M:%SZ\" \n",
    "    game['dateTime'] = dt.strptime(game['dateTime'],fmt)\n",
    "    fmt = \"%Y-%m-%d\"\n",
    "    game['originalDate'] = dt.strptime(game['originalDate'],fmt).date()\n",
    "    \n",
    "    return game\n",
    "api_call = mlb.get('game',{'gamePk':temp_pk})\n",
    "game = get_game(api_call)"
   ]
  },
  {
   "cell_type": "markdown",
   "metadata": {},
   "source": [
    "## API calls\n",
    "What's the best way to automate API calls when needed?"
   ]
  },
  {
   "cell_type": "code",
   "execution_count": 19,
   "metadata": {},
   "outputs": [],
   "source": [
    "def api_calls(gamePks):\n",
    "    return ( mlb.get('game',{'gamePk':gamePk}) for gamePk in gamePks )"
   ]
  },
  {
   "cell_type": "code",
   "execution_count": 20,
   "metadata": {},
   "outputs": [],
   "source": [
    "calls = api_calls(gamePks['2019'][500:600])"
   ]
  },
  {
   "cell_type": "code",
   "execution_count": 21,
   "metadata": {},
   "outputs": [],
   "source": [
    "#test = [get_game(x) for x in calls]"
   ]
  },
  {
   "cell_type": "markdown",
   "metadata": {},
   "source": [
    "<a id='part-2'></a>"
   ]
  },
  {
   "cell_type": "markdown",
   "metadata": {},
   "source": [
    "## Introducing SQL Alchemy"
   ]
  },
  {
   "cell_type": "code",
   "execution_count": 22,
   "metadata": {},
   "outputs": [],
   "source": [
    "import sqlalchemy\n",
    "from sqlalchemy import create_engine,PrimaryKeyConstraint,UniqueConstraint"
   ]
  },
  {
   "cell_type": "code",
   "execution_count": 23,
   "metadata": {},
   "outputs": [
    {
     "name": "stdout",
     "output_type": "stream",
     "text": [
      "Engine(sqlite://///Users/schlinkertc/code/MLB/mlb_sqlite/blog_posts/mlb.db)\n"
     ]
    }
   ],
   "source": [
    "class MyDatabase:\n",
    "    # http://docs.sqlalchemy.org/en/latest/core/engines.html\n",
    "    \"\"\"\n",
    "    Custom class for instantiating a SQL Alchemy connection. Configured here for SQLite, but intended to be flexible.\n",
    "    Credit to Medium user Mahmud Ahsan:\n",
    "    https://medium.com/@mahmudahsan/how-to-use-python-sqlite3-using-sqlalchemy-158f9c54eb32\n",
    "    \"\"\"\n",
    "    DB_ENGINE = {\n",
    "       'sqlite': 'sqlite:////{DB}'\n",
    "    }\n",
    "\n",
    "    # Main DB Connection Ref Obj\n",
    "    db_engine = None\n",
    "    def __init__(self, dbtype, username='', password='', dbname='',path=os.getcwd()+'/'):\n",
    "        dbtype = dbtype.lower()\n",
    "        if dbtype in self.DB_ENGINE.keys():\n",
    "            engine_url = self.DB_ENGINE[dbtype].format(DB=path+dbname)\n",
    "            self.db_engine = create_engine(engine_url)\n",
    "            print(self.db_engine)\n",
    "        else:\n",
    "            print(\"DBType is not found in DB_ENGINE\")\n",
    "db=MyDatabase('sqlite',dbname='mlb.db')"
   ]
  },
  {
   "cell_type": "code",
   "execution_count": 24,
   "metadata": {},
   "outputs": [
    {
     "data": {
      "text/plain": [
       "[(sqlalchemy.sql.schema.Table, {'autoincrement': False}),\n",
       " (sqlalchemy.sql.schema.Index, {'where': None}),\n",
       " (sqlalchemy.sql.schema.Column,\n",
       "  {'on_conflict_primary_key': None,\n",
       "   'on_conflict_not_null': None,\n",
       "   'on_conflict_unique': None}),\n",
       " (sqlalchemy.sql.schema.Constraint, {'on_conflict': None})]"
      ]
     },
     "execution_count": 24,
     "metadata": {},
     "output_type": "execute_result"
    }
   ],
   "source": [
    "sqlalchemy.dialects.sqlite.base.SQLiteDialect.construct_arguments"
   ]
  },
  {
   "cell_type": "code",
   "execution_count": 25,
   "metadata": {},
   "outputs": [],
   "source": [
    "from sqlalchemy.ext.declarative import declarative_base\n",
    "Base = declarative_base()\n",
    "\n",
    "from sqlalchemy import Table,Column,Integer,String,DateTime,Date,Boolean\n",
    "\n",
    "class Game(Base):\n",
    "    __tablename__ = 'games'\n",
    "    __table_args__ = (PrimaryKeyConstraint('id','detailedState',sqlite_on_conflict='IGNORE'),\n",
    "                      {'extend_existing': True})\n",
    "    \n",
    "    pk = Column(Integer)\n",
    "    type = Column(String(1))\n",
    "    doubleHeader = Column(String(1))\n",
    "    id = Column(String(150))\n",
    "    gamedayType = Column(String(1))\n",
    "    tiebreaker = Column(String(1))\n",
    "    gameNumber = Column(Integer)\n",
    "    calenderEventId = Column(String(50))\n",
    "    season = Column(Integer)\n",
    "    \n",
    "    dateTime = Column(DateTime)\n",
    "    originalDate = Column(Date)\n",
    "    \n",
    "    detailedState = Column(String(12))\n",
    "    \n",
    "    homeTeam_id = Column(Integer)\n",
    "    awayTeam_id = Column(Integer)\n",
    "    \n",
    "    condition = Column(String(25))\n",
    "    temp = Column(Integer)\n",
    "    wind = Column(String(50))\n",
    "    \n",
    "    venue_id = Column(Integer)\n",
    "    \n",
    "    home_probablePitcher = Column(Integer)\n",
    "    away_probablePitcher = Column(Integer)\n",
    "    \n",
    "    def __repr__(self): \n",
    "        return \"<Game(pk='%s',id='%s')>\" % (\n",
    "                        self.pk, self.id)\n",
    "    \n",
    "    def __init__(self,dictionary):\n",
    "        for k,v in dictionary.items():\n",
    "            setattr(self,k,v)"
   ]
  },
  {
   "cell_type": "code",
   "execution_count": 26,
   "metadata": {},
   "outputs": [],
   "source": [
    "Base.metadata.create_all(db.db_engine)"
   ]
  },
  {
   "cell_type": "code",
   "execution_count": 27,
   "metadata": {},
   "outputs": [],
   "source": [
    "game_record = Game(game)"
   ]
  },
  {
   "cell_type": "code",
   "execution_count": 28,
   "metadata": {},
   "outputs": [],
   "source": [
    "from sqlalchemy.orm import sessionmaker\n",
    "Session = sessionmaker(bind=db.db_engine)\n",
    "session = Session()"
   ]
  },
  {
   "cell_type": "code",
   "execution_count": 29,
   "metadata": {},
   "outputs": [
    {
     "data": {
      "text/plain": [
       "<Game(pk='565812',id='2019/04/26/pitmlb-lanmlb-1')>"
      ]
     },
     "execution_count": 29,
     "metadata": {},
     "output_type": "execute_result"
    }
   ],
   "source": [
    "game_record"
   ]
  },
  {
   "cell_type": "code",
   "execution_count": 30,
   "metadata": {},
   "outputs": [
    {
     "data": {
      "text/plain": [
       "[<Game(pk='565812',id='2019/04/26/pitmlb-lanmlb-1')>]"
      ]
     },
     "execution_count": 30,
     "metadata": {},
     "output_type": "execute_result"
    }
   ],
   "source": [
    "session.add(game_record)\n",
    "\n",
    "session.commit()\n",
    "\n",
    "session.query(Game).all()"
   ]
  },
  {
   "cell_type": "markdown",
   "metadata": {},
   "source": [
    "Now we're going to move on to plays. We're going to set up a one-to-many relationship between games and plays, so we'll need to be able to link the two when we get to the SQLAlchemy stage. With that in mind, we'll start exploring the information embedded in the 'liveData' key of the original API result"
   ]
  },
  {
   "cell_type": "markdown",
   "metadata": {},
   "source": [
    "'allPlays' gives us a list of dictionaries with information about every play. Remember that we're aiming for first normal form, so we don't want any information about pitches, players, or runners at this time. Those will be contained in their own respective tables"
   ]
  },
  {
   "cell_type": "code",
   "execution_count": 42,
   "metadata": {},
   "outputs": [
    {
     "data": {
      "text/plain": [
       "datetime.datetime(2019, 4, 26, 20, 59, 22)"
      ]
     },
     "execution_count": 42,
     "metadata": {},
     "output_type": "execute_result"
    }
   ],
   "source": [
    "def string_to_dateTime(string):\n",
    "    fmt=\"%Y-%m-%dT%H:%M:%S.%fZ\"\n",
    "    return dt.strptime(string,fmt)\n",
    "string_to_dateTime('2019-04-26T20:59:22.000Z')"
   ]
  },
  {
   "cell_type": "code",
   "execution_count": 43,
   "metadata": {},
   "outputs": [],
   "source": [
    "# def parse_play(play):\n",
    "#     play_dict = play['result']\n",
    "#     play_dict.update(play['about'])\n",
    "#     play_dict.update(play['count'])\n",
    "    \n",
    "#     for t in ['startTime','endTime']:\n",
    "#         play_dict[t]=string_to_dateTime(play_dict[t])\n",
    "        \n",
    "#     for player in ['batter','pitcher']:\n",
    "#         try:\n",
    "#             play_dict[f\"{player}_id\"] = play['matchup'][player]['id']\n",
    "#         except:\n",
    "#             pass\n",
    "#     return play_dict"
   ]
  },
  {
   "cell_type": "code",
   "execution_count": 45,
   "metadata": {},
   "outputs": [],
   "source": [
    "# def get_plays(API_result):\n",
    "#     #foreign key references games table\n",
    "#     gamePk={'gamePk':API_result['gamePk']}\n",
    "    \n",
    "#     allPlays = API_result['liveData']['plays']['allPlays']\n",
    "#     plays = [parse_play(play) for play in allPlays] \n",
    "#     [play.update(gamePk) for play in plays]\n",
    "#     return plays"
   ]
  },
  {
   "cell_type": "code",
   "execution_count": 49,
   "metadata": {},
   "outputs": [],
   "source": [
    "def flatten_dicts(dictionary):\n",
    "    \"\"\"\n",
    "    recursively flatten a dictionary of dictionaries\n",
    "    \"\"\"\n",
    "    #base case \n",
    "    if dict not in [type(x) for x in dictionary.values()]:\n",
    "        return dictionary\n",
    "    else:\n",
    "        for key, value in dictionary.items():\n",
    "            if type(value)==dict:\n",
    "                temp_dict = dictionary.pop(key)\n",
    "                for k,v in temp_dict.items():\n",
    "                    dictionary[f\"{key}_{k}\"]=v\n",
    "                return flatten_dicts(dictionary)\n",
    "            \n",
    "    "
   ]
  },
  {
   "cell_type": "code",
   "execution_count": 117,
   "metadata": {},
   "outputs": [],
   "source": [
    "def get_plays(API_result):\n",
    "    #foreign key references games table\n",
    "    gamePk={'gamePk':API_result['gamePk']}\n",
    "    \n",
    "    allPlays = API_result['liveData']['plays']['allPlays']\n",
    "    keys = ['result','about','count']\n",
    "    plays = []\n",
    "    matchups = []\n",
    "    for play in allPlays:\n",
    "        play_dict = {k:v for k,v in zip(keys,[play[key] for key in keys])}.copy()\n",
    "        plays.append(flatten_dicts(play_dict))\n",
    "        matchup = play.pop('matchup')\n",
    "        #foreign keys to play 'atBatIndex', 'playEndTime'\n",
    "        fks=['atBatIndex', 'playEndTime']\n",
    "            \n",
    "        matchup.update(\n",
    "            {k:v for k,v in zip(fks,[play[fk] for fk in fks])}\n",
    "        )\n",
    "        matchups.append(flatten_dicts(matchup))\n",
    "            \n",
    "    [m.update(gamePk) for m in matchups]\n",
    "    [p.update(gamePk) for p in plays]\n",
    "    return plays,matchups\n",
    "        \n",
    "        "
   ]
  },
  {
   "cell_type": "code",
   "execution_count": 118,
   "metadata": {},
   "outputs": [],
   "source": [
    "def get_pitches(API_result):\n",
    "    #foreign key references games table\n",
    "    gamePk={'gamePk':API_result['gamePk']}\n",
    "    \n",
    "    allPlays = API_result['liveData']['plays']['allPlays']\n",
    "    \n",
    "    pitches = []\n",
    "    for play in allPlays:\n",
    "        for i in play['pitchIndex']:\n",
    "            pitch = play['playEvents'][i]\n",
    "            #foreign keys to play 'atBatIndex', 'playEndTime'\n",
    "            fks=['atBatIndex', 'playEndTime']\n",
    "            \n",
    "            pitch.update(\n",
    "                {k:v for k,v in zip(fks,[play[fk] for fk in fks])}\n",
    "            )\n",
    "            \n",
    "            pitches.append(flatten_dicts(pitch))\n",
    "    \n",
    "    [p.update(gamePk) for p in pitches]\n",
    "    return pitches"
   ]
  },
  {
   "cell_type": "code",
   "execution_count": 119,
   "metadata": {},
   "outputs": [],
   "source": [
    "def get_runners(API_result):\n",
    "    #foreign key references games table\n",
    "    gamePk={'gamePk':API_result['gamePk']}\n",
    "    \n",
    "    allPlays = API_result['liveData']['plays']['allPlays']\n",
    "    \n",
    "    runners = []\n",
    "    credits = []\n",
    "    for play in allPlays:\n",
    "        for i in play['runnerIndex']:\n",
    "            runner = play['runners'][i]\n",
    "            \n",
    "            fks=['atBatIndex', 'playEndTime']\n",
    "            \n",
    "            runner.update(\n",
    "                {k:v for k,v in zip(fks,[play[fk] for fk in fks])}\n",
    "            )\n",
    "            try:\n",
    "                temp_credits = runner.pop('credits')\n",
    "                \n",
    "                for credit in temp_credits:\n",
    "                    credit.update({k:v for k,v in zip(fks,[play[fk] for fk in fks])})\n",
    "                \n",
    "                    credits.append(flatten_dicts(credit))\n",
    "            except KeyError:\n",
    "                pass \n",
    "            runners.append(flatten_dicts(runner))\n",
    "    \n",
    "    [r.update(gamePk) for r in runners]\n",
    "    return runners,credits"
   ]
  },
  {
   "cell_type": "code",
   "execution_count": 120,
   "metadata": {},
   "outputs": [],
   "source": [
    "runners,credits = get_runners(api_call)"
   ]
  },
  {
   "cell_type": "code",
   "execution_count": 121,
   "metadata": {},
   "outputs": [],
   "source": [
    "def get_actions(API_result):\n",
    "    #foreign key references games table\n",
    "    gamePk={'gamePk':API_result['gamePk']}\n",
    "    \n",
    "    allPlays = API_result['liveData']['plays']['allPlays']\n",
    "    \n",
    "    actions = []\n",
    "    for play in allPlays:\n",
    "        for i in play['actionIndex']:\n",
    "            action = play['playEvents'][i]\n",
    "            #foreign keys to play 'atBatIndex', 'playEndTime'\n",
    "            fks=['atBatIndex', 'playEndTime']\n",
    "            \n",
    "            action.update(\n",
    "                {k:v for k,v in zip(fks,[play[fk] for fk in fks])}\n",
    "            )\n",
    "            \n",
    "            actions.append(flatten_dicts(action))\n",
    "    \n",
    "    [a.update(gamePk) for a in actions]\n",
    "    return actions"
   ]
  },
  {
   "cell_type": "code",
   "execution_count": 68,
   "metadata": {},
   "outputs": [],
   "source": [
    "actions = get_actions(api_call)"
   ]
  },
  {
   "cell_type": "code",
   "execution_count": 73,
   "metadata": {},
   "outputs": [],
   "source": [
    "def get_players(API_result):\n",
    "    #fk for game_player_link\n",
    "    gamePk=API_result['gamePk']\n",
    "    \n",
    "    players = API_result['gameData']['players']\n",
    "    players = [flatten_dicts(players[player_id]) for player_id in players.keys()]\n",
    "    \n",
    "    game_player_links = []\n",
    "    for player in players:\n",
    "        link = {'player':player['id'],'gamePk':gamePk}\n",
    "        game_player_links.append(link)\n",
    "    \n",
    "    return players,game_player_links"
   ]
  },
  {
   "cell_type": "code",
   "execution_count": 74,
   "metadata": {},
   "outputs": [],
   "source": [
    "players,game_player_links = get_players(api_call)"
   ]
  },
  {
   "cell_type": "code",
   "execution_count": 78,
   "metadata": {},
   "outputs": [],
   "source": [
    "def get_teams(API_result):\n",
    "    #fk for game_team_link\n",
    "    gamePk=API_result['gamePk']\n",
    "    teams_dict = API_result['gameData']['teams']\n",
    "    \n",
    "    teams = []\n",
    "    links = []\n",
    "    team_records = []\n",
    "    for key in ['home','away']:\n",
    "        team = teams_dict[key]\n",
    "        \n",
    "        team_record = team.pop('record')\n",
    "        team_record.update({'gamePk':gamePk})\n",
    "        team_records.append(team_record)\n",
    "        \n",
    "        teams.append(flatten_dicts(team))\n",
    "        \n",
    "        link = {'gamePk':gamePk,\n",
    "                'team_id':team['id'],\n",
    "                'home_away':key}\n",
    "        links.append(link)\n",
    "        \n",
    "    return teams, links, team_records"
   ]
  },
  {
   "cell_type": "code",
   "execution_count": 79,
   "metadata": {},
   "outputs": [],
   "source": [
    "teams, game_team_links, team_records = get_teams(api_call)"
   ]
  },
  {
   "cell_type": "code",
   "execution_count": 80,
   "metadata": {},
   "outputs": [
    {
     "data": {
      "text/plain": [
       "{'id': 22,\n",
       " 'name': 'Dodger Stadium',\n",
       " 'link': '/api/v1/venues/22',\n",
       " 'location_city': 'Los Angeles',\n",
       " 'location_state': 'California',\n",
       " 'location_stateAbbrev': 'CA',\n",
       " 'timeZone_id': 'America/Los_Angeles',\n",
       " 'timeZone_offset': -8,\n",
       " 'timeZone_tz': 'PST',\n",
       " 'fieldInfo_capacity': 56000,\n",
       " 'fieldInfo_turfType': 'Grass',\n",
       " 'fieldInfo_roofType': 'Open',\n",
       " 'fieldInfo_leftLine': 330,\n",
       " 'fieldInfo_leftCenter': 385,\n",
       " 'fieldInfo_center': 395,\n",
       " 'fieldInfo_rightCenter': 385,\n",
       " 'fieldInfo_rightLine': 330,\n",
       " 'location_defaultCoordinates_latitude': 34.07368,\n",
       " 'location_defaultCoordinates_longitude': -118.24053}"
      ]
     },
     "execution_count": 80,
     "metadata": {},
     "output_type": "execute_result"
    }
   ],
   "source": [
    "def get_venue(API_result):\n",
    "    venue = API_result['gameData']['venue']\n",
    "    return flatten_dicts(venue)\n",
    "get_venue(api_call)"
   ]
  },
  {
   "cell_type": "code",
   "execution_count": 81,
   "metadata": {},
   "outputs": [],
   "source": [
    "import pandas as pd"
   ]
  },
  {
   "cell_type": "code",
   "execution_count": 94,
   "metadata": {},
   "outputs": [],
   "source": [
    "test_gamePks = gamePks['2019'][::300]"
   ]
  },
  {
   "cell_type": "code",
   "execution_count": 108,
   "metadata": {},
   "outputs": [
    {
     "data": {
      "text/plain": [
       "9"
      ]
     },
     "execution_count": 108,
     "metadata": {},
     "output_type": "execute_result"
    }
   ],
   "source": [
    "len(test_gamePks)"
   ]
  },
  {
   "cell_type": "code",
   "execution_count": 98,
   "metadata": {},
   "outputs": [],
   "source": [
    "#[get_game(g) for g in api_calls(test_gamePks)]"
   ]
  },
  {
   "cell_type": "code",
   "execution_count": 122,
   "metadata": {},
   "outputs": [],
   "source": [
    "def parse_games(gamePks):\n",
    "    api_results=api_calls(gamePks)\n",
    "    tables = ['games','plays','pitches','runners','credits','actions','teams','venues','game_team_links','game_player_links','team_records','players','matchups']\n",
    "    dfs = {}\n",
    "    for table in tables:\n",
    "        dfs[table]=[]\n",
    "    for result in api_results:\n",
    "        dfs['games'].append(get_game(result))\n",
    "        dfs['venues'].append(get_venue(result))\n",
    "        dfs['pitches'].extend(get_pitches(result))\n",
    "        dfs['actions'].extend(get_actions(result))\n",
    "        \n",
    "        plays,matchups = get_plays(result)\n",
    "        dfs['plays'].extend(plays)\n",
    "        dfs['matchups'].extend(matchups)\n",
    "        \n",
    "        runners,credits = get_runners(result)\n",
    "        dfs['runners'].extend(runners)\n",
    "        dfs['credits'].extend(credits)\n",
    "        \n",
    "        teams, game_team_links, team_records = get_teams(result)\n",
    "        dfs['teams'].extend(teams)\n",
    "        dfs['game_team_links'].extend(game_team_links)\n",
    "        dfs['team_records'].extend(team_records)\n",
    "        \n",
    "        players,game_player_links = get_players(result)\n",
    "        dfs['players'].extend(players)\n",
    "        dfs['game_player_links'].extend(game_player_links)\n",
    "    for key in dfs.keys():\n",
    "        dfs[key]=pd.DataFrame.from_records(dfs[key])\n",
    "    return dfs\n",
    "        \n",
    "    "
   ]
  },
  {
   "cell_type": "code",
   "execution_count": 123,
   "metadata": {},
   "outputs": [],
   "source": [
    "dfs = parse_games(test_gamePks)"
   ]
  },
  {
   "cell_type": "code",
   "execution_count": 128,
   "metadata": {},
   "outputs": [
    {
     "data": {
      "text/plain": [
       "[{'zone': '01',\n",
       "  'color': 'rgba(255, 255, 255, 0.55)',\n",
       "  'temp': 'lukewarm',\n",
       "  'value': '.750'},\n",
       " {'zone': '02',\n",
       "  'color': 'rgba(6, 90, 238, .55)',\n",
       "  'temp': 'cold',\n",
       "  'value': '.000'},\n",
       " {'zone': '03',\n",
       "  'color': 'rgba(6, 90, 238, .55)',\n",
       "  'temp': 'cold',\n",
       "  'value': '.000'},\n",
       " {'zone': '04',\n",
       "  'color': 'rgba(255, 255, 255, 0.55)',\n",
       "  'temp': 'lukewarm',\n",
       "  'value': '.667'},\n",
       " {'zone': '05',\n",
       "  'color': 'rgba(6, 90, 238, .55)',\n",
       "  'temp': 'cold',\n",
       "  'value': '.400'},\n",
       " {'zone': '06',\n",
       "  'color': 'rgba(214, 41, 52, .55)',\n",
       "  'temp': 'hot',\n",
       "  'value': '2.500'},\n",
       " {'zone': '07',\n",
       "  'color': 'rgba(6, 90, 238, .55)',\n",
       "  'temp': 'cold',\n",
       "  'value': '.000'},\n",
       " {'zone': '08',\n",
       "  'color': 'rgba(234, 147, 153, .55)',\n",
       "  'temp': 'warm',\n",
       "  'value': '1.000'},\n",
       " {'zone': '09',\n",
       "  'color': 'rgba(6, 90, 238, .55)',\n",
       "  'temp': 'cold',\n",
       "  'value': '.000'},\n",
       " {'zone': '11',\n",
       "  'color': 'rgba(6, 90, 238, .55)',\n",
       "  'temp': 'cold',\n",
       "  'value': '.000'},\n",
       " {'zone': '12',\n",
       "  'color': 'rgba(6, 90, 238, .55)',\n",
       "  'temp': 'cold',\n",
       "  'value': '.000'},\n",
       " {'zone': '13',\n",
       "  'color': 'rgba(6, 90, 238, .55)',\n",
       "  'temp': 'cold',\n",
       "  'value': '.258'},\n",
       " {'zone': '14',\n",
       "  'color': 'rgba(6, 90, 238, .55)',\n",
       "  'temp': 'cold',\n",
       "  'value': '.000'}]"
      ]
     },
     "execution_count": 128,
     "metadata": {},
     "output_type": "execute_result"
    }
   ],
   "source": [
    "dfs['matchups'].iloc[687]['batterHotColdZones']"
   ]
  },
  {
   "cell_type": "code",
   "execution_count": 82,
   "metadata": {},
   "outputs": [],
   "source": [
    "plays_df=pd.DataFrame.from_records(plays)"
   ]
  },
  {
   "cell_type": "code",
   "execution_count": 83,
   "metadata": {},
   "outputs": [
    {
     "data": {
      "text/plain": [
       "Index(['result_type', 'result_event', 'result_eventType', 'result_description',\n",
       "       'result_rbi', 'result_awayScore', 'result_homeScore',\n",
       "       'about_atBatIndex', 'about_halfInning', 'about_isTopInning',\n",
       "       'about_inning', 'about_startTime', 'about_endTime', 'about_isComplete',\n",
       "       'about_isScoringPlay', 'about_hasReview', 'about_hasOut',\n",
       "       'about_captivatingIndex', 'count_balls', 'count_strikes', 'count_outs',\n",
       "       'matchup_batterHotColdZones', 'matchup_pitcherHotColdZones',\n",
       "       'matchup_batter_id', 'matchup_batter_fullName', 'matchup_batter_link',\n",
       "       'matchup_batSide_code', 'matchup_batSide_description',\n",
       "       'matchup_pitcher_id', 'matchup_pitcher_fullName',\n",
       "       'matchup_pitcher_link', 'matchup_pitchHand_code',\n",
       "       'matchup_pitchHand_description', 'matchup_postOnFirst_id',\n",
       "       'matchup_postOnFirst_fullName', 'matchup_postOnFirst_link',\n",
       "       'matchup_splits_batter', 'matchup_splits_pitcher',\n",
       "       'matchup_splits_menOnBase', 'matchup_postOnThird_id',\n",
       "       'matchup_postOnThird_fullName', 'matchup_postOnThird_link',\n",
       "       'matchup_postOnSecond_id', 'matchup_postOnSecond_fullName',\n",
       "       'matchup_postOnSecond_link', 'matchup_batterHotColdZoneStats_stats',\n",
       "       'matchup_pitcherHotColdZoneStats_stats'],\n",
       "      dtype='object')"
      ]
     },
     "execution_count": 83,
     "metadata": {},
     "output_type": "execute_result"
    }
   ],
   "source": [
    "plays_df.columns"
   ]
  },
  {
   "cell_type": "code",
   "execution_count": 84,
   "metadata": {},
   "outputs": [],
   "source": [
    "def unique_columns(df):\n",
    "    \"\"\"\n",
    "    returns names for columns that have all unique values\n",
    "    \"\"\"\n",
    "    return [x for x in df.columns if len(df[x].unique())==df.shape[0]]"
   ]
  },
  {
   "cell_type": "code",
   "execution_count": 85,
   "metadata": {},
   "outputs": [],
   "source": [
    "pitches_df = pd.DataFrame.from_records(pitches)"
   ]
  },
  {
   "cell_type": "code",
   "execution_count": 86,
   "metadata": {},
   "outputs": [
    {
     "data": {
      "text/plain": [
       "Index(['index', 'pfxId', 'playId', 'pitchNumber', 'startTime', 'endTime',\n",
       "       'isPitch', 'type', 'atBatIndex', 'playEndTime', 'details_description',\n",
       "       'details_code', 'details_ballColor', 'details_trailColor',\n",
       "       'details_isInPlay', 'details_isStrike', 'details_isBall',\n",
       "       'details_hasReview', 'count_balls', 'count_strikes',\n",
       "       'pitchData_startSpeed', 'pitchData_endSpeed', 'pitchData_strikeZoneTop',\n",
       "       'pitchData_strikeZoneBottom', 'pitchData_zone',\n",
       "       'pitchData_typeConfidence', 'pitchData_plateTime',\n",
       "       'pitchData_extension', 'details_call_code', 'details_call_description',\n",
       "       'details_type_code', 'details_type_description',\n",
       "       'pitchData_coordinates_aY', 'pitchData_coordinates_aZ',\n",
       "       'pitchData_coordinates_pfxX', 'pitchData_coordinates_pfxZ',\n",
       "       'pitchData_coordinates_pX', 'pitchData_coordinates_pZ',\n",
       "       'pitchData_coordinates_vX0', 'pitchData_coordinates_vY0',\n",
       "       'pitchData_coordinates_vZ0', 'pitchData_coordinates_x',\n",
       "       'pitchData_coordinates_y', 'pitchData_coordinates_x0',\n",
       "       'pitchData_coordinates_y0', 'pitchData_coordinates_z0',\n",
       "       'pitchData_coordinates_aX', 'pitchData_breaks_breakAngle',\n",
       "       'pitchData_breaks_breakLength', 'pitchData_breaks_breakY',\n",
       "       'pitchData_breaks_spinRate', 'pitchData_breaks_spinDirection', 'gamePk',\n",
       "       'hitData_launchSpeed', 'hitData_launchAngle', 'hitData_totalDistance',\n",
       "       'hitData_trajectory', 'hitData_hardness', 'hitData_location',\n",
       "       'hitData_coordinates_coordX', 'hitData_coordinates_coordY',\n",
       "       'details_fromCatcher', 'details_runnerGoing'],\n",
       "      dtype='object')"
      ]
     },
     "execution_count": 86,
     "metadata": {},
     "output_type": "execute_result"
    }
   ],
   "source": [
    "pitches_df.columns"
   ]
  },
  {
   "cell_type": "code",
   "execution_count": 87,
   "metadata": {},
   "outputs": [
    {
     "data": {
      "text/plain": [
       "array(['Called Strike', 'Swinging Strike', 'In play, no out', 'Ball',\n",
       "       'In play, run(s)', 'Foul', 'In play, out(s)', 'Ball In Dirt',\n",
       "       'Foul Tip', 'Pickoff Attempt 2B', 'Pickoff Attempt 1B'],\n",
       "      dtype=object)"
      ]
     },
     "execution_count": 87,
     "metadata": {},
     "output_type": "execute_result"
    }
   ],
   "source": [
    "pitches_df['details_description'].unique()"
   ]
  },
  {
   "cell_type": "code",
   "execution_count": 88,
   "metadata": {},
   "outputs": [
    {
     "data": {
      "text/plain": [
       "12        NaN\n",
       "14     138.24\n",
       "26     343.52\n",
       "44        NaN\n",
       "72     285.86\n",
       "73     285.75\n",
       "76     144.55\n",
       "81     247.93\n",
       "86     312.71\n",
       "96      84.87\n",
       "101     95.95\n",
       "136       NaN\n",
       "144    315.07\n",
       "151     89.22\n",
       "153    112.42\n",
       "155    132.92\n",
       "171    146.39\n",
       "200    140.74\n",
       "208       NaN\n",
       "223    146.10\n",
       "227    146.49\n",
       "250    286.28\n",
       "254    265.53\n",
       "255    126.68\n",
       "266    307.11\n",
       "281    291.70\n",
       "286    256.27\n",
       "Name: hitData_totalDistance, dtype: float64"
      ]
     },
     "execution_count": 88,
     "metadata": {},
     "output_type": "execute_result"
    }
   ],
   "source": [
    "pitches_df[pitches_df['details_description']=='In play, out(s)']['hitData_totalDistance']"
   ]
  },
  {
   "cell_type": "code",
   "execution_count": 89,
   "metadata": {},
   "outputs": [
    {
     "data": {
      "text/plain": [
       "['playId']"
      ]
     },
     "execution_count": 89,
     "metadata": {},
     "output_type": "execute_result"
    }
   ],
   "source": [
    "unique_columns(pitches_df)"
   ]
  },
  {
   "cell_type": "code",
   "execution_count": 90,
   "metadata": {},
   "outputs": [
    {
     "data": {
      "text/plain": [
       "False"
      ]
     },
     "execution_count": 90,
     "metadata": {},
     "output_type": "execute_result"
    }
   ],
   "source": [
    "plays_df.shape==len(pitches_df['atBatIndex'].unique())"
   ]
  },
  {
   "cell_type": "code",
   "execution_count": 91,
   "metadata": {},
   "outputs": [
    {
     "name": "stdout",
     "output_type": "stream",
     "text": [
      "<class 'pandas.core.frame.DataFrame'>\n",
      "RangeIndex: 287 entries, 0 to 286\n",
      "Data columns (total 63 columns):\n",
      "index                             287 non-null int64\n",
      "pfxId                             284 non-null object\n",
      "playId                            286 non-null object\n",
      "pitchNumber                       284 non-null float64\n",
      "startTime                         284 non-null object\n",
      "endTime                           284 non-null object\n",
      "isPitch                           287 non-null bool\n",
      "type                              287 non-null object\n",
      "atBatIndex                        287 non-null int64\n",
      "playEndTime                       287 non-null object\n",
      "details_description               287 non-null object\n",
      "details_code                      287 non-null object\n",
      "details_ballColor                 284 non-null object\n",
      "details_trailColor                284 non-null object\n",
      "details_isInPlay                  284 non-null object\n",
      "details_isStrike                  284 non-null object\n",
      "details_isBall                    284 non-null object\n",
      "details_hasReview                 287 non-null bool\n",
      "count_balls                       284 non-null float64\n",
      "count_strikes                     284 non-null float64\n",
      "pitchData_startSpeed              284 non-null float64\n",
      "pitchData_endSpeed                284 non-null float64\n",
      "pitchData_strikeZoneTop           284 non-null float64\n",
      "pitchData_strikeZoneBottom        284 non-null float64\n",
      "pitchData_zone                    284 non-null float64\n",
      "pitchData_typeConfidence          284 non-null float64\n",
      "pitchData_plateTime               284 non-null float64\n",
      "pitchData_extension               284 non-null float64\n",
      "details_call_code                 284 non-null object\n",
      "details_call_description          284 non-null object\n",
      "details_type_code                 284 non-null object\n",
      "details_type_description          284 non-null object\n",
      "pitchData_coordinates_aY          284 non-null float64\n",
      "pitchData_coordinates_aZ          284 non-null float64\n",
      "pitchData_coordinates_pfxX        284 non-null float64\n",
      "pitchData_coordinates_pfxZ        284 non-null float64\n",
      "pitchData_coordinates_pX          284 non-null float64\n",
      "pitchData_coordinates_pZ          284 non-null float64\n",
      "pitchData_coordinates_vX0         284 non-null float64\n",
      "pitchData_coordinates_vY0         284 non-null float64\n",
      "pitchData_coordinates_vZ0         284 non-null float64\n",
      "pitchData_coordinates_x           284 non-null float64\n",
      "pitchData_coordinates_y           284 non-null float64\n",
      "pitchData_coordinates_x0          284 non-null float64\n",
      "pitchData_coordinates_y0          284 non-null float64\n",
      "pitchData_coordinates_z0          284 non-null float64\n",
      "pitchData_coordinates_aX          284 non-null float64\n",
      "pitchData_breaks_breakAngle       284 non-null float64\n",
      "pitchData_breaks_breakLength      284 non-null float64\n",
      "pitchData_breaks_breakY           284 non-null float64\n",
      "pitchData_breaks_spinRate         281 non-null float64\n",
      "pitchData_breaks_spinDirection    284 non-null float64\n",
      "gamePk                            287 non-null int64\n",
      "hitData_launchSpeed               42 non-null float64\n",
      "hitData_launchAngle               42 non-null float64\n",
      "hitData_totalDistance             42 non-null float64\n",
      "hitData_trajectory                46 non-null object\n",
      "hitData_hardness                  46 non-null object\n",
      "hitData_location                  46 non-null object\n",
      "hitData_coordinates_coordX        46 non-null float64\n",
      "hitData_coordinates_coordY        46 non-null float64\n",
      "details_fromCatcher               3 non-null object\n",
      "details_runnerGoing               1 non-null object\n",
      "dtypes: bool(2), float64(36), int64(3), object(22)\n",
      "memory usage: 137.5+ KB\n"
     ]
    }
   ],
   "source": [
    "pitches_df.info()"
   ]
  },
  {
   "cell_type": "code",
   "execution_count": 92,
   "metadata": {},
   "outputs": [
    {
     "data": {
      "text/plain": [
       "array([nan, 'medium', 'soft', 'hard'], dtype=object)"
      ]
     },
     "execution_count": 92,
     "metadata": {},
     "output_type": "execute_result"
    }
   ],
   "source": [
    "pitches_df['hitData_hardness'].unique()"
   ]
  }
 ],
 "metadata": {
  "kernelspec": {
   "display_name": "Python 3",
   "language": "python",
   "name": "python3"
  },
  "language_info": {
   "codemirror_mode": {
    "name": "ipython",
    "version": 3
   },
   "file_extension": ".py",
   "mimetype": "text/x-python",
   "name": "python",
   "nbconvert_exporter": "python",
   "pygments_lexer": "ipython3",
   "version": "3.7.3"
  }
 },
 "nbformat": 4,
 "nbformat_minor": 4
}
