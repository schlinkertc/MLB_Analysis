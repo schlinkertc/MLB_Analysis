{
 "cells": [
  {
   "cell_type": "markdown",
   "metadata": {},
   "source": [
    "# Leveraging SQLAlchemy ORM to Store and Retrieve MLB Stats"
   ]
  },
  {
   "cell_type": "markdown",
   "metadata": {},
   "source": [
    "## Table of Contents\n",
    "\n",
    "[Part 1: Exploring the MLB API](#part-1)\n",
    "- [1a. Install and Import](#part-1a)\n",
    "- [1b. Get GamePks](#part-1b)\n",
    "- [1c. The 'Game' Endpoint](#part-1c)\n",
    "\n",
    "---"
   ]
  },
  {
   "cell_type": "markdown",
   "metadata": {},
   "source": [
    "### The SQLAlchemy Object Relational Mapper automatically constructs higher-level SQL and automates persistence of python objects.\n",
    "We're going to query the MLB API using a python wrapper created by Todd Roberts and store the information in a SQLite database for future analysis. \n",
    "\n",
    "---"
   ]
  },
  {
   "cell_type": "markdown",
   "metadata": {},
   "source": [
    "<a id='part-1'></a>"
   ]
  },
  {
   "cell_type": "markdown",
   "metadata": {},
   "source": [
    "## Part 1: Exploring the MLB API\n",
    "Todd Roberts' python wrapper is part of the python package index. You can find more information [here](https://pypi.org/project/MLB-StatsAPI/) or on [GitHub](https://github.com/toddrob99/MLB-StatsAPI)."
   ]
  },
  {
   "cell_type": "markdown",
   "metadata": {},
   "source": [
    "<a id='part-1a'></a>"
   ]
  },
  {
   "cell_type": "markdown",
   "metadata": {},
   "source": [
    "First, we have to install it and import it."
   ]
  },
  {
   "cell_type": "code",
   "execution_count": 1,
   "metadata": {},
   "outputs": [],
   "source": [
    "import sys\n",
    "#pip install \n",
    "#!{sys.executable} -m pip install MLB-StatsAPI\n",
    "\n",
    "import statsapi as mlb"
   ]
  },
  {
   "cell_type": "markdown",
   "metadata": {},
   "source": [
    "Todd was nice enough to give us several convenient functions for accessing the API's endpoints. The most flexible/powerful of these is the get() function that takes in an endpoint and returns the raw JSON response from the MLB Stats API. You can find a dictionary with the endpoint configuration by accessing the ENDPOINTS global variable. To get notes for a given endpoint, use the notes() method."
   ]
  },
  {
   "cell_type": "code",
   "execution_count": 2,
   "metadata": {},
   "outputs": [
    {
     "data": {
      "text/plain": [
       "['attendance',\n",
       " 'awards',\n",
       " 'conferences',\n",
       " 'divisions',\n",
       " 'draft',\n",
       " 'game',\n",
       " 'game_diff',\n",
       " 'game_timestamps',\n",
       " 'game_changes',\n",
       " 'game_contextMetrics']"
      ]
     },
     "execution_count": 2,
     "metadata": {},
     "output_type": "execute_result"
    }
   ],
   "source": [
    "list(mlb.ENDPOINTS.keys())[:10]"
   ]
  },
  {
   "cell_type": "code",
   "execution_count": 3,
   "metadata": {},
   "outputs": [
    {
     "name": "stdout",
     "output_type": "stream",
     "text": [
      "Endpoint: game \n",
      "All path parameters: ['ver', 'gamePk']. \n",
      "Required path parameters (note: ver will be included by default): ['ver', 'gamePk']. \n",
      "All query parameters: ['timecode', 'hydrate', 'fields']. \n",
      "Required query parameters: None. \n",
      "The hydrate function is supported by this endpoint. Call the endpoint with {'hydrate':'hydrations'} in the parameters to return a list of available hydrations. For example, statsapi.get('schedule',{'sportId':1,'hydrate':'hydrations','fields':'hydrations'})\n",
      "\n"
     ]
    }
   ],
   "source": [
    "print(mlb.notes('game'))"
   ]
  },
  {
   "cell_type": "markdown",
   "metadata": {},
   "source": [
    "<a id='part-1b'></a>"
   ]
  },
  {
   "cell_type": "markdown",
   "metadata": {},
   "source": [
    "#### Get GamePks"
   ]
  },
  {
   "cell_type": "code",
   "execution_count": 4,
   "metadata": {},
   "outputs": [],
   "source": [
    "from datetime import datetime as dt\n",
    "import os,re,csv\n",
    "from os import walk\n",
    "\n",
    "#dates from the 'season' endpoint are returned in a different format than what we need to query the API\n",
    "#we'll use this function to take care of that in a moment\n",
    "def convert_date(date):\n",
    "    date = dt.strptime(date,\"%Y-%m-%d\")\n",
    "    convertedDate = dt.strftime(date,\"%m/%d/%Y\")\n",
    "    return convertedDate\n",
    "\n",
    "def get_gamePks(seasons,target_directory=None):\n",
    "    \"\"\"\n",
    "    Takes in a list of seasons as strings representing their year e.g. ['2018','2019']\n",
    "    Queries the MLB API to find gamePks for each season and writes them to CSV files\n",
    "    if a target directory for the gamePks is not specified, a directory called 'gamePks'\n",
    "    will be added to the current directory. \n",
    "    \"\"\"\n",
    "    if target_directory:\n",
    "        gamePks_path = target_directory\n",
    "    else:\n",
    "        #create a directory to store CSVs\n",
    "        try:\n",
    "            os.mkdir(os.getcwd()+'/gamePks')\n",
    "        except FileExistsError:\n",
    "            pass\n",
    "        gamePks_path=os.getcwd()+'/gamePks'\n",
    "    \n",
    "    #walk the gamePks directory to see if we've already added any seasons\n",
    "    f = []\n",
    "    for (dirpath, dirnames, filenames) in walk(gamePks_path):\n",
    "        f.extend(filenames)\n",
    "        break\n",
    "    years = [re.findall('[^.csv]+',x) for x in f]\n",
    "    already_added = [item for sublist in years for item in sublist if item[0] in ['1','2']]\n",
    "    seasons = list(set(seasons)-set(already_added))\n",
    "    \n",
    "    #query the API to get start dates and end dates for all seasons\n",
    "    all_seasons = mlb.get('seasons',{'sportId':1,'all':True})['seasons']\n",
    "    \n",
    "    #filter out the ones we don't care about right now\n",
    "    seasons = list(filter(lambda x: x['seasonId'] in seasons,all_seasons))\n",
    "    \n",
    "    gamePks = {}\n",
    "    for season in seasons:  \n",
    "        year = season['seasonId']\n",
    "        startDate = convert_date(season['seasonStartDate'])\n",
    "        endDate = convert_date(season['seasonEndDate'])\n",
    "        \n",
    "        #returns a list of dicts for each date in the range\n",
    "        #each dict has a 'games' key with a list of dicts for each game in that day as values\n",
    "        dates = mlb.get('schedule',{'sportId':1,'startDate':startDate,'endDate':endDate})['dates']\n",
    "        \n",
    "        #for each date, and for each game in that date, get the gamePk \n",
    "        gamePks[year]= [ game['gamePk'] \n",
    "                                          for date in dates \n",
    "                                          for game in date['games'] ]\n",
    "        #store the gamePks as CSVs\n",
    "        with open(gamePks_path + f\"/{year}.csv\", 'w',newline='') as myfile:\n",
    "            wr = csv.writer(myfile,quoting=csv.QUOTE_ALL)\n",
    "            wr.writerow(gamePks[year])\n",
    "get_gamePks([str(x) for x in range(2008,2020)])   "
   ]
  },
  {
   "cell_type": "code",
   "execution_count": 5,
   "metadata": {},
   "outputs": [],
   "source": [
    "def read_gamePks():\n",
    "    gamePks_path = os.curdir+'/gamePks'\n",
    "    f = []\n",
    "    for (dirpath, dirnames, filenames) in walk(gamePks_path):\n",
    "        f.extend(filenames)\n",
    "        break\n",
    "    pk_paths = [gamePks_path + '/' + x for x in f if x[0]!= '.']\n",
    "    \n",
    "    gamePks = {}\n",
    "    for path in pk_paths:\n",
    "        season = re.findall('/gamePks/([^.csv]+)',path)\n",
    "        with open(path, 'r') as f:\n",
    "            reader = csv.reader(f)\n",
    "            seasonPks = list(reader)\n",
    "        gamePks[season[0]] = [item for sublist in seasonPks for item in sublist]\n",
    "    return gamePks"
   ]
  },
  {
   "cell_type": "code",
   "execution_count": 6,
   "metadata": {},
   "outputs": [],
   "source": [
    "gamePks=read_gamePks()"
   ]
  },
  {
   "cell_type": "markdown",
   "metadata": {},
   "source": [
    "<a id='part-1c'></a>"
   ]
  },
  {
   "cell_type": "markdown",
   "metadata": {},
   "source": [
    "#### Explore the 'Game' Endpoint"
   ]
  },
  {
   "cell_type": "markdown",
   "metadata": {},
   "source": [
    "Let's pick a gamePk at random to see what's inside the 'game' endpoint. There is a TON of information stored in nested dictionaries returned from the API query. Since our goal is to store this information in a SQL database, our aim is to organize the information into [first normal form](https://www.essentialsql.com/get-ready-to-learn-sql-8-database-first-normal-form-explained-in-simple-english/).\n",
    "\n",
    "From this single result, we'll be able to start building [normalized SQL tables](https://www.essentialsql.com/get-ready-to-learn-sql-database-normalization-explained-in-simple-english/) for games, teams, venues, players, plays, and pitches. Let's start with the games table. "
   ]
  },
  {
   "cell_type": "code",
   "execution_count": 7,
   "metadata": {},
   "outputs": [
    {
     "name": "stdout",
     "output_type": "stream",
     "text": [
      "565812\n"
     ]
    }
   ],
   "source": [
    "temp_pk=gamePks['2019'][501]\n",
    "print(temp_pk) \n",
    "game_result = mlb.get('game',{'gamePk':temp_pk})"
   ]
  },
  {
   "cell_type": "code",
   "execution_count": 8,
   "metadata": {},
   "outputs": [
    {
     "data": {
      "text/plain": [
       "dict_keys(['copyright', 'gamePk', 'link', 'metaData', 'gameData', 'liveData'])"
      ]
     },
     "execution_count": 8,
     "metadata": {},
     "output_type": "execute_result"
    }
   ],
   "source": [
    "game_result.keys()"
   ]
  },
  {
   "cell_type": "code",
   "execution_count": 9,
   "metadata": {},
   "outputs": [
    {
     "data": {
      "text/plain": [
       "dict_keys(['game', 'datetime', 'status', 'teams', 'players', 'venue', 'weather', 'review', 'flags', 'alerts', 'probablePitchers', 'officialScorer', 'primaryDatacaster'])"
      ]
     },
     "execution_count": 9,
     "metadata": {},
     "output_type": "execute_result"
    }
   ],
   "source": [
    "gameData = game_result['gameData']\n",
    "gameData.keys()"
   ]
  },
  {
   "cell_type": "code",
   "execution_count": 10,
   "metadata": {},
   "outputs": [
    {
     "data": {
      "text/plain": [
       "{'pk': 565812,\n",
       " 'type': 'R',\n",
       " 'doubleHeader': 'N',\n",
       " 'id': '2019/04/26/pitmlb-lanmlb-1',\n",
       " 'gamedayType': 'P',\n",
       " 'tiebreaker': 'N',\n",
       " 'gameNumber': 1,\n",
       " 'calendarEventID': '14-565812-2019-04-26',\n",
       " 'season': '2019',\n",
       " 'seasonDisplay': '2019'}"
      ]
     },
     "execution_count": 10,
     "metadata": {},
     "output_type": "execute_result"
    }
   ],
   "source": [
    "game = gameData['game']\n",
    "game"
   ]
  },
  {
   "cell_type": "markdown",
   "metadata": {},
   "source": [
    "The dictionary above, nested 2 layers deep into the original API result, provides us with a good starting point. But we're goint to add some additional information to make our games table more informative"
   ]
  },
  {
   "cell_type": "code",
   "execution_count": 11,
   "metadata": {},
   "outputs": [
    {
     "data": {
      "text/plain": [
       "{'dateTime': '2019-04-27T02:10:00Z',\n",
       " 'originalDate': '2019-04-26',\n",
       " 'dayNight': 'night',\n",
       " 'time': '7:10',\n",
       " 'ampm': 'PM'}"
      ]
     },
     "execution_count": 11,
     "metadata": {},
     "output_type": "execute_result"
    }
   ],
   "source": [
    "gameData['datetime']"
   ]
  },
  {
   "cell_type": "code",
   "execution_count": 12,
   "metadata": {},
   "outputs": [
    {
     "data": {
      "text/plain": [
       "{'condition': 'Clear', 'temp': '61', 'wind': '2 mph, Varies'}"
      ]
     },
     "execution_count": 12,
     "metadata": {},
     "output_type": "execute_result"
    }
   ],
   "source": [
    "gameData['weather']"
   ]
  },
  {
   "cell_type": "code",
   "execution_count": 13,
   "metadata": {},
   "outputs": [
    {
     "data": {
      "text/plain": [
       "{'id': 'America/Los_Angeles', 'offset': -8, 'tz': 'PST'}"
      ]
     },
     "execution_count": 13,
     "metadata": {},
     "output_type": "execute_result"
    }
   ],
   "source": [
    "gameData['venue']['timeZone']"
   ]
  },
  {
   "cell_type": "code",
   "execution_count": 14,
   "metadata": {},
   "outputs": [
    {
     "data": {
      "text/plain": [
       "{'abstractGameState': 'Final',\n",
       " 'codedGameState': 'F',\n",
       " 'detailedState': 'Final',\n",
       " 'statusCode': 'F',\n",
       " 'abstractGameCode': 'F'}"
      ]
     },
     "execution_count": 14,
     "metadata": {},
     "output_type": "execute_result"
    }
   ],
   "source": [
    "gameData['status']"
   ]
  },
  {
   "cell_type": "code",
   "execution_count": 15,
   "metadata": {},
   "outputs": [
    {
     "data": {
      "text/plain": [
       "{'pk': 565812,\n",
       " 'type': 'R',\n",
       " 'doubleHeader': 'N',\n",
       " 'id': '2019/04/26/pitmlb-lanmlb-1',\n",
       " 'gamedayType': 'P',\n",
       " 'tiebreaker': 'N',\n",
       " 'gameNumber': 1,\n",
       " 'calendarEventID': '14-565812-2019-04-26',\n",
       " 'season': '2019',\n",
       " 'dateTime': '2019-04-27T02:10:00Z',\n",
       " 'originalDate': '2019-04-26',\n",
       " 'condition': 'Clear',\n",
       " 'temp': '61',\n",
       " 'wind': '2 mph, Varies',\n",
       " 'tz': 'PST'}"
      ]
     },
     "execution_count": 15,
     "metadata": {},
     "output_type": "execute_result"
    }
   ],
   "source": [
    "#keys to add\n",
    "keys_to_add = ['dateTime',\n",
    "          'originalDate',\n",
    "          'condition',\n",
    "          'temp','wind','tz']\n",
    "#dictionaries from which to add them\n",
    "dicts = [gameData['datetime'],\n",
    "         gameData['weather'],\n",
    "         gameData['venue']['timeZone']\n",
    "        ]\n",
    "\n",
    "for k in keys_to_add:\n",
    "    for d in dicts:\n",
    "        try:\n",
    "            game[k]=d[k]\n",
    "        except KeyError:\n",
    "            continue\n",
    "#'seasonDisplay' key:value seems to be redundant\n",
    "del game['seasonDisplay']\n",
    "game"
   ]
  },
  {
   "cell_type": "code",
   "execution_count": 16,
   "metadata": {},
   "outputs": [
    {
     "data": {
      "text/plain": [
       "{'away': {'id': 502042,\n",
       "  'fullName': 'Archer, Chris',\n",
       "  'link': '/api/v1/people/502042'},\n",
       " 'home': {'id': 547943,\n",
       "  'fullName': 'Ryu, Hyun-Jin',\n",
       "  'link': '/api/v1/people/547943'}}"
      ]
     },
     "execution_count": 16,
     "metadata": {},
     "output_type": "execute_result"
    }
   ],
   "source": [
    "gameData['probablePitchers']"
   ]
  },
  {
   "cell_type": "code",
   "execution_count": 17,
   "metadata": {},
   "outputs": [],
   "source": [
    "def get_game(api_call):\n",
    "    gameData = api_call['gameData']\n",
    "    dateTime = gameData['datetime']\n",
    "    game = gameData['game']\n",
    "    weather = gameData['weather']\n",
    "    timeZone = gameData['venue']['timeZone']\n",
    "    status = gameData['status']\n",
    "    probablePitchers = gameData['probablePitchers']\n",
    "    \n",
    "    keys_to_add = ['dateTime','originalDate',\n",
    "                   'condition','temp','wind',\n",
    "                   'tz','detailedState'\n",
    "                  ]\n",
    "    dicts = [weather,dateTime,timeZone,status]\n",
    "    for k in keys_to_add:\n",
    "        for d in dicts:\n",
    "            try:\n",
    "                game[k]=d[k]\n",
    "            except KeyError:\n",
    "                continue\n",
    "    #'seasonDisplay' key:value seems to be redundant\n",
    "    del game['seasonDisplay']\n",
    "    \n",
    "    home_team = gameData['teams']['home']\n",
    "    away_team = gameData['teams']['away']\n",
    "    \n",
    "    game['homeTeam_id'] = home_team['id']\n",
    "    game['awayTeam_id'] = away_team['id']\n",
    "    \n",
    "    game['venue_id'] = gameData['venue']['id']\n",
    "    \n",
    "    for team in ['home','away']:\n",
    "        try:\n",
    "            game[f\"{team}_probablePitcher\"]=probablePitchers[team]['id']\n",
    "        except KeyError:\n",
    "            pass\n",
    "    \n",
    "    #format the dateTime and originalDate\n",
    "    fmt = \"%Y-%m-%dT%H:%M:%SZ\" \n",
    "    game['dateTime'] = dt.strptime(game['dateTime'],fmt)\n",
    "    fmt = \"%Y-%m-%d\"\n",
    "    game['originalDate'] = dt.strptime(game['originalDate'],fmt).date()\n",
    "    \n",
    "    return game\n",
    "api_call = mlb.get('game',{'gamePk':temp_pk})\n",
    "game = get_game(api_call)"
   ]
  },
  {
   "cell_type": "code",
   "execution_count": 18,
   "metadata": {},
   "outputs": [
    {
     "data": {
      "text/plain": [
       "datetime.date(2019, 4, 26)"
      ]
     },
     "execution_count": 18,
     "metadata": {},
     "output_type": "execute_result"
    }
   ],
   "source": [
    "game['originalDate']"
   ]
  },
  {
   "cell_type": "markdown",
   "metadata": {},
   "source": [
    "## API calls\n",
    "What's the best way to automate API calls when needed?"
   ]
  },
  {
   "cell_type": "code",
   "execution_count": 19,
   "metadata": {},
   "outputs": [],
   "source": [
    "def api_calls(gamePks):\n",
    "    return ( mlb.get('game',{'gamePk':gamePk}) for gamePk in gamePks )"
   ]
  },
  {
   "cell_type": "code",
   "execution_count": 20,
   "metadata": {},
   "outputs": [],
   "source": [
    "calls = api_calls(gamePks['2019'][500:600])"
   ]
  },
  {
   "cell_type": "code",
   "execution_count": 21,
   "metadata": {},
   "outputs": [],
   "source": [
    "#test = [get_game(x) for x in calls]"
   ]
  },
  {
   "cell_type": "markdown",
   "metadata": {},
   "source": [
    "<a id='part-2'></a>"
   ]
  },
  {
   "cell_type": "markdown",
   "metadata": {},
   "source": [
    "## Introducing SQL Alchemy"
   ]
  },
  {
   "cell_type": "code",
   "execution_count": 22,
   "metadata": {},
   "outputs": [],
   "source": [
    "import sqlalchemy\n",
    "from sqlalchemy import create_engine,PrimaryKeyConstraint,UniqueConstraint"
   ]
  },
  {
   "cell_type": "code",
   "execution_count": 23,
   "metadata": {},
   "outputs": [
    {
     "name": "stdout",
     "output_type": "stream",
     "text": [
      "Engine(sqlite://///Users/schlinkertc/code/MLB/mlb_sqlite/blog_posts/mlb.db)\n"
     ]
    }
   ],
   "source": [
    "class MyDatabase:\n",
    "    # http://docs.sqlalchemy.org/en/latest/core/engines.html\n",
    "    \"\"\"\n",
    "    Custom class for instantiating a SQL Alchemy connection. Configured here for SQLite, but intended to be flexible.\n",
    "    Credit to Medium user Mahmud Ahsan:\n",
    "    https://medium.com/@mahmudahsan/how-to-use-python-sqlite3-using-sqlalchemy-158f9c54eb32\n",
    "    \"\"\"\n",
    "    DB_ENGINE = {\n",
    "       'sqlite': 'sqlite:////{DB}'\n",
    "    }\n",
    "\n",
    "    # Main DB Connection Ref Obj\n",
    "    db_engine = None\n",
    "    def __init__(self, dbtype, username='', password='', dbname='',path=os.getcwd()+'/'):\n",
    "        dbtype = dbtype.lower()\n",
    "        if dbtype in self.DB_ENGINE.keys():\n",
    "            engine_url = self.DB_ENGINE[dbtype].format(DB=path+dbname)\n",
    "            self.db_engine = create_engine(engine_url)\n",
    "            print(self.db_engine)\n",
    "        else:\n",
    "            print(\"DBType is not found in DB_ENGINE\")\n",
    "db=MyDatabase('sqlite',dbname='mlb.db')"
   ]
  },
  {
   "cell_type": "code",
   "execution_count": 24,
   "metadata": {},
   "outputs": [
    {
     "data": {
      "text/plain": [
       "[(sqlalchemy.sql.schema.Table, {'autoincrement': False}),\n",
       " (sqlalchemy.sql.schema.Index, {'where': None}),\n",
       " (sqlalchemy.sql.schema.Column,\n",
       "  {'on_conflict_primary_key': None,\n",
       "   'on_conflict_not_null': None,\n",
       "   'on_conflict_unique': None}),\n",
       " (sqlalchemy.sql.schema.Constraint, {'on_conflict': None})]"
      ]
     },
     "execution_count": 24,
     "metadata": {},
     "output_type": "execute_result"
    }
   ],
   "source": [
    "sqlalchemy.dialects.sqlite.base.SQLiteDialect.construct_arguments"
   ]
  },
  {
   "cell_type": "code",
   "execution_count": 25,
   "metadata": {},
   "outputs": [],
   "source": [
    "from sqlalchemy.ext.declarative import declarative_base\n",
    "Base = declarative_base()\n",
    "\n",
    "from sqlalchemy import Table,Column,Integer,String,DateTime,Date,Boolean\n",
    "\n",
    "class Game(Base):\n",
    "    __tablename__ = 'games'\n",
    "    __table_args__ = (PrimaryKeyConstraint('id','detailedState',sqlite_on_conflict='IGNORE'),\n",
    "                      {'extend_existing': True})\n",
    "    \n",
    "    pk = Column(Integer)\n",
    "    type = Column(String(1))\n",
    "    doubleHeader = Column(String(1))\n",
    "    id = Column(String(150))\n",
    "    gamedayType = Column(String(1))\n",
    "    tiebreaker = Column(String(1))\n",
    "    gameNumber = Column(Integer)\n",
    "    calenderEventId = Column(String(50))\n",
    "    season = Column(Integer)\n",
    "    \n",
    "    dateTime = Column(DateTime)\n",
    "    originalDate = Column(Date)\n",
    "    \n",
    "    detailedState = Column(String(12))\n",
    "    \n",
    "    homeTeam_id = Column(Integer)\n",
    "    awayTeam_id = Column(Integer)\n",
    "    \n",
    "    condition = Column(String(25))\n",
    "    temp = Column(Integer)\n",
    "    wind = Column(String(50))\n",
    "    \n",
    "    venue_id = Column(Integer)\n",
    "    \n",
    "    home_probablePitcher = Column(Integer)\n",
    "    away_probablePitcher = Column(Integer)\n",
    "    \n",
    "    def __repr__(self): \n",
    "        return \"<Game(pk='%s',id='%s')>\" % (\n",
    "                        self.pk, self.id)\n",
    "    \n",
    "    def __init__(self,dictionary):\n",
    "        for k,v in dictionary.items():\n",
    "            setattr(self,k,v)"
   ]
  },
  {
   "cell_type": "code",
   "execution_count": 26,
   "metadata": {},
   "outputs": [],
   "source": [
    "Base.metadata.create_all(db.db_engine)"
   ]
  },
  {
   "cell_type": "code",
   "execution_count": 27,
   "metadata": {},
   "outputs": [],
   "source": [
    "game_record = Game(game)"
   ]
  },
  {
   "cell_type": "code",
   "execution_count": 28,
   "metadata": {},
   "outputs": [],
   "source": [
    "from sqlalchemy.orm import sessionmaker\n",
    "Session = sessionmaker(bind=db.db_engine)\n",
    "session = Session()"
   ]
  },
  {
   "cell_type": "code",
   "execution_count": 65,
   "metadata": {},
   "outputs": [
    {
     "data": {
      "text/plain": [
       "<Game(pk='565812',id='2019/04/26/pitmlb-lanmlb-1')>"
      ]
     },
     "execution_count": 65,
     "metadata": {},
     "output_type": "execute_result"
    }
   ],
   "source": [
    "game_record"
   ]
  },
  {
   "cell_type": "code",
   "execution_count": 66,
   "metadata": {},
   "outputs": [],
   "source": [
    "session.add(game_record)\n",
    "\n",
    "session.commit()\n",
    "\n",
    "session.query(Game).all()"
   ]
  },
  {
   "cell_type": "markdown",
   "metadata": {},
   "source": [
    "Now we're going to move on to plays. We're going to set up a one-to-many relationship between games and plays, so we'll need to be able to link the two when we get to the SQLAlchemy stage. With that in mind, we'll start exploring the information embedded in the 'liveData' key of the original API result"
   ]
  },
  {
   "cell_type": "code",
   "execution_count": 33,
   "metadata": {},
   "outputs": [
    {
     "data": {
      "text/plain": [
       "dict_keys(['plays', 'linescore', 'boxscore', 'decisions', 'leaders'])"
      ]
     },
     "execution_count": 33,
     "metadata": {},
     "output_type": "execute_result"
    }
   ],
   "source": [
    "#'game_result' variable still contains the info from our oringal exploration\n",
    "liveData = game_result['liveData']\n",
    "liveData.keys()"
   ]
  },
  {
   "cell_type": "code",
   "execution_count": 34,
   "metadata": {},
   "outputs": [
    {
     "data": {
      "text/plain": [
       "dict_keys(['allPlays', 'currentPlay', 'scoringPlays', 'playsByInning'])"
      ]
     },
     "execution_count": 34,
     "metadata": {},
     "output_type": "execute_result"
    }
   ],
   "source": [
    "plays = liveData['plays']\n",
    "plays.keys()"
   ]
  },
  {
   "cell_type": "code",
   "execution_count": 35,
   "metadata": {},
   "outputs": [],
   "source": [
    "allPlays = plays['allPlays']"
   ]
  },
  {
   "cell_type": "markdown",
   "metadata": {},
   "source": [
    "'allPlays' gives us a list of dictionaries with information about every play. Remember that we're aiming for first normal form, so we don't want any information about pitches, players, or runners at this time. Those will be contained in their own respective tables"
   ]
  },
  {
   "cell_type": "code",
   "execution_count": 36,
   "metadata": {},
   "outputs": [
    {
     "data": {
      "text/plain": [
       "dict_keys(['result', 'about', 'count', 'matchup', 'pitchIndex', 'actionIndex', 'runnerIndex', 'runners', 'playEvents', 'atBatIndex', 'playEndTime'])"
      ]
     },
     "execution_count": 36,
     "metadata": {},
     "output_type": "execute_result"
    }
   ],
   "source": [
    "temp_play = allPlays[0]\n",
    "temp_play.keys()"
   ]
  },
  {
   "cell_type": "code",
   "execution_count": 37,
   "metadata": {},
   "outputs": [
    {
     "data": {
      "text/plain": [
       "{'type': 'atBat',\n",
       " 'event': 'Single',\n",
       " 'eventType': 'single',\n",
       " 'description': 'Adam Frazier singles on a line drive to center fielder A.  J. Pollock, deflected by shortstop Corey Seager.',\n",
       " 'rbi': 0,\n",
       " 'awayScore': 0,\n",
       " 'homeScore': 0}"
      ]
     },
     "execution_count": 37,
     "metadata": {},
     "output_type": "execute_result"
    }
   ],
   "source": [
    "temp_play['result']"
   ]
  },
  {
   "cell_type": "code",
   "execution_count": 38,
   "metadata": {},
   "outputs": [
    {
     "data": {
      "text/plain": [
       "{'atBatIndex': 0,\n",
       " 'halfInning': 'top',\n",
       " 'isTopInning': True,\n",
       " 'inning': 1,\n",
       " 'startTime': '2019-04-26T20:59:22.000Z',\n",
       " 'endTime': '2019-04-27T02:11:08.000Z',\n",
       " 'isComplete': True,\n",
       " 'isScoringPlay': False,\n",
       " 'hasReview': False,\n",
       " 'hasOut': False,\n",
       " 'captivatingIndex': 33}"
      ]
     },
     "execution_count": 38,
     "metadata": {},
     "output_type": "execute_result"
    }
   ],
   "source": [
    "temp_play['about']"
   ]
  },
  {
   "cell_type": "code",
   "execution_count": 39,
   "metadata": {},
   "outputs": [
    {
     "data": {
      "text/plain": [
       "{'balls': 0, 'strikes': 2, 'outs': 0}"
      ]
     },
     "execution_count": 39,
     "metadata": {},
     "output_type": "execute_result"
    }
   ],
   "source": [
    "temp_play['count']"
   ]
  },
  {
   "cell_type": "markdown",
   "metadata": {},
   "source": [
    "'playEvents' will give us a list of dictionaries for pitches and events that happened during the play. We'll use the 'pitchIndex' and 'actionIndex' to access these details later."
   ]
  },
  {
   "cell_type": "code",
   "execution_count": 40,
   "metadata": {},
   "outputs": [
    {
     "name": "stdout",
     "output_type": "stream",
     "text": [
      "[0, 1, 2] [3, 4, 5]\n"
     ]
    },
    {
     "data": {
      "text/plain": [
       "True"
      ]
     },
     "execution_count": 40,
     "metadata": {},
     "output_type": "execute_result"
    }
   ],
   "source": [
    "print(temp_play['actionIndex'],temp_play['pitchIndex'])\n",
    "len(temp_play['playEvents']) == ( len(temp_play['actionIndex']) \n",
    "                                 + len(temp_play['pitchIndex'])\n",
    "                                )"
   ]
  },
  {
   "cell_type": "code",
   "execution_count": 84,
   "metadata": {},
   "outputs": [
    {
     "data": {
      "text/plain": [
       "'Left'"
      ]
     },
     "execution_count": 84,
     "metadata": {},
     "output_type": "execute_result"
    }
   ],
   "source": [
    "temp_play['matchup']['batSide']['description']"
   ]
  },
  {
   "cell_type": "code",
   "execution_count": 92,
   "metadata": {},
   "outputs": [
    {
     "data": {
      "text/plain": [
       "547943"
      ]
     },
     "execution_count": 92,
     "metadata": {},
     "output_type": "execute_result"
    }
   ],
   "source": [
    "temp_play['matchup']['pitcher']['id']"
   ]
  },
  {
   "cell_type": "code",
   "execution_count": 72,
   "metadata": {},
   "outputs": [
    {
     "data": {
      "text/plain": [
       "datetime.datetime(2019, 4, 26, 20, 59, 22)"
      ]
     },
     "execution_count": 72,
     "metadata": {},
     "output_type": "execute_result"
    }
   ],
   "source": [
    "def string_to_dateTime(string):\n",
    "    fmt=\"%Y-%m-%dT%H:%M:%S.%fZ\"\n",
    "    return dt.strptime(string,fmt)\n",
    "string_to_dateTime('2019-04-26T20:59:22.000Z')"
   ]
  },
  {
   "cell_type": "code",
   "execution_count": 97,
   "metadata": {},
   "outputs": [],
   "source": [
    "def parse_play(play):\n",
    "    play_dict = play['result']\n",
    "    play_dict.update(play['about'])\n",
    "    play_dict.update(play['count'])\n",
    "    \n",
    "    for t in ['startTime','endTime']:\n",
    "        play_dict[t]=string_to_dateTime(play_dict[t])\n",
    "        \n",
    "    for player in ['batter','pitcher']:\n",
    "        try:\n",
    "            play_dict[f\"{player}_id\"] = play['matchup'][player]['id']\n",
    "        except:\n",
    "            pass\n",
    "    return play_dict"
   ]
  },
  {
   "cell_type": "code",
   "execution_count": 98,
   "metadata": {},
   "outputs": [
    {
     "data": {
      "text/plain": [
       "{'type': 'atBat',\n",
       " 'event': 'Single',\n",
       " 'eventType': 'single',\n",
       " 'description': 'Adam Frazier singles on a line drive to center fielder A.  J. Pollock, deflected by shortstop Corey Seager.',\n",
       " 'rbi': 0,\n",
       " 'awayScore': 0,\n",
       " 'homeScore': 0,\n",
       " 'atBatIndex': 0,\n",
       " 'halfInning': 'top',\n",
       " 'isTopInning': True,\n",
       " 'inning': 1,\n",
       " 'startTime': datetime.datetime(2019, 4, 26, 20, 59, 22),\n",
       " 'endTime': datetime.datetime(2019, 4, 27, 2, 11, 8),\n",
       " 'isComplete': True,\n",
       " 'isScoringPlay': False,\n",
       " 'hasReview': False,\n",
       " 'hasOut': False,\n",
       " 'captivatingIndex': 33,\n",
       " 'balls': 0,\n",
       " 'strikes': 2,\n",
       " 'outs': 0,\n",
       " 'batter_id': 624428,\n",
       " 'pitcher_id': 547943}"
      ]
     },
     "execution_count": 98,
     "metadata": {},
     "output_type": "execute_result"
    }
   ],
   "source": [
    "parse_play(temp_play)"
   ]
  },
  {
   "cell_type": "code",
   "execution_count": 101,
   "metadata": {},
   "outputs": [],
   "source": [
    "def get_plays(API_result):\n",
    "    #foreign key references games table\n",
    "    gamePk={'gamePk':API_result['gamePk']}\n",
    "    \n",
    "    allPlays = API_result['liveData']['plays']['allPlays']\n",
    "    plays = [parse_play(play) for play in allPlays] \n",
    "    [play.update(gamePk) for play in plays]\n",
    "    return plays"
   ]
  },
  {
   "cell_type": "code",
   "execution_count": 103,
   "metadata": {},
   "outputs": [],
   "source": [
    "plays = get_plays(api_call)"
   ]
  },
  {
   "cell_type": "code",
   "execution_count": 106,
   "metadata": {},
   "outputs": [
    {
     "data": {
      "text/plain": [
       "['type',\n",
       " 'event',\n",
       " 'eventType',\n",
       " 'description',\n",
       " 'rbi',\n",
       " 'awayScore',\n",
       " 'homeScore',\n",
       " 'atBatIndex',\n",
       " 'halfInning',\n",
       " 'isTopInning',\n",
       " 'inning',\n",
       " 'startTime',\n",
       " 'endTime',\n",
       " 'isComplete',\n",
       " 'isScoringPlay',\n",
       " 'hasReview',\n",
       " 'hasOut',\n",
       " 'captivatingIndex',\n",
       " 'balls',\n",
       " 'strikes',\n",
       " 'outs',\n",
       " 'batter_id',\n",
       " 'pitcher_id',\n",
       " 'gamePk']"
      ]
     },
     "execution_count": 106,
     "metadata": {},
     "output_type": "execute_result"
    }
   ],
   "source": [
    "list(plays[0].keys())"
   ]
  },
  {
   "cell_type": "code",
   "execution_count": 108,
   "metadata": {},
   "outputs": [
    {
     "data": {
      "text/plain": [
       "[3, 4, 5]"
      ]
     },
     "execution_count": 108,
     "metadata": {},
     "output_type": "execute_result"
    }
   ],
   "source": [
    "temp_play['pitchIndex']"
   ]
  },
  {
   "cell_type": "code",
   "execution_count": 122,
   "metadata": {},
   "outputs": [
    {
     "data": {
      "text/plain": [
       "dict_keys(['details', 'count', 'pitchData', 'index', 'pfxId', 'playId', 'pitchNumber', 'startTime', 'endTime', 'isPitch', 'type'])"
      ]
     },
     "execution_count": 122,
     "metadata": {},
     "output_type": "execute_result"
    }
   ],
   "source": [
    "temp_pitch = temp_play['playEvents'][4]\n",
    "temp_pitch.keys()"
   ]
  },
  {
   "cell_type": "code",
   "execution_count": 117,
   "metadata": {},
   "outputs": [
    {
     "data": {
      "text/plain": [
       "{'call': {'code': 'C', 'description': 'Strike - Called'},\n",
       " 'description': 'Called Strike',\n",
       " 'code': 'C',\n",
       " 'ballColor': 'rgba(170, 21, 11, 1.0)',\n",
       " 'trailColor': 'rgba(187, 0, 69, 1.0)',\n",
       " 'isInPlay': False,\n",
       " 'isStrike': True,\n",
       " 'isBall': False,\n",
       " 'type': {'code': 'FT', 'description': 'Two-Seam Fastball'},\n",
       " 'hasReview': False}"
      ]
     },
     "execution_count": 117,
     "metadata": {},
     "output_type": "execute_result"
    }
   ],
   "source": [
    "temp_pitch['details']"
   ]
  },
  {
   "cell_type": "code",
   "execution_count": 118,
   "metadata": {},
   "outputs": [
    {
     "data": {
      "text/plain": [
       "{'balls': 0, 'strikes': 1}"
      ]
     },
     "execution_count": 118,
     "metadata": {},
     "output_type": "execute_result"
    }
   ],
   "source": [
    "temp_pitch['count']"
   ]
  },
  {
   "cell_type": "code",
   "execution_count": 120,
   "metadata": {},
   "outputs": [
    {
     "data": {
      "text/plain": [
       "'190427_021021'"
      ]
     },
     "execution_count": 120,
     "metadata": {},
     "output_type": "execute_result"
    }
   ],
   "source": [
    "temp_pitch['pfxId']"
   ]
  },
  {
   "cell_type": "code",
   "execution_count": 123,
   "metadata": {},
   "outputs": [
    {
     "data": {
      "text/plain": [
       "'167de964-ea16-449b-ba64-2497bcc9fd5b'"
      ]
     },
     "execution_count": 123,
     "metadata": {},
     "output_type": "execute_result"
    }
   ],
   "source": [
    "temp_pitch['playId']"
   ]
  },
  {
   "cell_type": "code",
   "execution_count": 124,
   "metadata": {},
   "outputs": [
    {
     "data": {
      "text/plain": [
       "2"
      ]
     },
     "execution_count": 124,
     "metadata": {},
     "output_type": "execute_result"
    }
   ],
   "source": [
    "temp_pitch['pitchNumber']"
   ]
  },
  {
   "cell_type": "code",
   "execution_count": 125,
   "metadata": {},
   "outputs": [
    {
     "ename": "SyntaxError",
     "evalue": "invalid syntax (<ipython-input-125-1103ba4a9278>, line 3)",
     "output_type": "error",
     "traceback": [
      "\u001b[0;36m  File \u001b[0;32m\"<ipython-input-125-1103ba4a9278>\"\u001b[0;36m, line \u001b[0;32m3\u001b[0m\n\u001b[0;31m    if type(v)==dict()\u001b[0m\n\u001b[0m                      ^\u001b[0m\n\u001b[0;31mSyntaxError\u001b[0m\u001b[0;31m:\u001b[0m invalid syntax\n"
     ]
    }
   ],
   "source": [
    "p = {}\n",
    "for k,v in temp_pitch.items():\n",
    "    if type(v)==dict():\n",
    "        \n",
    "    "
   ]
  },
  {
   "cell_type": "code",
   "execution_count": 107,
   "metadata": {},
   "outputs": [
    {
     "data": {
      "text/plain": [
       "565812"
      ]
     },
     "execution_count": 107,
     "metadata": {},
     "output_type": "execute_result"
    }
   ],
   "source": [
    "def get_pitches(API_call):\n",
    "    #foreign key references games table\n",
    "    gamePk={'gamePk':API_result['gamePk']}\n",
    "    \n",
    "    allPlays = API_result['liveData']['plays']['allPlays']\n",
    "    \n",
    "    for p"
   ]
  },
  {
   "cell_type": "code",
   "execution_count": null,
   "metadata": {},
   "outputs": [],
   "source": []
  }
 ],
 "metadata": {
  "kernelspec": {
   "display_name": "Python 3",
   "language": "python",
   "name": "python3"
  },
  "language_info": {
   "codemirror_mode": {
    "name": "ipython",
    "version": 3
   },
   "file_extension": ".py",
   "mimetype": "text/x-python",
   "name": "python",
   "nbconvert_exporter": "python",
   "pygments_lexer": "ipython3",
   "version": "3.7.3"
  }
 },
 "nbformat": 4,
 "nbformat_minor": 4
}
