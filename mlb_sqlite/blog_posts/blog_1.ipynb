{
 "cells": [
  {
   "cell_type": "markdown",
   "metadata": {},
   "source": [
    "# Leveraging SQLAlchemy ORM to Store and Retrieve MLB Stats"
   ]
  },
  {
   "cell_type": "markdown",
   "metadata": {},
   "source": [
    "## Table of Contents\n",
    "\n",
    "[Part 1: Exploring the MLB API](#part-1)\n",
    "- [1a. Install and Import](#part-1a)\n",
    "- [1b. Get GamePks](#part-1b)\n",
    "- [1c. The 'Game' Endpoint](#part-1c)\n",
    "\n",
    "---"
   ]
  },
  {
   "cell_type": "markdown",
   "metadata": {},
   "source": [
    "### The SQLAlchemy Object Relational Mapper automatically constructs higher-level SQL and automates persistence of python objects.\n",
    "We're going to query the MLB API using a python wrapper created by Todd Roberts and store the information in a SQLite database for future analysis. \n",
    "\n",
    "---"
   ]
  },
  {
   "cell_type": "markdown",
   "metadata": {},
   "source": [
    "<a id='part-1'></a>"
   ]
  },
  {
   "cell_type": "markdown",
   "metadata": {},
   "source": [
    "## Part 1: Exploring the MLB API\n",
    "Todd Roberts' python wrapper is part of the python package index. You can find more information [here](https://pypi.org/project/MLB-StatsAPI/) or on [GitHub](https://github.com/toddrob99/MLB-StatsAPI)."
   ]
  },
  {
   "cell_type": "markdown",
   "metadata": {},
   "source": [
    "<a id='part-1a'></a>"
   ]
  },
  {
   "cell_type": "markdown",
   "metadata": {},
   "source": [
    "First, we have to install it and import it."
   ]
  },
  {
   "cell_type": "code",
   "execution_count": 1,
   "metadata": {},
   "outputs": [],
   "source": [
    "import sys\n",
    "#pip install \n",
    "#!{sys.executable} -m pip install MLB-StatsAPI\n",
    "\n",
    "import statsapi as mlb"
   ]
  },
  {
   "cell_type": "markdown",
   "metadata": {},
   "source": [
    "Todd was nice enough to give us several convenient functions for accessing the API's endpoints. The most flexible/powerful of these is the get() function that takes in an endpoint and returns the raw JSON response from the MLB Stats API. You can find a dictionary with the endpoint configuration by accessing the ENDPOINTS global variable. To get notes for a given endpoint, use the notes() method."
   ]
  },
  {
   "cell_type": "code",
   "execution_count": 2,
   "metadata": {},
   "outputs": [
    {
     "data": {
      "text/plain": [
       "['attendance',\n",
       " 'awards',\n",
       " 'conferences',\n",
       " 'divisions',\n",
       " 'draft',\n",
       " 'game',\n",
       " 'game_diff',\n",
       " 'game_timestamps',\n",
       " 'game_changes',\n",
       " 'game_contextMetrics']"
      ]
     },
     "execution_count": 2,
     "metadata": {},
     "output_type": "execute_result"
    }
   ],
   "source": [
    "list(mlb.ENDPOINTS.keys())[:10]"
   ]
  },
  {
   "cell_type": "code",
   "execution_count": 3,
   "metadata": {},
   "outputs": [
    {
     "name": "stdout",
     "output_type": "stream",
     "text": [
      "Endpoint: game \n",
      "All path parameters: ['ver', 'gamePk']. \n",
      "Required path parameters (note: ver will be included by default): ['ver', 'gamePk']. \n",
      "All query parameters: ['timecode', 'hydrate', 'fields']. \n",
      "Required query parameters: None. \n",
      "The hydrate function is supported by this endpoint. Call the endpoint with {'hydrate':'hydrations'} in the parameters to return a list of available hydrations. For example, statsapi.get('schedule',{'sportId':1,'hydrate':'hydrations','fields':'hydrations'})\n",
      "\n"
     ]
    }
   ],
   "source": [
    "print(mlb.notes('game'))"
   ]
  },
  {
   "cell_type": "markdown",
   "metadata": {},
   "source": [
    "<a id='part-1b'></a>"
   ]
  },
  {
   "cell_type": "markdown",
   "metadata": {},
   "source": [
    "#### Get GamePks"
   ]
  },
  {
   "cell_type": "code",
   "execution_count": 4,
   "metadata": {},
   "outputs": [],
   "source": [
    "from datetime import datetime as dt\n",
    "import os,re,csv\n",
    "from os import walk\n",
    "\n",
    "#dates from the 'season' endpoint are returned in a different format than what we need to query the API\n",
    "#we'll use this function to take care of that in a moment\n",
    "def convert_date(date):\n",
    "    date = dt.strptime(date,\"%Y-%m-%d\")\n",
    "    convertedDate = dt.strftime(date,\"%m/%d/%Y\")\n",
    "    return convertedDate\n",
    "\n",
    "def get_gamePks(seasons,target_directory=None):\n",
    "    \"\"\"\n",
    "    Takes in a list of seasons as strings representing their year e.g. ['2018','2019']\n",
    "    Queries the MLB API to find gamePks for each season and writes them to CSV files\n",
    "    if a target directory for the gamePks is not specified, a directory called 'gamePks'\n",
    "    will be added to the current directory. \n",
    "    \"\"\"\n",
    "    if target_directory:\n",
    "        gamePks_path = target_directory\n",
    "    else:\n",
    "        #create a directory to store CSVs\n",
    "        try:\n",
    "            os.mkdir(os.getcwd()+'/gamePks')\n",
    "        except FileExistsError:\n",
    "            pass\n",
    "        gamePks_path=os.getcwd()+'/gamePks'\n",
    "    \n",
    "    #walk the gamePks directory to see if we've already added any seasons\n",
    "    f = []\n",
    "    for (dirpath, dirnames, filenames) in walk(gamePks_path):\n",
    "        f.extend(filenames)\n",
    "        break\n",
    "    years = [re.findall('[^.csv]+',x) for x in f]\n",
    "    already_added = [item for sublist in years for item in sublist if item[0] in ['1','2']]\n",
    "    seasons = list(set(seasons)-set(already_added))\n",
    "    \n",
    "    #query the API to get start dates and end dates for all seasons\n",
    "    all_seasons = mlb.get('seasons',{'sportId':1,'all':True})['seasons']\n",
    "    \n",
    "    #filter out the ones we don't care about right now\n",
    "    seasons = list(filter(lambda x: x['seasonId'] in seasons,all_seasons))\n",
    "    \n",
    "    gamePks = {}\n",
    "    for season in seasons:  \n",
    "        year = season['seasonId']\n",
    "        startDate = convert_date(season['seasonStartDate'])\n",
    "        endDate = convert_date(season['seasonEndDate'])\n",
    "        \n",
    "        #returns a list of dicts for each date in the range\n",
    "        #each dict has a 'games' key with a list of dicts for each game in that day as values\n",
    "        dates = mlb.get('schedule',{'sportId':1,'startDate':startDate,'endDate':endDate})['dates']\n",
    "        \n",
    "        #for each date, and for each game in that date, get the gamePk \n",
    "        gamePks[year]= [ game['gamePk'] \n",
    "                                          for date in dates \n",
    "                                          for game in date['games'] ]\n",
    "        #store the gamePks as CSVs\n",
    "        with open(gamePks_path + f\"/{year}.csv\", 'w',newline='') as myfile:\n",
    "            wr = csv.writer(myfile,quoting=csv.QUOTE_ALL)\n",
    "            wr.writerow(gamePks[year])\n",
    "\n",
    "def read_gamePks():\n",
    "    gamePks_path = os.curdir+'/gamePks'\n",
    "    f = []\n",
    "    for (dirpath, dirnames, filenames) in walk(gamePks_path):\n",
    "        f.extend(filenames)\n",
    "        break\n",
    "    pk_paths = [gamePks_path + '/' + x for x in f if x[0]!= '.']\n",
    "    \n",
    "    gamePks = {}\n",
    "    for path in pk_paths:\n",
    "        season = re.findall('/gamePks/([^.csv]+)',path)\n",
    "        with open(path, 'r') as f:\n",
    "            reader = csv.reader(f)\n",
    "            seasonPks = list(reader)\n",
    "        gamePks[season[0]] = [item for sublist in seasonPks for item in sublist]\n",
    "    return gamePks"
   ]
  },
  {
   "cell_type": "code",
   "execution_count": 5,
   "metadata": {},
   "outputs": [],
   "source": [
    "get_gamePks([str(x) for x in range(2008,2020)])   \n",
    "\n",
    "gamePks=read_gamePks()"
   ]
  },
  {
   "cell_type": "markdown",
   "metadata": {},
   "source": [
    "<a id='part-1c'></a>"
   ]
  },
  {
   "cell_type": "markdown",
   "metadata": {},
   "source": [
    "#### Explore the 'Game' Endpoint"
   ]
  },
  {
   "cell_type": "markdown",
   "metadata": {},
   "source": [
    "Let's pick a gamePk at random to see what's inside the 'game' endpoint. There is a TON of information stored in nested dictionaries returned from the API query. Since our goal is to store this information in a SQL database, our aim is to organize the information into [first normal form](https://www.essentialsql.com/get-ready-to-learn-sql-8-database-first-normal-form-explained-in-simple-english/).\n",
    "\n",
    "From this single result, we'll be able to start building [normalized SQL tables](https://www.essentialsql.com/get-ready-to-learn-sql-database-normalization-explained-in-simple-english/) for games, teams, venues, players, plays, and pitches. Let's start with the games table. "
   ]
  },
  {
   "cell_type": "code",
   "execution_count": 6,
   "metadata": {},
   "outputs": [
    {
     "name": "stdout",
     "output_type": "stream",
     "text": [
      "565812\n"
     ]
    }
   ],
   "source": [
    "temp_pk=gamePks['2019'][501]\n",
    "print(temp_pk) \n",
    "game_result = mlb.get('game',{'gamePk':temp_pk})"
   ]
  },
  {
   "cell_type": "code",
   "execution_count": 7,
   "metadata": {},
   "outputs": [
    {
     "data": {
      "text/plain": [
       "dict_keys(['copyright', 'gamePk', 'link', 'metaData', 'gameData', 'liveData'])"
      ]
     },
     "execution_count": 7,
     "metadata": {},
     "output_type": "execute_result"
    }
   ],
   "source": [
    "game_result.keys()"
   ]
  },
  {
   "cell_type": "code",
   "execution_count": 8,
   "metadata": {},
   "outputs": [
    {
     "data": {
      "text/plain": [
       "dict_keys(['game', 'datetime', 'status', 'teams', 'players', 'venue', 'weather', 'review', 'flags', 'alerts', 'probablePitchers', 'officialScorer', 'primaryDatacaster'])"
      ]
     },
     "execution_count": 8,
     "metadata": {},
     "output_type": "execute_result"
    }
   ],
   "source": [
    "gameData = game_result['gameData']\n",
    "gameData.keys()"
   ]
  },
  {
   "cell_type": "code",
   "execution_count": 9,
   "metadata": {},
   "outputs": [
    {
     "data": {
      "text/plain": [
       "{'pk': 565812,\n",
       " 'type': 'R',\n",
       " 'doubleHeader': 'N',\n",
       " 'id': '2019/04/26/pitmlb-lanmlb-1',\n",
       " 'gamedayType': 'P',\n",
       " 'tiebreaker': 'N',\n",
       " 'gameNumber': 1,\n",
       " 'calendarEventID': '14-565812-2019-04-26',\n",
       " 'season': '2019',\n",
       " 'seasonDisplay': '2019'}"
      ]
     },
     "execution_count": 9,
     "metadata": {},
     "output_type": "execute_result"
    }
   ],
   "source": [
    "game = gameData['game']\n",
    "game"
   ]
  },
  {
   "cell_type": "markdown",
   "metadata": {},
   "source": [
    "The dictionary above, nested 2 layers deep into the original API result, provides us with a good starting point. But we're goint to add some additional information to make our games table more informative"
   ]
  },
  {
   "cell_type": "code",
   "execution_count": 10,
   "metadata": {},
   "outputs": [
    {
     "data": {
      "text/plain": [
       "{'dateTime': '2019-04-27T02:10:00Z',\n",
       " 'originalDate': '2019-04-26',\n",
       " 'dayNight': 'night',\n",
       " 'time': '7:10',\n",
       " 'ampm': 'PM'}"
      ]
     },
     "execution_count": 10,
     "metadata": {},
     "output_type": "execute_result"
    }
   ],
   "source": [
    "gameData['datetime']"
   ]
  },
  {
   "cell_type": "code",
   "execution_count": 11,
   "metadata": {},
   "outputs": [
    {
     "data": {
      "text/plain": [
       "{'condition': 'Clear', 'temp': '61', 'wind': '2 mph, Varies'}"
      ]
     },
     "execution_count": 11,
     "metadata": {},
     "output_type": "execute_result"
    }
   ],
   "source": [
    "gameData['weather']"
   ]
  },
  {
   "cell_type": "code",
   "execution_count": 12,
   "metadata": {},
   "outputs": [
    {
     "data": {
      "text/plain": [
       "{'id': 'America/Los_Angeles', 'offset': -8, 'tz': 'PST'}"
      ]
     },
     "execution_count": 12,
     "metadata": {},
     "output_type": "execute_result"
    }
   ],
   "source": [
    "gameData['venue']['timeZone']"
   ]
  },
  {
   "cell_type": "code",
   "execution_count": 13,
   "metadata": {},
   "outputs": [
    {
     "data": {
      "text/plain": [
       "{'abstractGameState': 'Final',\n",
       " 'codedGameState': 'F',\n",
       " 'detailedState': 'Final',\n",
       " 'statusCode': 'F',\n",
       " 'abstractGameCode': 'F'}"
      ]
     },
     "execution_count": 13,
     "metadata": {},
     "output_type": "execute_result"
    }
   ],
   "source": [
    "gameData['status']"
   ]
  },
  {
   "cell_type": "code",
   "execution_count": 14,
   "metadata": {},
   "outputs": [
    {
     "data": {
      "text/plain": [
       "{'pk': 565812,\n",
       " 'type': 'R',\n",
       " 'doubleHeader': 'N',\n",
       " 'id': '2019/04/26/pitmlb-lanmlb-1',\n",
       " 'gamedayType': 'P',\n",
       " 'tiebreaker': 'N',\n",
       " 'gameNumber': 1,\n",
       " 'calendarEventID': '14-565812-2019-04-26',\n",
       " 'season': '2019',\n",
       " 'dateTime': '2019-04-27T02:10:00Z',\n",
       " 'originalDate': '2019-04-26',\n",
       " 'condition': 'Clear',\n",
       " 'temp': '61',\n",
       " 'wind': '2 mph, Varies',\n",
       " 'tz': 'PST'}"
      ]
     },
     "execution_count": 14,
     "metadata": {},
     "output_type": "execute_result"
    }
   ],
   "source": [
    "#keys to add\n",
    "keys_to_add = ['dateTime',\n",
    "          'originalDate',\n",
    "          'condition',\n",
    "          'temp','wind','tz']\n",
    "#dictionaries from which to add them\n",
    "dicts = [gameData['datetime'],\n",
    "         gameData['weather'],\n",
    "         gameData['venue']['timeZone']\n",
    "        ]\n",
    "\n",
    "for k in keys_to_add:\n",
    "    for d in dicts:\n",
    "        try:\n",
    "            game[k]=d[k]\n",
    "        except KeyError:\n",
    "            continue\n",
    "#'seasonDisplay' key:value seems to be redundant\n",
    "del game['seasonDisplay']\n",
    "game"
   ]
  },
  {
   "cell_type": "code",
   "execution_count": 15,
   "metadata": {},
   "outputs": [
    {
     "data": {
      "text/plain": [
       "{'away': {'id': 502042,\n",
       "  'fullName': 'Archer, Chris',\n",
       "  'link': '/api/v1/people/502042'},\n",
       " 'home': {'id': 547943,\n",
       "  'fullName': 'Ryu, Hyun-Jin',\n",
       "  'link': '/api/v1/people/547943'}}"
      ]
     },
     "execution_count": 15,
     "metadata": {},
     "output_type": "execute_result"
    }
   ],
   "source": [
    "gameData['probablePitchers']"
   ]
  },
  {
   "cell_type": "code",
   "execution_count": 16,
   "metadata": {},
   "outputs": [],
   "source": [
    "def get_game(api_call):\n",
    "    gameData = api_call['gameData']\n",
    "    dateTime = gameData['datetime']\n",
    "    game = gameData['game']\n",
    "    weather = gameData['weather']\n",
    "    timeZone = gameData['venue']['timeZone']\n",
    "    status = gameData['status']\n",
    "    probablePitchers = gameData['probablePitchers']\n",
    "    \n",
    "    keys_to_add = ['dateTime','originalDate',\n",
    "                   'condition','temp','wind',\n",
    "                   'tz','detailedState'\n",
    "                  ]\n",
    "    dicts = [weather,dateTime,timeZone,status]\n",
    "    for k in keys_to_add:\n",
    "        for d in dicts:\n",
    "            try:\n",
    "                game[k]=d[k]\n",
    "            except KeyError:\n",
    "                continue\n",
    "    #'seasonDisplay' key:value seems to be redundant\n",
    "    del game['seasonDisplay']\n",
    "    \n",
    "    home_team = gameData['teams']['home']\n",
    "    away_team = gameData['teams']['away']\n",
    "    \n",
    "    game['homeTeam_id'] = home_team['id']\n",
    "    game['awayTeam_id'] = away_team['id']\n",
    "    \n",
    "    game['venue_id'] = gameData['venue']['id']\n",
    "    \n",
    "    for team in ['home','away']:\n",
    "        try:\n",
    "            game[f\"{team}_probablePitcher\"]=probablePitchers[team]['id']\n",
    "        except KeyError:\n",
    "            pass\n",
    "    \n",
    "    #format the dateTime and originalDate\n",
    "    fmt = \"%Y-%m-%dT%H:%M:%SZ\" \n",
    "    game['dateTime'] = dt.strptime(game['dateTime'],fmt)\n",
    "    fmt = \"%Y-%m-%d\"\n",
    "    game['originalDate'] = dt.strptime(game['originalDate'],fmt).date()\n",
    "    \n",
    "    return game\n",
    "api_call = mlb.get('game',{'gamePk':temp_pk})\n",
    "game = get_game(api_call)"
   ]
  },
  {
   "cell_type": "markdown",
   "metadata": {},
   "source": [
    "## API calls\n",
    "What's the best way to automate API calls when needed?"
   ]
  },
  {
   "cell_type": "code",
   "execution_count": 17,
   "metadata": {},
   "outputs": [],
   "source": [
    "def api_calls(gamePks):\n",
    "    return ( mlb.get('game',{'gamePk':gamePk}) for gamePk in gamePks )"
   ]
  },
  {
   "cell_type": "code",
   "execution_count": 18,
   "metadata": {},
   "outputs": [],
   "source": [
    "calls = api_calls(gamePks['2019'][500:600])"
   ]
  },
  {
   "cell_type": "code",
   "execution_count": 19,
   "metadata": {},
   "outputs": [],
   "source": [
    "#test = [get_game(x) for x in calls]"
   ]
  },
  {
   "cell_type": "markdown",
   "metadata": {},
   "source": [
    "<a id='part-2'></a>"
   ]
  },
  {
   "cell_type": "markdown",
   "metadata": {},
   "source": [
    "## Introducing SQL Alchemy"
   ]
  },
  {
   "cell_type": "code",
   "execution_count": 20,
   "metadata": {},
   "outputs": [],
   "source": [
    "import sqlalchemy\n",
    "from sqlalchemy import create_engine,PrimaryKeyConstraint,UniqueConstraint"
   ]
  },
  {
   "cell_type": "code",
   "execution_count": 21,
   "metadata": {},
   "outputs": [
    {
     "name": "stdout",
     "output_type": "stream",
     "text": [
      "Engine(sqlite://///Users/schlinkertc/code/MLB/mlb_sqlite/blog_posts/mlb.db)\n"
     ]
    }
   ],
   "source": [
    "class MyDatabase:\n",
    "    # http://docs.sqlalchemy.org/en/latest/core/engines.html\n",
    "    \"\"\"\n",
    "    Custom class for instantiating a SQL Alchemy connection. Configured here for SQLite, but intended to be flexible.\n",
    "    Credit to Medium user Mahmud Ahsan:\n",
    "    https://medium.com/@mahmudahsan/how-to-use-python-sqlite3-using-sqlalchemy-158f9c54eb32\n",
    "    \"\"\"\n",
    "    DB_ENGINE = {\n",
    "       'sqlite': 'sqlite:////{DB}'\n",
    "    }\n",
    "\n",
    "    # Main DB Connection Ref Obj\n",
    "    db_engine = None\n",
    "    def __init__(self, dbtype, username='', password='', dbname='',path=os.getcwd()+'/'):\n",
    "        dbtype = dbtype.lower()\n",
    "        if dbtype in self.DB_ENGINE.keys():\n",
    "            engine_url = self.DB_ENGINE[dbtype].format(DB=path+dbname)\n",
    "            self.db_engine = create_engine(engine_url)\n",
    "            print(self.db_engine)\n",
    "        else:\n",
    "            print(\"DBType is not found in DB_ENGINE\")\n",
    "db=MyDatabase('sqlite',dbname='mlb.db')"
   ]
  },
  {
   "cell_type": "code",
   "execution_count": 22,
   "metadata": {},
   "outputs": [],
   "source": [
    "from sqlalchemy.ext.declarative import declarative_base\n",
    "Base = declarative_base()\n",
    "\n",
    "from sqlalchemy import Table,Column,Integer,String,DateTime,Date,Boolean\n",
    "\n",
    "class Game(Base):\n",
    "    __tablename__ = 'games'\n",
    "    __table_args__ = (PrimaryKeyConstraint('id','detailedState',sqlite_on_conflict='IGNORE'),\n",
    "                      {'extend_existing': True})\n",
    "    \n",
    "    pk = Column(Integer)\n",
    "    type = Column(String(1))\n",
    "    doubleHeader = Column(String(1))\n",
    "    id = Column(String(150))\n",
    "    gamedayType = Column(String(1))\n",
    "    tiebreaker = Column(String(1))\n",
    "    gameNumber = Column(Integer)\n",
    "    calenderEventId = Column(String(50))\n",
    "    season = Column(Integer)\n",
    "    \n",
    "    dateTime = Column(DateTime)\n",
    "    originalDate = Column(Date)\n",
    "    \n",
    "    detailedState = Column(String(12))\n",
    "    \n",
    "    homeTeam_id = Column(Integer)\n",
    "    awayTeam_id = Column(Integer)\n",
    "    \n",
    "    condition = Column(String(25))\n",
    "    temp = Column(Integer)\n",
    "    wind = Column(String(50))\n",
    "    \n",
    "    venue_id = Column(Integer)\n",
    "    \n",
    "    home_probablePitcher = Column(Integer)\n",
    "    away_probablePitcher = Column(Integer)\n",
    "    \n",
    "    def __repr__(self): \n",
    "        return \"<Game(pk='%s',id='%s')>\" % (\n",
    "                        self.pk, self.id)\n",
    "    \n",
    "    def __init__(self,dictionary):\n",
    "        for k,v in dictionary.items():\n",
    "            setattr(self,k,v)"
   ]
  },
  {
   "cell_type": "code",
   "execution_count": 23,
   "metadata": {},
   "outputs": [],
   "source": [
    "Base.metadata.create_all(db.db_engine)"
   ]
  },
  {
   "cell_type": "code",
   "execution_count": 24,
   "metadata": {},
   "outputs": [],
   "source": [
    "game_record = Game(game)"
   ]
  },
  {
   "cell_type": "code",
   "execution_count": 25,
   "metadata": {},
   "outputs": [],
   "source": [
    "from sqlalchemy.orm import sessionmaker\n",
    "Session = sessionmaker(bind=db.db_engine)\n",
    "session = Session()"
   ]
  },
  {
   "cell_type": "code",
   "execution_count": 26,
   "metadata": {},
   "outputs": [
    {
     "data": {
      "text/plain": [
       "<Game(pk='565812',id='2019/04/26/pitmlb-lanmlb-1')>"
      ]
     },
     "execution_count": 26,
     "metadata": {},
     "output_type": "execute_result"
    }
   ],
   "source": [
    "game_record"
   ]
  },
  {
   "cell_type": "code",
   "execution_count": 27,
   "metadata": {},
   "outputs": [
    {
     "data": {
      "text/plain": [
       "[<Game(pk='565812',id='2019/04/26/pitmlb-lanmlb-1')>]"
      ]
     },
     "execution_count": 27,
     "metadata": {},
     "output_type": "execute_result"
    }
   ],
   "source": [
    "session.add(game_record)\n",
    "\n",
    "session.commit()\n",
    "\n",
    "session.query(Game).all()"
   ]
  },
  {
   "cell_type": "markdown",
   "metadata": {},
   "source": [
    "Now we're going to move on to plays. We're going to set up a one-to-many relationship between games and plays, so we'll need to be able to link the two when we get to the SQLAlchemy stage. With that in mind, we'll start exploring the information embedded in the 'liveData' key of the original API result"
   ]
  },
  {
   "cell_type": "markdown",
   "metadata": {},
   "source": [
    "'allPlays' gives us a list of dictionaries with information about every play. Remember that we're aiming for first normal form, so we don't want any information about pitches, players, or runners at this time. Those will be contained in their own respective tables"
   ]
  },
  {
   "cell_type": "code",
   "execution_count": 28,
   "metadata": {},
   "outputs": [
    {
     "data": {
      "text/plain": [
       "datetime.datetime(2019, 4, 26, 20, 59, 22)"
      ]
     },
     "execution_count": 28,
     "metadata": {},
     "output_type": "execute_result"
    }
   ],
   "source": [
    "def string_to_dateTime(string):\n",
    "    fmt=\"%Y-%m-%dT%H:%M:%S.%fZ\"\n",
    "    return dt.strptime(string,fmt)\n",
    "string_to_dateTime('2019-04-26T20:59:22.000Z')"
   ]
  },
  {
   "cell_type": "code",
   "execution_count": 29,
   "metadata": {},
   "outputs": [],
   "source": [
    "# def parse_play(play):\n",
    "#     play_dict = play['result']\n",
    "#     play_dict.update(play['about'])\n",
    "#     play_dict.update(play['count'])\n",
    "    \n",
    "#     for t in ['startTime','endTime']:\n",
    "#         play_dict[t]=string_to_dateTime(play_dict[t])\n",
    "        \n",
    "#     for player in ['batter','pitcher']:\n",
    "#         try:\n",
    "#             play_dict[f\"{player}_id\"] = play['matchup'][player]['id']\n",
    "#         except:\n",
    "#             pass\n",
    "#     return play_dict"
   ]
  },
  {
   "cell_type": "code",
   "execution_count": 30,
   "metadata": {},
   "outputs": [],
   "source": [
    "# def get_plays(API_result):\n",
    "#     #foreign key references games table\n",
    "#     gamePk={'gamePk':API_result['gamePk']}\n",
    "    \n",
    "#     allPlays = API_result['liveData']['plays']['allPlays']\n",
    "#     plays = [parse_play(play) for play in allPlays] \n",
    "#     [play.update(gamePk) for play in plays]\n",
    "#     return plays"
   ]
  },
  {
   "cell_type": "code",
   "execution_count": 31,
   "metadata": {},
   "outputs": [],
   "source": [
    "def flatten_dicts(dictionary):\n",
    "    \"\"\"\n",
    "    recursively flatten a dictionary of dictionaries\n",
    "    \"\"\"\n",
    "    #base case \n",
    "    if dict not in [type(x) for x in dictionary.values()]:\n",
    "        return dictionary\n",
    "    else:\n",
    "        for key, value in dictionary.items():\n",
    "            if type(value)==dict:\n",
    "                temp_dict = dictionary.pop(key)\n",
    "                for k,v in temp_dict.items():\n",
    "                    dictionary[f\"{key}_{k}\"]=v\n",
    "                return flatten_dicts(dictionary)\n",
    "\n"
   ]
  },
  {
   "cell_type": "code",
   "execution_count": 32,
   "metadata": {},
   "outputs": [],
   "source": [
    "def get_plays(API_result):\n",
    "    #foreign key references games table\n",
    "    gamePk={'gamePk':API_result['gamePk']}\n",
    "    \n",
    "    allPlays = API_result['liveData']['plays']['allPlays']\n",
    "    keys = ['result','about','count']\n",
    "    plays = []\n",
    "    matchups = []\n",
    "    hotColdZones = []\n",
    "    for play in allPlays:\n",
    "        play_dict = {k:v for k,v in zip(keys,[play[key] for key in keys])}.copy()\n",
    "        plays.append(flatten_dicts(play_dict))\n",
    "        matchup = play.pop('matchup')\n",
    "        #foreign keys to play 'atBatIndex', 'playEndTime'\n",
    "        fks=['atBatIndex', 'playEndTime']\n",
    "            \n",
    "        matchup.update(\n",
    "            {k:v for k,v in zip(fks,[play[fk] for fk in fks])}\n",
    "        )\n",
    "        for x in ['pitcher','batter']:\n",
    "            hotColdZone =  matchup.pop(f\"{x}HotColdZones\")\n",
    "            for zone in hotColdZone:\n",
    "                try:\n",
    "                    zone.update(\n",
    "                        matchup.pop(f'{x}HotColdZoneStats')\n",
    "                    )\n",
    "                except KeyError:\n",
    "                    pass\n",
    "                zone.update(\n",
    "                    {k:v for k,v in zip(fks,[play[fk] for fk in fks])}\n",
    "                )\n",
    "                zone.update({'type':x})\n",
    "                hotColdZones.append(flatten_dicts(zone))\n",
    "        \n",
    "        matchups.append(flatten_dicts(matchup))\n",
    "    \n",
    "    [hc.update(gamePk) for hc in hotColdZones]        \n",
    "    [m.update(gamePk) for m in matchups]\n",
    "    [p.update(gamePk) for p in plays]\n",
    "    \n",
    "    hotColdStats = []\n",
    "    for hc in hotColdZones:\n",
    "        try:\n",
    "            stats = hc.pop('stats')\n",
    "        except KeyError:\n",
    "            continue\n",
    "        for stat in stats:\n",
    "            stat.update(gamePk)\n",
    "            stat.update(\n",
    "                {k:v for k,v in zip(fks,[play[fk] for fk in fks])}\n",
    "            )\n",
    "            hotColdStats.append(flatten_dicts(stat))\n",
    "        \n",
    "    return plays,matchups,hotColdZones,hotColdStats\n",
    "        \n",
    "        "
   ]
  },
  {
   "cell_type": "code",
   "execution_count": 33,
   "metadata": {},
   "outputs": [],
   "source": [
    "def get_pitches(API_result):\n",
    "    #foreign key references games table\n",
    "    gamePk={'gamePk':API_result['gamePk']}\n",
    "    \n",
    "    allPlays = API_result['liveData']['plays']['allPlays']\n",
    "    \n",
    "    pitches = []\n",
    "    for play in allPlays:\n",
    "        for i in play['pitchIndex']:\n",
    "            pitch = play['playEvents'][i]\n",
    "            #foreign keys to play 'atBatIndex', 'playEndTime'\n",
    "            fks=['atBatIndex', 'playEndTime']\n",
    "            \n",
    "            pitch.update(\n",
    "                {k:v for k,v in zip(fks,[play[fk] for fk in fks])}\n",
    "            )\n",
    "            \n",
    "            pitches.append(flatten_dicts(pitch))\n",
    "    \n",
    "    [p.update(gamePk) for p in pitches]\n",
    "    return pitches"
   ]
  },
  {
   "cell_type": "code",
   "execution_count": 34,
   "metadata": {},
   "outputs": [],
   "source": [
    "def get_runners(API_result):\n",
    "    #foreign key references games table\n",
    "    gamePk={'gamePk':API_result['gamePk']}\n",
    "    \n",
    "    allPlays = API_result['liveData']['plays']['allPlays']\n",
    "    \n",
    "    runners = []\n",
    "    credits = []\n",
    "    for play in allPlays:\n",
    "        for i in play['runnerIndex']:\n",
    "            runner = play['runners'][i]\n",
    "            \n",
    "            fks=['atBatIndex', 'playEndTime']\n",
    "            \n",
    "            runner.update(\n",
    "                {k:v for k,v in zip(fks,[play[fk] for fk in fks])}\n",
    "            )\n",
    "            try:\n",
    "                temp_credits = runner.pop('credits')\n",
    "                \n",
    "                for credit in temp_credits:\n",
    "                    credit.update({k:v for k,v in zip(fks,[play[fk] for fk in fks])})\n",
    "                \n",
    "                    credits.append(flatten_dicts(credit))\n",
    "            except KeyError:\n",
    "                pass \n",
    "            runners.append(flatten_dicts(runner))\n",
    "    \n",
    "    [r.update(gamePk) for r in runners]\n",
    "    return runners,credits"
   ]
  },
  {
   "cell_type": "code",
   "execution_count": 35,
   "metadata": {},
   "outputs": [],
   "source": [
    "def get_actions(API_result):\n",
    "    #foreign key references games table\n",
    "    gamePk={'gamePk':API_result['gamePk']}\n",
    "    \n",
    "    allPlays = API_result['liveData']['plays']['allPlays']\n",
    "    \n",
    "    actions = []\n",
    "    for play in allPlays:\n",
    "        for i in play['actionIndex']:\n",
    "            action = play['playEvents'][i]\n",
    "            #foreign keys to play 'atBatIndex', 'playEndTime'\n",
    "            fks=['atBatIndex', 'playEndTime']\n",
    "            \n",
    "            action.update(\n",
    "                {k:v for k,v in zip(fks,[play[fk] for fk in fks])}\n",
    "            )\n",
    "            \n",
    "            actions.append(flatten_dicts(action))\n",
    "    \n",
    "    [a.update(gamePk) for a in actions]\n",
    "    return actions"
   ]
  },
  {
   "cell_type": "code",
   "execution_count": 36,
   "metadata": {},
   "outputs": [],
   "source": [
    "def get_players(API_result):\n",
    "    #fk for game_player_link\n",
    "    gamePk=API_result['gamePk']\n",
    "    \n",
    "    players = API_result['gameData']['players']\n",
    "    players = [flatten_dicts(players[player_id]) for player_id in players.keys()]\n",
    "    \n",
    "    game_player_links = []\n",
    "    for player in players:\n",
    "        link = {'player':player['id'],'gamePk':gamePk}\n",
    "        game_player_links.append(link)\n",
    "    \n",
    "    return players,game_player_links"
   ]
  },
  {
   "cell_type": "code",
   "execution_count": 37,
   "metadata": {},
   "outputs": [],
   "source": [
    "players,game_player_links = get_players(api_call)"
   ]
  },
  {
   "cell_type": "code",
   "execution_count": 38,
   "metadata": {},
   "outputs": [],
   "source": [
    "def get_teams(API_result):\n",
    "    #fk for game_team_link\n",
    "    gamePk=API_result['gamePk']\n",
    "    teams_dict = API_result['gameData']['teams']\n",
    "    \n",
    "    teams = []\n",
    "    links = []\n",
    "    team_records = []\n",
    "    for key in ['home','away']:\n",
    "        team = teams_dict[key]\n",
    "        \n",
    "        team_record = team.pop('record')\n",
    "        team_record.update({'gamePk':gamePk})\n",
    "        team_records.append(team_record)\n",
    "        \n",
    "        teams.append(flatten_dicts(team))\n",
    "        \n",
    "        link = {'gamePk':gamePk,\n",
    "                'team_id':team['id'],\n",
    "                'home_away':key}\n",
    "        links.append(link)\n",
    "        \n",
    "    return teams, links, team_records"
   ]
  },
  {
   "cell_type": "code",
   "execution_count": 39,
   "metadata": {},
   "outputs": [],
   "source": [
    "def get_venue(API_result):\n",
    "    venue = API_result['gameData']['venue']\n",
    "    return flatten_dicts(venue)"
   ]
  },
  {
   "cell_type": "code",
   "execution_count": 40,
   "metadata": {},
   "outputs": [],
   "source": [
    "import pandas as pd\n",
    "\n",
    "test_gamePks = gamePks['2019'][::300]"
   ]
  },
  {
   "cell_type": "code",
   "execution_count": 41,
   "metadata": {},
   "outputs": [],
   "source": [
    "def parse_games(gamePks):\n",
    "    api_results=api_calls(gamePks)\n",
    "    tables = ['games','plays','pitches',\n",
    "              'runners','credits','actions',\n",
    "              'teams','venues','game_team_links',\n",
    "              'game_player_links','team_records',\n",
    "              'players','matchups','hotColdZones','hotColdStats']\n",
    "    dfs = {}\n",
    "    for table in tables:\n",
    "        dfs[table]=[]\n",
    "    for result in api_results:\n",
    "        dfs['games'].append(get_game(result))\n",
    "        dfs['venues'].append(get_venue(result))\n",
    "        dfs['pitches'].extend(get_pitches(result))\n",
    "        dfs['actions'].extend(get_actions(result))\n",
    "        \n",
    "        plays,matchups,hotColdZones,hotColdStats = get_plays(result)\n",
    "        dfs['plays'].extend(plays)\n",
    "        dfs['matchups'].extend(matchups)\n",
    "        dfs['hotColdZones'].extend(hotColdZones)\n",
    "        dfs['hotColdStats'].extend(hotColdStats)\n",
    "        \n",
    "        runners,credits = get_runners(result)\n",
    "        dfs['runners'].extend(runners)\n",
    "        dfs['credits'].extend(credits)\n",
    "        \n",
    "        teams, game_team_links, team_records = get_teams(result)\n",
    "        dfs['teams'].extend(teams)\n",
    "        dfs['game_team_links'].extend(game_team_links)\n",
    "        dfs['team_records'].extend(team_records)\n",
    "        \n",
    "        players,game_player_links = get_players(result)\n",
    "        dfs['players'].extend(players)\n",
    "        dfs['game_player_links'].extend(game_player_links)\n",
    "    for key in dfs.keys():\n",
    "        dfs[key]=pd.DataFrame.from_records(dfs[key])\n",
    "    return dfs\n",
    "        \n",
    "    "
   ]
  },
  {
   "cell_type": "code",
   "execution_count": 42,
   "metadata": {},
   "outputs": [],
   "source": [
    "import joblib"
   ]
  },
  {
   "cell_type": "code",
   "execution_count": 43,
   "metadata": {},
   "outputs": [
    {
     "data": {
      "text/plain": [
       "['pickle.pkl']"
      ]
     },
     "execution_count": 43,
     "metadata": {},
     "output_type": "execute_result"
    }
   ],
   "source": [
    "joblib.dump(api_call,'pickle.pkl')"
   ]
  },
  {
   "cell_type": "code",
   "execution_count": 44,
   "metadata": {},
   "outputs": [],
   "source": [
    "dfs = parse_games(test_gamePks)"
   ]
  },
  {
   "cell_type": "code",
   "execution_count": 45,
   "metadata": {},
   "outputs": [
    {
     "data": {
      "text/plain": [
       "1308000"
      ]
     },
     "execution_count": 45,
     "metadata": {},
     "output_type": "execute_result"
    }
   ],
   "source": [
    "len(gamePks['2019'])*500"
   ]
  },
  {
   "cell_type": "code",
   "execution_count": null,
   "metadata": {},
   "outputs": [],
   "source": []
  },
  {
   "cell_type": "code",
   "execution_count": 46,
   "metadata": {},
   "outputs": [
    {
     "data": {
      "text/html": [
       "<div>\n",
       "<style scoped>\n",
       "    .dataframe tbody tr th:only-of-type {\n",
       "        vertical-align: middle;\n",
       "    }\n",
       "\n",
       "    .dataframe tbody tr th {\n",
       "        vertical-align: top;\n",
       "    }\n",
       "\n",
       "    .dataframe thead th {\n",
       "        text-align: right;\n",
       "    }\n",
       "</style>\n",
       "<table border=\"1\" class=\"dataframe\">\n",
       "  <thead>\n",
       "    <tr style=\"text-align: right;\">\n",
       "      <th></th>\n",
       "      <th>atBatIndex</th>\n",
       "      <th>playEndTime</th>\n",
       "      <th>batter_id</th>\n",
       "      <th>batter_fullName</th>\n",
       "      <th>batter_link</th>\n",
       "      <th>batSide_code</th>\n",
       "      <th>batSide_description</th>\n",
       "      <th>pitcher_id</th>\n",
       "      <th>pitcher_fullName</th>\n",
       "      <th>pitcher_link</th>\n",
       "      <th>...</th>\n",
       "      <th>gamePk</th>\n",
       "      <th>postOnFirst_id</th>\n",
       "      <th>postOnFirst_fullName</th>\n",
       "      <th>postOnFirst_link</th>\n",
       "      <th>postOnSecond_id</th>\n",
       "      <th>postOnSecond_fullName</th>\n",
       "      <th>postOnSecond_link</th>\n",
       "      <th>postOnThird_id</th>\n",
       "      <th>postOnThird_fullName</th>\n",
       "      <th>postOnThird_link</th>\n",
       "    </tr>\n",
       "  </thead>\n",
       "  <tbody>\n",
       "    <tr>\n",
       "      <td>0</td>\n",
       "      <td>0</td>\n",
       "      <td>2019-03-20T09:36:53.000Z</td>\n",
       "      <td>543829</td>\n",
       "      <td>Dee Gordon</td>\n",
       "      <td>/api/v1/people/543829</td>\n",
       "      <td>L</td>\n",
       "      <td>Left</td>\n",
       "      <td>571666</td>\n",
       "      <td>Mike Fiers</td>\n",
       "      <td>/api/v1/people/571666</td>\n",
       "      <td>...</td>\n",
       "      <td>566083</td>\n",
       "      <td>NaN</td>\n",
       "      <td>NaN</td>\n",
       "      <td>NaN</td>\n",
       "      <td>NaN</td>\n",
       "      <td>NaN</td>\n",
       "      <td>NaN</td>\n",
       "      <td>NaN</td>\n",
       "      <td>NaN</td>\n",
       "      <td>NaN</td>\n",
       "    </tr>\n",
       "    <tr>\n",
       "      <td>1</td>\n",
       "      <td>1</td>\n",
       "      <td>2019-03-20T09:38:55.000Z</td>\n",
       "      <td>571745</td>\n",
       "      <td>Mitch Haniger</td>\n",
       "      <td>/api/v1/people/571745</td>\n",
       "      <td>R</td>\n",
       "      <td>Right</td>\n",
       "      <td>571666</td>\n",
       "      <td>Mike Fiers</td>\n",
       "      <td>/api/v1/people/571666</td>\n",
       "      <td>...</td>\n",
       "      <td>566083</td>\n",
       "      <td>NaN</td>\n",
       "      <td>NaN</td>\n",
       "      <td>NaN</td>\n",
       "      <td>NaN</td>\n",
       "      <td>NaN</td>\n",
       "      <td>NaN</td>\n",
       "      <td>NaN</td>\n",
       "      <td>NaN</td>\n",
       "      <td>NaN</td>\n",
       "    </tr>\n",
       "    <tr>\n",
       "      <td>2</td>\n",
       "      <td>2</td>\n",
       "      <td>2019-03-20T09:39:51.000Z</td>\n",
       "      <td>457803</td>\n",
       "      <td>Jay Bruce</td>\n",
       "      <td>/api/v1/people/457803</td>\n",
       "      <td>L</td>\n",
       "      <td>Left</td>\n",
       "      <td>571666</td>\n",
       "      <td>Mike Fiers</td>\n",
       "      <td>/api/v1/people/571666</td>\n",
       "      <td>...</td>\n",
       "      <td>566083</td>\n",
       "      <td>457803.0</td>\n",
       "      <td>Jay Bruce</td>\n",
       "      <td>/api/v1/people/457803</td>\n",
       "      <td>NaN</td>\n",
       "      <td>NaN</td>\n",
       "      <td>NaN</td>\n",
       "      <td>NaN</td>\n",
       "      <td>NaN</td>\n",
       "      <td>NaN</td>\n",
       "    </tr>\n",
       "    <tr>\n",
       "      <td>3</td>\n",
       "      <td>3</td>\n",
       "      <td>2019-03-20T09:42:20.000Z</td>\n",
       "      <td>429665</td>\n",
       "      <td>Edwin Encarnacion</td>\n",
       "      <td>/api/v1/people/429665</td>\n",
       "      <td>R</td>\n",
       "      <td>Right</td>\n",
       "      <td>571666</td>\n",
       "      <td>Mike Fiers</td>\n",
       "      <td>/api/v1/people/571666</td>\n",
       "      <td>...</td>\n",
       "      <td>566083</td>\n",
       "      <td>NaN</td>\n",
       "      <td>NaN</td>\n",
       "      <td>NaN</td>\n",
       "      <td>NaN</td>\n",
       "      <td>NaN</td>\n",
       "      <td>NaN</td>\n",
       "      <td>NaN</td>\n",
       "      <td>NaN</td>\n",
       "      <td>NaN</td>\n",
       "    </tr>\n",
       "    <tr>\n",
       "      <td>4</td>\n",
       "      <td>4</td>\n",
       "      <td>2019-03-20T09:45:38.000Z</td>\n",
       "      <td>657656</td>\n",
       "      <td>Ramon Laureano</td>\n",
       "      <td>/api/v1/people/657656</td>\n",
       "      <td>R</td>\n",
       "      <td>Right</td>\n",
       "      <td>594835</td>\n",
       "      <td>Marco Gonzales</td>\n",
       "      <td>/api/v1/people/594835</td>\n",
       "      <td>...</td>\n",
       "      <td>566083</td>\n",
       "      <td>NaN</td>\n",
       "      <td>NaN</td>\n",
       "      <td>NaN</td>\n",
       "      <td>NaN</td>\n",
       "      <td>NaN</td>\n",
       "      <td>NaN</td>\n",
       "      <td>NaN</td>\n",
       "      <td>NaN</td>\n",
       "      <td>NaN</td>\n",
       "    </tr>\n",
       "    <tr>\n",
       "      <td>...</td>\n",
       "      <td>...</td>\n",
       "      <td>...</td>\n",
       "      <td>...</td>\n",
       "      <td>...</td>\n",
       "      <td>...</td>\n",
       "      <td>...</td>\n",
       "      <td>...</td>\n",
       "      <td>...</td>\n",
       "      <td>...</td>\n",
       "      <td>...</td>\n",
       "      <td>...</td>\n",
       "      <td>...</td>\n",
       "      <td>...</td>\n",
       "      <td>...</td>\n",
       "      <td>...</td>\n",
       "      <td>...</td>\n",
       "      <td>...</td>\n",
       "      <td>...</td>\n",
       "      <td>...</td>\n",
       "      <td>...</td>\n",
       "      <td>...</td>\n",
       "    </tr>\n",
       "    <tr>\n",
       "      <td>683</td>\n",
       "      <td>70</td>\n",
       "      <td>2019-09-18T01:31:32.000Z</td>\n",
       "      <td>592743</td>\n",
       "      <td>Andrelton Simmons</td>\n",
       "      <td>/api/v1/people/592743</td>\n",
       "      <td>R</td>\n",
       "      <td>Right</td>\n",
       "      <td>664856</td>\n",
       "      <td>Chance Adams</td>\n",
       "      <td>/api/v1/people/664856</td>\n",
       "      <td>...</td>\n",
       "      <td>567531</td>\n",
       "      <td>NaN</td>\n",
       "      <td>NaN</td>\n",
       "      <td>NaN</td>\n",
       "      <td>NaN</td>\n",
       "      <td>NaN</td>\n",
       "      <td>NaN</td>\n",
       "      <td>NaN</td>\n",
       "      <td>NaN</td>\n",
       "      <td>NaN</td>\n",
       "    </tr>\n",
       "    <tr>\n",
       "      <td>684</td>\n",
       "      <td>71</td>\n",
       "      <td>2019-09-18T01:34:10.000Z</td>\n",
       "      <td>665120</td>\n",
       "      <td>Jared Walsh</td>\n",
       "      <td>/api/v1/people/665120</td>\n",
       "      <td>L</td>\n",
       "      <td>Left</td>\n",
       "      <td>664856</td>\n",
       "      <td>Chance Adams</td>\n",
       "      <td>/api/v1/people/664856</td>\n",
       "      <td>...</td>\n",
       "      <td>567531</td>\n",
       "      <td>665120.0</td>\n",
       "      <td>Jared Walsh</td>\n",
       "      <td>/api/v1/people/665120</td>\n",
       "      <td>NaN</td>\n",
       "      <td>NaN</td>\n",
       "      <td>NaN</td>\n",
       "      <td>NaN</td>\n",
       "      <td>NaN</td>\n",
       "      <td>NaN</td>\n",
       "    </tr>\n",
       "    <tr>\n",
       "      <td>685</td>\n",
       "      <td>72</td>\n",
       "      <td>2019-09-18T01:37:33.000Z</td>\n",
       "      <td>642136</td>\n",
       "      <td>Matt Thaiss</td>\n",
       "      <td>/api/v1/people/642136</td>\n",
       "      <td>L</td>\n",
       "      <td>Left</td>\n",
       "      <td>664856</td>\n",
       "      <td>Chance Adams</td>\n",
       "      <td>/api/v1/people/664856</td>\n",
       "      <td>...</td>\n",
       "      <td>567531</td>\n",
       "      <td>642136.0</td>\n",
       "      <td>Matt Thaiss</td>\n",
       "      <td>/api/v1/people/642136</td>\n",
       "      <td>665120.0</td>\n",
       "      <td>Jared Walsh</td>\n",
       "      <td>/api/v1/people/665120</td>\n",
       "      <td>NaN</td>\n",
       "      <td>NaN</td>\n",
       "      <td>NaN</td>\n",
       "    </tr>\n",
       "    <tr>\n",
       "      <td>686</td>\n",
       "      <td>73</td>\n",
       "      <td>2019-09-18T01:40:20.000Z</td>\n",
       "      <td>641684</td>\n",
       "      <td>Michael Hermosillo</td>\n",
       "      <td>/api/v1/people/641684</td>\n",
       "      <td>R</td>\n",
       "      <td>Right</td>\n",
       "      <td>664856</td>\n",
       "      <td>Chance Adams</td>\n",
       "      <td>/api/v1/people/664856</td>\n",
       "      <td>...</td>\n",
       "      <td>567531</td>\n",
       "      <td>642136.0</td>\n",
       "      <td>Matt Thaiss</td>\n",
       "      <td>/api/v1/people/642136</td>\n",
       "      <td>665120.0</td>\n",
       "      <td>Jared Walsh</td>\n",
       "      <td>/api/v1/people/665120</td>\n",
       "      <td>NaN</td>\n",
       "      <td>NaN</td>\n",
       "      <td>NaN</td>\n",
       "    </tr>\n",
       "    <tr>\n",
       "      <td>687</td>\n",
       "      <td>74</td>\n",
       "      <td>2019-09-18T01:42:06.000Z</td>\n",
       "      <td>621532</td>\n",
       "      <td>Anthony Bemboom</td>\n",
       "      <td>/api/v1/people/621532</td>\n",
       "      <td>L</td>\n",
       "      <td>Left</td>\n",
       "      <td>664856</td>\n",
       "      <td>Chance Adams</td>\n",
       "      <td>/api/v1/people/664856</td>\n",
       "      <td>...</td>\n",
       "      <td>567531</td>\n",
       "      <td>NaN</td>\n",
       "      <td>NaN</td>\n",
       "      <td>NaN</td>\n",
       "      <td>NaN</td>\n",
       "      <td>NaN</td>\n",
       "      <td>NaN</td>\n",
       "      <td>NaN</td>\n",
       "      <td>NaN</td>\n",
       "      <td>NaN</td>\n",
       "    </tr>\n",
       "  </tbody>\n",
       "</table>\n",
       "<p>688 rows × 25 columns</p>\n",
       "</div>"
      ],
      "text/plain": [
       "     atBatIndex               playEndTime  batter_id     batter_fullName  \\\n",
       "0             0  2019-03-20T09:36:53.000Z     543829          Dee Gordon   \n",
       "1             1  2019-03-20T09:38:55.000Z     571745       Mitch Haniger   \n",
       "2             2  2019-03-20T09:39:51.000Z     457803           Jay Bruce   \n",
       "3             3  2019-03-20T09:42:20.000Z     429665   Edwin Encarnacion   \n",
       "4             4  2019-03-20T09:45:38.000Z     657656      Ramon Laureano   \n",
       "..          ...                       ...        ...                 ...   \n",
       "683          70  2019-09-18T01:31:32.000Z     592743   Andrelton Simmons   \n",
       "684          71  2019-09-18T01:34:10.000Z     665120         Jared Walsh   \n",
       "685          72  2019-09-18T01:37:33.000Z     642136         Matt Thaiss   \n",
       "686          73  2019-09-18T01:40:20.000Z     641684  Michael Hermosillo   \n",
       "687          74  2019-09-18T01:42:06.000Z     621532     Anthony Bemboom   \n",
       "\n",
       "               batter_link batSide_code batSide_description  pitcher_id  \\\n",
       "0    /api/v1/people/543829            L                Left      571666   \n",
       "1    /api/v1/people/571745            R               Right      571666   \n",
       "2    /api/v1/people/457803            L                Left      571666   \n",
       "3    /api/v1/people/429665            R               Right      571666   \n",
       "4    /api/v1/people/657656            R               Right      594835   \n",
       "..                     ...          ...                 ...         ...   \n",
       "683  /api/v1/people/592743            R               Right      664856   \n",
       "684  /api/v1/people/665120            L                Left      664856   \n",
       "685  /api/v1/people/642136            L                Left      664856   \n",
       "686  /api/v1/people/641684            R               Right      664856   \n",
       "687  /api/v1/people/621532            L                Left      664856   \n",
       "\n",
       "    pitcher_fullName           pitcher_link  ...  gamePk postOnFirst_id  \\\n",
       "0         Mike Fiers  /api/v1/people/571666  ...  566083            NaN   \n",
       "1         Mike Fiers  /api/v1/people/571666  ...  566083            NaN   \n",
       "2         Mike Fiers  /api/v1/people/571666  ...  566083       457803.0   \n",
       "3         Mike Fiers  /api/v1/people/571666  ...  566083            NaN   \n",
       "4     Marco Gonzales  /api/v1/people/594835  ...  566083            NaN   \n",
       "..               ...                    ...  ...     ...            ...   \n",
       "683     Chance Adams  /api/v1/people/664856  ...  567531            NaN   \n",
       "684     Chance Adams  /api/v1/people/664856  ...  567531       665120.0   \n",
       "685     Chance Adams  /api/v1/people/664856  ...  567531       642136.0   \n",
       "686     Chance Adams  /api/v1/people/664856  ...  567531       642136.0   \n",
       "687     Chance Adams  /api/v1/people/664856  ...  567531            NaN   \n",
       "\n",
       "    postOnFirst_fullName       postOnFirst_link postOnSecond_id  \\\n",
       "0                    NaN                    NaN             NaN   \n",
       "1                    NaN                    NaN             NaN   \n",
       "2              Jay Bruce  /api/v1/people/457803             NaN   \n",
       "3                    NaN                    NaN             NaN   \n",
       "4                    NaN                    NaN             NaN   \n",
       "..                   ...                    ...             ...   \n",
       "683                  NaN                    NaN             NaN   \n",
       "684          Jared Walsh  /api/v1/people/665120             NaN   \n",
       "685          Matt Thaiss  /api/v1/people/642136        665120.0   \n",
       "686          Matt Thaiss  /api/v1/people/642136        665120.0   \n",
       "687                  NaN                    NaN             NaN   \n",
       "\n",
       "     postOnSecond_fullName      postOnSecond_link postOnThird_id  \\\n",
       "0                      NaN                    NaN            NaN   \n",
       "1                      NaN                    NaN            NaN   \n",
       "2                      NaN                    NaN            NaN   \n",
       "3                      NaN                    NaN            NaN   \n",
       "4                      NaN                    NaN            NaN   \n",
       "..                     ...                    ...            ...   \n",
       "683                    NaN                    NaN            NaN   \n",
       "684                    NaN                    NaN            NaN   \n",
       "685            Jared Walsh  /api/v1/people/665120            NaN   \n",
       "686            Jared Walsh  /api/v1/people/665120            NaN   \n",
       "687                    NaN                    NaN            NaN   \n",
       "\n",
       "    postOnThird_fullName  postOnThird_link  \n",
       "0                    NaN               NaN  \n",
       "1                    NaN               NaN  \n",
       "2                    NaN               NaN  \n",
       "3                    NaN               NaN  \n",
       "4                    NaN               NaN  \n",
       "..                   ...               ...  \n",
       "683                  NaN               NaN  \n",
       "684                  NaN               NaN  \n",
       "685                  NaN               NaN  \n",
       "686                  NaN               NaN  \n",
       "687                  NaN               NaN  \n",
       "\n",
       "[688 rows x 25 columns]"
      ]
     },
     "execution_count": 46,
     "metadata": {},
     "output_type": "execute_result"
    }
   ],
   "source": [
    "dfs['matchups']"
   ]
  },
  {
   "cell_type": "code",
   "execution_count": 47,
   "metadata": {},
   "outputs": [
    {
     "data": {
      "text/plain": [
       "[{'season': '2019',\n",
       "  'stat': {'name': 'battingAverage',\n",
       "   'zones': [{'zone': '01',\n",
       "     'color': 'rgba(6, 90, 238, .55)',\n",
       "     'temp': 'cold',\n",
       "     'value': '.000'},\n",
       "    {'zone': '02',\n",
       "     'color': 'rgba(214, 41, 52, .55)',\n",
       "     'temp': 'hot',\n",
       "     'value': '.400'},\n",
       "    {'zone': '03',\n",
       "     'color': 'rgba(214, 41, 52, .55)',\n",
       "     'temp': 'hot',\n",
       "     'value': '.600'},\n",
       "    {'zone': '04',\n",
       "     'color': 'rgba(214, 41, 52, .55)',\n",
       "     'temp': 'hot',\n",
       "     'value': '.600'},\n",
       "    {'zone': '05',\n",
       "     'color': 'rgba(150, 188, 255, .55)',\n",
       "     'temp': 'cool',\n",
       "     'value': '.250'},\n",
       "    {'zone': '06',\n",
       "     'color': 'rgba(150, 188, 255, .55)',\n",
       "     'temp': 'cool',\n",
       "     'value': '.222'},\n",
       "    {'zone': '07',\n",
       "     'color': 'rgba(214, 41, 52, .55)',\n",
       "     'temp': 'hot',\n",
       "     'value': '.600'},\n",
       "    {'zone': '08',\n",
       "     'color': 'rgba(234, 147, 153, .55)',\n",
       "     'temp': 'warm',\n",
       "     'value': '.333'},\n",
       "    {'zone': '09',\n",
       "     'color': 'rgba(6, 90, 238, .55)',\n",
       "     'temp': 'cold',\n",
       "     'value': '.154'},\n",
       "    {'zone': '11',\n",
       "     'color': 'rgba(6, 90, 238, .55)',\n",
       "     'temp': 'cold',\n",
       "     'value': '.200'},\n",
       "    {'zone': '12',\n",
       "     'color': 'rgba(6, 90, 238, .55)',\n",
       "     'temp': 'cold',\n",
       "     'value': '.000'},\n",
       "    {'zone': '13',\n",
       "     'color': 'rgba(6, 90, 238, .55)',\n",
       "     'temp': 'cold',\n",
       "     'value': '.000'},\n",
       "    {'zone': '14',\n",
       "     'color': 'rgba(255, 255, 255, 0.55)',\n",
       "     'temp': 'lukewarm',\n",
       "     'value': '.286'}]},\n",
       "  'sport': {'id': 1, 'link': '/api/v1/sports/1'},\n",
       "  'gameType': 'R'}]"
      ]
     },
     "execution_count": 47,
     "metadata": {},
     "output_type": "execute_result"
    }
   ],
   "source": [
    "dfs['hotColdStats']['splits'][0]"
   ]
  },
  {
   "cell_type": "code",
   "execution_count": 48,
   "metadata": {},
   "outputs": [],
   "source": [
    "hotCold=dfs['hotColdZones']"
   ]
  },
  {
   "cell_type": "code",
   "execution_count": 49,
   "metadata": {},
   "outputs": [
    {
     "ename": "KeyError",
     "evalue": "'stats'",
     "output_type": "error",
     "traceback": [
      "\u001b[0;31m---------------------------------------------------------------------------\u001b[0m",
      "\u001b[0;31mKeyError\u001b[0m                                  Traceback (most recent call last)",
      "\u001b[0;32m//anaconda3/lib/python3.7/site-packages/pandas/core/indexes/base.py\u001b[0m in \u001b[0;36mget_loc\u001b[0;34m(self, key, method, tolerance)\u001b[0m\n\u001b[1;32m   2896\u001b[0m             \u001b[0;32mtry\u001b[0m\u001b[0;34m:\u001b[0m\u001b[0;34m\u001b[0m\u001b[0;34m\u001b[0m\u001b[0m\n\u001b[0;32m-> 2897\u001b[0;31m                 \u001b[0;32mreturn\u001b[0m \u001b[0mself\u001b[0m\u001b[0;34m.\u001b[0m\u001b[0m_engine\u001b[0m\u001b[0;34m.\u001b[0m\u001b[0mget_loc\u001b[0m\u001b[0;34m(\u001b[0m\u001b[0mkey\u001b[0m\u001b[0;34m)\u001b[0m\u001b[0;34m\u001b[0m\u001b[0;34m\u001b[0m\u001b[0m\n\u001b[0m\u001b[1;32m   2898\u001b[0m             \u001b[0;32mexcept\u001b[0m \u001b[0mKeyError\u001b[0m\u001b[0;34m:\u001b[0m\u001b[0;34m\u001b[0m\u001b[0;34m\u001b[0m\u001b[0m\n",
      "\u001b[0;32mpandas/_libs/index.pyx\u001b[0m in \u001b[0;36mpandas._libs.index.IndexEngine.get_loc\u001b[0;34m()\u001b[0m\n",
      "\u001b[0;32mpandas/_libs/index.pyx\u001b[0m in \u001b[0;36mpandas._libs.index.IndexEngine.get_loc\u001b[0;34m()\u001b[0m\n",
      "\u001b[0;32mpandas/_libs/hashtable_class_helper.pxi\u001b[0m in \u001b[0;36mpandas._libs.hashtable.PyObjectHashTable.get_item\u001b[0;34m()\u001b[0m\n",
      "\u001b[0;32mpandas/_libs/hashtable_class_helper.pxi\u001b[0m in \u001b[0;36mpandas._libs.hashtable.PyObjectHashTable.get_item\u001b[0;34m()\u001b[0m\n",
      "\u001b[0;31mKeyError\u001b[0m: 'stats'",
      "\nDuring handling of the above exception, another exception occurred:\n",
      "\u001b[0;31mKeyError\u001b[0m                                  Traceback (most recent call last)",
      "\u001b[0;32m<ipython-input-49-c595b2e7cf49>\u001b[0m in \u001b[0;36m<module>\u001b[0;34m\u001b[0m\n\u001b[0;32m----> 1\u001b[0;31m \u001b[0mhotCold\u001b[0m\u001b[0;34m[\u001b[0m\u001b[0mhotCold\u001b[0m\u001b[0;34m[\u001b[0m\u001b[0;34m'stats'\u001b[0m\u001b[0;34m]\u001b[0m\u001b[0;34m.\u001b[0m\u001b[0misna\u001b[0m\u001b[0;34m(\u001b[0m\u001b[0;34m)\u001b[0m\u001b[0;34m==\u001b[0m\u001b[0;32mFalse\u001b[0m\u001b[0;34m]\u001b[0m\u001b[0;34m[\u001b[0m\u001b[0;34m[\u001b[0m\u001b[0;34m'playEndTime'\u001b[0m\u001b[0;34m,\u001b[0m\u001b[0;34m'atBatIndex'\u001b[0m\u001b[0;34m,\u001b[0m\u001b[0;34m'stats'\u001b[0m\u001b[0;34m]\u001b[0m\u001b[0;34m]\u001b[0m\u001b[0;34m.\u001b[0m\u001b[0mto_records\u001b[0m\u001b[0;34m(\u001b[0m\u001b[0;34m)\u001b[0m\u001b[0;34m[\u001b[0m\u001b[0;36m0\u001b[0m\u001b[0;34m]\u001b[0m\u001b[0;34m\u001b[0m\u001b[0;34m\u001b[0m\u001b[0m\n\u001b[0m",
      "\u001b[0;32m//anaconda3/lib/python3.7/site-packages/pandas/core/frame.py\u001b[0m in \u001b[0;36m__getitem__\u001b[0;34m(self, key)\u001b[0m\n\u001b[1;32m   2978\u001b[0m             \u001b[0;32mif\u001b[0m \u001b[0mself\u001b[0m\u001b[0;34m.\u001b[0m\u001b[0mcolumns\u001b[0m\u001b[0;34m.\u001b[0m\u001b[0mnlevels\u001b[0m \u001b[0;34m>\u001b[0m \u001b[0;36m1\u001b[0m\u001b[0;34m:\u001b[0m\u001b[0;34m\u001b[0m\u001b[0;34m\u001b[0m\u001b[0m\n\u001b[1;32m   2979\u001b[0m                 \u001b[0;32mreturn\u001b[0m \u001b[0mself\u001b[0m\u001b[0;34m.\u001b[0m\u001b[0m_getitem_multilevel\u001b[0m\u001b[0;34m(\u001b[0m\u001b[0mkey\u001b[0m\u001b[0;34m)\u001b[0m\u001b[0;34m\u001b[0m\u001b[0;34m\u001b[0m\u001b[0m\n\u001b[0;32m-> 2980\u001b[0;31m             \u001b[0mindexer\u001b[0m \u001b[0;34m=\u001b[0m \u001b[0mself\u001b[0m\u001b[0;34m.\u001b[0m\u001b[0mcolumns\u001b[0m\u001b[0;34m.\u001b[0m\u001b[0mget_loc\u001b[0m\u001b[0;34m(\u001b[0m\u001b[0mkey\u001b[0m\u001b[0;34m)\u001b[0m\u001b[0;34m\u001b[0m\u001b[0;34m\u001b[0m\u001b[0m\n\u001b[0m\u001b[1;32m   2981\u001b[0m             \u001b[0;32mif\u001b[0m \u001b[0mis_integer\u001b[0m\u001b[0;34m(\u001b[0m\u001b[0mindexer\u001b[0m\u001b[0;34m)\u001b[0m\u001b[0;34m:\u001b[0m\u001b[0;34m\u001b[0m\u001b[0;34m\u001b[0m\u001b[0m\n\u001b[1;32m   2982\u001b[0m                 \u001b[0mindexer\u001b[0m \u001b[0;34m=\u001b[0m \u001b[0;34m[\u001b[0m\u001b[0mindexer\u001b[0m\u001b[0;34m]\u001b[0m\u001b[0;34m\u001b[0m\u001b[0;34m\u001b[0m\u001b[0m\n",
      "\u001b[0;32m//anaconda3/lib/python3.7/site-packages/pandas/core/indexes/base.py\u001b[0m in \u001b[0;36mget_loc\u001b[0;34m(self, key, method, tolerance)\u001b[0m\n\u001b[1;32m   2897\u001b[0m                 \u001b[0;32mreturn\u001b[0m \u001b[0mself\u001b[0m\u001b[0;34m.\u001b[0m\u001b[0m_engine\u001b[0m\u001b[0;34m.\u001b[0m\u001b[0mget_loc\u001b[0m\u001b[0;34m(\u001b[0m\u001b[0mkey\u001b[0m\u001b[0;34m)\u001b[0m\u001b[0;34m\u001b[0m\u001b[0;34m\u001b[0m\u001b[0m\n\u001b[1;32m   2898\u001b[0m             \u001b[0;32mexcept\u001b[0m \u001b[0mKeyError\u001b[0m\u001b[0;34m:\u001b[0m\u001b[0;34m\u001b[0m\u001b[0;34m\u001b[0m\u001b[0m\n\u001b[0;32m-> 2899\u001b[0;31m                 \u001b[0;32mreturn\u001b[0m \u001b[0mself\u001b[0m\u001b[0;34m.\u001b[0m\u001b[0m_engine\u001b[0m\u001b[0;34m.\u001b[0m\u001b[0mget_loc\u001b[0m\u001b[0;34m(\u001b[0m\u001b[0mself\u001b[0m\u001b[0;34m.\u001b[0m\u001b[0m_maybe_cast_indexer\u001b[0m\u001b[0;34m(\u001b[0m\u001b[0mkey\u001b[0m\u001b[0;34m)\u001b[0m\u001b[0;34m)\u001b[0m\u001b[0;34m\u001b[0m\u001b[0;34m\u001b[0m\u001b[0m\n\u001b[0m\u001b[1;32m   2900\u001b[0m         \u001b[0mindexer\u001b[0m \u001b[0;34m=\u001b[0m \u001b[0mself\u001b[0m\u001b[0;34m.\u001b[0m\u001b[0mget_indexer\u001b[0m\u001b[0;34m(\u001b[0m\u001b[0;34m[\u001b[0m\u001b[0mkey\u001b[0m\u001b[0;34m]\u001b[0m\u001b[0;34m,\u001b[0m \u001b[0mmethod\u001b[0m\u001b[0;34m=\u001b[0m\u001b[0mmethod\u001b[0m\u001b[0;34m,\u001b[0m \u001b[0mtolerance\u001b[0m\u001b[0;34m=\u001b[0m\u001b[0mtolerance\u001b[0m\u001b[0;34m)\u001b[0m\u001b[0;34m\u001b[0m\u001b[0;34m\u001b[0m\u001b[0m\n\u001b[1;32m   2901\u001b[0m         \u001b[0;32mif\u001b[0m \u001b[0mindexer\u001b[0m\u001b[0;34m.\u001b[0m\u001b[0mndim\u001b[0m \u001b[0;34m>\u001b[0m \u001b[0;36m1\u001b[0m \u001b[0;32mor\u001b[0m \u001b[0mindexer\u001b[0m\u001b[0;34m.\u001b[0m\u001b[0msize\u001b[0m \u001b[0;34m>\u001b[0m \u001b[0;36m1\u001b[0m\u001b[0;34m:\u001b[0m\u001b[0;34m\u001b[0m\u001b[0;34m\u001b[0m\u001b[0m\n",
      "\u001b[0;32mpandas/_libs/index.pyx\u001b[0m in \u001b[0;36mpandas._libs.index.IndexEngine.get_loc\u001b[0;34m()\u001b[0m\n",
      "\u001b[0;32mpandas/_libs/index.pyx\u001b[0m in \u001b[0;36mpandas._libs.index.IndexEngine.get_loc\u001b[0;34m()\u001b[0m\n",
      "\u001b[0;32mpandas/_libs/hashtable_class_helper.pxi\u001b[0m in \u001b[0;36mpandas._libs.hashtable.PyObjectHashTable.get_item\u001b[0;34m()\u001b[0m\n",
      "\u001b[0;32mpandas/_libs/hashtable_class_helper.pxi\u001b[0m in \u001b[0;36mpandas._libs.hashtable.PyObjectHashTable.get_item\u001b[0;34m()\u001b[0m\n",
      "\u001b[0;31mKeyError\u001b[0m: 'stats'"
     ]
    }
   ],
   "source": [
    "hotCold[hotCold['stats'].isna()==False][['playEndTime','atBatIndex','stats']].to_records()[0]"
   ]
  },
  {
   "cell_type": "code",
   "execution_count": null,
   "metadata": {},
   "outputs": [],
   "source": [
    "dfs['hotColdZones']"
   ]
  },
  {
   "cell_type": "code",
   "execution_count": null,
   "metadata": {},
   "outputs": [],
   "source": [
    "matchups = [get_plays(x)[1] for x in api_calls(test_gamePks)]"
   ]
  },
  {
   "cell_type": "code",
   "execution_count": null,
   "metadata": {},
   "outputs": [],
   "source": [
    "matchups = [item for sublist in matchups for item in sublist]"
   ]
  },
  {
   "cell_type": "code",
   "execution_count": null,
   "metadata": {},
   "outputs": [],
   "source": [
    "dfs.keys()"
   ]
  },
  {
   "cell_type": "code",
   "execution_count": null,
   "metadata": {},
   "outputs": [],
   "source": [
    "dfs['pitches'].columns"
   ]
  },
  {
   "cell_type": "code",
   "execution_count": null,
   "metadata": {},
   "outputs": [],
   "source": [
    "dfs['pitches'].info()"
   ]
  },
  {
   "cell_type": "code",
   "execution_count": null,
   "metadata": {},
   "outputs": [],
   "source": [
    "pitches = dfs['pitches']"
   ]
  },
  {
   "cell_type": "code",
   "execution_count": null,
   "metadata": {},
   "outputs": [],
   "source": [
    "pitches['details_description'].value_counts()"
   ]
  },
  {
   "cell_type": "code",
   "execution_count": null,
   "metadata": {},
   "outputs": [],
   "source": [
    "pitches['details_isInPlay'].sum()"
   ]
  },
  {
   "cell_type": "code",
   "execution_count": null,
   "metadata": {},
   "outputs": [],
   "source": [
    "pitches[pitches['playId'].isna()]"
   ]
  },
  {
   "cell_type": "code",
   "execution_count": null,
   "metadata": {},
   "outputs": [],
   "source": [
    "def unique_columns(df):\n",
    "    \"\"\"\n",
    "    returns names for columns that have all unique values\n",
    "    \"\"\"\n",
    "    return [x for x in df.columns if len(df[x].unique())==df.shape[0]]"
   ]
  },
  {
   "cell_type": "code",
   "execution_count": null,
   "metadata": {},
   "outputs": [],
   "source": [
    "pitches_df = pd.DataFrame.from_records(pitches)"
   ]
  },
  {
   "cell_type": "code",
   "execution_count": null,
   "metadata": {},
   "outputs": [],
   "source": [
    "pitches_df.columns"
   ]
  },
  {
   "cell_type": "code",
   "execution_count": null,
   "metadata": {},
   "outputs": [],
   "source": [
    "pitches_df['details_description'].unique()"
   ]
  },
  {
   "cell_type": "code",
   "execution_count": null,
   "metadata": {},
   "outputs": [],
   "source": [
    "pitches_df[pitches_df['details_description']=='In play, out(s)']['hitData_totalDistance']"
   ]
  },
  {
   "cell_type": "code",
   "execution_count": null,
   "metadata": {},
   "outputs": [],
   "source": [
    "unique_columns(pitches_df)"
   ]
  },
  {
   "cell_type": "code",
   "execution_count": null,
   "metadata": {},
   "outputs": [],
   "source": [
    "plays_df.shape==len(pitches_df['atBatIndex'].unique())"
   ]
  },
  {
   "cell_type": "code",
   "execution_count": null,
   "metadata": {},
   "outputs": [],
   "source": [
    "pitches_df.info()"
   ]
  },
  {
   "cell_type": "code",
   "execution_count": null,
   "metadata": {},
   "outputs": [],
   "source": [
    "pitches_df['hitData_hardness'].unique()"
   ]
  }
 ],
 "metadata": {
  "kernelspec": {
   "display_name": "Python 3",
   "language": "python",
   "name": "python3"
  },
  "language_info": {
   "codemirror_mode": {
    "name": "ipython",
    "version": 3
   },
   "file_extension": ".py",
   "mimetype": "text/x-python",
   "name": "python",
   "nbconvert_exporter": "python",
   "pygments_lexer": "ipython3",
   "version": "3.7.3"
  }
 },
 "nbformat": 4,
 "nbformat_minor": 4
}
