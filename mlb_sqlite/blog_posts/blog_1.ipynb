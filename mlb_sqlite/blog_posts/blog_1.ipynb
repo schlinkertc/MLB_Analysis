{
 "cells": [
  {
   "cell_type": "markdown",
   "metadata": {},
   "source": [
    "# Leveraging SQLAlchemy ORM to Store and Retrieve MLB Stats"
   ]
  },
  {
   "cell_type": "markdown",
   "metadata": {},
   "source": [
    "## Table of Contents\n",
    "\n",
    "[Part 1: Exploring the MLB API](#part-1)\n",
    "- [1a. Install and Import](#part-1a)\n",
    "- [1b. Get GamePks](#part-1b)\n",
    "- [1c. The 'Game' Endpoint](#part-1c)\n",
    "\n",
    "---"
   ]
  },
  {
   "cell_type": "markdown",
   "metadata": {},
   "source": [
    "### The SQLAlchemy Object Relational Mapper automatically constructs higher-level SQL and automates persistence of python objects.\n",
    "We're going to query the MLB API using a python wrapper created by Todd Roberts and store the information in a SQLite database for future analysis. \n",
    "\n",
    "---"
   ]
  },
  {
   "cell_type": "markdown",
   "metadata": {},
   "source": [
    "<a id='part-1'></a>"
   ]
  },
  {
   "cell_type": "markdown",
   "metadata": {},
   "source": [
    "## Part 1: Exploring the MLB API\n",
    "Todd Roberts' python wrapper is part of the python package index. You can find more information [here](https://pypi.org/project/MLB-StatsAPI/) or on [GitHub](https://github.com/toddrob99/MLB-StatsAPI)."
   ]
  },
  {
   "cell_type": "markdown",
   "metadata": {},
   "source": [
    "<a id='part-1a'></a>"
   ]
  },
  {
   "cell_type": "markdown",
   "metadata": {},
   "source": [
    "First, we have to install it and import it."
   ]
  },
  {
   "cell_type": "code",
   "execution_count": 1,
   "metadata": {},
   "outputs": [],
   "source": [
    "import sys\n",
    "#pip install \n",
    "#!{sys.executable} -m pip install MLB-StatsAPI\n",
    "\n",
    "import statsapi as mlb"
   ]
  },
  {
   "cell_type": "markdown",
   "metadata": {},
   "source": [
    "Todd was nice enough to give us several convenient functions for accessing the API's endpoints. The most flexible/powerful of these is the get() function that takes in an endpoint and returns the raw JSON response from the MLB Stats API. You can find a dictionary with the endpoint configuration by accessing the ENDPOINTS global variable. To get notes for a given endpoint, use the notes() method."
   ]
  },
  {
   "cell_type": "code",
   "execution_count": 79,
   "metadata": {},
   "outputs": [
    {
     "data": {
      "text/plain": [
       "['attendance',\n",
       " 'awards',\n",
       " 'conferences',\n",
       " 'divisions',\n",
       " 'draft',\n",
       " 'game',\n",
       " 'game_diff',\n",
       " 'game_timestamps',\n",
       " 'game_changes',\n",
       " 'game_contextMetrics']"
      ]
     },
     "execution_count": 79,
     "metadata": {},
     "output_type": "execute_result"
    }
   ],
   "source": [
    "list(mlb.ENDPOINTS.keys())[:10]"
   ]
  },
  {
   "cell_type": "code",
   "execution_count": 139,
   "metadata": {},
   "outputs": [
    {
     "name": "stdout",
     "output_type": "stream",
     "text": [
      "Endpoint: game \n",
      "All path parameters: ['ver', 'gamePk']. \n",
      "Required path parameters (note: ver will be included by default): ['ver', 'gamePk']. \n",
      "All query parameters: ['timecode', 'hydrate', 'fields']. \n",
      "Required query parameters: None. \n",
      "The hydrate function is supported by this endpoint. Call the endpoint with {'hydrate':'hydrations'} in the parameters to return a list of available hydrations. For example, statsapi.get('schedule',{'sportId':1,'hydrate':'hydrations','fields':'hydrations'})\n",
      "\n"
     ]
    }
   ],
   "source": [
    "print(mlb.notes('game'))"
   ]
  },
  {
   "cell_type": "markdown",
   "metadata": {},
   "source": [
    "<a id='part-1b'></a>"
   ]
  },
  {
   "cell_type": "markdown",
   "metadata": {},
   "source": [
    "#### Get GamePks"
   ]
  },
  {
   "cell_type": "code",
   "execution_count": 132,
   "metadata": {},
   "outputs": [],
   "source": [
    "from datetime import datetime as dt\n",
    "import os,re,csv\n",
    "from os import walk\n",
    "\n",
    "#dates from the 'season' endpoint are returned in a different format than what we need to query the API\n",
    "#we'll use this function to take care of that in a moment\n",
    "def convert_date(date):\n",
    "    date = dt.strptime(date,\"%Y-%m-%d\")\n",
    "    convertedDate = dt.strftime(date,\"%m/%d/%Y\")\n",
    "    return convertedDate\n",
    "\n",
    "def get_gamePks(seasons,target_directory=None):\n",
    "    \"\"\"\n",
    "    Takes in a list of seasons as strings representing their year e.g. ['2018','2019']\n",
    "    Queries the MLB API to find gamePks for each season and writes them to CSV files\n",
    "    if a target directory for the gamePks is not specified, a directory called 'gamePks'\n",
    "    will be added to the current directory. \n",
    "    \"\"\"\n",
    "    if target_directory:\n",
    "        gamePks_path = target_directory\n",
    "    else:\n",
    "        #create a directory to store CSVs\n",
    "        try:\n",
    "            os.mkdir(os.getcwd()+'/gamePks')\n",
    "        except FileExistsError:\n",
    "            pass\n",
    "        gamePks_path=os.getcwd()+'/gamePks'\n",
    "    \n",
    "    #walk the gamePks directory to see if we've already added any seasons\n",
    "    f = []\n",
    "    for (dirpath, dirnames, filenames) in walk(gamePks_path):\n",
    "        f.extend(filenames)\n",
    "        break\n",
    "    years = [re.findall('[^.csv]+',x) for x in f]\n",
    "    already_added = [item for sublist in years for item in sublist if item[0] in ['1','2']]\n",
    "    seasons = list(set(seasons)-set(already_added))\n",
    "    \n",
    "    #query the API to get start dates and end dates for all seasons\n",
    "    all_seasons = mlb.get('seasons',{'sportId':1,'all':True})['seasons']\n",
    "    \n",
    "    #filter out the ones we don't care about right now\n",
    "    seasons = list(filter(lambda x: x['seasonId'] in seasons,all_seasons))\n",
    "    \n",
    "    gamePks = {}\n",
    "    for season in seasons:  \n",
    "        year = season['seasonId']\n",
    "        startDate = convert_date(season['seasonStartDate'])\n",
    "        endDate = convert_date(season['seasonEndDate'])\n",
    "        \n",
    "        #returns a list of dicts for each date in the range\n",
    "        #each dict has a 'games' key with a list of dicts for each game in that day as values\n",
    "        dates = mlb.get('schedule',{'sportId':1,'startDate':startDate,'endDate':endDate})['dates']\n",
    "        \n",
    "        #for each date, and for each game in that date, get the gamePk \n",
    "        gamePks[year]= [ game['gamePk'] \n",
    "                                          for date in dates \n",
    "                                          for game in date['games'] ]\n",
    "        #store the gamePks as CSVs\n",
    "        with open(gamePks_path + f\"/{year}.csv\", 'w',newline='') as myfile:\n",
    "            wr = csv.writer(myfile,quoting=csv.QUOTE_ALL)\n",
    "            wr.writerow(gamePks[year])\n",
    "get_gamePks([str(x) for x in range(2008,2020)])   "
   ]
  },
  {
   "cell_type": "code",
   "execution_count": 133,
   "metadata": {},
   "outputs": [],
   "source": [
    "def read_gamePks():\n",
    "    gamePks_path = os.curdir+'/gamePks'\n",
    "    f = []\n",
    "    for (dirpath, dirnames, filenames) in walk(gamePks_path):\n",
    "        f.extend(filenames)\n",
    "        break\n",
    "    pk_paths = [gamePks_path + '/' + x for x in f if x[0]!= '.']\n",
    "    \n",
    "    gamePks = {}\n",
    "    for path in pk_paths:\n",
    "        season = re.findall('/gamePks/([^.csv]+)',path)\n",
    "        with open(path, 'r') as f:\n",
    "            reader = csv.reader(f)\n",
    "            seasonPks = list(reader)\n",
    "        gamePks[season[0]] = [item for sublist in seasonPks for item in sublist]\n",
    "    return gamePks"
   ]
  },
  {
   "cell_type": "code",
   "execution_count": 135,
   "metadata": {},
   "outputs": [],
   "source": [
    "gamePks=read_gamePks()"
   ]
  },
  {
   "cell_type": "markdown",
   "metadata": {},
   "source": [
    "<a id='part-1c'></a>"
   ]
  },
  {
   "cell_type": "markdown",
   "metadata": {},
   "source": [
    "#### Explore the 'Game' Endpoint"
   ]
  },
  {
   "cell_type": "markdown",
   "metadata": {},
   "source": [
    "Let's pick a gamePk at random to see what's inside the 'game' endpoint. There is a TON of information stored in nested dictionaries returned from the API query. Since our goal is to store this information in a SQL database, our aim is to organize the information into [first normal form](https://www.essentialsql.com/get-ready-to-learn-sql-8-database-first-normal-form-explained-in-simple-english/).\n",
    "\n",
    "From this single result, we'll be able to start building [normalized SQL tables](https://www.essentialsql.com/get-ready-to-learn-sql-database-normalization-explained-in-simple-english/) for games, teams, venues, players, plays, and pitches. Let's start with the games table. "
   ]
  },
  {
   "cell_type": "code",
   "execution_count": 249,
   "metadata": {},
   "outputs": [
    {
     "name": "stdout",
     "output_type": "stream",
     "text": [
      "566385\n"
     ]
    }
   ],
   "source": [
    "temp_pk=gamePks['2019'][500]\n",
    "print(temp_pk) \n",
    "game_result = mlb.get('game',{'gamePk':temp_pk})"
   ]
  },
  {
   "cell_type": "code",
   "execution_count": 250,
   "metadata": {},
   "outputs": [
    {
     "data": {
      "text/plain": [
       "dict_keys(['copyright', 'gamePk', 'link', 'metaData', 'gameData', 'liveData'])"
      ]
     },
     "execution_count": 250,
     "metadata": {},
     "output_type": "execute_result"
    }
   ],
   "source": [
    "game_result.keys()"
   ]
  },
  {
   "cell_type": "code",
   "execution_count": 251,
   "metadata": {},
   "outputs": [
    {
     "data": {
      "text/plain": [
       "dict_keys(['game', 'datetime', 'status', 'teams', 'players', 'venue', 'weather', 'review', 'flags', 'alerts', 'probablePitchers', 'officialScorer', 'primaryDatacaster'])"
      ]
     },
     "execution_count": 251,
     "metadata": {},
     "output_type": "execute_result"
    }
   ],
   "source": [
    "gameData = game_result['gameData']\n",
    "gameData.keys()"
   ]
  },
  {
   "cell_type": "code",
   "execution_count": 252,
   "metadata": {},
   "outputs": [
    {
     "data": {
      "text/plain": [
       "{'pk': 566385,\n",
       " 'type': 'R',\n",
       " 'doubleHeader': 'N',\n",
       " 'id': '2019/04/26/texmlb-seamlb-1',\n",
       " 'gamedayType': 'P',\n",
       " 'tiebreaker': 'N',\n",
       " 'gameNumber': 1,\n",
       " 'calendarEventID': '14-566385-2019-04-26',\n",
       " 'season': '2019',\n",
       " 'seasonDisplay': '2019'}"
      ]
     },
     "execution_count": 252,
     "metadata": {},
     "output_type": "execute_result"
    }
   ],
   "source": [
    "game = gameData['game']\n",
    "game"
   ]
  },
  {
   "cell_type": "markdown",
   "metadata": {},
   "source": [
    "The dictionary above, nested 2 layers deep into the original API result, provides us with a good starting point. But we're goint to add some additional information to make our games table more informative"
   ]
  },
  {
   "cell_type": "code",
   "execution_count": 253,
   "metadata": {},
   "outputs": [
    {
     "data": {
      "text/plain": [
       "{'dateTime': '2019-04-27T02:10:00Z',\n",
       " 'originalDate': '2019-04-26',\n",
       " 'dayNight': 'night',\n",
       " 'time': '7:10',\n",
       " 'ampm': 'PM'}"
      ]
     },
     "execution_count": 253,
     "metadata": {},
     "output_type": "execute_result"
    }
   ],
   "source": [
    "gameData['datetime']"
   ]
  },
  {
   "cell_type": "code",
   "execution_count": 254,
   "metadata": {},
   "outputs": [
    {
     "data": {
      "text/plain": [
       "{'condition': 'Cloudy', 'temp': '56', 'wind': '5 mph, In From CF'}"
      ]
     },
     "execution_count": 254,
     "metadata": {},
     "output_type": "execute_result"
    }
   ],
   "source": [
    "gameData['weather']"
   ]
  },
  {
   "cell_type": "code",
   "execution_count": 255,
   "metadata": {},
   "outputs": [
    {
     "data": {
      "text/plain": [
       "{'id': 'America/Los_Angeles', 'offset': -7, 'tz': 'PDT'}"
      ]
     },
     "execution_count": 255,
     "metadata": {},
     "output_type": "execute_result"
    }
   ],
   "source": [
    "gameData['venue']['timeZone']"
   ]
  },
  {
   "cell_type": "code",
   "execution_count": 296,
   "metadata": {},
   "outputs": [
    {
     "data": {
      "text/plain": [
       "{'abstractGameState': 'Final',\n",
       " 'codedGameState': 'F',\n",
       " 'detailedState': 'Final',\n",
       " 'statusCode': 'F',\n",
       " 'abstractGameCode': 'F'}"
      ]
     },
     "execution_count": 296,
     "metadata": {},
     "output_type": "execute_result"
    }
   ],
   "source": [
    "gameData['status']"
   ]
  },
  {
   "cell_type": "code",
   "execution_count": 256,
   "metadata": {},
   "outputs": [
    {
     "data": {
      "text/plain": [
       "{'pk': 566385,\n",
       " 'type': 'R',\n",
       " 'doubleHeader': 'N',\n",
       " 'id': '2019/04/26/texmlb-seamlb-1',\n",
       " 'gamedayType': 'P',\n",
       " 'tiebreaker': 'N',\n",
       " 'gameNumber': 1,\n",
       " 'calendarEventID': '14-566385-2019-04-26',\n",
       " 'season': '2019',\n",
       " 'dateTime': '2019-04-27T02:10:00Z',\n",
       " 'originalDate': '2019-04-26',\n",
       " 'condition': 'Cloudy',\n",
       " 'temp': '56',\n",
       " 'wind': '5 mph, In From CF',\n",
       " 'tz': 'PDT'}"
      ]
     },
     "execution_count": 256,
     "metadata": {},
     "output_type": "execute_result"
    }
   ],
   "source": [
    "#keys to add\n",
    "keys_to_add = ['dateTime',\n",
    "          'originalDate',\n",
    "          'condition',\n",
    "          'temp','wind','tz']\n",
    "#dictionaries from which to add them\n",
    "dicts = [gameData['datetime'],\n",
    "         gameData['weather'],\n",
    "         gameData['venue']['timeZone']\n",
    "        ]\n",
    "\n",
    "for k in keys_to_add:\n",
    "    for d in dicts:\n",
    "        try:\n",
    "            game[k]=d[k]\n",
    "        except KeyError:\n",
    "            continue\n",
    "#'seasonDisplay' key:value seems to be redundant\n",
    "del game['seasonDisplay']\n",
    "game"
   ]
  },
  {
   "cell_type": "code",
   "execution_count": 305,
   "metadata": {},
   "outputs": [
    {
     "data": {
      "text/plain": [
       "{'away': {'id': 571946,\n",
       "  'fullName': 'Miller, Shelby',\n",
       "  'link': '/api/v1/people/571946'},\n",
       " 'home': {'id': 579328,\n",
       "  'fullName': 'Kikuchi, Yusei',\n",
       "  'link': '/api/v1/people/579328'}}"
      ]
     },
     "execution_count": 305,
     "metadata": {},
     "output_type": "execute_result"
    }
   ],
   "source": [
    "gameData['probablePitchers']"
   ]
  },
  {
   "cell_type": "code",
   "execution_count": 387,
   "metadata": {},
   "outputs": [],
   "source": [
    "def get_game(api_call):\n",
    "    gameData = api_call['gameData']\n",
    "    dateTime = gameData['datetime']\n",
    "    game = gameData['game']\n",
    "    weather = gameData['weather']\n",
    "    timeZone = gameData['venue']['timeZone']\n",
    "    status = gameData['status']\n",
    "    probablePitchers = gameData['probablePitchers']\n",
    "    \n",
    "    keys_to_add = ['dateTime','originalDate',\n",
    "                   'condition','temp','wind',\n",
    "                   'tz','detailedState'\n",
    "                  ]\n",
    "    dicts = [weather,dateTime,timeZone,status]\n",
    "    for k in keys_to_add:\n",
    "        for d in dicts:\n",
    "            try:\n",
    "                game[k]=d[k]\n",
    "            except KeyError:\n",
    "                continue\n",
    "    #'seasonDisplay' key:value seems to be redundant\n",
    "    del game['seasonDisplay']\n",
    "    \n",
    "    home_team = gameData['teams']['home']\n",
    "    away_team = gameData['teams']['away']\n",
    "    \n",
    "    game['homeTeam_id'] = home_team['id']\n",
    "    game['awayTeam_id'] = away_team['id']\n",
    "    \n",
    "    game['venue_id'] = gameData['venue']['id']\n",
    "    \n",
    "    for team in ['home','away']:\n",
    "        try:\n",
    "            game[f\"{team}_probablePitcher\"]=probablePitchers[team]['id']\n",
    "        except KeyError:\n",
    "            pass\n",
    "    \n",
    "    #format the dateTime and originalDate\n",
    "    fmt = \"%Y-%m-%dT%H:%M:%SZ\" \n",
    "    game['dateTime'] = dt.strptime(game['dateTime'],fmt)\n",
    "    fmt = \"%Y-%m-%d\"\n",
    "    game['originalDate'] = dt.strptime(game['originalDate'],fmt).date()\n",
    "    \n",
    "    return game\n",
    "game = get_game(mlb.get('game',{'gamePk':temp_pk}))"
   ]
  },
  {
   "cell_type": "code",
   "execution_count": 388,
   "metadata": {},
   "outputs": [
    {
     "data": {
      "text/plain": [
       "datetime.date(2019, 4, 26)"
      ]
     },
     "execution_count": 388,
     "metadata": {},
     "output_type": "execute_result"
    }
   ],
   "source": [
    "game['originalDate']"
   ]
  },
  {
   "cell_type": "markdown",
   "metadata": {},
   "source": [
    "## API call class\n",
    "- instantiated with pk with which we query the 'game' end point. \n",
    "- YIELDS the API result because we don't want everything loaded into memory\n",
    "- class methods parse the yielded generator into dictionaries with which to instantiate table records"
   ]
  },
  {
   "cell_type": "code",
   "execution_count": 324,
   "metadata": {},
   "outputs": [],
   "source": [
    "def api_call(gamePk):\n",
    "    yield mlb.get('game',{'gamePk':gamePk})"
   ]
  },
  {
   "cell_type": "code",
   "execution_count": 325,
   "metadata": {},
   "outputs": [],
   "source": [
    "class API_call():\n",
    "    def __init__(self,gamePk):\n",
    "        self.result = api_call(gamePk)"
   ]
  },
  {
   "cell_type": "code",
   "execution_count": 326,
   "metadata": {},
   "outputs": [
    {
     "data": {
      "text/plain": [
       "<generator object api_call at 0x10fd9fed0>"
      ]
     },
     "execution_count": 326,
     "metadata": {},
     "output_type": "execute_result"
    }
   ],
   "source": [
    "call = API_call(temp_pk)\n",
    "response = call.result\n",
    "response"
   ]
  },
  {
   "cell_type": "code",
   "execution_count": null,
   "metadata": {},
   "outputs": [],
   "source": [
    "keys = ['gamePk','gameData','liveData']\n"
   ]
  },
  {
   "cell_type": "markdown",
   "metadata": {},
   "source": [
    "<a id='part-2'></a>"
   ]
  },
  {
   "cell_type": "markdown",
   "metadata": {},
   "source": [
    "## Introducing SQL Alchemy"
   ]
  },
  {
   "cell_type": "code",
   "execution_count": 363,
   "metadata": {},
   "outputs": [],
   "source": [
    "import sqlalchemy\n",
    "from sqlalchemy import create_engine"
   ]
  },
  {
   "cell_type": "code",
   "execution_count": 364,
   "metadata": {},
   "outputs": [
    {
     "name": "stdout",
     "output_type": "stream",
     "text": [
      "Engine(sqlite://///Users/schlinkertc/code/MLB/mlb_sqlite/blog_posts/mlb.db)\n"
     ]
    }
   ],
   "source": [
    "class MyDatabase:\n",
    "    # http://docs.sqlalchemy.org/en/latest/core/engines.html\n",
    "    \"\"\"\n",
    "    Custom class for instantiating a SQL Alchemy connection. Configured here for SQLite, but intended to be flexible.\n",
    "    Credit to Medium user Mahmud Ahsan:\n",
    "    https://medium.com/@mahmudahsan/how-to-use-python-sqlite3-using-sqlalchemy-158f9c54eb32\n",
    "    \"\"\"\n",
    "    DB_ENGINE = {\n",
    "       'sqlite': 'sqlite:////{DB}'\n",
    "    }\n",
    "\n",
    "    # Main DB Connection Ref Obj\n",
    "    db_engine = None\n",
    "    def __init__(self, dbtype, username='', password='', dbname='',path=os.getcwd()+'/'):\n",
    "        dbtype = dbtype.lower()\n",
    "        if dbtype in self.DB_ENGINE.keys():\n",
    "            engine_url = self.DB_ENGINE[dbtype].format(DB=path+dbname)\n",
    "            self.db_engine = create_engine(engine_url)\n",
    "            print(self.db_engine)\n",
    "        else:\n",
    "            print(\"DBType is not found in DB_ENGINE\")\n",
    "db=MyDatabase('sqlite',dbname='mlb.db')"
   ]
  },
  {
   "cell_type": "code",
   "execution_count": 389,
   "metadata": {},
   "outputs": [],
   "source": [
    "from sqlalchemy.ext.declarative import declarative_base\n",
    "Base = declarative_base()\n",
    "\n",
    "from sqlalchemy import Table,Column,Integer,String,DateTime,Date,Boolean\n",
    "\n",
    "class Game(Base):\n",
    "    __tablename__ = 'games'\n",
    "    __table_args__ = {'extend_existing': True}\n",
    "    \n",
    "    pk = Column(Integer)\n",
    "    type = Column(String(1))\n",
    "    doubleHeader = Column(String(1))\n",
    "    id = Column(String(150), primary_key=True,unique=True)\n",
    "    gamedayType = Column(String(1))\n",
    "    tiebreaker = Column(String(1))\n",
    "    gameNumber = Column(Integer)\n",
    "    calenderEventId = Column(String(50))\n",
    "    season = Column(Integer)\n",
    "    \n",
    "    dateTime = Column(DateTime)\n",
    "    originalDate = Column(Date)\n",
    "    \n",
    "    detailedState = Column(String(12))\n",
    "    \n",
    "    homeTeam_id = Column(Integer)\n",
    "    awayTeam_id = Column(Integer)\n",
    "    \n",
    "    condition = Column(String(25))\n",
    "    temp = Column(Integer)\n",
    "    wind = Column(String(50))\n",
    "    \n",
    "    venue_id = Column(Integer)\n",
    "    \n",
    "    home_probablePitcher = Column(Integer)\n",
    "    away_probablePitcher = Column(Integer)\n",
    "    \n",
    "    def __repr__(self): \n",
    "        return \"<Game(pk='%s',id='%s')>\" % (\n",
    "                        self.pk, self.id)\n",
    "    \n",
    "    def __init__(self,dictionary):\n",
    "        for k,v in dictionary.items():\n",
    "            setattr(self,k,v)"
   ]
  },
  {
   "cell_type": "code",
   "execution_count": 380,
   "metadata": {},
   "outputs": [],
   "source": [
    "Base.metadata.create_all(db.db_engine)"
   ]
  },
  {
   "cell_type": "code",
   "execution_count": 381,
   "metadata": {},
   "outputs": [],
   "source": [
    "game_record = Game(get_game(temp_pk))"
   ]
  },
  {
   "cell_type": "code",
   "execution_count": 382,
   "metadata": {},
   "outputs": [],
   "source": [
    "from sqlalchemy.orm import sessionmaker\n",
    "Session = sessionmaker(bind=db.db_engine)\n",
    "session = Session()"
   ]
  },
  {
   "cell_type": "code",
   "execution_count": 383,
   "metadata": {},
   "outputs": [],
   "source": [
    "session.add(game_record)"
   ]
  },
  {
   "cell_type": "code",
   "execution_count": 384,
   "metadata": {},
   "outputs": [],
   "source": [
    "session.commit()"
   ]
  },
  {
   "cell_type": "code",
   "execution_count": 385,
   "metadata": {},
   "outputs": [
    {
     "data": {
      "text/plain": [
       "[<Game(pk='566385',id='2019/04/26/texmlb-seamlb-1')>]"
      ]
     },
     "execution_count": 385,
     "metadata": {},
     "output_type": "execute_result"
    }
   ],
   "source": [
    "session.query(Game).all()"
   ]
  },
  {
   "cell_type": "markdown",
   "metadata": {},
   "source": [
    "Now we're going to move on to plays. We're going to set up a one-to-many relationship between games and plays, so we'll need to be able to link the two when we get to the SQLAlchemy stage. With that in mind, we'll start exploring the information embedded in the 'liveData' key of the original API result"
   ]
  },
  {
   "cell_type": "code",
   "execution_count": 258,
   "metadata": {},
   "outputs": [
    {
     "data": {
      "text/plain": [
       "dict_keys(['plays', 'linescore', 'boxscore', 'decisions', 'leaders'])"
      ]
     },
     "execution_count": 258,
     "metadata": {},
     "output_type": "execute_result"
    }
   ],
   "source": [
    "#'game_result' variable still contains the info from our oringal exploration\n",
    "liveData = game_result['liveData']\n",
    "liveData.keys()"
   ]
  },
  {
   "cell_type": "code",
   "execution_count": 259,
   "metadata": {},
   "outputs": [
    {
     "data": {
      "text/plain": [
       "dict_keys(['allPlays', 'currentPlay', 'scoringPlays', 'playsByInning'])"
      ]
     },
     "execution_count": 259,
     "metadata": {},
     "output_type": "execute_result"
    }
   ],
   "source": [
    "plays = liveData['plays']\n",
    "plays.keys()"
   ]
  },
  {
   "cell_type": "code",
   "execution_count": 260,
   "metadata": {},
   "outputs": [],
   "source": [
    "allPlays = plays['allPlays']"
   ]
  },
  {
   "cell_type": "markdown",
   "metadata": {},
   "source": [
    "'allPlays' gives us a list of dictionaries with information about every play. Remember that we're aiming for first normal form, so we don't want any information about pitches, players, or runners at this time. Those will be contained in their own respective tables"
   ]
  },
  {
   "cell_type": "code",
   "execution_count": 267,
   "metadata": {},
   "outputs": [
    {
     "data": {
      "text/plain": [
       "dict_keys(['result', 'about', 'count', 'matchup', 'pitchIndex', 'actionIndex', 'runnerIndex', 'runners', 'playEvents', 'atBatIndex', 'playEndTime'])"
      ]
     },
     "execution_count": 267,
     "metadata": {},
     "output_type": "execute_result"
    }
   ],
   "source": [
    "temp_play = allPlays[0]\n",
    "temp_play.keys()"
   ]
  },
  {
   "cell_type": "code",
   "execution_count": 268,
   "metadata": {},
   "outputs": [
    {
     "data": {
      "text/plain": [
       "{'type': 'atBat',\n",
       " 'event': 'Groundout',\n",
       " 'eventType': 'field_out',\n",
       " 'description': 'Delino DeShields grounds out, second baseman Dee Gordon to first baseman Edwin Encarnacion.',\n",
       " 'rbi': 0,\n",
       " 'awayScore': 0,\n",
       " 'homeScore': 0}"
      ]
     },
     "execution_count": 268,
     "metadata": {},
     "output_type": "execute_result"
    }
   ],
   "source": [
    "temp_play['result']"
   ]
  },
  {
   "cell_type": "code",
   "execution_count": 269,
   "metadata": {},
   "outputs": [
    {
     "data": {
      "text/plain": [
       "{'atBatIndex': 0,\n",
       " 'halfInning': 'top',\n",
       " 'isTopInning': True,\n",
       " 'inning': 1,\n",
       " 'startTime': '2019-04-27T00:55:22.000Z',\n",
       " 'endTime': '2019-04-27T02:11:24.000Z',\n",
       " 'isComplete': True,\n",
       " 'isScoringPlay': False,\n",
       " 'hasReview': False,\n",
       " 'hasOut': True,\n",
       " 'captivatingIndex': 0}"
      ]
     },
     "execution_count": 269,
     "metadata": {},
     "output_type": "execute_result"
    }
   ],
   "source": [
    "temp_play['about']"
   ]
  },
  {
   "cell_type": "code",
   "execution_count": 271,
   "metadata": {},
   "outputs": [
    {
     "data": {
      "text/plain": [
       "{'balls': 1, 'strikes': 0, 'outs': 1}"
      ]
     },
     "execution_count": 271,
     "metadata": {},
     "output_type": "execute_result"
    }
   ],
   "source": [
    "temp_play['count']"
   ]
  },
  {
   "cell_type": "markdown",
   "metadata": {},
   "source": [
    "'playEvents' will give us a list of dictionaries for pitches and events that happened during the play. We'll use the 'pitchIndex' and 'actionIndex' to access these details later."
   ]
  },
  {
   "cell_type": "code",
   "execution_count": 288,
   "metadata": {},
   "outputs": [
    {
     "name": "stdout",
     "output_type": "stream",
     "text": [
      "[0, 1, 2] [3, 4]\n"
     ]
    },
    {
     "data": {
      "text/plain": [
       "True"
      ]
     },
     "execution_count": 288,
     "metadata": {},
     "output_type": "execute_result"
    }
   ],
   "source": [
    "print(temp_play['actionIndex'],temp_play['pitchIndex'])\n",
    "len(temp_play['playEvents']) == ( len(temp_play['actionIndex']) \n",
    "                                 + len(temp_play['pitchIndex'])\n",
    "                                )"
   ]
  },
  {
   "cell_type": "code",
   "execution_count": 289,
   "metadata": {},
   "outputs": [
    {
     "data": {
      "text/plain": [
       "[0]"
      ]
     },
     "execution_count": 289,
     "metadata": {},
     "output_type": "execute_result"
    }
   ],
   "source": [
    "temp_play['runnerIndex']"
   ]
  },
  {
   "cell_type": "code",
   "execution_count": 291,
   "metadata": {},
   "outputs": [
    {
     "data": {
      "text/plain": [
       "0"
      ]
     },
     "execution_count": 291,
     "metadata": {},
     "output_type": "execute_result"
    }
   ],
   "source": [
    "temp_play['atBatIndex']"
   ]
  },
  {
   "cell_type": "code",
   "execution_count": null,
   "metadata": {},
   "outputs": [],
   "source": [
    "def get_play(API_result):\n",
    "    #foreign key references games table\n",
    "    play['gamePk']=API_result['gamePk']"
   ]
  }
 ],
 "metadata": {
  "kernelspec": {
   "display_name": "Python 3",
   "language": "python",
   "name": "python3"
  },
  "language_info": {
   "codemirror_mode": {
    "name": "ipython",
    "version": 3
   },
   "file_extension": ".py",
   "mimetype": "text/x-python",
   "name": "python",
   "nbconvert_exporter": "python",
   "pygments_lexer": "ipython3",
   "version": "3.7.3"
  }
 },
 "nbformat": 4,
 "nbformat_minor": 4
}
