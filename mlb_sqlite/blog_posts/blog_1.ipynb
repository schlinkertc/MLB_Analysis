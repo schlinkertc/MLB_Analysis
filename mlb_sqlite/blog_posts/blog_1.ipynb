{
 "cells": [
  {
   "cell_type": "markdown",
   "metadata": {},
   "source": [
    "# Leveraging SQLAlchemy ORM to Sotre and Retrieve MLB Stats"
   ]
  },
  {
   "cell_type": "markdown",
   "metadata": {},
   "source": [
    "## Table of Contents\n",
    "\n",
    "[Part 1: Exploring the MLB API](#part-1)\n",
    "- [1a. Install and Import](#part-1a)\n",
    "- [1b. Get GamePks](#part-1b)\n",
    "- [1c. The 'Game' Endpoint](#part-1c)\n",
    "\n",
    "---"
   ]
  },
  {
   "cell_type": "markdown",
   "metadata": {},
   "source": [
    "### The SQLAlchemy Object Relational Mapper automatically constructs higher-level SQL and automates persistence of python objects.\n",
    "We're going to query the MLB API using a python wrapper created by Todd Roberts and store the information in a SQLite database for future analysis. \n",
    "\n",
    "---"
   ]
  },
  {
   "cell_type": "markdown",
   "metadata": {},
   "source": [
    "<a id='part-1'></a>"
   ]
  },
  {
   "cell_type": "markdown",
   "metadata": {},
   "source": [
    "## Part 1: Exploring the MLB API\n",
    "Todd Roberts' python wrapper is part of the python package index. You can find more information [here](https://pypi.org/project/MLB-StatsAPI/) or on [GitHub](https://github.com/toddrob99/MLB-StatsAPI)."
   ]
  },
  {
   "cell_type": "markdown",
   "metadata": {},
   "source": [
    "<a id='part-1a'></a>"
   ]
  },
  {
   "cell_type": "markdown",
   "metadata": {},
   "source": [
    "First, we have to install it and import it."
   ]
  },
  {
   "cell_type": "code",
   "execution_count": 1,
   "metadata": {},
   "outputs": [],
   "source": [
    "import sys\n",
    "#pip install \n",
    "#!{sys.executable} -m pip install MLB-StatsAPI\n",
    "\n",
    "import statsapi as mlb"
   ]
  },
  {
   "cell_type": "markdown",
   "metadata": {},
   "source": [
    "Todd was nice enough to give us several convenient functions for accessing the API's endpoints. The most flexible/powerful of these is the get() function that takes in an endpoint and returns the raw JSON response from the MLB Stats API. You can find a dictionary with the endpoint configuration by accessing the ENDPOINTS global variable. To get notes for a given endpoint, use the notes() method."
   ]
  },
  {
   "cell_type": "code",
   "execution_count": 79,
   "metadata": {},
   "outputs": [
    {
     "data": {
      "text/plain": [
       "['attendance',\n",
       " 'awards',\n",
       " 'conferences',\n",
       " 'divisions',\n",
       " 'draft',\n",
       " 'game',\n",
       " 'game_diff',\n",
       " 'game_timestamps',\n",
       " 'game_changes',\n",
       " 'game_contextMetrics']"
      ]
     },
     "execution_count": 79,
     "metadata": {},
     "output_type": "execute_result"
    }
   ],
   "source": [
    "list(mlb.ENDPOINTS.keys())[:10]"
   ]
  },
  {
   "cell_type": "code",
   "execution_count": 139,
   "metadata": {},
   "outputs": [
    {
     "name": "stdout",
     "output_type": "stream",
     "text": [
      "Endpoint: game \n",
      "All path parameters: ['ver', 'gamePk']. \n",
      "Required path parameters (note: ver will be included by default): ['ver', 'gamePk']. \n",
      "All query parameters: ['timecode', 'hydrate', 'fields']. \n",
      "Required query parameters: None. \n",
      "The hydrate function is supported by this endpoint. Call the endpoint with {'hydrate':'hydrations'} in the parameters to return a list of available hydrations. For example, statsapi.get('schedule',{'sportId':1,'hydrate':'hydrations','fields':'hydrations'})\n",
      "\n"
     ]
    }
   ],
   "source": [
    "print(mlb.notes('game'))"
   ]
  },
  {
   "cell_type": "markdown",
   "metadata": {},
   "source": [
    "<a id='part-1b'></a>"
   ]
  },
  {
   "cell_type": "markdown",
   "metadata": {},
   "source": [
    "#### Get GamePks"
   ]
  },
  {
   "cell_type": "code",
   "execution_count": 132,
   "metadata": {},
   "outputs": [],
   "source": [
    "from datetime import datetime as dt\n",
    "import os,re,csv\n",
    "from os import walk\n",
    "\n",
    "#dates from the 'season' endpoint are returned in a different format than what we need to query the API\n",
    "#we'll use this function to take care of that in a moment\n",
    "def convert_date(date):\n",
    "    date = dt.strptime(date,\"%Y-%m-%d\")\n",
    "    convertedDate = dt.strftime(date,\"%m/%d/%Y\")\n",
    "    return convertedDate\n",
    "\n",
    "def get_gamePks(seasons,target_directory=None):\n",
    "    \"\"\"\n",
    "    Takes in a list of seasons as strings representing their year e.g. ['2018','2019']\n",
    "    Queries the MLB API to find gamePks for each season and writes them to CSV files\n",
    "    if a target directory for the gamePks is not specified, a directory called 'gamePks'\n",
    "    will be added to the current directory. \n",
    "    \"\"\"\n",
    "    if target_directory:\n",
    "        gamePks_path = target_directory\n",
    "    else:\n",
    "        #create a directory to store CSVs\n",
    "        try:\n",
    "            os.mkdir(os.getcwd()+'/gamePks')\n",
    "        except FileExistsError:\n",
    "            pass\n",
    "        gamePks_path=os.getcwd()+'/gamePks'\n",
    "    \n",
    "    #walk the gamePks directory to see if we've already added any seasons\n",
    "    f = []\n",
    "    for (dirpath, dirnames, filenames) in walk(gamePks_path):\n",
    "        f.extend(filenames)\n",
    "        break\n",
    "    years = [re.findall('[^.csv]+',x) for x in f]\n",
    "    already_added = [item for sublist in years for item in sublist if item[0] in ['1','2']]\n",
    "    seasons = list(set(seasons)-set(already_added))\n",
    "    \n",
    "    #query the API to get start dates and end dates for all seasons\n",
    "    all_seasons = mlb.get('seasons',{'sportId':1,'all':True})['seasons']\n",
    "    \n",
    "    #filter out the ones we don't care about right now\n",
    "    seasons = list(filter(lambda x: x['seasonId'] in seasons,all_seasons))\n",
    "    \n",
    "    gamePks = {}\n",
    "    for season in seasons:  \n",
    "        year = season['seasonId']\n",
    "        startDate = convert_date(season['seasonStartDate'])\n",
    "        endDate = convert_date(season['seasonEndDate'])\n",
    "        \n",
    "        #returns a list of dicts for each date in the range\n",
    "        #each dict has a 'games' key with a list of dicts for each game in that day as values\n",
    "        dates = mlb.get('schedule',{'sportId':1,'startDate':startDate,'endDate':endDate})['dates']\n",
    "        \n",
    "        #for each date, and for each game in that date, get the gamePk \n",
    "        gamePks[year]= [ game['gamePk'] \n",
    "                                          for date in dates \n",
    "                                          for game in date['games'] ]\n",
    "        #store the gamePks as CSVs\n",
    "        with open(gamePks_path + f\"/{year}.csv\", 'w',newline='') as myfile:\n",
    "            wr = csv.writer(myfile,quoting=csv.QUOTE_ALL)\n",
    "            wr.writerow(gamePks[year])\n",
    "get_gamePks([str(x) for x in range(2008,2020)])   "
   ]
  },
  {
   "cell_type": "code",
   "execution_count": 133,
   "metadata": {},
   "outputs": [],
   "source": [
    "def read_gamePks():\n",
    "    gamePks_path = os.curdir+'/gamePks'\n",
    "    f = []\n",
    "    for (dirpath, dirnames, filenames) in walk(gamePks_path):\n",
    "        f.extend(filenames)\n",
    "        break\n",
    "    pk_paths = [gamePks_path + '/' + x for x in f if x[0]!= '.']\n",
    "    \n",
    "    gamePks = {}\n",
    "    for path in pk_paths:\n",
    "        season = re.findall('/gamePks/([^.csv]+)',path)\n",
    "        with open(path, 'r') as f:\n",
    "            reader = csv.reader(f)\n",
    "            seasonPks = list(reader)\n",
    "        gamePks[season[0]] = [item for sublist in seasonPks for item in sublist]\n",
    "    return gamePks"
   ]
  },
  {
   "cell_type": "code",
   "execution_count": 135,
   "metadata": {},
   "outputs": [],
   "source": [
    "gamePks=read_gamePks()"
   ]
  },
  {
   "cell_type": "markdown",
   "metadata": {},
   "source": [
    "<a id='part-1c'></a>"
   ]
  },
  {
   "cell_type": "markdown",
   "metadata": {},
   "source": [
    "#### Explore the 'Game' Endpoint"
   ]
  },
  {
   "cell_type": "code",
   "execution_count": 168,
   "metadata": {},
   "outputs": [],
   "source": [
    "temp_pk=gamePks['2019'][300]\n",
    "\n",
    "game_result = mlb.get('game',{'gamePk':temp_pk})"
   ]
  },
  {
   "cell_type": "code",
   "execution_count": 169,
   "metadata": {},
   "outputs": [
    {
     "data": {
      "text/plain": [
       "dict_keys(['copyright', 'gamePk', 'link', 'metaData', 'gameData', 'liveData'])"
      ]
     },
     "execution_count": 169,
     "metadata": {},
     "output_type": "execute_result"
    }
   ],
   "source": [
    "game_result.keys()"
   ]
  },
  {
   "cell_type": "code",
   "execution_count": 170,
   "metadata": {},
   "outputs": [],
   "source": [
    "gameData = game_result['gameData']"
   ]
  },
  {
   "cell_type": "code",
   "execution_count": 171,
   "metadata": {},
   "outputs": [
    {
     "data": {
      "text/plain": [
       "dict_keys(['game', 'datetime', 'status', 'teams', 'players', 'venue', 'weather', 'review', 'flags', 'alerts', 'probablePitchers', 'officialScorer', 'primaryDatacaster'])"
      ]
     },
     "execution_count": 171,
     "metadata": {},
     "output_type": "execute_result"
    }
   ],
   "source": [
    "gameData.keys()"
   ]
  },
  {
   "cell_type": "code",
   "execution_count": 173,
   "metadata": {},
   "outputs": [],
   "source": [
    "game = gameData['game']"
   ]
  },
  {
   "cell_type": "code",
   "execution_count": 174,
   "metadata": {},
   "outputs": [
    {
     "data": {
      "text/plain": [
       "{'pk': 565900,\n",
       " 'type': 'R',\n",
       " 'doubleHeader': 'N',\n",
       " 'id': '2019/04/12/pitmlb-wasmlb-1',\n",
       " 'gamedayType': 'P',\n",
       " 'tiebreaker': 'N',\n",
       " 'gameNumber': 1,\n",
       " 'calendarEventID': '14-565900-2019-04-12',\n",
       " 'season': '2019',\n",
       " 'seasonDisplay': '2019'}"
      ]
     },
     "execution_count": 174,
     "metadata": {},
     "output_type": "execute_result"
    }
   ],
   "source": [
    "game"
   ]
  },
  {
   "cell_type": "code",
   "execution_count": 175,
   "metadata": {},
   "outputs": [
    {
     "data": {
      "text/plain": [
       "{'dateTime': '2019-04-12T23:05:00Z',\n",
       " 'originalDate': '2019-04-12',\n",
       " 'dayNight': 'night',\n",
       " 'time': '7:05',\n",
       " 'ampm': 'PM'}"
      ]
     },
     "execution_count": 175,
     "metadata": {},
     "output_type": "execute_result"
    }
   ],
   "source": [
    "gameData['datetime']"
   ]
  },
  {
   "cell_type": "code",
   "execution_count": 176,
   "metadata": {},
   "outputs": [
    {
     "data": {
      "text/plain": [
       "{'condition': 'Overcast', 'temp': '67', 'wind': '8 mph, R To L'}"
      ]
     },
     "execution_count": 176,
     "metadata": {},
     "output_type": "execute_result"
    }
   ],
   "source": [
    "gameData['weather']"
   ]
  },
  {
   "cell_type": "code",
   "execution_count": 180,
   "metadata": {},
   "outputs": [
    {
     "data": {
      "text/plain": [
       "{'id': 'America/New_York', 'offset': -5, 'tz': 'EST'}"
      ]
     },
     "execution_count": 180,
     "metadata": {},
     "output_type": "execute_result"
    }
   ],
   "source": [
    "gameData['venue']['timeZone']"
   ]
  },
  {
   "cell_type": "code",
   "execution_count": 181,
   "metadata": {},
   "outputs": [],
   "source": [
    "game.update(gameData['datetime'])"
   ]
  },
  {
   "cell_type": "code",
   "execution_count": 182,
   "metadata": {},
   "outputs": [
    {
     "data": {
      "text/plain": [
       "{'pk': 565900,\n",
       " 'type': 'R',\n",
       " 'doubleHeader': 'N',\n",
       " 'id': '2019/04/12/pitmlb-wasmlb-1',\n",
       " 'gamedayType': 'P',\n",
       " 'tiebreaker': 'N',\n",
       " 'gameNumber': 1,\n",
       " 'calendarEventID': '14-565900-2019-04-12',\n",
       " 'season': '2019',\n",
       " 'seasonDisplay': '2019',\n",
       " 'dateTime': '2019-04-12T23:05:00Z',\n",
       " 'originalDate': '2019-04-12',\n",
       " 'dayNight': 'night',\n",
       " 'time': '7:05',\n",
       " 'ampm': 'PM'}"
      ]
     },
     "execution_count": 182,
     "metadata": {},
     "output_type": "execute_result"
    }
   ],
   "source": [
    "game"
   ]
  },
  {
   "cell_type": "code",
   "execution_count": null,
   "metadata": {},
   "outputs": [],
   "source": [
    "game."
   ]
  }
 ],
 "metadata": {
  "kernelspec": {
   "display_name": "Python 3",
   "language": "python",
   "name": "python3"
  },
  "language_info": {
   "codemirror_mode": {
    "name": "ipython",
    "version": 3
   },
   "file_extension": ".py",
   "mimetype": "text/x-python",
   "name": "python",
   "nbconvert_exporter": "python",
   "pygments_lexer": "ipython3",
   "version": "3.7.3"
  }
 },
 "nbformat": 4,
 "nbformat_minor": 4
}
