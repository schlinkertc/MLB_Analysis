{
 "cells": [
  {
   "cell_type": "code",
   "execution_count": 1,
   "metadata": {},
   "outputs": [],
   "source": [
    "import pandas as pd\n",
    "import numpy as np\n",
    "import matplotlib.pyplot as plt\n",
    "%matplotlib inline"
   ]
  },
  {
   "cell_type": "code",
   "execution_count": 2,
   "metadata": {},
   "outputs": [],
   "source": [
    "df = pd.read_csv(\"dataset.csv\")"
   ]
  },
  {
   "cell_type": "code",
   "execution_count": 3,
   "metadata": {},
   "outputs": [
    {
     "data": {
      "text/html": [
       "<div>\n",
       "<style scoped>\n",
       "    .dataframe tbody tr th:only-of-type {\n",
       "        vertical-align: middle;\n",
       "    }\n",
       "\n",
       "    .dataframe tbody tr th {\n",
       "        vertical-align: top;\n",
       "    }\n",
       "\n",
       "    .dataframe thead th {\n",
       "        text-align: right;\n",
       "    }\n",
       "</style>\n",
       "<table border=\"1\" class=\"dataframe\">\n",
       "  <thead>\n",
       "    <tr style=\"text-align: right;\">\n",
       "      <th></th>\n",
       "      <th>gamePk</th>\n",
       "      <th>home_offense</th>\n",
       "      <th>home_power</th>\n",
       "      <th>home_clutch</th>\n",
       "      <th>home_r_oppBa</th>\n",
       "      <th>home_r_oppBb</th>\n",
       "      <th>home_r_oppEr</th>\n",
       "      <th>home_s_oppBa</th>\n",
       "      <th>home_s_oppBb</th>\n",
       "      <th>home_s_oppEr</th>\n",
       "      <th>away_offense</th>\n",
       "      <th>away_power</th>\n",
       "      <th>away_clutch</th>\n",
       "      <th>away_r_oppBa</th>\n",
       "      <th>away_r_oppBb</th>\n",
       "      <th>away_r_oppEr</th>\n",
       "      <th>away_s_oppBa</th>\n",
       "      <th>away_s_oppBb</th>\n",
       "      <th>away_s_oppEr</th>\n",
       "      <th>homeTeam_win</th>\n",
       "    </tr>\n",
       "  </thead>\n",
       "  <tbody>\n",
       "    <tr>\n",
       "      <th>0</th>\n",
       "      <td>566180</td>\n",
       "      <td>0.363636</td>\n",
       "      <td>0.079365</td>\n",
       "      <td>0.285714</td>\n",
       "      <td>0.163934</td>\n",
       "      <td>0.075758</td>\n",
       "      <td>0.333333</td>\n",
       "      <td>0.258922</td>\n",
       "      <td>0.089009</td>\n",
       "      <td>0.368218</td>\n",
       "      <td>0.315068</td>\n",
       "      <td>0.250000</td>\n",
       "      <td>0.391304</td>\n",
       "      <td>0.253968</td>\n",
       "      <td>0.112676</td>\n",
       "      <td>0.375000</td>\n",
       "      <td>0.258785</td>\n",
       "      <td>0.089063</td>\n",
       "      <td>0.368410</td>\n",
       "      <td>0.0</td>\n",
       "    </tr>\n",
       "    <tr>\n",
       "      <th>1</th>\n",
       "      <td>565316</td>\n",
       "      <td>0.220000</td>\n",
       "      <td>0.055556</td>\n",
       "      <td>0.227273</td>\n",
       "      <td>0.230769</td>\n",
       "      <td>0.099010</td>\n",
       "      <td>0.354839</td>\n",
       "      <td>0.258922</td>\n",
       "      <td>0.089009</td>\n",
       "      <td>0.368218</td>\n",
       "      <td>0.321739</td>\n",
       "      <td>0.155340</td>\n",
       "      <td>0.405405</td>\n",
       "      <td>0.218750</td>\n",
       "      <td>0.102804</td>\n",
       "      <td>0.468750</td>\n",
       "      <td>0.258785</td>\n",
       "      <td>0.089063</td>\n",
       "      <td>0.368410</td>\n",
       "      <td>1.0</td>\n",
       "    </tr>\n",
       "    <tr>\n",
       "      <th>2</th>\n",
       "      <td>567459</td>\n",
       "      <td>0.412371</td>\n",
       "      <td>0.187500</td>\n",
       "      <td>0.325000</td>\n",
       "      <td>0.240385</td>\n",
       "      <td>0.079646</td>\n",
       "      <td>0.294118</td>\n",
       "      <td>0.258922</td>\n",
       "      <td>0.089008</td>\n",
       "      <td>0.368218</td>\n",
       "      <td>0.254902</td>\n",
       "      <td>0.074074</td>\n",
       "      <td>0.153846</td>\n",
       "      <td>0.176923</td>\n",
       "      <td>0.084507</td>\n",
       "      <td>0.314286</td>\n",
       "      <td>0.258785</td>\n",
       "      <td>0.089063</td>\n",
       "      <td>0.368410</td>\n",
       "      <td>1.0</td>\n",
       "    </tr>\n",
       "    <tr>\n",
       "      <th>3</th>\n",
       "      <td>565223</td>\n",
       "      <td>0.238095</td>\n",
       "      <td>0.172414</td>\n",
       "      <td>0.333333</td>\n",
       "      <td>0.223881</td>\n",
       "      <td>0.182927</td>\n",
       "      <td>0.200000</td>\n",
       "      <td>0.258921</td>\n",
       "      <td>0.089010</td>\n",
       "      <td>0.368217</td>\n",
       "      <td>0.335766</td>\n",
       "      <td>0.235294</td>\n",
       "      <td>0.369565</td>\n",
       "      <td>0.237410</td>\n",
       "      <td>0.085526</td>\n",
       "      <td>0.413043</td>\n",
       "      <td>0.258785</td>\n",
       "      <td>0.089064</td>\n",
       "      <td>0.368412</td>\n",
       "      <td>0.0</td>\n",
       "    </tr>\n",
       "    <tr>\n",
       "      <th>4</th>\n",
       "      <td>566868</td>\n",
       "      <td>0.246479</td>\n",
       "      <td>0.092308</td>\n",
       "      <td>0.342857</td>\n",
       "      <td>0.155556</td>\n",
       "      <td>0.111842</td>\n",
       "      <td>0.157895</td>\n",
       "      <td>0.258919</td>\n",
       "      <td>0.089009</td>\n",
       "      <td>0.368213</td>\n",
       "      <td>0.300885</td>\n",
       "      <td>0.125000</td>\n",
       "      <td>0.411765</td>\n",
       "      <td>0.277228</td>\n",
       "      <td>0.192000</td>\n",
       "      <td>0.288462</td>\n",
       "      <td>0.258785</td>\n",
       "      <td>0.089063</td>\n",
       "      <td>0.368410</td>\n",
       "      <td>0.0</td>\n",
       "    </tr>\n",
       "  </tbody>\n",
       "</table>\n",
       "</div>"
      ],
      "text/plain": [
       "   gamePk  home_offense  home_power  home_clutch  home_r_oppBa  home_r_oppBb  \\\n",
       "0  566180      0.363636    0.079365     0.285714      0.163934      0.075758   \n",
       "1  565316      0.220000    0.055556     0.227273      0.230769      0.099010   \n",
       "2  567459      0.412371    0.187500     0.325000      0.240385      0.079646   \n",
       "3  565223      0.238095    0.172414     0.333333      0.223881      0.182927   \n",
       "4  566868      0.246479    0.092308     0.342857      0.155556      0.111842   \n",
       "\n",
       "   home_r_oppEr  home_s_oppBa  home_s_oppBb  home_s_oppEr  away_offense  \\\n",
       "0      0.333333      0.258922      0.089009      0.368218      0.315068   \n",
       "1      0.354839      0.258922      0.089009      0.368218      0.321739   \n",
       "2      0.294118      0.258922      0.089008      0.368218      0.254902   \n",
       "3      0.200000      0.258921      0.089010      0.368217      0.335766   \n",
       "4      0.157895      0.258919      0.089009      0.368213      0.300885   \n",
       "\n",
       "   away_power  away_clutch  away_r_oppBa  away_r_oppBb  away_r_oppEr  \\\n",
       "0    0.250000     0.391304      0.253968      0.112676      0.375000   \n",
       "1    0.155340     0.405405      0.218750      0.102804      0.468750   \n",
       "2    0.074074     0.153846      0.176923      0.084507      0.314286   \n",
       "3    0.235294     0.369565      0.237410      0.085526      0.413043   \n",
       "4    0.125000     0.411765      0.277228      0.192000      0.288462   \n",
       "\n",
       "   away_s_oppBa  away_s_oppBb  away_s_oppEr  homeTeam_win  \n",
       "0      0.258785      0.089063      0.368410           0.0  \n",
       "1      0.258785      0.089063      0.368410           1.0  \n",
       "2      0.258785      0.089063      0.368410           1.0  \n",
       "3      0.258785      0.089064      0.368412           0.0  \n",
       "4      0.258785      0.089063      0.368410           0.0  "
      ]
     },
     "execution_count": 3,
     "metadata": {},
     "output_type": "execute_result"
    }
   ],
   "source": [
    "df.head()"
   ]
  },
  {
   "cell_type": "code",
   "execution_count": 4,
   "metadata": {},
   "outputs": [],
   "source": [
    "from sklearn.model_selection import train_test_split"
   ]
  },
  {
   "cell_type": "code",
   "execution_count": 5,
   "metadata": {},
   "outputs": [],
   "source": [
    "train_set,test_set = train_test_split(df,test_size=.2,random_state=12,shuffle=True)"
   ]
  },
  {
   "cell_type": "code",
   "execution_count": 6,
   "metadata": {},
   "outputs": [],
   "source": [
    "games = train_set.copy()"
   ]
  },
  {
   "cell_type": "code",
   "execution_count": 75,
   "metadata": {},
   "outputs": [],
   "source": [
    "from sklearn.pipeline import Pipeline\n",
    "from sklearn.preprocessing import StandardScaler,MinMaxScaler,OneHotEncoder\n",
    "from sklearn.compose import ColumnTransformer\n",
    "from sklearn.ensemble import RandomForestClassifier,VotingClassifier\n",
    "from sklearn.linear_model import LogisticRegression\n",
    "from sklearn.tree import DecisionTreeClassifier\n",
    "from sklearn.svm import SVC\n",
    "from sklearn.model_selection import KFold,StratifiedKFold\n",
    "from sklearn.metrics import classification_report,confusion_matrix\n",
    "from sklearn import metrics\n",
    "from sklearn.metrics import precision_score,recall_score,f1_score,roc_auc_score,roc_curve\n",
    "from sklearn.model_selection import GridSearchCV,RandomizedSearchCV\n",
    "from sklearn.preprocessing import PolynomialFeatures"
   ]
  },
  {
   "cell_type": "code",
   "execution_count": 73,
   "metadata": {},
   "outputs": [],
   "source": [
    "def plot_confusion_matrix(true,predicted):\n",
    "    import itertools\n",
    "    cm=confusion_matrix(true,predicted)\n",
    "    classes=['Home Team Loss','Home Team Win']\n",
    "    \n",
    "    fig = plt.figure(figsize=(8,5))\n",
    "    ax = fig.add_subplot(111)\n",
    "    cax = ax.matshow(cm,cmap=plt.cm.Blues)\n",
    "    #plt.title('Confusion matrix',fontdict={'size':20})\n",
    "    fig.colorbar(cax)\n",
    "    ax.set_xticklabels([''] + classes,fontdict={'size':14})\n",
    "    ax.set_yticklabels([''] + classes,fontdict={'size':14})\n",
    "    plt.xlabel('Predicted',fontdict={'size':14})\n",
    "    plt.ylabel('True',fontdict={'size':14})\n",
    "    plt.grid(b=None)\n",
    "    fmt = 'd'\n",
    "    thresh = cm.max() / 2.\n",
    "    for i, j in itertools.product(range(cm.shape[0]), range(cm.shape[1])):\n",
    "        plt.text(j, i, format(cm[i, j], fmt),\n",
    "             horizontalalignment=\"center\",\n",
    "             fontdict={'size':14,'weight':'heavy'},\n",
    "             color=\"black\" if cm[i, j] > thresh else \"black\")\n",
    "    plt.show()"
   ]
  },
  {
   "cell_type": "code",
   "execution_count": 74,
   "metadata": {},
   "outputs": [],
   "source": [
    "def pipeline_cv(splits, X, Y, pipeline):\n",
    "    \n",
    "    kfold = StratifiedKFold(n_splits=splits, shuffle=True, random_state=777)\n",
    "    \n",
    "    reports = []\n",
    "    for train, test in kfold.split(X, Y):\n",
    "        fit = pipeline.fit(X.iloc[train], Y.iloc[train])\n",
    "        prediction = fit.predict(X.iloc[test])\n",
    "        \n",
    "        reports.append(\n",
    "            pd.DataFrame(\n",
    "                metrics.classification_report(\n",
    "                    Y.iloc[test],prediction,output_dict=True\n",
    "                )\n",
    "            )\n",
    "        )\n",
    "\n",
    "    df_concat = pd.concat([x for x in reports])\n",
    "\n",
    "    by_row_index = df_concat.groupby(df_concat.index)\n",
    "    df_means = by_row_index.mean()\n",
    "\n",
    "    return df_means"
   ]
  },
  {
   "cell_type": "code",
   "execution_count": 212,
   "metadata": {},
   "outputs": [],
   "source": [
    "lr_clf = LogisticRegression(n_jobs=-1)\n",
    "\n",
    "lr_pipe = Pipeline(\n",
    "    [\n",
    "        ('scaler',StandardScaler()),\n",
    "        ('interaction',PolynomialFeatures(degree=1)),\n",
    "        ('clf',lr_clf)\n",
    "    ]\n",
    ")"
   ]
  },
  {
   "cell_type": "code",
   "execution_count": 213,
   "metadata": {},
   "outputs": [],
   "source": [
    "X = games.drop(columns=['gamePk','homeTeam_win'])\n",
    "y = games['homeTeam_win']"
   ]
  },
  {
   "cell_type": "code",
   "execution_count": 214,
   "metadata": {},
   "outputs": [
    {
     "data": {
      "text/html": [
       "<div>\n",
       "<style scoped>\n",
       "    .dataframe tbody tr th:only-of-type {\n",
       "        vertical-align: middle;\n",
       "    }\n",
       "\n",
       "    .dataframe tbody tr th {\n",
       "        vertical-align: top;\n",
       "    }\n",
       "\n",
       "    .dataframe thead th {\n",
       "        text-align: right;\n",
       "    }\n",
       "</style>\n",
       "<table border=\"1\" class=\"dataframe\">\n",
       "  <thead>\n",
       "    <tr style=\"text-align: right;\">\n",
       "      <th></th>\n",
       "      <th>0.0</th>\n",
       "      <th>1.0</th>\n",
       "      <th>accuracy</th>\n",
       "      <th>macro avg</th>\n",
       "      <th>weighted avg</th>\n",
       "    </tr>\n",
       "  </thead>\n",
       "  <tbody>\n",
       "    <tr>\n",
       "      <th>f1-score</th>\n",
       "      <td>0.494598</td>\n",
       "      <td>0.624930</td>\n",
       "      <td>0.570325</td>\n",
       "      <td>0.559764</td>\n",
       "      <td>0.563226</td>\n",
       "    </tr>\n",
       "    <tr>\n",
       "      <th>precision</th>\n",
       "      <td>0.557434</td>\n",
       "      <td>0.578902</td>\n",
       "      <td>0.570325</td>\n",
       "      <td>0.568168</td>\n",
       "      <td>0.568746</td>\n",
       "    </tr>\n",
       "    <tr>\n",
       "      <th>recall</th>\n",
       "      <td>0.447475</td>\n",
       "      <td>0.680788</td>\n",
       "      <td>0.570325</td>\n",
       "      <td>0.564132</td>\n",
       "      <td>0.570325</td>\n",
       "    </tr>\n",
       "    <tr>\n",
       "      <th>support</th>\n",
       "      <td>182.400000</td>\n",
       "      <td>203.000000</td>\n",
       "      <td>0.570325</td>\n",
       "      <td>385.400000</td>\n",
       "      <td>385.400000</td>\n",
       "    </tr>\n",
       "  </tbody>\n",
       "</table>\n",
       "</div>"
      ],
      "text/plain": [
       "                  0.0         1.0  accuracy   macro avg  weighted avg\n",
       "f1-score     0.494598    0.624930  0.570325    0.559764      0.563226\n",
       "precision    0.557434    0.578902  0.570325    0.568168      0.568746\n",
       "recall       0.447475    0.680788  0.570325    0.564132      0.570325\n",
       "support    182.400000  203.000000  0.570325  385.400000    385.400000"
      ]
     },
     "execution_count": 214,
     "metadata": {},
     "output_type": "execute_result"
    }
   ],
   "source": [
    "pipeline_cv(5,X,y,lr_pipe)"
   ]
  },
  {
   "cell_type": "code",
   "execution_count": 13,
   "metadata": {},
   "outputs": [
    {
     "data": {
      "text/plain": [
       "{'scaler': StandardScaler(copy=True, with_mean=True, with_std=True),\n",
       " 'clf': LogisticRegression(C=1.0, class_weight=None, dual=False, fit_intercept=True,\n",
       "                    intercept_scaling=1, l1_ratio=None, max_iter=100,\n",
       "                    multi_class='auto', n_jobs=None, penalty='l2',\n",
       "                    random_state=None, solver='lbfgs', tol=0.0001, verbose=0,\n",
       "                    warm_start=False)}"
      ]
     },
     "execution_count": 13,
     "metadata": {},
     "output_type": "execute_result"
    }
   ],
   "source": [
    "lr_pipe.named_steps"
   ]
  },
  {
   "cell_type": "code",
   "execution_count": 48,
   "metadata": {},
   "outputs": [],
   "source": [
    "scorer = metrics.make_scorer(metrics.roc_auc_score)"
   ]
  },
  {
   "cell_type": "code",
   "execution_count": 302,
   "metadata": {},
   "outputs": [],
   "source": [
    "search_params = {\n",
    "    'clf__C':[1.5,1.6,1.8,2.0],\n",
    "    'clf__solver':['lbfgs'],\n",
    "    'interaction__degree':[1,2],\n",
    "    'clf__penalty':['l2','l1']\n",
    "}"
   ]
  },
  {
   "cell_type": "code",
   "execution_count": 303,
   "metadata": {},
   "outputs": [],
   "source": [
    "search = GridSearchCV(lr_pipe,search_params,n_jobs=-1,scoring='precision_micro')"
   ]
  },
  {
   "cell_type": "code",
   "execution_count": 304,
   "metadata": {},
   "outputs": [
    {
     "data": {
      "text/html": [
       "<div>\n",
       "<style scoped>\n",
       "    .dataframe tbody tr th:only-of-type {\n",
       "        vertical-align: middle;\n",
       "    }\n",
       "\n",
       "    .dataframe tbody tr th {\n",
       "        vertical-align: top;\n",
       "    }\n",
       "\n",
       "    .dataframe thead th {\n",
       "        text-align: right;\n",
       "    }\n",
       "</style>\n",
       "<table border=\"1\" class=\"dataframe\">\n",
       "  <thead>\n",
       "    <tr style=\"text-align: right;\">\n",
       "      <th></th>\n",
       "      <th>0.0</th>\n",
       "      <th>1.0</th>\n",
       "      <th>accuracy</th>\n",
       "      <th>macro avg</th>\n",
       "      <th>weighted avg</th>\n",
       "    </tr>\n",
       "  </thead>\n",
       "  <tbody>\n",
       "    <tr>\n",
       "      <th>f1-score</th>\n",
       "      <td>0.494598</td>\n",
       "      <td>0.624930</td>\n",
       "      <td>0.570325</td>\n",
       "      <td>0.559764</td>\n",
       "      <td>0.563226</td>\n",
       "    </tr>\n",
       "    <tr>\n",
       "      <th>precision</th>\n",
       "      <td>0.557434</td>\n",
       "      <td>0.578902</td>\n",
       "      <td>0.570325</td>\n",
       "      <td>0.568168</td>\n",
       "      <td>0.568746</td>\n",
       "    </tr>\n",
       "    <tr>\n",
       "      <th>recall</th>\n",
       "      <td>0.447475</td>\n",
       "      <td>0.680788</td>\n",
       "      <td>0.570325</td>\n",
       "      <td>0.564132</td>\n",
       "      <td>0.570325</td>\n",
       "    </tr>\n",
       "    <tr>\n",
       "      <th>support</th>\n",
       "      <td>182.400000</td>\n",
       "      <td>203.000000</td>\n",
       "      <td>0.570325</td>\n",
       "      <td>385.400000</td>\n",
       "      <td>385.400000</td>\n",
       "    </tr>\n",
       "  </tbody>\n",
       "</table>\n",
       "</div>"
      ],
      "text/plain": [
       "                  0.0         1.0  accuracy   macro avg  weighted avg\n",
       "f1-score     0.494598    0.624930  0.570325    0.559764      0.563226\n",
       "precision    0.557434    0.578902  0.570325    0.568168      0.568746\n",
       "recall       0.447475    0.680788  0.570325    0.564132      0.570325\n",
       "support    182.400000  203.000000  0.570325  385.400000    385.400000"
      ]
     },
     "execution_count": 304,
     "metadata": {},
     "output_type": "execute_result"
    }
   ],
   "source": [
    "pipeline_cv(5,X,y,search)"
   ]
  },
  {
   "cell_type": "code",
   "execution_count": 305,
   "metadata": {},
   "outputs": [
    {
     "data": {
      "text/plain": [
       "{'clf__C': 1.6,\n",
       " 'clf__penalty': 'l2',\n",
       " 'clf__solver': 'lbfgs',\n",
       " 'interaction__degree': 1}"
      ]
     },
     "execution_count": 305,
     "metadata": {},
     "output_type": "execute_result"
    }
   ],
   "source": [
    "search.best_params_"
   ]
  },
  {
   "cell_type": "code",
   "execution_count": 306,
   "metadata": {},
   "outputs": [],
   "source": [
    "from sklearn.svm import LinearSVC"
   ]
  },
  {
   "cell_type": "code",
   "execution_count": 289,
   "metadata": {},
   "outputs": [],
   "source": [
    "svc_pipe = Pipeline(\n",
    "    [\n",
    "        ('scaler',StandardScaler()),\n",
    "        ('clf',LinearSVC(max_iter=100000))\n",
    "    ]\n",
    ")"
   ]
  },
  {
   "cell_type": "code",
   "execution_count": 290,
   "metadata": {},
   "outputs": [
    {
     "data": {
      "text/html": [
       "<div>\n",
       "<style scoped>\n",
       "    .dataframe tbody tr th:only-of-type {\n",
       "        vertical-align: middle;\n",
       "    }\n",
       "\n",
       "    .dataframe tbody tr th {\n",
       "        vertical-align: top;\n",
       "    }\n",
       "\n",
       "    .dataframe thead th {\n",
       "        text-align: right;\n",
       "    }\n",
       "</style>\n",
       "<table border=\"1\" class=\"dataframe\">\n",
       "  <thead>\n",
       "    <tr style=\"text-align: right;\">\n",
       "      <th></th>\n",
       "      <th>0.0</th>\n",
       "      <th>1.0</th>\n",
       "      <th>accuracy</th>\n",
       "      <th>macro avg</th>\n",
       "      <th>weighted avg</th>\n",
       "    </tr>\n",
       "  </thead>\n",
       "  <tbody>\n",
       "    <tr>\n",
       "      <th>f1-score</th>\n",
       "      <td>0.493831</td>\n",
       "      <td>0.625322</td>\n",
       "      <td>0.570326</td>\n",
       "      <td>0.559577</td>\n",
       "      <td>0.563070</td>\n",
       "    </tr>\n",
       "    <tr>\n",
       "      <th>precision</th>\n",
       "      <td>0.557299</td>\n",
       "      <td>0.578875</td>\n",
       "      <td>0.570326</td>\n",
       "      <td>0.568087</td>\n",
       "      <td>0.568667</td>\n",
       "    </tr>\n",
       "    <tr>\n",
       "      <th>recall</th>\n",
       "      <td>0.446382</td>\n",
       "      <td>0.681773</td>\n",
       "      <td>0.570326</td>\n",
       "      <td>0.564078</td>\n",
       "      <td>0.570326</td>\n",
       "    </tr>\n",
       "    <tr>\n",
       "      <th>support</th>\n",
       "      <td>182.400000</td>\n",
       "      <td>203.000000</td>\n",
       "      <td>0.570326</td>\n",
       "      <td>385.400000</td>\n",
       "      <td>385.400000</td>\n",
       "    </tr>\n",
       "  </tbody>\n",
       "</table>\n",
       "</div>"
      ],
      "text/plain": [
       "                  0.0         1.0  accuracy   macro avg  weighted avg\n",
       "f1-score     0.493831    0.625322  0.570326    0.559577      0.563070\n",
       "precision    0.557299    0.578875  0.570326    0.568087      0.568667\n",
       "recall       0.446382    0.681773  0.570326    0.564078      0.570326\n",
       "support    182.400000  203.000000  0.570326  385.400000    385.400000"
      ]
     },
     "execution_count": 290,
     "metadata": {},
     "output_type": "execute_result"
    }
   ],
   "source": [
    "pipeline_cv(5,X,y,svc_pipe)"
   ]
  },
  {
   "cell_type": "code",
   "execution_count": 299,
   "metadata": {},
   "outputs": [],
   "source": [
    "svc_params = {\n",
    "    'scaler__with_mean':[False],\n",
    "    'scaler__with_std':[True],\n",
    "    'clf__C':[.2],\n",
    "    'clf__tol':[.002],\n",
    "    'clf__loss':['squared_hinge'],\n",
    "    'clf__penalty':['l1'],\n",
    "    'clf__dual':[False]\n",
    "    \n",
    "}"
   ]
  },
  {
   "cell_type": "code",
   "execution_count": 300,
   "metadata": {},
   "outputs": [],
   "source": [
    "svc_search = GridSearchCV(svc_pipe,svc_params,n_jobs=-1,scoring='precision_weighted')"
   ]
  },
  {
   "cell_type": "code",
   "execution_count": 301,
   "metadata": {},
   "outputs": [
    {
     "data": {
      "text/html": [
       "<div>\n",
       "<style scoped>\n",
       "    .dataframe tbody tr th:only-of-type {\n",
       "        vertical-align: middle;\n",
       "    }\n",
       "\n",
       "    .dataframe tbody tr th {\n",
       "        vertical-align: top;\n",
       "    }\n",
       "\n",
       "    .dataframe thead th {\n",
       "        text-align: right;\n",
       "    }\n",
       "</style>\n",
       "<table border=\"1\" class=\"dataframe\">\n",
       "  <thead>\n",
       "    <tr style=\"text-align: right;\">\n",
       "      <th></th>\n",
       "      <th>0.0</th>\n",
       "      <th>1.0</th>\n",
       "      <th>accuracy</th>\n",
       "      <th>macro avg</th>\n",
       "      <th>weighted avg</th>\n",
       "    </tr>\n",
       "  </thead>\n",
       "  <tbody>\n",
       "    <tr>\n",
       "      <th>f1-score</th>\n",
       "      <td>0.491808</td>\n",
       "      <td>0.637016</td>\n",
       "      <td>0.577076</td>\n",
       "      <td>0.564412</td>\n",
       "      <td>0.568276</td>\n",
       "    </tr>\n",
       "    <tr>\n",
       "      <th>precision</th>\n",
       "      <td>0.570466</td>\n",
       "      <td>0.581535</td>\n",
       "      <td>0.577076</td>\n",
       "      <td>0.576000</td>\n",
       "      <td>0.576299</td>\n",
       "    </tr>\n",
       "    <tr>\n",
       "      <th>recall</th>\n",
       "      <td>0.434306</td>\n",
       "      <td>0.705419</td>\n",
       "      <td>0.577076</td>\n",
       "      <td>0.569862</td>\n",
       "      <td>0.577076</td>\n",
       "    </tr>\n",
       "    <tr>\n",
       "      <th>support</th>\n",
       "      <td>182.400000</td>\n",
       "      <td>203.000000</td>\n",
       "      <td>0.577076</td>\n",
       "      <td>385.400000</td>\n",
       "      <td>385.400000</td>\n",
       "    </tr>\n",
       "  </tbody>\n",
       "</table>\n",
       "</div>"
      ],
      "text/plain": [
       "                  0.0         1.0  accuracy   macro avg  weighted avg\n",
       "f1-score     0.491808    0.637016  0.577076    0.564412      0.568276\n",
       "precision    0.570466    0.581535  0.577076    0.576000      0.576299\n",
       "recall       0.434306    0.705419  0.577076    0.569862      0.577076\n",
       "support    182.400000  203.000000  0.577076  385.400000    385.400000"
      ]
     },
     "execution_count": 301,
     "metadata": {},
     "output_type": "execute_result"
    }
   ],
   "source": [
    "pipeline_cv(5,X,y,svc_search)"
   ]
  },
  {
   "cell_type": "code",
   "execution_count": 329,
   "metadata": {},
   "outputs": [],
   "source": [
    "rf_pipe = Pipeline(\n",
    "    [\n",
    "        ('scaler',StandardScaler()),\n",
    "        ('clf',RandomForestClassifier(n_estimators=500,max_leaf_nodes=16,n_jobs=-1,min_samples_split=2))\n",
    "    ]\n",
    ")"
   ]
  },
  {
   "cell_type": "code",
   "execution_count": 330,
   "metadata": {},
   "outputs": [
    {
     "data": {
      "text/html": [
       "<div>\n",
       "<style scoped>\n",
       "    .dataframe tbody tr th:only-of-type {\n",
       "        vertical-align: middle;\n",
       "    }\n",
       "\n",
       "    .dataframe tbody tr th {\n",
       "        vertical-align: top;\n",
       "    }\n",
       "\n",
       "    .dataframe thead th {\n",
       "        text-align: right;\n",
       "    }\n",
       "</style>\n",
       "<table border=\"1\" class=\"dataframe\">\n",
       "  <thead>\n",
       "    <tr style=\"text-align: right;\">\n",
       "      <th></th>\n",
       "      <th>0.0</th>\n",
       "      <th>1.0</th>\n",
       "      <th>accuracy</th>\n",
       "      <th>macro avg</th>\n",
       "      <th>weighted avg</th>\n",
       "    </tr>\n",
       "  </thead>\n",
       "  <tbody>\n",
       "    <tr>\n",
       "      <th>f1-score</th>\n",
       "      <td>0.505107</td>\n",
       "      <td>0.626673</td>\n",
       "      <td>0.574992</td>\n",
       "      <td>0.565890</td>\n",
       "      <td>0.569134</td>\n",
       "    </tr>\n",
       "    <tr>\n",
       "      <th>precision</th>\n",
       "      <td>0.565495</td>\n",
       "      <td>0.582203</td>\n",
       "      <td>0.574992</td>\n",
       "      <td>0.573849</td>\n",
       "      <td>0.574299</td>\n",
       "    </tr>\n",
       "    <tr>\n",
       "      <th>recall</th>\n",
       "      <td>0.458368</td>\n",
       "      <td>0.679803</td>\n",
       "      <td>0.574992</td>\n",
       "      <td>0.569085</td>\n",
       "      <td>0.574992</td>\n",
       "    </tr>\n",
       "    <tr>\n",
       "      <th>support</th>\n",
       "      <td>182.400000</td>\n",
       "      <td>203.000000</td>\n",
       "      <td>0.574992</td>\n",
       "      <td>385.400000</td>\n",
       "      <td>385.400000</td>\n",
       "    </tr>\n",
       "  </tbody>\n",
       "</table>\n",
       "</div>"
      ],
      "text/plain": [
       "                  0.0         1.0  accuracy   macro avg  weighted avg\n",
       "f1-score     0.505107    0.626673  0.574992    0.565890      0.569134\n",
       "precision    0.565495    0.582203  0.574992    0.573849      0.574299\n",
       "recall       0.458368    0.679803  0.574992    0.569085      0.574992\n",
       "support    182.400000  203.000000  0.574992  385.400000    385.400000"
      ]
     },
     "execution_count": 330,
     "metadata": {},
     "output_type": "execute_result"
    }
   ],
   "source": [
    "pipeline_cv(5,X,y,rf_pipe)"
   ]
  },
  {
   "cell_type": "code",
   "execution_count": 344,
   "metadata": {},
   "outputs": [],
   "source": [
    "rf_params = {\n",
    "    'clf__n_estimators':[800],\n",
    "    'clf__criterion':['gini','entropy']\n",
    "}"
   ]
  },
  {
   "cell_type": "code",
   "execution_count": 345,
   "metadata": {},
   "outputs": [
    {
     "data": {
      "text/html": [
       "<div>\n",
       "<style scoped>\n",
       "    .dataframe tbody tr th:only-of-type {\n",
       "        vertical-align: middle;\n",
       "    }\n",
       "\n",
       "    .dataframe tbody tr th {\n",
       "        vertical-align: top;\n",
       "    }\n",
       "\n",
       "    .dataframe thead th {\n",
       "        text-align: right;\n",
       "    }\n",
       "</style>\n",
       "<table border=\"1\" class=\"dataframe\">\n",
       "  <thead>\n",
       "    <tr style=\"text-align: right;\">\n",
       "      <th></th>\n",
       "      <th>0.0</th>\n",
       "      <th>1.0</th>\n",
       "      <th>accuracy</th>\n",
       "      <th>macro avg</th>\n",
       "      <th>weighted avg</th>\n",
       "    </tr>\n",
       "  </thead>\n",
       "  <tbody>\n",
       "    <tr>\n",
       "      <th>f1-score</th>\n",
       "      <td>0.505071</td>\n",
       "      <td>0.629058</td>\n",
       "      <td>0.576544</td>\n",
       "      <td>0.567064</td>\n",
       "      <td>0.570373</td>\n",
       "    </tr>\n",
       "    <tr>\n",
       "      <th>precision</th>\n",
       "      <td>0.567220</td>\n",
       "      <td>0.583452</td>\n",
       "      <td>0.576544</td>\n",
       "      <td>0.575336</td>\n",
       "      <td>0.575774</td>\n",
       "    </tr>\n",
       "    <tr>\n",
       "      <th>recall</th>\n",
       "      <td>0.457263</td>\n",
       "      <td>0.683744</td>\n",
       "      <td>0.576544</td>\n",
       "      <td>0.570503</td>\n",
       "      <td>0.576544</td>\n",
       "    </tr>\n",
       "    <tr>\n",
       "      <th>support</th>\n",
       "      <td>182.400000</td>\n",
       "      <td>203.000000</td>\n",
       "      <td>0.576544</td>\n",
       "      <td>385.400000</td>\n",
       "      <td>385.400000</td>\n",
       "    </tr>\n",
       "  </tbody>\n",
       "</table>\n",
       "</div>"
      ],
      "text/plain": [
       "                  0.0         1.0  accuracy   macro avg  weighted avg\n",
       "f1-score     0.505071    0.629058  0.576544    0.567064      0.570373\n",
       "precision    0.567220    0.583452  0.576544    0.575336      0.575774\n",
       "recall       0.457263    0.683744  0.576544    0.570503      0.576544\n",
       "support    182.400000  203.000000  0.576544  385.400000    385.400000"
      ]
     },
     "execution_count": 345,
     "metadata": {},
     "output_type": "execute_result"
    }
   ],
   "source": [
    "rf_search = GridSearchCV(rf_pipe,rf_params,scoring='precision_weighted',n_jobs=-1)\n",
    "\n",
    "pipeline_cv(5,X,y,rf_search)"
   ]
  },
  {
   "cell_type": "code",
   "execution_count": 346,
   "metadata": {},
   "outputs": [
    {
     "data": {
      "text/plain": [
       "{'clf__criterion': 'gini', 'clf__n_estimators': 800}"
      ]
     },
     "execution_count": 346,
     "metadata": {},
     "output_type": "execute_result"
    }
   ],
   "source": [
    "rf_search.best_params_"
   ]
  },
  {
   "cell_type": "code",
   "execution_count": 347,
   "metadata": {},
   "outputs": [],
   "source": [
    "best_rf = rf_search.best_estimator_.named_steps['clf']"
   ]
  },
  {
   "cell_type": "code",
   "execution_count": 355,
   "metadata": {},
   "outputs": [
    {
     "data": {
      "text/plain": [
       "[(0.05407548753042096, 'home_s_oppEr'),\n",
       " (0.04618206258849878, 'home_s_oppBb'),\n",
       " (0.04255081052180941, 'home_s_oppBa'),\n",
       " (0.04671896112845432, 'home_r_oppEr'),\n",
       " (0.05136284810637187, 'home_r_oppBb'),\n",
       " (0.05436551309103902, 'home_r_oppBa'),\n",
       " (0.10866448505005699, 'home_power'),\n",
       " (0.08370999484033317, 'home_offense'),\n",
       " (0.05416165307161379, 'home_clutch'),\n",
       " (0.047905424084230236, 'away_s_oppEr'),\n",
       " (0.035511445510169284, 'away_s_oppBb'),\n",
       " (0.06697442008264981, 'away_s_oppBa'),\n",
       " (0.04555775557109774, 'away_r_oppEr'),\n",
       " (0.06258021714895086, 'away_r_oppBb'),\n",
       " (0.07196871877907153, 'away_r_oppBa'),\n",
       " (0.037813669199407506, 'away_power'),\n",
       " (0.0507252696083031, 'away_offense'),\n",
       " (0.03917126408752161, 'away_clutch')]"
      ]
     },
     "execution_count": 355,
     "metadata": {},
     "output_type": "execute_result"
    }
   ],
   "source": [
    "sorted([feature for feature in zip(best_rf.feature_importances_,X.columns)],key=lambda x: x[1],reverse=True)"
   ]
  },
  {
   "cell_type": "code",
   "execution_count": 370,
   "metadata": {},
   "outputs": [],
   "source": [
    "best_svc = svc_search.best_estimator_.named_steps['clf']\n",
    "best_lr = search.best_estimator_.named_steps['clf']"
   ]
  },
  {
   "cell_type": "code",
   "execution_count": 361,
   "metadata": {},
   "outputs": [
    {
     "data": {
      "text/plain": [
       "array([ 3.15493834e-02,  4.53230802e-02,  4.25251130e-02, -5.77698230e-02,\n",
       "       -1.40338066e-02, -2.35912633e-02, -1.12373333e-06, -1.62975463e-06,\n",
       "       -2.39252125e-06, -3.56950947e-02,  4.18710687e-02, -6.95268498e-02,\n",
       "        8.57136992e-02,  3.44647313e-02,  2.06055995e-03, -1.98661964e-06,\n",
       "       -2.80231160e-06, -1.40788614e-06])"
      ]
     },
     "execution_count": 361,
     "metadata": {},
     "output_type": "execute_result"
    }
   ],
   "source": [
    "best_svc.coef_[0]"
   ]
  },
  {
   "cell_type": "code",
   "execution_count": 363,
   "metadata": {},
   "outputs": [
    {
     "data": {
      "text/plain": [
       "[('away_r_oppBa', 0.08571369915795558),\n",
       " ('home_power', 0.045323080154330814),\n",
       " ('home_clutch', 0.04252511296203584),\n",
       " ('away_power', 0.041871068684308836),\n",
       " ('away_r_oppBb', 0.03446473130480991),\n",
       " ('home_offense', 0.03154938338917318),\n",
       " ('away_r_oppEr', 0.002060559953082586),\n",
       " ('home_s_oppBa', -1.1237333262979003e-06),\n",
       " ('away_s_oppEr', -1.4078861404764616e-06),\n",
       " ('home_s_oppBb', -1.6297546301527622e-06),\n",
       " ('away_s_oppBa', -1.9866196398790147e-06),\n",
       " ('home_s_oppEr', -2.3925212510658353e-06),\n",
       " ('away_s_oppBb', -2.8023116007301826e-06),\n",
       " ('home_r_oppBb', -0.014033806639487638),\n",
       " ('home_r_oppEr', -0.02359126325790247),\n",
       " ('away_offense', -0.035695094747375505),\n",
       " ('home_r_oppBa', -0.05776982297814367),\n",
       " ('away_clutch', -0.06952684981090716)]"
      ]
     },
     "execution_count": 363,
     "metadata": {},
     "output_type": "execute_result"
    }
   ],
   "source": [
    "sorted([feature for feature in zip(X.columns,best_svc.coef_[0])],key=lambda x: x[1],reverse=True)"
   ]
  },
  {
   "cell_type": "code",
   "execution_count": 371,
   "metadata": {},
   "outputs": [
    {
     "data": {
      "text/plain": [
       "[('away_clutch', 0.13635503062335463),\n",
       " ('away_r_oppBb', 0.12489523317232587),\n",
       " ('home_clutch', 0.10325202893132163),\n",
       " ('away_s_oppBb', 0.09934427810570705),\n",
       " ('home_power', 0.08838307257663414),\n",
       " ('home_s_oppBb', 0.08443599771918202),\n",
       " ('home_s_oppEr', 0.08266942831011596),\n",
       " ('home_r_oppBa', 0.06750722456397616),\n",
       " ('away_r_oppEr', 0.05576671527003072),\n",
       " ('home_offense', 0.05365080092009558),\n",
       " ('home_s_oppBa', 0.021323407783101614),\n",
       " ('away_s_oppEr', 0.010710645383356145),\n",
       " ('away_s_oppBa', -0.018363861509711542),\n",
       " ('away_power', -0.07129389204900449),\n",
       " ('home_r_oppEr', -0.09339069580346955),\n",
       " ('away_offense', -0.13984793509308688),\n",
       " ('home_r_oppBb', -0.14149413001161742),\n",
       " ('away_r_oppBa', -0.16726329516249988)]"
      ]
     },
     "execution_count": 371,
     "metadata": {},
     "output_type": "execute_result"
    }
   ],
   "source": [
    "sorted([feature for feature in zip(X.columns,best_lr.coef_[0])],key=lambda x: x[1],reverse=True)"
   ]
  },
  {
   "cell_type": "code",
   "execution_count": null,
   "metadata": {},
   "outputs": [],
   "source": []
  }
 ],
 "metadata": {
  "kernelspec": {
   "display_name": "Python 3",
   "language": "python",
   "name": "python3"
  },
  "language_info": {
   "codemirror_mode": {
    "name": "ipython",
    "version": 3
   },
   "file_extension": ".py",
   "mimetype": "text/x-python",
   "name": "python",
   "nbconvert_exporter": "python",
   "pygments_lexer": "ipython3",
   "version": "3.7.3"
  }
 },
 "nbformat": 4,
 "nbformat_minor": 4
}
