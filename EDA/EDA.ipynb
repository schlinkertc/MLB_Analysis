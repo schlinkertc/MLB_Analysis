{
 "cells": [
  {
   "cell_type": "code",
   "execution_count": 7,
   "metadata": {},
   "outputs": [
    {
     "ename": "ValueError",
     "evalue": "attempted relative import beyond top-level package",
     "output_type": "error",
     "traceback": [
      "\u001b[0;31m---------------------------------------------------------------------------\u001b[0m",
      "\u001b[0;31mValueError\u001b[0m                                Traceback (most recent call last)",
      "\u001b[0;32m<ipython-input-7-78c0624c4d4e>\u001b[0m in \u001b[0;36m<module>\u001b[0;34m\u001b[0m\n\u001b[1;32m      7\u001b[0m \u001b[0;32mimport\u001b[0m \u001b[0mplotly\u001b[0m\u001b[0;34m\u001b[0m\u001b[0;34m\u001b[0m\u001b[0m\n\u001b[1;32m      8\u001b[0m \u001b[0;34m\u001b[0m\u001b[0m\n\u001b[0;32m----> 9\u001b[0;31m \u001b[0;32mfrom\u001b[0m \u001b[0;34m.\u001b[0m\u001b[0;34m.\u001b[0m\u001b[0mmlb_sqlite\u001b[0m\u001b[0;34m.\u001b[0m\u001b[0msql_alchemy_mapping\u001b[0m \u001b[0;32mimport\u001b[0m \u001b[0mdb\u001b[0m\u001b[0;34m\u001b[0m\u001b[0;34m\u001b[0m\u001b[0m\n\u001b[0m\u001b[1;32m     10\u001b[0m \u001b[0;34m\u001b[0m\u001b[0m\n\u001b[1;32m     11\u001b[0m \u001b[0mdb\u001b[0m\u001b[0;34m=\u001b[0m\u001b[0msql_alchemy_mapping\u001b[0m\u001b[0;34m.\u001b[0m\u001b[0mdb\u001b[0m\u001b[0;34m\u001b[0m\u001b[0;34m\u001b[0m\u001b[0m\n",
      "\u001b[0;31mValueError\u001b[0m: attempted relative import beyond top-level package"
     ]
    }
   ],
   "source": [
    "# import statsapi as mlb\n",
    "# from datetime import datetime\n",
    "# import time\n",
    "\n",
    "import pandas as pd\n",
    "import numpy as np\n",
    "import plotly\n",
    "\n",
    "from ..mlb_sqlite.sql_alchemy_mapping import db\n",
    "\n",
    "db=sql_alchemy_mapping.db\n",
    "\n",
    "session = sql_alchemy_mapping.session\n",
    "Base = sql_alchemy_mapping.Base"
   ]
  },
  {
   "cell_type": "code",
   "execution_count": null,
   "metadata": {},
   "outputs": [],
   "source": [
    "session.execute(\"\"\"select count(*) from games\"\"\").fetchall()"
   ]
  },
  {
   "cell_type": "code",
   "execution_count": 6,
   "metadata": {},
   "outputs": [],
   "source": [
    "query=(\n",
    "        \"\"\"\n",
    "        select \n",
    "            pitch.type_description,\n",
    "            pitch.play_id,\n",
    "            play.pitcher_id,\n",
    "            pitch.startSpeed,\n",
    "            pitch.endSpeed,\n",
    "            pitch.zone,\n",
    "            pitch.spinRate,\n",
    "            pitch.breakLength\n",
    "        from \n",
    "            pitches pitch \n",
    "            inner join plays play \n",
    "            on \n",
    "            pitch.play_id=play.id\n",
    "        \"\"\"\n",
    ")\n",
    "default_dict = {99.9:np.nan,0.0:np.nan}\n",
    "pitch_df=pd.read_sql_query(query,db.db_engine)\n",
    "pitch_df.replace(default_dict,inplace=True)\n",
    "pitch_df.dropna(inplace=True)"
   ]
  },
  {
   "cell_type": "code",
   "execution_count": 7,
   "metadata": {},
   "outputs": [
    {
     "name": "stdout",
     "output_type": "stream",
     "text": [
      "<class 'pandas.core.frame.DataFrame'>\n",
      "Int64Index: 148151 entries, 0 to 165856\n",
      "Data columns (total 8 columns):\n",
      "type_description    148151 non-null object\n",
      "play_id             148151 non-null object\n",
      "pitcher_id          148151 non-null float64\n",
      "startSpeed          148151 non-null float64\n",
      "endSpeed            148151 non-null float64\n",
      "zone                148151 non-null float64\n",
      "spinRate            148151 non-null float64\n",
      "breakLength         148151 non-null float64\n",
      "dtypes: float64(6), object(2)\n",
      "memory usage: 10.2+ MB\n"
     ]
    }
   ],
   "source": [
    "pitch_df.info()"
   ]
  },
  {
   "cell_type": "code",
   "execution_count": 8,
   "metadata": {},
   "outputs": [
    {
     "data": {
      "text/plain": [
       "array(['Slider', 'Four-Seam Fastball', 'Splitter', 'Curveball',\n",
       "       'Two-Seam Fastball', 'Changeup', 'Sinker', 'Cutter',\n",
       "       'Knuckle Curve', 'Eephus', 'Forkball'], dtype=object)"
      ]
     },
     "execution_count": 8,
     "metadata": {},
     "output_type": "execute_result"
    }
   ],
   "source": [
    "pitch_df.type_description.unique()"
   ]
  },
  {
   "cell_type": "code",
   "execution_count": 19,
   "metadata": {},
   "outputs": [],
   "source": [
    "# scatter plot of pitches by spin rate and end speed\n",
    "fig = {\n",
    "    \"data\":[\n",
    "        dict(\n",
    "            x=pitch_df[pitch_df['type_description'] == i]['spinRate'],\n",
    "            y=pitch_df[pitch_df['type_description'] == i]['endSpeed'],\n",
    "            text=pitch_df[pitch_df['type_description'] == i]['pitcher_id'],\n",
    "            mode='markers',\n",
    "            marker={\n",
    "                'size':5,\n",
    "                'line':{'width':.3,'color':'white'}\n",
    "            },\n",
    "            name=i\n",
    "        ) for i in pitch_df.type_description.unique()\n",
    "    ],\n",
    "    \"layout\":\n",
    "        dict(\n",
    "            xaxis={'type': 'log', 'title': 'Spin Rate'},\n",
    "            yaxis={'type': 'log','title': 'End Speed'},\n",
    "            autosize=True,\n",
    "            #margin={'1':40,'b':40,'t':10,'r':10},\n",
    "            legend={'x':0,'y':1},\n",
    "            hovermode='closest'\n",
    "            )\n",
    "}"
   ]
  },
  {
   "cell_type": "code",
   "execution_count": 21,
   "metadata": {},
   "outputs": [],
   "source": [
    "# import plotly.io as pio\n",
    "# pio.show(fig)"
   ]
  },
  {
   "cell_type": "code",
   "execution_count": 22,
   "metadata": {},
   "outputs": [],
   "source": [
    "import plotly.express as px"
   ]
  },
  {
   "cell_type": "code",
   "execution_count": 26,
   "metadata": {},
   "outputs": [],
   "source": [
    "df = pd.read_sql('''select * from pitches''',db.db_engine)"
   ]
  },
  {
   "cell_type": "code",
   "execution_count": 27,
   "metadata": {},
   "outputs": [
    {
     "data": {
      "text/plain": [
       "Index(['id', 'call_code', 'call_description', 'ballColor', 'trailColor',\n",
       "       'isInPlay', 'isStrike', 'isBall', 'type_code', 'type_description',\n",
       "       'hasReview', 'count_balls', 'count_strikes', 'startSpeed', 'endSpeed',\n",
       "       'strikeZoneTop', 'strikeZoneBottom', 'aY', 'aZ', 'pfxX', 'pfxZ', 'pX',\n",
       "       'pZ', 'vX0', 'vY0', 'vZ0', 'x', 'y', 'x0', 'y0', 'z0', 'aX',\n",
       "       'breakAngle', 'breakLength', 'breakY', 'spinRate', 'spinDirection',\n",
       "       'zone', 'typeConfidence', 'plateTime', 'extension', 'index', 'pfxId',\n",
       "       'pitchId', 'startTime', 'endTime', 'play_id'],\n",
       "      dtype='object')"
      ]
     },
     "execution_count": 27,
     "metadata": {},
     "output_type": "execute_result"
    }
   ],
   "source": [
    "df.columns"
   ]
  },
  {
   "cell_type": "code",
   "execution_count": 28,
   "metadata": {},
   "outputs": [
    {
     "data": {
      "text/plain": [
       "Ball                         54400\n",
       "Foul                         27348\n",
       "Called Strike                26330\n",
       "In play, out(s)              19562\n",
       "Swinging Strike              19234\n",
       "In play, no out               6993\n",
       "In play, run(s)               4183\n",
       "Ball In Dirt                  3668\n",
       "Foul Tip                      1418\n",
       "Swinging Strike (Blocked)     1227\n",
       "Automatic Ball                 540\n",
       "Hit By Pitch                   495\n",
       "Foul Bunt                      367\n",
       "Missed Bunt                     76\n",
       "Pitchout                        16\n",
       "Name: call_description, dtype: int64"
      ]
     },
     "execution_count": 28,
     "metadata": {},
     "output_type": "execute_result"
    }
   ],
   "source": [
    "df['call_description'].value_counts()"
   ]
  },
  {
   "cell_type": "code",
   "execution_count": 33,
   "metadata": {},
   "outputs": [
    {
     "data": {
      "text/plain": [
       "0    15547\n",
       "1     5890\n",
       "2     2962\n",
       "3     1931\n",
       "Name: count_balls, dtype: int64"
      ]
     },
     "execution_count": 33,
     "metadata": {},
     "output_type": "execute_result"
    }
   ],
   "source": [
    "df[df['call_description']=='Called Strike']['count_balls'].value_counts()"
   ]
  },
  {
   "cell_type": "code",
   "execution_count": 36,
   "metadata": {},
   "outputs": [
    {
     "data": {
      "text/plain": [
       "99.9     14790\n",
       "206.0     1523\n",
       "204.0     1522\n",
       "207.0     1508\n",
       "205.0     1501\n",
       "         ...  \n",
       "0.0         40\n",
       "352.0       39\n",
       "358.0       33\n",
       "2.0         33\n",
       "353.0       29\n",
       "Name: spinDirection, Length: 361, dtype: int64"
      ]
     },
     "execution_count": 36,
     "metadata": {},
     "output_type": "execute_result"
    }
   ],
   "source": [
    "df['spinDirection'].value_counts()"
   ]
  },
  {
   "cell_type": "code",
   "execution_count": null,
   "metadata": {},
   "outputs": [],
   "source": []
  }
 ],
 "metadata": {
  "kernelspec": {
   "display_name": "Python 3",
   "language": "python",
   "name": "python3"
  },
  "language_info": {
   "codemirror_mode": {
    "name": "ipython",
    "version": 3
   },
   "file_extension": ".py",
   "mimetype": "text/x-python",
   "name": "python",
   "nbconvert_exporter": "python",
   "pygments_lexer": "ipython3",
   "version": "3.7.3"
  }
 },
 "nbformat": 4,
 "nbformat_minor": 4
}
